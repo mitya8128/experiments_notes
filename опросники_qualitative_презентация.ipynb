{
 "cells": [
  {
   "cell_type": "code",
   "execution_count": 1,
   "metadata": {},
   "outputs": [
    {
     "data": {
      "text/html": [
       "\n",
       "        <script>\n",
       "            function code_toggle_12073289877138576535() {\n",
       "                $('div.cell.code_cell.rendered.selected').find('div.input').toggle();\n",
       "            }\n",
       "\n",
       "            \n",
       "        </script>\n",
       "\n",
       "        <a href=\"javascript:code_toggle_12073289877138576535()\">Toggle show/hide</a>\n",
       "    "
      ],
      "text/plain": [
       "<IPython.core.display.HTML object>"
      ]
     },
     "execution_count": 1,
     "metadata": {},
     "output_type": "execute_result"
    }
   ],
   "source": [
    "from IPython.display import HTML\n",
    "import random\n",
    "\n",
    "def hide_toggle(for_next=False):\n",
    "    this_cell = \"\"\"$('div.cell.code_cell.rendered.selected')\"\"\"\n",
    "    next_cell = this_cell + '.next()'\n",
    "\n",
    "    toggle_text = 'Toggle show/hide'  # text shown on toggle link\n",
    "    target_cell = this_cell  # target cell to control with toggle\n",
    "    js_hide_current = ''  # bit of JS to permanently hide code in current cell (only when toggling next cell)\n",
    "\n",
    "    if for_next:\n",
    "        target_cell = next_cell\n",
    "        toggle_text += ' next cell'\n",
    "        js_hide_current = this_cell + '.find(\"div.input\").hide();'\n",
    "\n",
    "    js_f_name = 'code_toggle_{}'.format(str(random.randint(1,2**64)))\n",
    "\n",
    "    html = \"\"\"\n",
    "        <script>\n",
    "            function {f_name}() {{\n",
    "                {cell_selector}.find('div.input').toggle();\n",
    "            }}\n",
    "\n",
    "            {js_hide_current}\n",
    "        </script>\n",
    "\n",
    "        <a href=\"javascript:{f_name}()\">{toggle_text}</a>\n",
    "    \"\"\".format(\n",
    "        f_name=js_f_name,\n",
    "        cell_selector=target_cell,\n",
    "        js_hide_current=js_hide_current, \n",
    "        toggle_text=toggle_text\n",
    "    )\n",
    "\n",
    "    return HTML(html)\n",
    "\n",
    "hide_toggle()"
   ]
  },
  {
   "cell_type": "markdown",
   "metadata": {},
   "source": [
    "***Подгружаем необходимые инструменты:***"
   ]
  },
  {
   "cell_type": "code",
   "execution_count": 2,
   "metadata": {},
   "outputs": [
    {
     "data": {
      "text/html": [
       "\n",
       "        <script>\n",
       "            function code_toggle_8128793424447809414() {\n",
       "                $('div.cell.code_cell.rendered.selected').find('div.input').toggle();\n",
       "            }\n",
       "\n",
       "            \n",
       "        </script>\n",
       "\n",
       "        <a href=\"javascript:code_toggle_8128793424447809414()\">Toggle show/hide</a>\n",
       "    "
      ],
      "text/plain": [
       "<IPython.core.display.HTML object>"
      ]
     },
     "execution_count": 2,
     "metadata": {},
     "output_type": "execute_result"
    }
   ],
   "source": [
    "import warnings\n",
    "\n",
    "warnings.filterwarnings('ignore')\n",
    "\n",
    "hide_toggle()"
   ]
  },
  {
   "cell_type": "code",
   "execution_count": 3,
   "metadata": {},
   "outputs": [
    {
     "name": "stdout",
     "output_type": "stream",
     "text": [
      "showing info https://raw.githubusercontent.com/nltk/nltk_data/gh-pages/index.xml\n"
     ]
    },
    {
     "data": {
      "text/html": [
       "\n",
       "        <script>\n",
       "            function code_toggle_11869849288681949541() {\n",
       "                $('div.cell.code_cell.rendered.selected').find('div.input').toggle();\n",
       "            }\n",
       "\n",
       "            \n",
       "        </script>\n",
       "\n",
       "        <a href=\"javascript:code_toggle_11869849288681949541()\">Toggle show/hide</a>\n",
       "    "
      ],
      "text/plain": [
       "<IPython.core.display.HTML object>"
      ]
     },
     "execution_count": 3,
     "metadata": {},
     "output_type": "execute_result"
    }
   ],
   "source": [
    "import numpy as np\n",
    "import pandas as pd\n",
    "import gzip\n",
    "from sklearn.feature_extraction.text import TfidfVectorizer\n",
    "from sklearn.decomposition import TruncatedSVD\n",
    "from sklearn.pipeline import Pipeline\n",
    "from collections import Counter\n",
    "import string\n",
    "\n",
    "import nltk\n",
    "from nltk import *\n",
    "from nltk import word_tokenize\n",
    "from nltk.corpus import stopwords\n",
    "from nltk.probability import FreqDist\n",
    "import re\n",
    "\n",
    "from gensim import models, corpora\n",
    "\n",
    "#import polyglot\n",
    "#from polyglot.text import Text as T\n",
    "nltk.download()\n",
    "hide_toggle()"
   ]
  },
  {
   "cell_type": "markdown",
   "metadata": {},
   "source": [
    "***Загружаем текстовые данные:***"
   ]
  },
  {
   "cell_type": "code",
   "execution_count": 4,
   "metadata": {},
   "outputs": [
    {
     "data": {
      "text/html": [
       "\n",
       "        <script>\n",
       "            function code_toggle_14046899296985208908() {\n",
       "                $('div.cell.code_cell.rendered.selected').find('div.input').toggle();\n",
       "            }\n",
       "\n",
       "            \n",
       "        </script>\n",
       "\n",
       "        <a href=\"javascript:code_toggle_14046899296985208908()\">Toggle show/hide</a>\n",
       "    "
      ],
      "text/plain": [
       "<IPython.core.display.HTML object>"
      ]
     },
     "execution_count": 4,
     "metadata": {},
     "output_type": "execute_result"
    }
   ],
   "source": [
    "path = 'qa_Appliances.json.gz'\n",
    "\n",
    "\n",
    "def parse(path):\n",
    "  g = gzip.open(path, 'rb')\n",
    "  for l in g:\n",
    "    yield eval(l)\n",
    "\n",
    "def getDF(path):\n",
    "  i = 0\n",
    "  df = {}\n",
    "  for d in parse(path):\n",
    "    df[i] = d\n",
    "    i += 1\n",
    "  return pd.DataFrame.from_dict(df, orient='index')\n",
    "\n",
    "df = getDF('qa_Appliances.json.gz')\n",
    "\n",
    "#data_answers = df['answer']\n",
    "data_answers = df['answer'].apply(lambda x: x.lower())\n",
    "#data_answers = str(data_answers)\n",
    "data_answers\n",
    "\n",
    "hide_toggle()"
   ]
  },
  {
   "cell_type": "code",
   "execution_count": 5,
   "metadata": {},
   "outputs": [
    {
     "data": {
      "text/plain": [
       "0     i replaced my old one with this without a hitch.\n",
       "1    this may help insinkerator model badger-1: bad...\n",
       "2    plumbing connections will vary with different ...\n",
       "3    it does not come with a power cord. it does co...\n",
       "4    check if you dropped something inside.usually ...\n",
       "Name: answer, dtype: object"
      ]
     },
     "execution_count": 5,
     "metadata": {},
     "output_type": "execute_result"
    }
   ],
   "source": [
    "data_answers.head(5)"
   ]
  },
  {
   "cell_type": "markdown",
   "metadata": {},
   "source": [
    "***Функции по очистке данных (освобождение от цифр и знаков пунктуации):***"
   ]
  },
  {
   "cell_type": "code",
   "execution_count": 6,
   "metadata": {},
   "outputs": [
    {
     "data": {
      "text/html": [
       "\n",
       "        <script>\n",
       "            function code_toggle_5589216252412455772() {\n",
       "                $('div.cell.code_cell.rendered.selected').find('div.input').toggle();\n",
       "            }\n",
       "\n",
       "            \n",
       "        </script>\n",
       "\n",
       "        <a href=\"javascript:code_toggle_5589216252412455772()\">Toggle show/hide</a>\n",
       "    "
      ],
      "text/plain": [
       "<IPython.core.display.HTML object>"
      ]
     },
     "execution_count": 6,
     "metadata": {},
     "output_type": "execute_result"
    }
   ],
   "source": [
    "#cleaning and processing\n",
    "\n",
    "#cleaning from punctuation\n",
    "def replace_punctuation(x):  # From S.Lott's solution\n",
    "    for c in string.punctuation:\n",
    "        x=x.replace(c,\"\")\n",
    "    return x\n",
    "\n",
    "#removing numbers\n",
    "def clean_numbers(x):\n",
    "    x = str(x)\n",
    "    re.sub(r'\\d+', '', x)\n",
    "    return x\n",
    "\n",
    "hide_toggle()"
   ]
  },
  {
   "cell_type": "markdown",
   "metadata": {},
   "source": [
    "***Вычисляем частотность слов (N самых употребляемых слов):***"
   ]
  },
  {
   "cell_type": "code",
   "execution_count": 7,
   "metadata": {},
   "outputs": [
    {
     "data": {
      "text/html": [
       "\n",
       "        <script>\n",
       "            function code_toggle_10370206919052757531() {\n",
       "                $('div.cell.code_cell.rendered.selected').find('div.input').toggle();\n",
       "            }\n",
       "\n",
       "            \n",
       "        </script>\n",
       "\n",
       "        <a href=\"javascript:code_toggle_10370206919052757531()\">Toggle show/hide</a>\n",
       "    "
      ],
      "text/plain": [
       "<IPython.core.display.HTML object>"
      ]
     },
     "execution_count": 7,
     "metadata": {},
     "output_type": "execute_result"
    }
   ],
   "source": [
    "\n",
    "#top N words     всего текста\n",
    "def top_N_words(N):\n",
    "    tfidf = TfidfVectorizer(stop_words='english')\n",
    "    tfidf.fit(data_answers)\n",
    "    X = tfidf.transform(data_answers)\n",
    "    idx = np.ravel(X.sum(axis=0).argsort(axis=1))[::-1][:N]\n",
    "    top_n_words = np.array(tfidf.get_feature_names())[idx].tolist()\n",
    "    return top_n_words\n",
    "\n",
    "\n",
    "hide_toggle()"
   ]
  },
  {
   "cell_type": "code",
   "execution_count": 8,
   "metadata": {},
   "outputs": [
    {
     "data": {
      "text/plain": [
       "['yes',\n",
       " 'model',\n",
       " 'fit',\n",
       " 'don',\n",
       " 'sure',\n",
       " 'does',\n",
       " 'know',\n",
       " 'just',\n",
       " 'work',\n",
       " 'filter']"
      ]
     },
     "execution_count": 8,
     "metadata": {},
     "output_type": "execute_result"
    }
   ],
   "source": [
    "top_N_words(10)"
   ]
  },
  {
   "cell_type": "markdown",
   "metadata": {},
   "source": [
    "***Вычисление эмоциональной окрашенности текста:***"
   ]
  },
  {
   "cell_type": "code",
   "execution_count": 9,
   "metadata": {},
   "outputs": [
    {
     "data": {
      "text/html": [
       "\n",
       "        <script>\n",
       "            function code_toggle_14705754226766020322() {\n",
       "                $('div.cell.code_cell.rendered.selected').find('div.input').toggle();\n",
       "            }\n",
       "\n",
       "            \n",
       "        </script>\n",
       "\n",
       "        <a href=\"javascript:code_toggle_14705754226766020322()\">Toggle show/hide</a>\n",
       "    "
      ],
      "text/plain": [
       "<IPython.core.display.HTML object>"
      ]
     },
     "execution_count": 9,
     "metadata": {},
     "output_type": "execute_result"
    }
   ],
   "source": [
    "#sentiment analysis\n",
    "#for english version we'll use vader sentiment analyzer\n",
    "\n",
    "def emotions(data_answers):\n",
    "    data_answers = str(data_answers)\n",
    "    from nltk.sentiment.vader import SentimentIntensityAnalyzer\n",
    "    sid = SentimentIntensityAnalyzer()\n",
    "    sentences = tokenize.sent_tokenize(data_answers)\n",
    "    scores = dict([('pos', 0), ('neu', 0), ('neg', 0), ('compound', 0)])\n",
    "    for sentence in sentences:\n",
    "        ss = sid.polarity_scores(sentence)\n",
    "        for k in sorted(ss):\n",
    "            scores[k] += ss[k]\n",
    "\n",
    "    return scores \n",
    "\n",
    "\n",
    "hide_toggle()"
   ]
  },
  {
   "cell_type": "code",
   "execution_count": 10,
   "metadata": {},
   "outputs": [
    {
     "data": {
      "text/plain": [
       "{'compound': 6.4398,\n",
       " 'neg': 0.21400000000000002,\n",
       " 'neu': 20.912999999999997,\n",
       " 'pos': 2.8729999999999998}"
      ]
     },
     "execution_count": 10,
     "metadata": {},
     "output_type": "execute_result"
    }
   ],
   "source": [
    "emotions(data_answers)"
   ]
  },
  {
   "cell_type": "markdown",
   "metadata": {},
   "source": [
    "***Вычленение главных тем:***      (тест)"
   ]
  },
  {
   "cell_type": "markdown",
   "metadata": {},
   "source": [
    "***вариант-1***"
   ]
  },
  {
   "cell_type": "code",
   "execution_count": 11,
   "metadata": {},
   "outputs": [
    {
     "name": "stdout",
     "output_type": "stream",
     "text": [
      "[(0, 1), (1, 1), (2, 1), (3, 1), (4, 1), (5, 1), (6, 1), (7, 1), (8, 1), (9, 1), (10, 1), (11, 1), (12, 1), (13, 1), (14, 1), (15, 4), (16, 2), (17, 2), (18, 1), (19, 1), (20, 1), (21, 1), (22, 1), (23, 1), (24, 1), (25, 1), (26, 1), (27, 1), (28, 1), (29, 1), (30, 1), (31, 1), (32, 1), (33, 1), (34, 1), (35, 1), (36, 1), (37, 1), (38, 1), (39, 1), (40, 1), (41, 2), (42, 1), (43, 1), (44, 1), (45, 3), (46, 1), (47, 1), (48, 1), (49, 1), (50, 7), (51, 1), (52, 1), (53, 2), (54, 1), (55, 1), (56, 3), (57, 1), (58, 1), (59, 1), (60, 2), (61, 1), (62, 4), (63, 1), (64, 1), (65, 1), (66, 1), (67, 1), (68, 1), (69, 1), (70, 1), (71, 2), (72, 1), (73, 1), (74, 2), (75, 1), (76, 1), (77, 1), (78, 1), (79, 1), (80, 2), (81, 1), (82, 1), (83, 1), (84, 1), (85, 1), (86, 1), (87, 1), (88, 2), (89, 1), (90, 2), (91, 1), (92, 1), (93, 1), (94, 3), (95, 1), (96, 1), (97, 1), (98, 3), (99, 2), (100, 3), (101, 1), (102, 1), (103, 1), (104, 1), (105, 1), (106, 1), (107, 1), (108, 2), (109, 1), (110, 1), (111, 2), (112, 1), (113, 2), (114, 1), (115, 1), (116, 1), (117, 1), (118, 1), (119, 1), (120, 2), (121, 1), (122, 1), (123, 1), (124, 1), (125, 1), (126, 3), (127, 1), (128, 1), (129, 2), (130, 1), (131, 1), (132, 1), (133, 1), (134, 1), (135, 1), (136, 1), (137, 1), (138, 1), (139, 1), (140, 2), (141, 1), (142, 1), (143, 2), (144, 1), (145, 1), (146, 2), (147, 1), (148, 1), (149, 1), (150, 1), (151, 1), (152, 1), (153, 1), (154, 1), (155, 1), (156, 5), (157, 1), (158, 1), (159, 1), (160, 1), (161, 1), (162, 6), (163, 1), (164, 1), (165, 4), (166, 3), (167, 12)]\n",
      "LDA Model:\n",
      "Topic #0: 0.046*\"yes\" + 0.031*\"filter\" + 0.021*\"use\" + 0.019*\"water\" + 0.019*\"burner\" + 0.015*\"heat\" + 0.015*\"replaced\" + 0.015*\"maybe\" + 0.013*\"woder\" + 0.012*\"mine\"\n",
      "Topic #1: 0.045*\"yes\" + 0.029*\"filter\" + 0.026*\"water\" + 0.022*\"use\" + 0.021*\"woder\" + 0.017*\"burner\" + 0.017*\"heat\" + 0.015*\"would\" + 0.013*\"electric\" + 0.013*\"model\"\n",
      "Topic #2: 0.043*\"yes\" + 0.036*\"water\" + 0.031*\"filter\" + 0.026*\"use\" + 0.018*\"heat\" + 0.017*\"woder\" + 0.016*\"burner\" + 0.014*\"replaced\" + 0.012*\"fridge\" + 0.012*\"maybe\"\n",
      "Topic #3: 0.050*\"yes\" + 0.035*\"filter\" + 0.022*\"water\" + 0.019*\"mine\" + 0.018*\"burner\" + 0.018*\"heat\" + 0.018*\"use\" + 0.017*\"woder\" + 0.014*\"would\" + 0.013*\"maybe\"\n",
      "Topic #4: 0.058*\"yes\" + 0.029*\"filter\" + 0.027*\"water\" + 0.021*\"use\" + 0.015*\"heat\" + 0.015*\"electric\" + 0.014*\"woder\" + 0.014*\"maybe\" + 0.014*\"replaced\" + 0.013*\"model\"\n",
      "Topic #5: 0.044*\"yes\" + 0.024*\"filter\" + 0.021*\"woder\" + 0.020*\"water\" + 0.020*\"use\" + 0.019*\"burner\" + 0.014*\"replaced\" + 0.014*\"model\" + 0.014*\"electric\" + 0.013*\"maybe\"\n",
      "Topic #6: 0.069*\"yes\" + 0.028*\"filter\" + 0.024*\"water\" + 0.018*\"use\" + 0.017*\"heat\" + 0.017*\"burner\" + 0.016*\"would\" + 0.015*\"woder\" + 0.014*\"electric\" + 0.014*\"model\"\n",
      "Topic #7: 0.047*\"yes\" + 0.022*\"filter\" + 0.022*\"water\" + 0.021*\"heat\" + 0.020*\"woder\" + 0.017*\"burner\" + 0.016*\"model\" + 0.015*\"fridge\" + 0.015*\"use\" + 0.013*\"would\"\n",
      "Topic #8: 0.034*\"yes\" + 0.033*\"filter\" + 0.031*\"use\" + 0.022*\"water\" + 0.020*\"burner\" + 0.019*\"woder\" + 0.017*\"heat\" + 0.016*\"fridge\" + 0.015*\"replaced\" + 0.013*\"disposal\"\n",
      "Topic #9: 0.045*\"yes\" + 0.027*\"filter\" + 0.023*\"use\" + 0.020*\"water\" + 0.019*\"woder\" + 0.017*\"maybe\" + 0.016*\"fridge\" + 0.016*\"burner\" + 0.014*\"replaced\" + 0.013*\"electric\"\n",
      "====================\n",
      "LSI Model:\n",
      "Topic #0: 0.500*\"yes\" + 0.292*\"filter\" + 0.250*\"water\" + 0.208*\"use\" + 0.167*\"burner\" + 0.167*\"woder\" + 0.167*\"heat\" + 0.125*\"maybe\" + 0.125*\"electric\" + 0.125*\"would\"\n",
      "Topic #1: \n",
      "Topic #2: \n",
      "Topic #3: \n",
      "Topic #4: \n",
      "Topic #5: \n",
      "Topic #6: \n",
      "Topic #7: \n",
      "Topic #8: \n",
      "Topic #9: \n",
      "====================\n"
     ]
    },
    {
     "data": {
      "text/html": [
       "\n",
       "        <script>\n",
       "            function code_toggle_14112460357079484174() {\n",
       "                $('div.cell.code_cell.rendered.selected').find('div.input').toggle();\n",
       "            }\n",
       "\n",
       "            \n",
       "        </script>\n",
       "\n",
       "        <a href=\"javascript:code_toggle_14112460357079484174()\">Toggle show/hide</a>\n",
       "    "
      ],
      "text/plain": [
       "<IPython.core.display.HTML object>"
      ]
     },
     "execution_count": 11,
     "metadata": {},
     "output_type": "execute_result"
    }
   ],
   "source": [
    "#LDA gensim version-2\n",
    "import re\n",
    "from gensim import models, corpora\n",
    "from nltk import word_tokenize\n",
    "from nltk.corpus import stopwords\n",
    " \n",
    "NUM_TOPICS = 10\n",
    "STOPWORDS = stopwords.words('english')\n",
    "texts = str(data_answers)\n",
    "#texts = text.split()\n",
    "    \n",
    "def clean_text(texts):\n",
    "    tokenized_text = word_tokenize(texts.lower())\n",
    "    cleaned_text = [t for t in tokenized_text if t not in STOPWORDS and re.match('[a-zA-Z\\-][a-zA-Z\\-]{2,}', t)]\n",
    "    return cleaned_text\n",
    " \n",
    "# For gensim we need to tokenize the data and filter out stopwords\n",
    "tokenized_data = []\n",
    "for text in texts:\n",
    "    tokenized_data.append(clean_text(texts))\n",
    " \n",
    " \n",
    "# Build a Dictionary - association word to numeric id\n",
    "dictionary = corpora.Dictionary(tokenized_data)\n",
    " \n",
    "# Transform the collection of texts to a numerical form\n",
    "corpus = [dictionary.doc2bow(text) for text in tokenized_data]\n",
    " \n",
    "# Have a look at how the 20th document looks like: [(word_id, count), ...]\n",
    "print(corpus[20])\n",
    "# [(12, 3), (14, 1), (21, 1), (25, 5), (30, 2), (31, 5), (33, 1), (42, 1), (43, 2),  ...\n",
    " \n",
    "# Build the LDA model\n",
    "lda_model = models.LdaModel(corpus=corpus, num_topics=NUM_TOPICS, id2word=dictionary)\n",
    " \n",
    "# Build the LSI model\n",
    "lsi_model = models.LsiModel(corpus=corpus, num_topics=NUM_TOPICS, id2word=dictionary)\n",
    "\n",
    "print(\"LDA Model:\")\n",
    " \n",
    "for idx in range(NUM_TOPICS):\n",
    "    # Print the first 10 most representative topics\n",
    "    print(\"Topic #%s:\" % idx, lda_model.print_topic(idx, 10))\n",
    " \n",
    "print(\"=\" * 20)\n",
    " \n",
    "print(\"LSI Model:\")\n",
    " \n",
    "for idx in range(NUM_TOPICS):\n",
    "    # Print the first 10 most representative topics\n",
    "    print(\"Topic #%s:\" % idx, lsi_model.print_topic(idx, 10))\n",
    " \n",
    "print(\"=\" * 20)\n",
    "\n",
    "hide_toggle()"
   ]
  },
  {
   "cell_type": "markdown",
   "metadata": {},
   "source": [
    "***вариант-2***"
   ]
  },
  {
   "cell_type": "code",
   "execution_count": 12,
   "metadata": {},
   "outputs": [
    {
     "name": "stdout",
     "output_type": "stream",
     "text": [
      "(9011, 10)\n",
      "(9011, 10)\n",
      "(9011, 10)\n",
      "[0.03334315 0.03333636 0.03334    0.03333682 0.03333333 0.03333421\n",
      " 0.03333333 0.69997614 0.03333333 0.03333333]\n",
      "[0.         0.         0.00236963 0.00025976 0.00204395 0.01965884\n",
      " 0.         0.         0.         0.        ]\n",
      "[ 0.0866132   0.05048539 -0.01218395 -0.03645353 -0.01797298 -0.05034853\n",
      " -0.07541779  0.01931707 -0.07592397 -0.05868871]\n",
      "LDA Model:\n",
      "Topic 0:\n",
      "[('filter', 959.2335677947433), ('filters', 265.9766588007707), ('sorry', 234.56882576267716), ('yes', 206.52494106590112), ('refrigerator', 200.98362180267026), ('box', 154.11648738873595), ('fridge', 141.2158548155627), ('installed', 137.63660195150416), ('water', 120.6836898885183), ('according', 110.69609373315932)]\n",
      "Topic 1:\n",
      "[('model', 937.8121782970042), ('number', 746.2867341590437), ('parts', 361.53023230053685), ('whirlpool', 351.38529805691326), ('sure', 308.44228387442524), ('work', 265.81319820145467), ('fit', 257.40033786823807), ('amazon', 233.16327527262072), ('just', 218.0571992225048), ('correct', 211.90254860438753)]\n",
      "Topic 2:\n",
      "[('ice', 531.2417426521926), ('bought', 288.4831497629976), ('great', 285.1890437220118), ('yes', 261.693706605153), ('works', 246.34294632712542), ('freezer', 204.31104869955345), ('maker', 189.86430897368368), ('thank', 180.23111339964424), ('fine', 167.48929614504218), ('worked', 162.20814151215714)]\n",
      "Topic 3:\n",
      "[('machine', 368.4239609791873), ('small', 262.05097650430906), ('just', 209.66669295968407), ('unit', 200.94898273718664), ('door', 177.6907891130731), ('warranty', 173.17192487745302), ('cycle', 171.21873944862287), ('year', 155.98133033388146), ('sink', 144.37542974081475), ('stainless', 140.13599241846157)]\n",
      "Topic 4:\n",
      "[('dryer', 412.3857619535088), ('work', 409.40755966499137), ('like', 252.38564979931238), ('kenmore', 229.43436527639756), ('believe', 227.33182178883007), ('buy', 221.92061864708148), ('hose', 207.95266568194512), ('set', 198.70046798494272), ('think', 187.39325888587692), ('vent', 184.48739883738244)]\n",
      "Topic 5:\n",
      "[('yes', 1234.4534852068753), ('water', 1019.1586714877643), ('just', 502.4340855260519), ('washer', 488.01513671281646), ('use', 394.4797568806688), ('does', 332.92433715459214), ('time', 226.77622675660297), ('clean', 190.2180190484242), ('drain', 172.63219615118518), ('clothes', 169.5865470168175)]\n",
      "Topic 6:\n",
      "[('com', 388.2502567292294), ('replacement', 304.9404364001779), ('www', 259.2438353345741), ('http', 252.06372263242338), ('amazon', 191.29743772141947), ('stove', 187.43233713600014), ('website', 147.22135483242388), ('ordered', 135.10526002282106), ('appliance', 135.07128233350477), ('range', 129.2829346662677)]\n",
      "Topic 7:\n",
      "[('good', 344.73448354716777), ('need', 236.727412668225), ('install', 228.98272609066888), ('dishwasher', 191.1590531447365), ('hood', 179.80885689040187), ('door', 178.75721502944404), ('new', 172.01877173311752), ('luck', 167.00788414438554), ('come', 153.70165476146093), ('power', 152.80154995985538)]\n",
      "Topic 8:\n",
      "[('oven', 275.0128737065924), ('hope', 140.56485651764572), ('helps', 130.1228040963613), ('size', 125.12511798225695), ('ceiling', 122.88320629722129), ('turn', 100.02141079133081), ('little', 96.84971744196963), ('element', 93.62443045052657), ('doesn', 93.07994186124154), ('sure', 91.3082136042836)]\n",
      "Topic 9:\n",
      "[('know', 442.07397686237124), ('don', 423.1939715080841), ('fit', 374.5883510814319), ('inches', 349.43823426602376), ('sure', 288.4924541122137), ('fits', 260.4434950383904), ('model', 202.0166402864656), ('question', 162.01200469493344), ('long', 160.0045073372802), ('wide', 158.944881089518)]\n",
      "====================\n",
      "NMF Model:\n",
      "Topic 0:\n",
      "[('water', 10.674444367213654), ('valve', 1.5621643614261076), ('line', 0.9027511155832527), ('dispenser', 0.8040611381215288), ('hot', 0.7675763063933947), ('hose', 0.7213085273996858), ('problem', 0.6733365537822662), ('used', 0.4877947974584748), ('faucet', 0.4875790447285625), ('turn', 0.48755578626686397)]\n",
      "Topic 1:\n",
      "[('model', 6.040477778070166), ('number', 4.311582518059101), ('parts', 0.950517625668813), ('fit', 0.7742405219361058), ('sure', 0.7365605816724337), ('whirlpool', 0.6880601215566782), ('correct', 0.6340219446921186), ('look', 0.5989276253683508), ('search', 0.5623437268365087), ('replacement', 0.48813266667016236)]\n",
      "Topic 2:\n",
      "[('filter', 6.707255900934629), ('filters', 1.5188357290700971), ('whirlpool', 1.067676273104015), ('refrigerator', 0.8479567390423007), ('fridge', 0.6721945520518572), ('woder', 0.6025474692932522), ('kenmore', 0.5600330013108695), ('replacement', 0.4239929106327551), ('pur', 0.41539831519564646), ('samsung', 0.3768620928830734)]\n",
      "Topic 3:\n",
      "[('warranty', 3.904942341795676), ('products', 3.055791258983577), ('service', 1.750087148052684), ('parts', 1.7314949312255576), ('use', 1.6511753085625103), ('year', 1.1534460337372745), ('purchase', 1.080912085365216), ('original', 1.053802907823224), ('limited', 0.9659121150558314), ('repair', 0.8120042115259071)]\n",
      "Topic 4:\n",
      "[('ice', 6.213788036313587), ('maker', 2.266643318182125), ('freezer', 1.1444730677399155), ('valve', 0.6807714079995801), ('refrigerator', 0.6653662162814044), ('cubes', 0.605108492344282), ('unit', 0.568776670586339), ('fridge', 0.529324493578519), ('makes', 0.5033992885971963), ('bin', 0.4857201169971995)]\n",
      "Topic 5:\n",
      "[('don', 2.624422783101713), ('just', 2.2775323294035243), ('fit', 2.0256158618965134), ('know', 1.8912495089208172), ('sure', 1.8220461567248387), ('unit', 1.696055332332282), ('work', 1.5634642137035377), ('need', 1.4552603267510036), ('good', 1.2287448877285314), ('like', 1.214122776152788)]\n",
      "Topic 6:\n",
      "[('yes', 6.328908593156043), ('does', 0.4966095045487746), ('work', 0.32974784702655174), ('fit', 0.2481143122351023), ('great', 0.19393428621618336), ('fits', 0.17923612793767116), ('works', 0.16354926330786845), ('comes', 0.13902601211882412), ('just', 0.1183679293067057), ('perfectly', 0.11359773224800365)]\n",
      "Topic 7:\n",
      "[('oven', 3.611582929529345), ('feature', 2.4467965221242878), ('bake', 2.412490586624957), ('set', 1.2581245153019112), ('time', 1.2446004447330639), ('light', 1.232917415851995), ('start', 1.1799637926445161), ('used', 0.9471131736214228), ('temperature', 0.9101761836176345), ('pad', 0.7398965149991245)]\n",
      "Topic 8:\n",
      "[('machine', 3.386499125553917), ('use', 3.1255746028071645), ('washer', 2.5754629831651026), ('clothes', 2.203431436206603), ('wash', 2.0466813273138857), ('time', 1.8057271606859135), ('just', 1.6577502870364411), ('laundry', 1.375530700683101), ('dry', 1.2345615791058557), ('towels', 1.182997042279583)]\n",
      "Topic 9:\n",
      "[('com', 2.8320181953954724), ('www', 2.3519618744552586), ('http', 2.30924167684887), ('amazon', 1.8619602563087156), ('parts', 0.7650836074848213), ('need', 0.6420422518146945), ('link', 0.6341432429989494), ('product', 0.6226248790075094), ('washer', 0.5331800419995177), ('ref', 0.46937135577986094)]\n",
      "====================\n",
      "LSI Model:\n",
      "Topic 0:\n",
      "[('water', 0.5136397906934289), ('filter', 0.3029469163836898), ('use', 0.20696484013382838), ('model', 0.1789126194588424), ('just', 0.17337935724922052), ('don', 0.14000213252342975), ('ice', 0.12967535988921397), ('number', 0.12797089958039412), ('washer', 0.12477766436838372), ('need', 0.12183108507605901)]\n",
      "Topic 1:\n",
      "[('model', 0.3283482927689247), ('number', 0.27207932148276853), ('parts', 0.18625321458712837), ('warranty', 0.16819975997658618), ('fit', 0.14729391473887468), ('sure', 0.13280006104080413), ('products', 0.12617982129764763), ('yes', 0.1157727766751329), ('amazon', 0.09869419344752738), ('com', 0.0986052378025278)]\n",
      "Topic 2:\n",
      "[('use', 0.2073705511858081), ('machine', 0.1742431527784756), ('washer', 0.14336843438337407), ('just', 0.13911318917915594), ('clothes', 0.1263980077549166), ('wash', 0.12385521794403086), ('time', 0.12382735565889086), ('water', 0.09760721990139591), ('don', 0.09623334866087659), ('laundry', 0.09122526728706903)]\n",
      "Topic 3:\n",
      "[('warranty', 0.5303128317739872), ('products', 0.41717375190369516), ('service', 0.23226957392380645), ('use', 0.22115829778572435), ('parts', 0.2010625878896986), ('year', 0.14789832932467054), ('purchase', 0.13849892232311614), ('original', 0.1340743387237577), ('limited', 0.13163648337378997), ('water', 0.11533261340147481)]\n",
      "Topic 4:\n",
      "[('ice', 0.4128046327793449), ('model', 0.3365621490715862), ('water', 0.29530342938562604), ('number', 0.28626672828092475), ('maker', 0.17295744366813504), ('valve', 0.16980037781903431), ('parts', 0.09877881962174179), ('com', 0.09276920434619833), ('dispenser', 0.07890778189550159), ('freezer', 0.07805654550789728)]\n",
      "Topic 5:\n",
      "[('model', 0.22378999541901545), ('number', 0.19301567066459388), ('washer', 0.17851905349125907), ('machine', 0.15715726121521853), ('water', 0.14444950293704048), ('clothes', 0.10944763073654348), ('wash', 0.10660259581315841), ('laundry', 0.0647894927156747), ('don', 0.06324083839232993), ('load', 0.0612579345360301)]\n",
      "Topic 6:\n",
      "[('yes', 0.7247595179022943), ('water', 0.21452941401574013), ('model', 0.1845789418634931), ('washer', 0.13191010217863228), ('number', 0.09204331843123782), ('wash', 0.06598427975846648), ('clothes', 0.06404618901242302), ('machine', 0.049233390341958075), ('drain', 0.04334307893229292), ('hose', 0.0370930512518176)]\n",
      "Topic 7:\n",
      "[('oven', 0.4137611528900199), ('feature', 0.26446561209678954), ('bake', 0.2639327500631391), ('water', 0.1628960153171786), ('sure', 0.13790398504416349), ('light', 0.1304095892847228), ('start', 0.1297298136611794), ('used', 0.12795535552209125), ('set', 0.1206747849906872), ('temperature', 0.10704957162113632)]\n",
      "Topic 8:\n",
      "[('oven', 0.3066924423685054), ('ice', 0.2910293848744704), ('model', 0.24332185988908686), ('feature', 0.2406876083373943), ('bake', 0.23568695214992683), ('use', 0.21220675212388115), ('time', 0.18806509183867767), ('machine', 0.177759046655072), ('filter', 0.16008984311683588), ('number', 0.12613250689649755)]\n",
      "Topic 9:\n"
     ]
    },
    {
     "name": "stdout",
     "output_type": "stream",
     "text": [
      "[('com', 0.32604772171615126), ('http', 0.28180278714905477), ('www', 0.2750172909013333), ('amazon', 0.22242049129191155), ('washer', 0.20386937294950477), ('door', 0.14902844011180194), ('need', 0.13723780668979946), ('ice', 0.12101860186244012), ('dryer', 0.12040485624499836), ('filters', 0.09144455280478857)]\n",
      "====================\n"
     ]
    },
    {
     "data": {
      "text/html": [
       "\n",
       "        <script>\n",
       "            function code_toggle_3588642182452038076() {\n",
       "                $('div.cell.code_cell.rendered.selected').find('div.input').toggle();\n",
       "            }\n",
       "\n",
       "            \n",
       "        </script>\n",
       "\n",
       "        <a href=\"javascript:code_toggle_3588642182452038076()\">Toggle show/hide</a>\n",
       "    "
      ],
      "text/plain": [
       "<IPython.core.display.HTML object>"
      ]
     },
     "execution_count": 12,
     "metadata": {},
     "output_type": "execute_result"
    }
   ],
   "source": [
    "#LDA scikit-learn version-2\n",
    "\n",
    "from sklearn.decomposition import NMF, LatentDirichletAllocation, TruncatedSVD\n",
    "from sklearn.feature_extraction.text import CountVectorizer\n",
    " \n",
    "NUM_TOPICS = 10\n",
    " \n",
    "vectorizer = CountVectorizer(min_df=5, max_df=0.9, \n",
    "                             stop_words='english', lowercase=True, \n",
    "                             token_pattern='[a-zA-Z\\-][a-zA-Z\\-]{2,}')\n",
    "data_vectorized = vectorizer.fit_transform(data_answers)\n",
    " \n",
    "# Build a Latent Dirichlet Allocation Model\n",
    "lda_model = LatentDirichletAllocation(n_components=NUM_TOPICS, max_iter=10, learning_method='online')\n",
    "lda_Z = lda_model.fit_transform(data_vectorized)\n",
    "print(lda_Z.shape)  # (NO_DOCUMENTS, NO_TOPICS)\n",
    " \n",
    "# Build a Non-Negative Matrix Factorization Model\n",
    "nmf_model = NMF(n_components=NUM_TOPICS)\n",
    "nmf_Z = nmf_model.fit_transform(data_vectorized)\n",
    "print(nmf_Z.shape)  # (NO_DOCUMENTS, NO_TOPICS)\n",
    " \n",
    "# Build a Latent Semantic Indexing Model\n",
    "lsi_model = TruncatedSVD(n_components=NUM_TOPICS)\n",
    "lsi_Z = lsi_model.fit_transform(data_vectorized)\n",
    "print(lsi_Z.shape)  # (NO_DOCUMENTS, NO_TOPICS)\n",
    " \n",
    "\n",
    "#Let's see how the first document in the corpus looks like in different topic spaces\n",
    "print(lda_Z[0])\n",
    "print(nmf_Z[0])\n",
    "print(lsi_Z[0])\n",
    "\n",
    "\n",
    "def print_topics(model, vectorizer, top_n=10):\n",
    "    for idx, topic in enumerate(model.components_):\n",
    "        print(\"Topic %d:\" % (idx))\n",
    "        print([(vectorizer.get_feature_names()[i], topic[i])\n",
    "                        for i in topic.argsort()[:-top_n - 1:-1]])\n",
    "\n",
    "print(\"LDA Model:\")\n",
    "print_topics(lda_model, vectorizer)\n",
    "print(\"=\" * 20)\n",
    " \n",
    "print(\"NMF Model:\")\n",
    "print_topics(nmf_model, vectorizer)\n",
    "print(\"=\" * 20)\n",
    " \n",
    "print(\"LSI Model:\")\n",
    "print_topics(lsi_model, vectorizer)\n",
    "print(\"=\" * 20)\n",
    "\n",
    "hide_toggle()"
   ]
  },
  {
   "cell_type": "markdown",
   "metadata": {},
   "source": [
    "***Визуализация выделенных тем:***"
   ]
  },
  {
   "cell_type": "code",
   "execution_count": 13,
   "metadata": {},
   "outputs": [
    {
     "data": {
      "text/html": [
       "\n",
       "<link rel=\"stylesheet\" type=\"text/css\" href=\"https://cdn.rawgit.com/bmabey/pyLDAvis/files/ldavis.v1.0.0.css\">\n",
       "\n",
       "\n",
       "<div id=\"ldavis_el2509620990501882568495378933\"></div>\n",
       "<script type=\"text/javascript\">\n",
       "\n",
       "var ldavis_el2509620990501882568495378933_data = {\"mdsDat\": {\"x\": [32.69602584838867, 93.06796264648438, 1.4073259830474854, 60.78950500488281, 120.70835876464844, -36.059814453125, -11.203333854675293, -60.17921447753906, 25.153148651123047, 59.99270248413086], \"y\": [167.59080505371094, 120.92186737060547, 52.53868103027344, 59.461734771728516, 49.9302978515625, 124.46820831298828, -7.9506072998046875, 57.30609130859375, 107.40576934814453, -4.010499477386475], \"topics\": [1, 2, 3, 4, 5, 6, 7, 8, 9, 10], \"cluster\": [1, 1, 1, 1, 1, 1, 1, 1, 1, 1], \"Freq\": [13.16085442153484, 12.738255888235667, 11.764405334812373, 11.1779400203131, 10.589491813704996, 9.943991888920541, 8.335785737825454, 8.256192913635195, 7.158305450147466, 6.874776530870371]}, \"tinfo\": {\"Category\": [\"Default\", \"Default\", \"Default\", \"Default\", \"Default\", \"Default\", \"Default\", \"Default\", \"Default\", \"Default\", \"Default\", \"Default\", \"Default\", \"Default\", \"Default\", \"Default\", \"Default\", \"Default\", \"Default\", \"Default\", \"Default\", \"Default\", \"Default\", \"Default\", \"Default\", \"Default\", \"Default\", \"Default\", \"Default\", \"Default\", \"Topic1\", \"Topic1\", \"Topic1\", \"Topic1\", \"Topic1\", \"Topic1\", \"Topic1\", \"Topic1\", \"Topic1\", \"Topic1\", \"Topic1\", \"Topic1\", \"Topic1\", \"Topic1\", \"Topic1\", \"Topic1\", \"Topic1\", \"Topic1\", \"Topic1\", \"Topic1\", \"Topic1\", \"Topic1\", \"Topic1\", \"Topic1\", \"Topic1\", \"Topic1\", \"Topic1\", \"Topic1\", \"Topic1\", \"Topic1\", \"Topic1\", \"Topic1\", \"Topic1\", \"Topic1\", \"Topic1\", \"Topic1\", \"Topic1\", \"Topic1\", \"Topic1\", \"Topic1\", \"Topic1\", \"Topic1\", \"Topic1\", \"Topic1\", \"Topic1\", \"Topic1\", \"Topic1\", \"Topic1\", \"Topic1\", \"Topic1\", \"Topic1\", \"Topic1\", \"Topic2\", \"Topic2\", \"Topic2\", \"Topic2\", \"Topic2\", \"Topic2\", \"Topic2\", \"Topic2\", \"Topic2\", \"Topic2\", \"Topic2\", \"Topic2\", \"Topic2\", \"Topic2\", \"Topic2\", \"Topic2\", \"Topic2\", \"Topic2\", \"Topic2\", \"Topic2\", \"Topic2\", \"Topic2\", \"Topic2\", \"Topic2\", \"Topic2\", \"Topic2\", \"Topic2\", \"Topic2\", \"Topic2\", \"Topic2\", \"Topic2\", \"Topic2\", \"Topic2\", \"Topic2\", \"Topic2\", \"Topic2\", \"Topic2\", \"Topic2\", \"Topic2\", \"Topic2\", \"Topic2\", \"Topic2\", \"Topic2\", \"Topic2\", \"Topic2\", \"Topic2\", \"Topic2\", \"Topic2\", \"Topic2\", \"Topic2\", \"Topic2\", \"Topic2\", \"Topic2\", \"Topic3\", \"Topic3\", \"Topic3\", \"Topic3\", \"Topic3\", \"Topic3\", \"Topic3\", \"Topic3\", \"Topic3\", \"Topic3\", \"Topic3\", \"Topic3\", \"Topic3\", \"Topic3\", \"Topic3\", \"Topic3\", \"Topic3\", \"Topic3\", \"Topic3\", \"Topic3\", \"Topic3\", \"Topic3\", \"Topic3\", \"Topic3\", \"Topic3\", \"Topic3\", \"Topic3\", \"Topic3\", \"Topic3\", \"Topic3\", \"Topic3\", \"Topic3\", \"Topic3\", \"Topic3\", \"Topic3\", \"Topic3\", \"Topic3\", \"Topic3\", \"Topic3\", \"Topic3\", \"Topic3\", \"Topic3\", \"Topic3\", \"Topic3\", \"Topic3\", \"Topic3\", \"Topic3\", \"Topic3\", \"Topic3\", \"Topic3\", \"Topic3\", \"Topic3\", \"Topic3\", \"Topic3\", \"Topic3\", \"Topic4\", \"Topic4\", \"Topic4\", \"Topic4\", \"Topic4\", \"Topic4\", \"Topic4\", \"Topic4\", \"Topic4\", \"Topic4\", \"Topic4\", \"Topic4\", \"Topic4\", \"Topic4\", \"Topic4\", \"Topic4\", \"Topic4\", \"Topic4\", \"Topic4\", \"Topic4\", \"Topic4\", \"Topic4\", \"Topic4\", \"Topic4\", \"Topic4\", \"Topic4\", \"Topic4\", \"Topic4\", \"Topic4\", \"Topic4\", \"Topic4\", \"Topic4\", \"Topic4\", \"Topic4\", \"Topic4\", \"Topic4\", \"Topic4\", \"Topic4\", \"Topic4\", \"Topic4\", \"Topic4\", \"Topic4\", \"Topic4\", \"Topic4\", \"Topic4\", \"Topic4\", \"Topic4\", \"Topic4\", \"Topic4\", \"Topic5\", \"Topic5\", \"Topic5\", \"Topic5\", \"Topic5\", \"Topic5\", \"Topic5\", \"Topic5\", \"Topic5\", \"Topic5\", \"Topic5\", \"Topic5\", \"Topic5\", \"Topic5\", \"Topic5\", \"Topic5\", \"Topic5\", \"Topic5\", \"Topic5\", \"Topic5\", \"Topic5\", \"Topic5\", \"Topic5\", \"Topic5\", \"Topic5\", \"Topic5\", \"Topic5\", \"Topic5\", \"Topic5\", \"Topic5\", \"Topic5\", \"Topic5\", \"Topic5\", \"Topic5\", \"Topic5\", \"Topic5\", \"Topic5\", \"Topic5\", \"Topic5\", \"Topic5\", \"Topic5\", \"Topic5\", \"Topic5\", \"Topic5\", \"Topic5\", \"Topic5\", \"Topic5\", \"Topic5\", \"Topic6\", \"Topic6\", \"Topic6\", \"Topic6\", \"Topic6\", \"Topic6\", \"Topic6\", \"Topic6\", \"Topic6\", \"Topic6\", \"Topic6\", \"Topic6\", \"Topic6\", \"Topic6\", \"Topic6\", \"Topic6\", \"Topic6\", \"Topic6\", \"Topic6\", \"Topic6\", \"Topic6\", \"Topic6\", \"Topic6\", \"Topic6\", \"Topic6\", \"Topic6\", \"Topic6\", \"Topic6\", \"Topic6\", \"Topic6\", \"Topic6\", \"Topic6\", \"Topic6\", \"Topic6\", \"Topic6\", \"Topic6\", \"Topic6\", \"Topic6\", \"Topic6\", \"Topic6\", \"Topic6\", \"Topic6\", \"Topic6\", \"Topic6\", \"Topic6\", \"Topic6\", \"Topic6\", \"Topic6\", \"Topic6\", \"Topic6\", \"Topic6\", \"Topic6\", \"Topic6\", \"Topic7\", \"Topic7\", \"Topic7\", \"Topic7\", \"Topic7\", \"Topic7\", \"Topic7\", \"Topic7\", \"Topic7\", \"Topic7\", \"Topic7\", \"Topic7\", \"Topic7\", \"Topic7\", \"Topic7\", \"Topic7\", \"Topic7\", \"Topic7\", \"Topic7\", \"Topic7\", \"Topic7\", \"Topic7\", \"Topic7\", \"Topic7\", \"Topic7\", \"Topic7\", \"Topic7\", \"Topic7\", \"Topic7\", \"Topic7\", \"Topic7\", \"Topic7\", \"Topic7\", \"Topic7\", \"Topic7\", \"Topic7\", \"Topic7\", \"Topic7\", \"Topic7\", \"Topic7\", \"Topic7\", \"Topic7\", \"Topic7\", \"Topic7\", \"Topic7\", \"Topic7\", \"Topic7\", \"Topic7\", \"Topic7\", \"Topic7\", \"Topic7\", \"Topic7\", \"Topic7\", \"Topic7\", \"Topic7\", \"Topic7\", \"Topic8\", \"Topic8\", \"Topic8\", \"Topic8\", \"Topic8\", \"Topic8\", \"Topic8\", \"Topic8\", \"Topic8\", \"Topic8\", \"Topic8\", \"Topic8\", \"Topic8\", \"Topic8\", \"Topic8\", \"Topic8\", \"Topic8\", \"Topic8\", \"Topic8\", \"Topic8\", \"Topic8\", \"Topic8\", \"Topic8\", \"Topic8\", \"Topic8\", \"Topic8\", \"Topic8\", \"Topic8\", \"Topic8\", \"Topic8\", \"Topic8\", \"Topic8\", \"Topic8\", \"Topic8\", \"Topic8\", \"Topic8\", \"Topic8\", \"Topic8\", \"Topic8\", \"Topic8\", \"Topic8\", \"Topic8\", \"Topic8\", \"Topic8\", \"Topic8\", \"Topic8\", \"Topic8\", \"Topic8\", \"Topic8\", \"Topic8\", \"Topic8\", \"Topic8\", \"Topic8\", \"Topic8\", \"Topic9\", \"Topic9\", \"Topic9\", \"Topic9\", \"Topic9\", \"Topic9\", \"Topic9\", \"Topic9\", \"Topic9\", \"Topic9\", \"Topic9\", \"Topic9\", \"Topic9\", \"Topic9\", \"Topic9\", \"Topic9\", \"Topic9\", \"Topic9\", \"Topic9\", \"Topic9\", \"Topic9\", \"Topic9\", \"Topic9\", \"Topic9\", \"Topic9\", \"Topic9\", \"Topic9\", \"Topic9\", \"Topic9\", \"Topic9\", \"Topic9\", \"Topic9\", \"Topic9\", \"Topic9\", \"Topic9\", \"Topic9\", \"Topic9\", \"Topic9\", \"Topic9\", \"Topic9\", \"Topic9\", \"Topic10\", \"Topic10\", \"Topic10\", \"Topic10\", \"Topic10\", \"Topic10\", \"Topic10\", \"Topic10\", \"Topic10\", \"Topic10\", \"Topic10\", \"Topic10\", \"Topic10\", \"Topic10\", \"Topic10\", \"Topic10\", \"Topic10\", \"Topic10\", \"Topic10\", \"Topic10\", \"Topic10\", \"Topic10\", \"Topic10\", \"Topic10\", \"Topic10\", \"Topic10\", \"Topic10\", \"Topic10\", \"Topic10\", \"Topic10\", \"Topic10\", \"Topic10\", \"Topic10\", \"Topic10\", \"Topic10\", \"Topic10\", \"Topic10\", \"Topic10\", \"Topic10\", \"Topic10\", \"Topic10\", \"Topic10\", \"Topic10\", \"Topic10\", \"Topic10\", \"Topic10\", \"Topic10\", \"Topic10\", \"Topic10\", \"Topic10\"], \"Freq\": [917.0, 1602.0, 1099.0, 1076.0, 721.0, 515.0, 389.0, 456.0, 884.0, 656.0, 634.0, 397.0, 306.0, 362.0, 336.0, 791.0, 417.0, 518.0, 775.0, 280.0, 800.0, 260.0, 275.0, 410.0, 253.0, 423.0, 253.0, 372.0, 312.0, 223.0, 455.5759499977555, 177.57390747835206, 158.31384408367396, 143.14569648706515, 133.00016968511838, 128.84310513766263, 115.08818231891553, 98.34537363508564, 73.09953807665806, 63.04977369572663, 61.51109968402116, 56.756165375394346, 56.297388579435456, 55.69993537576381, 52.598853847782934, 51.64056297901854, 48.70815498122514, 38.74830654007458, 38.474109969168545, 37.40974430256386, 36.97978303896896, 36.91702566266205, 80.29001229044376, 31.967035451333196, 31.509621559281868, 31.253318851525812, 31.100649647097345, 29.826004882292374, 29.60073778491365, 29.376240837325856, 100.03854351279581, 951.4134809197915, 1152.3972863614515, 161.1570437989441, 103.96473797684348, 50.897458046964886, 105.75155983540749, 111.35186778190776, 469.03644703849454, 132.00154197411717, 310.79429666508753, 211.7020296490171, 368.2580241390175, 136.76675163191427, 104.08620447856688, 60.6810044509426, 87.05132566330884, 101.56819329767482, 73.29103579459203, 74.88556977080991, 66.01751935391401, 67.36823593314577, 720.0829382834255, 204.462176325213, 181.03876357096598, 180.72062489233426, 157.19329298487028, 142.10009556597734, 111.86794826485685, 107.70756354892805, 122.27882564834972, 92.22465224036931, 82.73007574081001, 77.36649881114361, 73.12068753487435, 70.4442676029224, 60.94219346041379, 58.832568720539186, 57.56240603782642, 57.447379407582574, 56.54738381169715, 51.336463941877426, 50.54426968347722, 48.90418215153609, 47.84773419476092, 46.74512394270259, 46.54916419551459, 46.083940496965866, 45.50641197764336, 45.4883896409388, 43.571609109523344, 43.46785656908901, 339.0473745718438, 44.714858311942045, 904.8834958416538, 348.83609749088714, 80.07587502997332, 184.0140006749634, 179.15012249527197, 224.97639134278757, 171.46690540042823, 100.49613977115075, 148.27706306049956, 297.61218563455424, 256.4799024748931, 248.3624364784794, 171.12610559976852, 107.40473060964494, 199.31341762226685, 141.95512541616966, 210.40072339880643, 166.6295350234391, 113.493182002462, 88.49290193733508, 91.18162939681778, 396.594312729721, 220.64865669060336, 218.62662570319458, 199.98955379973137, 191.0916496395585, 168.26953119419025, 103.41098139837095, 95.70699733936581, 79.13293254785067, 76.6330054784463, 70.6269078514304, 68.26108314336649, 64.97896994546281, 62.18748213146094, 146.3331347136794, 57.07648909478597, 55.88762215044803, 54.80046141787495, 52.20667129698233, 47.51540766210057, 40.731869374759896, 40.43623465183131, 39.82248587659303, 38.46799497501791, 37.70500773680051, 37.28854776417156, 36.95351271322497, 36.68882475956272, 34.3778810559691, 33.82904256112553, 213.42263325477288, 52.27558435949444, 88.50575553132248, 177.42284021302905, 81.3781994000782, 393.7301544615269, 129.23272607575737, 121.25916958491915, 134.93284526036874, 101.30747587636725, 242.7210698323933, 180.21742643579813, 108.16397856124593, 116.34864609117767, 96.96382672669652, 144.52847263188542, 175.95378738288784, 118.34479665067161, 170.89374474965678, 111.71905723193348, 117.07233180320202, 87.08125834014285, 89.21297406791237, 96.18508579254832, 90.00963066673272, 255.43984318250511, 166.89916037745903, 140.73306508664766, 136.60058208944673, 168.80307001482123, 109.90599449904718, 107.68141286880594, 104.12037496010662, 103.16933164650855, 102.57596050163428, 83.87176693854623, 359.1292048310817, 82.3811503921238, 76.62082587670103, 75.0421323284724, 82.9619998385715, 69.5368562664432, 69.2371530185146, 60.72000526749105, 53.236474118193875, 48.505103564822576, 59.47298026655198, 38.3335545097291, 35.5548965971557, 34.63272018382634, 34.33153459125087, 34.18068100428651, 34.05463610000344, 34.07432278201118, 33.0719093300898, 118.32453498700232, 116.82577967705912, 73.74448369512147, 63.90302564199229, 53.13438592486722, 70.3846115218434, 152.0461670908142, 72.54908175408072, 78.30650058438017, 173.20793042445547, 195.87935646264162, 107.1868286965574, 204.37713258945047, 103.76507432088462, 132.44682779769195, 89.98068747895898, 104.9098304121008, 106.60148391145479, 87.95121051786352, 336.06773180442156, 152.8631970736567, 150.45664126329524, 250.4781848632363, 134.60849236596013, 129.02718295488629, 119.42982629386202, 113.05715179415336, 104.20285449974041, 101.28150252827214, 91.21383048936484, 90.47163529853505, 85.15171880889874, 77.5359256468507, 70.26572393643626, 67.27615021016565, 64.6979085733721, 62.48223453416166, 57.593698061254806, 54.09679240485273, 54.03132404369153, 49.711990135347726, 47.410338151046254, 46.881954387665225, 46.2644139733459, 45.2933547621982, 43.416099013909886, 43.18389343317119, 41.96230660553288, 40.24795023647614, 155.8129637910877, 125.51906682613856, 128.59421284734688, 425.1589669514958, 130.75479169513227, 116.15493777893488, 407.0013643949299, 360.25553349281927, 120.38694662013314, 121.98714560206443, 153.88227900209492, 87.87678075334172, 277.45391084586777, 106.77039924321666, 194.28690804377547, 87.65228222617323, 97.38221045408129, 87.90208049224337, 224.4813404514193, 187.4012124057039, 147.68413228954682, 113.31109083995426, 97.18640479821435, 92.91020569832968, 83.40098042896608, 80.80909206579264, 69.29112215421182, 67.9920519794175, 64.1263900157661, 62.14203596186378, 61.62420696210853, 61.186747623253936, 59.74016088103159, 58.85669659575814, 58.13913688826206, 56.980577536621404, 56.714266318116266, 56.03742666287848, 52.599052023382995, 47.445793926554735, 47.247298397824714, 46.0606268629464, 46.34706362973195, 44.540448897242776, 43.957790481095024, 41.37184148979775, 40.390878842485684, 40.1046431110537, 149.7977482566124, 61.08605165870102, 176.27414045115464, 163.7248116429632, 133.3852303334779, 337.95762801711834, 124.37464687569877, 150.6801586281754, 119.48335929193163, 168.6371942579057, 175.24317196434762, 232.07378051878717, 143.51755063418466, 120.11369172848131, 146.5787876932807, 123.92909631209778, 70.2097760624795, 83.58738359563404, 79.03548373891299, 108.20377451587972, 75.1867641155039, 83.66339726445018, 75.99594916327631, 514.2944680599875, 279.2801772521221, 197.79327126127026, 183.80740056251068, 174.48151594972705, 120.44100077931023, 93.73525478392934, 72.44728987380574, 62.57133954479525, 58.056702801171106, 56.7999435971765, 52.53251918214029, 50.27532442721341, 49.395898081488426, 45.49698385153656, 44.40332530379466, 47.11332371789799, 32.26140511309537, 30.890571580842213, 30.670233163279637, 29.115541560168854, 28.80691033850141, 26.49896545842807, 26.15958761731862, 25.826354297219687, 25.33682296342915, 25.329119923663555, 23.8246133744676, 23.067883020351104, 22.55729477830087, 52.46890113815056, 67.10902775617915, 53.09058762466053, 99.46289602263, 41.54416800892214, 276.0911573049619, 107.11689988034045, 94.21153598961412, 157.0334993585236, 81.0676155603144, 129.5683611521515, 86.8093732139274, 162.14617856762027, 238.4842988977725, 93.70132966757642, 118.01123220779338, 253.3453507648382, 65.93775134359151, 63.90756502698019, 88.66207867208799, 72.26816964989189, 86.40750404385545, 81.53955938833303, 66.78624893431396, 65.16680803651127, 65.00129181152958, 275.0292319767451, 122.89051561572245, 86.93199615240819, 83.76917329619835, 81.276339660268, 79.88503394805225, 74.38969658008011, 73.01433252657795, 72.90555590724856, 64.8136365236747, 62.23678562547918, 61.361436275586, 58.22858091828329, 52.74841393538843, 52.15192547824877, 49.77890140739804, 46.435318710578926, 46.40379870771162, 42.609121476401874, 41.80109370553557, 39.42476858295335, 38.366832405918615, 38.96177077996527, 37.55615006692249, 37.45116098243624, 37.02197028449604, 34.45789449420967, 33.72593188524244, 31.061916425771575, 30.19675331089153, 32.574914898089965, 43.70338878066197, 56.9841380427874, 69.65243930185197, 75.73910023829784, 87.25969055527891, 80.17994895261975, 93.62999940337434, 100.02736024830249, 125.13256065377722, 56.91966131420218, 130.1305440394183, 140.5732175731334, 93.08547842690933, 60.14455096510881, 84.47401574687095, 96.85547824080342, 86.58126193835385, 68.98419273097514, 78.62489881880069, 91.31364478430497, 66.82811772307213, 75.39447201590802, 63.65421063866606, 389.1092767511885, 305.61512994083245, 259.81742322347327, 252.62142421998934, 135.40418609284947, 127.74003783159928, 92.77155092178575, 87.93713837576998, 84.03622061687302, 78.55551756403685, 77.62833515002967, 72.98255050965182, 69.96210727102884, 69.92725720730697, 69.69178109634376, 62.87178629406593, 61.98539408017727, 56.39286193274405, 48.36216719831155, 48.061410301253005, 44.808519600140436, 43.6164599574127, 37.10956334333154, 36.65508953351525, 36.048042386990645, 35.77229283269584, 35.57854286041001, 37.87448188319031, 33.74446409312239, 32.6176256168738, 135.37013322646655, 147.54708827179465, 187.8470390649024, 49.281463815659635, 48.498439784737286, 191.72069134792454, 129.56897859657062, 65.26425324368566, 46.19363063466846, 52.363313026325564, 49.31852791534135, 252.87364349166657, 223.0130789957807, 146.52412683068945, 911.9780974068859, 105.24278584748475, 91.51765335193693, 72.10112396196163, 67.75764611446671, 72.26871837297394, 55.86132690233814, 53.245306819665885, 41.96233339878642, 40.05309251140087, 38.15624662081777, 37.38347604999287, 34.997457689979726, 30.264341819880574, 30.08220368621737, 29.76378988800796, 29.435144628065387, 29.30808635436391, 29.06353460095378, 27.850560420667133, 27.55608714731733, 24.654555972953066, 24.453252458868036, 24.293763595393127, 22.177591914128225, 21.872735206092933, 21.506087662473966, 83.1535904940282, 191.0824090976404, 46.34112558931561, 77.03826225416188, 130.8561028257726, 67.19719221637827, 134.2590281681442, 56.99520203738632, 51.1396738889965, 94.95424663192583, 196.35074203392767, 63.6102030987995, 51.803080365883346, 58.434492219939656, 96.17172646214695, 97.23402221929021, 114.73835527420196, 92.84802375715617, 54.406529855782665, 51.62670946604701], \"Term\": [\"filter\", \"yes\", \"model\", \"water\", \"number\", \"ice\", \"com\", \"washer\", \"just\", \"work\", \"know\", \"dryer\", \"replacement\", \"machine\", \"inches\", \"fit\", \"amazon\", \"good\", \"sure\", \"bought\", \"don\", \"www\", \"oven\", \"great\", \"filters\", \"parts\", \"http\", \"whirlpool\", \"refrigerator\", \"sorry\", \"washer\", \"clean\", \"clothes\", \"wash\", \"load\", \"dry\", \"cut\", \"rack\", \"low\", \"laundry\", \"bag\", \"items\", \"detergent\", \"exhaust\", \"humidifier\", \"tank\", \"rubber\", \"towels\", \"shows\", \"loads\", \"older\", \"week\", \"rinse\", \"cup\", \"correctly\", \"venting\", \"mold\", \"hang\", \"stopped\", \"middle\", \"pump\", \"water\", \"yes\", \"drain\", \"minutes\", \"speed\", \"run\", \"hot\", \"just\", \"months\", \"does\", \"time\", \"use\", \"using\", \"really\", \"half\", \"replace\", \"like\", \"comes\", \"new\", \"easy\", \"don\", \"number\", \"correct\", \"high\", \"try\", \"home\", \"search\", \"site\", \"numbers\", \"sears\", \"google\", \"hello\", \"online\", \"surface\", \"worth\", \"pans\", \"direct\", \"food\", \"depot\", \"web\", \"suggest\", \"cheaper\", \"sell\", \"adapter\", \"dear\", \"short\", \"gasket\", \"current\", \"specific\", \"recommended\", \"gallon\", \"whirlpool\", \"appliances\", \"model\", \"parts\", \"looked\", \"look\", \"check\", \"amazon\", \"product\", \"price\", \"different\", \"sure\", \"work\", \"fit\", \"did\", \"help\", \"need\", \"make\", \"just\", \"know\", \"don\", \"manual\", \"old\", \"dryer\", \"kenmore\", \"believe\", \"hose\", \"set\", \"didn\", \"instructions\", \"guess\", \"uses\", \"included\", \"wouldn\", \"screen\", \"description\", \"units\", \"needed\", \"clear\", \"vented\", \"local\", \"option\", \"bearing\", \"total\", \"settings\", \"mounting\", \"wish\", \"pleased\", \"including\", \"reason\", \"connected\", \"fittings\", \"jeans\", \"buy\", \"connection\", \"installation\", \"vent\", \"duct\", \"work\", \"air\", \"looks\", \"inside\", \"fan\", \"like\", \"think\", \"want\", \"comes\", \"better\", \"did\", \"need\", \"product\", \"don\", \"right\", \"used\", \"thing\", \"really\", \"use\", \"great\", \"small\", \"cycle\", \"sink\", \"stainless\", \"warranty\", \"motor\", \"service\", \"left\", \"looking\", \"faucet\", \"hoses\", \"machine\", \"regular\", \"case\", \"hole\", \"glass\", \"spin\", \"ago\", \"getting\", \"connector\", \"main\", \"base\", \"complete\", \"leaking\", \"highly\", \"leak\", \"shaft\", \"runs\", \"hear\", \"doors\", \"steel\", \"metal\", \"issue\", \"seal\", \"quiet\", \"start\", \"year\", \"times\", \"house\", \"door\", \"unit\", \"years\", \"just\", \"installed\", \"good\", \"plastic\", \"used\", \"use\", \"right\", \"inches\", \"wide\", \"inch\", \"fits\", \"white\", \"dimensions\", \"deep\", \"depth\", \"listed\", \"exact\", \"picture\", \"width\", \"thanks\", \"compatible\", \"larger\", \"away\", \"completely\", \"overall\", \"leave\", \"edge\", \"basket\", \"noise\", \"tall\", \"ship\", \"reference\", \"doing\", \"capacity\", \"higher\", \"cross\", \"asking\", \"question\", \"item\", \"models\", \"know\", \"perfectly\", \"original\", \"don\", \"fit\", \"able\", \"answer\", \"long\", \"maytag\", \"sure\", \"best\", \"model\", \"tell\", \"like\", \"hope\", \"install\", \"dishwasher\", \"plug\", \"wire\", \"cord\", \"black\", \"outlet\", \"screws\", \"youtube\", \"seller\", \"tub\", \"unfortunately\", \"lights\", \"cabinet\", \"video\", \"holes\", \"press\", \"chimney\", \"wires\", \"mount\", \"weight\", \"send\", \"extension\", \"experience\", \"properly\", \"hardware\", \"lbs\", \"rear\", \"design\", \"factory\", \"power\", \"tray\", \"hood\", \"luck\", \"remove\", \"good\", \"light\", \"come\", \"wall\", \"new\", \"door\", \"need\", \"old\", \"make\", \"unit\", \"does\", \"handle\", \"probably\", \"order\", \"sure\", \"open\", \"time\", \"easy\", \"ice\", \"bought\", \"freezer\", \"maker\", \"thank\", \"temperature\", \"exactly\", \"bin\", \"based\", \"dispenser\", \"dont\", \"tube\", \"nsf\", \"cubes\", \"red\", \"icemaker\", \"quickly\", \"goedeker\", \"remote\", \"turns\", \"copper\", \"reading\", \"window\", \"faster\", \"certified\", \"btu\", \"noisy\", \"batteries\", \"defrost\", \"frig\", \"board\", \"sensor\", \"making\", \"working\", \"device\", \"great\", \"valve\", \"far\", \"worked\", \"perfect\", \"line\", \"control\", \"fine\", \"works\", \"makes\", \"refrigerator\", \"yes\", \"problems\", \"gas\", \"fridge\", \"range\", \"does\", \"unit\", \"years\", \"old\", \"used\", \"oven\", \"ceiling\", \"setting\", \"goes\", \"lower\", \"pressure\", \"counter\", \"quite\", \"temp\", \"pipe\", \"humidity\", \"heating\", \"knob\", \"thermostat\", \"keg\", \"clock\", \"require\", \"lock\", \"beer\", \"clearance\", \"foot\", \"kegs\", \"battery\", \"specs\", \"adjustable\", \"sizes\", \"microwave\", \"understand\", \"bake\", \"bottles\", \"tap\", \"shelves\", \"length\", \"space\", \"piece\", \"heat\", \"bit\", \"element\", \"turn\", \"size\", \"measure\", \"helps\", \"hope\", \"doesn\", \"level\", \"outside\", \"little\", \"long\", \"standard\", \"way\", \"sure\", \"height\", \"use\", \"fit\", \"com\", \"replacement\", \"www\", \"http\", \"ordered\", \"burner\", \"went\", \"pan\", \"link\", \"big\", \"cooktop\", \"cooking\", \"days\", \"idea\", \"screw\", \"similar\", \"cleaning\", \"round\", \"apart\", \"iron\", \"ref\", \"induction\", \"cast\", \"drip\", \"utf\", \"aluminum\", \"later\", \"amana\", \"html\", \"pdf\", \"appliance\", \"website\", \"stove\", \"sold\", \"cook\", \"amazon\", \"range\", \"electric\", \"longer\", \"use\", \"used\", \"filters\", \"sorry\", \"box\", \"filter\", \"according\", \"frigidaire\", \"diameter\", \"nice\", \"woder\", \"information\", \"additional\", \"replaces\", \"lfx\", \"installing\", \"broken\", \"delivery\", \"smell\", \"review\", \"trim\", \"cartridge\", \"contaminants\", \"refrigerators\", \"charcoal\", \"usa\", \"charge\", \"magnetic\", \"manufactured\", \"container\", \"past\", \"chlorine\", \"quality\", \"refrigerator\", \"feel\", \"samsung\", \"installed\", \"free\", \"fridge\", \"shipping\", \"switch\", \"new\", \"yes\", \"pretty\", \"company\", \"manufacturer\", \"did\", \"unit\", \"water\", \"fit\", \"purchased\", \"came\"], \"Total\": [917.0, 1602.0, 1099.0, 1076.0, 721.0, 515.0, 389.0, 456.0, 884.0, 656.0, 634.0, 397.0, 306.0, 362.0, 336.0, 791.0, 417.0, 518.0, 775.0, 280.0, 800.0, 260.0, 275.0, 410.0, 253.0, 423.0, 253.0, 372.0, 312.0, 223.0, 456.45260604344793, 178.45891273315718, 159.191156424908, 144.02221856601247, 133.87676303278727, 129.71964078840443, 115.96490170613261, 99.22201086352732, 73.9762703291223, 63.92635935184422, 62.387746644636884, 57.63278455964648, 57.17391256726312, 56.576614187239606, 53.47545646981559, 52.517130047077366, 49.584760256409346, 39.62482682383056, 39.35092990149565, 38.28628653230229, 37.85654053650113, 37.79371246460646, 82.30309543089957, 32.84531634412606, 32.38633203703158, 32.13017456027407, 32.00837897204533, 30.702588616105622, 30.477342954027396, 30.25295576932344, 104.46967959064108, 1076.4468389338008, 1602.7849655813059, 189.52601415355363, 122.61957002324588, 55.414669254663224, 131.51831277380973, 143.74163026911535, 884.4992159075475, 185.9170641203843, 617.4413666481207, 371.23170410664324, 798.2339814531612, 220.04632222339552, 228.63146214159232, 76.70015036887315, 206.19717402984332, 562.8414132210606, 240.736717512305, 339.1605519768407, 260.56188157626303, 800.1845507536576, 721.805799817736, 205.33665865261133, 181.9126525901093, 181.5941834492065, 158.06684529311354, 142.9736325498406, 112.7413701650135, 108.60147558291716, 123.30731188066785, 93.12086120209429, 83.60362864785185, 78.23995929578975, 73.9943082207471, 71.31783701063839, 61.815671487976076, 59.70605282622681, 58.43602434410631, 58.320810802734435, 57.42079880745841, 52.209970379437614, 51.41774489586555, 49.77769116017305, 48.72131986282118, 47.61865067752205, 47.42282726815114, 46.95742406274125, 46.37994023408263, 46.36216028983083, 44.44522183315518, 44.341548431992855, 372.5443727352563, 45.65870214070525, 1099.9491074737125, 423.94734142796483, 94.39924311049207, 301.5584040255617, 292.27179594716523, 417.4703122022332, 290.6687525549086, 137.7324525592479, 260.32841969939057, 775.3039324841405, 656.8010864330954, 791.9833616799668, 412.6822662425915, 180.11559943300398, 681.0360410896212, 341.17468945603827, 884.4992159075475, 634.7640574635693, 800.1845507536576, 178.06784738862424, 333.21766528934927, 397.4680837443188, 221.52247853228602, 219.5004465857492, 200.86354124620206, 191.9655117835633, 169.1433555084957, 104.28481017076857, 96.58080063075082, 80.01171327646784, 77.50689939554945, 71.50072041941478, 69.13486983297163, 65.85286539483593, 63.06133597986421, 148.51471516873116, 57.95034180854811, 56.76132494564629, 55.67426738265326, 53.08054782280614, 48.38939644144827, 41.605810270643474, 41.310181409977865, 40.69639994826102, 39.34184016076828, 38.57885060238549, 38.16241654616749, 37.8273616392209, 37.56268710765905, 35.251658030342014, 34.702921500452995, 258.1845019536578, 55.99854267150515, 102.90743261615795, 231.86987689592095, 94.35885380759656, 656.8010864330954, 173.60326543965957, 173.4612343452868, 204.14627640097967, 139.93292529957543, 562.8414132210606, 374.94444578261744, 206.09336887813225, 240.736717512305, 175.2546582431453, 412.6822662425915, 681.0360410896212, 290.6687525549086, 800.1845507536576, 280.2220440058618, 442.9692300607939, 148.8493302581914, 228.63146214159232, 798.2339814531612, 410.7862237557915, 256.34274563544244, 167.77161337844996, 141.60557206447038, 137.47303694471475, 170.14165620025892, 110.77847386810167, 108.5538980941556, 104.99923905962349, 104.04196583847454, 103.47313990180538, 84.74434843709982, 362.905739436351, 83.25429913815162, 77.49338915951135, 75.91465252810649, 83.9579338842258, 70.40929124030995, 70.10963703184628, 61.592551396064245, 54.10901920462153, 49.377653715257935, 60.54961704662771, 39.206085873761126, 36.42738720438744, 35.505229322712175, 35.20407698600222, 35.05322439606528, 34.927141937713785, 34.94803317697005, 33.944383661833776, 123.4697219670051, 126.97348598985096, 80.87289504285904, 71.06173717744524, 58.815802880173145, 82.47048013734724, 220.07686684439219, 94.30216560687528, 105.47253439533691, 368.9853260298882, 584.0708089649776, 193.20147277833357, 884.4992159075475, 235.39868022388748, 518.4601583679499, 186.5031519751084, 442.9692300607939, 798.2339814531612, 280.2220440058618, 336.9414558952438, 153.73691500508946, 151.33090713863106, 252.03354789564224, 135.48232631504422, 129.90091040937293, 120.30702270930858, 113.93084551231605, 105.07667595941723, 102.17935512231153, 92.08766311961213, 91.34535354869877, 86.025610049877, 78.40975315502308, 71.13962642882598, 68.15007245917306, 65.57194989004572, 63.35599324621163, 58.467609033016544, 54.97060459987186, 54.90517965440967, 50.58582086684818, 48.28456392703896, 47.755735214539584, 47.138212727607815, 46.167234823582326, 44.290000949764256, 44.05789505112765, 42.83608189969025, 41.12409075326304, 179.59574999190562, 141.96427934411594, 151.39718457689185, 634.7640574635693, 171.26185567197396, 154.65021265665223, 800.1845507536576, 791.9833616799668, 174.47990335819117, 183.1580988660831, 268.71883592727556, 116.46467686369743, 775.3039324841405, 197.488060220375, 1099.9491074737125, 138.17831036004293, 562.8414132210606, 378.2206244025131, 225.35326039746747, 188.27316705170537, 148.55601752833186, 114.1829573675124, 98.058225201067, 93.78223018875755, 84.27288006451974, 81.68098083452414, 70.16302859791965, 68.86444189666517, 64.99838622462867, 63.014004559536346, 62.49967240987786, 62.05865318073515, 60.61203871808209, 59.72880581954654, 59.01101345837209, 57.85249166298878, 57.586711453217234, 56.90931526511399, 53.47104570121472, 48.31776456069886, 48.119201995973214, 46.932615672525316, 47.224737613948776, 45.41239100274726, 44.82976460862923, 42.243862056087224, 41.26288221970866, 40.976620750177005, 154.96783194263264, 64.93567628295584, 225.6754025903036, 211.79150110579764, 169.02521994385415, 518.4601583679499, 164.4854441126038, 218.9432547696484, 174.56956723857527, 339.1605519768407, 368.9853260298882, 681.0360410896212, 333.21766528934927, 341.17468945603827, 584.0708089649776, 617.4413666481207, 101.1409687001835, 196.44777566213676, 176.23981293615466, 775.3039324841405, 154.61143324405776, 371.23170410664324, 260.56188157626303, 515.1675794872796, 280.1533597556194, 198.66758051985306, 184.6804604534349, 175.35469441819413, 121.31412303808855, 94.60844225755537, 73.32038992708367, 63.44455831134248, 58.92991429270652, 57.67313688963727, 53.40583158346238, 51.148470415711564, 50.26978381811691, 46.38262767128656, 45.27645778305812, 48.088596094866006, 33.1345276855011, 31.76365783574638, 31.54338783865534, 29.99621447372752, 29.68008155050036, 27.372339806568867, 27.032944781150935, 26.699494231233427, 26.209894378461357, 26.20229583365891, 24.69795573286042, 23.940982685771015, 23.43053825813816, 56.66018849398148, 75.8667317956705, 59.474398063961665, 125.04508577582176, 46.081134244010066, 410.7862237557915, 140.27118249205668, 121.04504032893087, 236.8504430252172, 106.28843739049485, 191.50464912063885, 118.68189862767916, 267.478250068757, 454.1914316099607, 139.55244335849898, 312.2005103654119, 1602.7849655813059, 117.63544404857993, 111.48761929748656, 352.4622335743327, 252.67845641731464, 617.4413666481207, 584.0708089649776, 193.20147277833357, 333.21766528934927, 442.9692300607939, 275.9001071134392, 123.76042784366503, 87.80193351938904, 84.63915932933449, 82.14632806072174, 80.75496864111886, 75.25967660954953, 73.8843233013166, 73.77545648903553, 65.68354060896507, 63.10669027304426, 62.23167010841314, 59.099181046533225, 53.61834260237286, 53.02189848381079, 50.64881911414699, 47.3052848429297, 47.27373960026835, 43.47899522641637, 42.67101372066153, 40.29469649081573, 39.236741757221964, 39.85340981374719, 38.426105659080726, 38.321026839880425, 37.891872050262634, 35.3278507701272, 34.5959010516115, 31.93187029181349, 31.066636435138495, 33.6149847115277, 45.94230866248338, 63.7371691232459, 88.76358905421002, 102.79840848577702, 125.59309333569522, 116.32343198838643, 148.88966423443395, 164.998959323104, 268.42116707903557, 74.80044081534582, 320.4923590504458, 378.2206244025131, 184.30536737616018, 83.24404091555925, 170.1401570986126, 240.8491267334156, 268.71883592727556, 154.90871506000727, 282.321022683259, 775.3039324841405, 151.26285304819638, 798.2339814531612, 791.9833616799668, 389.9789244418738, 306.486566079771, 260.6870507355552, 253.49104568622005, 136.27398103049381, 128.62118503195836, 93.64134940436905, 88.80686187827556, 84.90585329941041, 79.42531671020556, 78.4980272650634, 73.85224945232922, 70.83193779575655, 70.79706652367308, 70.5616037653515, 63.741789363780256, 62.85884438688557, 57.26264051437481, 49.231972164849765, 48.931098264379344, 45.67816407027415, 44.48612944964172, 37.97924483841671, 37.52482961332492, 36.91765202431804, 36.64203895649853, 36.448437698890466, 38.842724703552534, 34.61407697856185, 33.48727778495574, 139.60915889633662, 187.63784058342182, 291.9718630652493, 54.930512511181064, 54.19519009017855, 417.4703122022332, 252.67845641731464, 109.52627838869373, 83.9975737812401, 798.2339814531612, 442.9692300607939, 253.74952218079767, 223.88803916317417, 147.40244300314887, 917.5848105653354, 106.11766364883077, 92.39351695307525, 72.9760533603786, 68.63351706474535, 73.20631446260879, 56.73619048142903, 54.12032614216982, 42.837493542180155, 40.927844578377076, 39.03120562506813, 38.258434116691895, 35.872312715892086, 31.139307990873263, 30.95716415635477, 30.638678416654884, 30.309917185767237, 30.183656087175237, 29.938373506055477, 28.72532974903194, 28.430944017198293, 25.529424071590448, 25.328190177627604, 25.168598997503537, 23.052564946774496, 22.747637821265236, 22.380900800786424, 87.94707646440028, 312.2005103654119, 57.48919095265133, 112.85547712601745, 235.39868022388748, 102.22528458752618, 352.4622335743327, 97.65574131120852, 92.757579182598, 339.1605519768407, 1602.7849655813059, 152.03845836684778, 98.99856760502306, 129.86783230671853, 412.6822662425915, 584.0708089649776, 1076.4468389338008, 791.9833616799668, 163.13525831120228, 165.26219900617647], \"loglift\": [30.0, 29.0, 28.0, 27.0, 26.0, 25.0, 24.0, 23.0, 22.0, 21.0, 20.0, 19.0, 18.0, 17.0, 16.0, 15.0, 14.0, 13.0, 12.0, 11.0, 10.0, 9.0, 8.0, 7.0, 6.0, 5.0, 4.0, 3.0, 2.0, 1.0, 2.026, 2.023, 2.0224, 2.0218, 2.0214, 2.0211, 2.0203, 2.019, 2.016, 2.0141, 2.0138, 2.0126, 2.0125, 2.0123, 2.0114, 2.0111, 2.0101, 2.0056, 2.0054, 2.0048, 2.0045, 2.0045, 2.0032, 2.0008, 2.0005, 2.0003, 1.9992, 1.999, 1.9987, 1.9985, 1.9846, 1.9045, 1.698, 1.8658, 1.8629, 1.9429, 1.8099, 1.7726, 1.3936, 1.6854, 1.3415, 1.4663, 1.2543, 1.5524, 1.241, 1.7937, 1.1656, 0.3157, 0.8387, 0.5174, 0.655, -0.4467, 2.0582, 2.0563, 2.0557, 2.0557, 2.055, 2.0544, 2.0528, 2.0523, 2.0522, 2.0509, 2.0501, 2.0493, 2.0487, 2.0482, 2.0463, 2.0458, 2.0455, 2.0455, 2.0452, 2.0437, 2.0434, 2.0429, 2.0425, 2.042, 2.042, 2.0418, 2.0415, 2.0415, 2.0407, 2.0407, 1.9663, 2.0397, 1.8653, 1.8656, 1.896, 1.5666, 1.5711, 1.4423, 1.5328, 1.7454, 1.4977, 1.1031, 1.1202, 0.9009, 1.1803, 1.5436, 0.8318, 1.1837, 0.6246, 0.7231, 0.1075, 1.3613, 0.7646, 2.1379, 2.1361, 2.1361, 2.1357, 2.1355, 2.1349, 2.1317, 2.131, 2.129, 2.1288, 2.1278, 2.1274, 2.1267, 2.1261, 2.1253, 2.1249, 2.1246, 2.1243, 2.1235, 2.1219, 2.1189, 2.1187, 2.1184, 2.1176, 2.1172, 2.1169, 2.1167, 2.1166, 2.115, 2.1146, 1.9497, 2.0713, 1.9893, 1.8725, 1.9921, 1.6284, 1.8449, 1.7821, 1.726, 1.8171, 1.299, 1.4075, 1.4954, 1.413, 1.5482, 1.0909, 0.7867, 1.2415, 0.5963, 1.2205, 0.8094, 1.604, 1.199, 0.024, 0.6219, 2.1877, 2.186, 2.185, 2.1849, 2.1833, 2.1833, 2.1832, 2.1828, 2.1828, 2.1825, 2.1809, 2.1808, 2.1807, 2.1799, 2.1797, 2.1793, 2.1788, 2.1787, 2.177, 2.175, 2.1734, 2.1733, 2.1687, 2.167, 2.1663, 2.1661, 2.166, 2.1659, 2.1659, 2.1652, 2.1487, 2.1079, 2.099, 2.085, 2.0896, 2.0328, 1.8214, 1.929, 1.8934, 1.435, 1.0987, 1.6021, 0.7262, 1.3721, 0.8265, 1.4624, 0.7508, 0.1779, 1.0324, 2.2427, 2.2396, 2.2395, 2.2391, 2.2388, 2.2386, 2.238, 2.2376, 2.237, 2.2365, 2.2358, 2.2357, 2.2351, 2.2341, 2.2329, 2.2324, 2.2319, 2.2314, 2.2302, 2.2293, 2.2293, 2.2279, 2.227, 2.2268, 2.2266, 2.2262, 2.2254, 2.2253, 2.2247, 2.2238, 2.1033, 2.1222, 2.0821, 1.8445, 1.9754, 1.9591, 1.5693, 1.4576, 1.8742, 1.8389, 1.6878, 1.9637, 1.2177, 1.6303, 0.5116, 1.7901, 0.491, 0.7861, 2.3043, 2.3036, 2.3023, 2.3005, 2.2993, 2.2989, 2.2978, 2.2975, 2.2957, 2.2955, 2.2947, 2.2943, 2.2941, 2.2941, 2.2937, 2.2935, 2.2933, 2.293, 2.2929, 2.2928, 2.2918, 2.29, 2.2899, 2.2894, 2.2894, 2.2888, 2.2886, 2.2873, 2.2868, 2.2867, 2.2743, 2.2471, 2.0611, 2.0508, 2.0714, 1.8803, 2.0287, 1.9345, 1.9291, 1.6095, 1.5636, 1.2316, 1.4659, 1.2642, 0.9257, 0.7023, 1.9432, 1.4537, 1.5063, 0.339, 1.5873, 0.8182, 1.076, 2.4829, 2.4815, 2.4802, 2.4799, 2.4796, 2.4774, 2.4753, 2.4726, 2.4708, 2.4697, 2.4694, 2.4681, 2.4674, 2.4671, 2.4653, 2.4651, 2.4641, 2.4579, 2.4567, 2.4565, 2.4548, 2.4548, 2.4522, 2.4518, 2.4514, 2.4507, 2.4507, 2.4486, 2.4475, 2.4466, 2.4078, 2.362, 2.3711, 2.2557, 2.381, 2.0873, 2.215, 2.234, 2.0736, 2.2137, 2.0939, 2.1719, 1.9841, 1.8404, 2.0863, 1.5117, 0.6399, 1.9057, 1.9281, 1.1045, 1.2329, 0.5181, 0.5157, 1.4224, 0.8528, 0.5655, 2.491, 2.4872, 2.4842, 2.4839, 2.4836, 2.4834, 2.4826, 2.4824, 2.4823, 2.4809, 2.4803, 2.4801, 2.4794, 2.4778, 2.4777, 2.4769, 2.4756, 2.4756, 2.474, 2.4736, 2.4724, 2.4718, 2.4716, 2.4713, 2.4712, 2.471, 2.4693, 2.4687, 2.4666, 2.4658, 2.4628, 2.4442, 2.3822, 2.2517, 2.1887, 2.13, 2.1221, 2.0304, 1.9937, 1.731, 2.221, 1.5929, 1.5045, 1.8111, 2.1692, 1.794, 1.5833, 1.3616, 1.6852, 1.2159, 0.3553, 1.6773, 0.1345, -0.0269, 2.6347, 2.634, 2.6336, 2.6335, 2.6305, 2.63, 2.6276, 2.6271, 2.6266, 2.6259, 2.6258, 2.6251, 2.6245, 2.6245, 2.6245, 2.6232, 2.6229, 2.6216, 2.6191, 2.619, 2.6177, 2.6172, 2.6137, 2.6134, 2.6131, 2.6129, 2.6127, 2.6117, 2.6115, 2.6106, 2.6061, 2.3965, 2.1959, 2.5284, 2.5258, 1.8587, 1.969, 2.1192, 2.039, -0.0873, 0.4417, 2.6739, 2.6734, 2.6713, 2.6712, 2.669, 2.6678, 2.6652, 2.6645, 2.6644, 2.6618, 2.661, 2.6567, 2.6557, 2.6546, 2.6542, 2.6526, 2.6488, 2.6486, 2.6483, 2.648, 2.6479, 2.6477, 2.6464, 2.6461, 2.6424, 2.6422, 2.6419, 2.6386, 2.6381, 2.6374, 2.6213, 2.1864, 2.4617, 2.2955, 2.0901, 2.2578, 1.7121, 2.1388, 2.0819, 1.4042, 0.5777, 1.806, 2.0297, 1.8787, 1.2208, 0.8844, 0.4385, 0.5337, 1.5792, 1.5138], \"logprob\": [30.0, 29.0, 28.0, 27.0, 26.0, 25.0, 24.0, 23.0, 22.0, 21.0, 20.0, 19.0, 18.0, 17.0, 16.0, 15.0, 14.0, 13.0, 12.0, 11.0, 10.0, 9.0, 8.0, 7.0, 6.0, 5.0, 4.0, 3.0, 2.0, 1.0, -3.4078, -4.3499, -4.4648, -4.5655, -4.639, -4.6707, -4.7836, -4.9408, -5.2375, -5.3854, -5.4101, -5.4906, -5.4987, -5.5094, -5.5666, -5.585, -5.6435, -5.8722, -5.8793, -5.9074, -5.919, -5.9207, -5.1437, -6.0646, -6.079, -6.0872, -6.0921, -6.134, -6.1415, -6.1491, -4.9238, -2.6714, -2.4797, -4.447, -4.8853, -5.5995, -4.8682, -4.8166, -3.3787, -4.6465, -3.7902, -4.1742, -3.6206, -4.6111, -4.8841, -5.4237, -5.0628, -4.9086, -5.2349, -5.2134, -5.3394, -5.3192, -2.9173, -4.1763, -4.298, -4.2997, -4.4392, -4.5402, -4.7794, -4.8173, -4.6904, -4.9725, -5.0811, -5.1481, -5.2046, -5.2419, -5.3868, -5.422, -5.4438, -5.4458, -5.4616, -5.5583, -5.5738, -5.6068, -5.6287, -5.652, -5.6562, -5.6662, -5.6788, -5.6792, -5.7223, -5.7247, -3.6706, -5.6964, -2.6889, -3.6421, -5.1137, -4.2817, -4.3085, -4.0807, -4.3523, -4.8866, -4.4976, -3.8009, -3.9496, -3.9818, -4.3543, -4.8201, -4.2018, -4.5412, -4.1477, -4.3809, -4.765, -5.0138, -4.9838, -3.4343, -4.0206, -4.0298, -4.1189, -4.1644, -4.2916, -4.7785, -4.8559, -5.046, -5.0781, -5.1598, -5.1938, -5.2431, -5.287, -4.4313, -5.3728, -5.3938, -5.4135, -5.462, -5.5561, -5.7102, -5.7174, -5.7327, -5.7673, -5.7874, -5.7985, -5.8075, -5.8147, -5.8798, -5.8958, -4.0539, -5.4606, -4.9341, -4.2386, -5.0181, -3.4415, -4.5556, -4.6192, -4.5124, -4.799, -3.9253, -4.223, -4.7335, -4.6606, -4.8428, -4.4437, -4.2469, -4.6436, -4.2761, -4.7012, -4.6544, -4.9503, -4.9261, -4.8509, -4.9172, -3.823, -4.2486, -4.4192, -4.449, -4.2373, -4.6664, -4.6869, -4.7205, -4.7297, -4.7354, -4.9367, -3.4823, -4.9547, -5.0272, -5.048, -4.9476, -5.1242, -5.1285, -5.2598, -5.3913, -5.4844, -5.2805, -5.7197, -5.795, -5.8212, -5.83, -5.8344, -5.8381, -5.8375, -5.8673, -4.5926, -4.6053, -5.0654, -5.2087, -5.3932, -5.1121, -4.3418, -5.0818, -5.0054, -4.2115, -4.0885, -4.6915, -4.0461, -4.7239, -4.4798, -4.8664, -4.7129, -4.6969, -4.8892, -3.4946, -4.2824, -4.2983, -3.7886, -4.4096, -4.4519, -4.5292, -4.5841, -4.6656, -4.694, -4.7987, -4.8069, -4.8675, -4.9612, -5.0597, -5.1031, -5.1422, -5.1771, -5.2585, -5.3212, -5.3224, -5.4057, -5.4531, -5.4643, -5.4776, -5.4988, -5.5411, -5.5465, -5.5752, -5.6169, -4.2633, -4.4795, -4.4553, -3.2595, -4.4386, -4.557, -3.3031, -3.4251, -4.5212, -4.508, -4.2758, -4.836, -3.6863, -4.6413, -4.0426, -4.8386, -4.7333, -4.8357, -3.8353, -4.0158, -4.254, -4.5189, -4.6724, -4.7174, -4.8254, -4.857, -5.0107, -5.0297, -5.0882, -5.1196, -5.128, -5.1351, -5.1591, -5.174, -5.1862, -5.2063, -5.211, -5.223, -5.2864, -5.3895, -5.3937, -5.4191, -5.4129, -5.4527, -5.4658, -5.5265, -5.5505, -5.5576, -4.2398, -5.1368, -4.077, -4.1509, -4.3558, -3.4261, -4.4258, -4.2339, -4.4659, -4.1213, -4.0829, -3.802, -4.2826, -4.4606, -4.2615, -4.4293, -4.9976, -4.8232, -4.8792, -4.565, -4.9291, -4.8223, -4.9184, -2.8298, -3.4404, -3.7854, -3.8588, -3.9108, -4.2815, -4.5322, -4.7898, -4.9363, -5.0112, -5.0331, -5.1112, -5.1551, -5.1728, -5.255, -5.2793, -5.2201, -5.5988, -5.6422, -5.6494, -5.7014, -5.712, -5.7955, -5.8084, -5.8213, -5.8404, -5.8407, -5.9019, -5.9342, -5.9566, -5.1124, -4.8663, -5.1006, -4.4729, -5.3459, -3.4519, -4.3987, -4.5271, -4.0162, -4.6774, -4.2084, -4.6089, -3.9841, -3.5983, -4.5325, -4.3019, -3.5379, -4.8839, -4.9152, -4.5878, -4.7923, -4.6136, -4.6716, -4.8711, -4.8957, -4.8982, -3.4462, -4.2518, -4.5979, -4.635, -4.6652, -4.6825, -4.7537, -4.7724, -4.7739, -4.8915, -4.9321, -4.9463, -4.9987, -5.0975, -5.1089, -5.1555, -5.225, -5.2257, -5.311, -5.3301, -5.3887, -5.4159, -5.4005, -5.4372, -5.44, -5.4515, -5.5233, -5.5448, -5.6271, -5.6553, -5.5795, -5.2856, -5.0203, -4.8195, -4.7358, -4.5942, -4.6788, -4.5237, -4.4576, -4.2337, -5.0214, -4.1945, -4.1173, -4.5295, -4.9663, -4.6266, -4.4898, -4.602, -4.8292, -4.6984, -4.5488, -4.8609, -4.7403, -4.9096, -2.9565, -3.198, -3.3604, -3.3885, -4.0121, -4.0704, -4.3902, -4.4437, -4.4891, -4.5566, -4.5684, -4.6301, -4.6724, -4.6729, -4.6763, -4.7793, -4.7935, -4.888, -5.0416, -5.0479, -5.118, -5.1449, -5.3065, -5.3188, -5.3355, -5.3432, -5.3486, -5.2861, -5.4015, -5.4355, -4.0123, -3.9262, -3.6847, -5.0228, -5.0388, -3.6643, -4.0561, -4.7419, -5.0875, -4.9622, -5.0221, -3.3471, -3.4727, -3.8928, -2.0643, -4.2237, -4.3634, -4.6019, -4.664, -4.5996, -4.8571, -4.905, -5.1432, -5.1897, -5.2383, -5.2587, -5.3247, -5.47, -5.476, -5.4867, -5.4978, -5.5021, -5.5105, -5.5531, -5.5637, -5.675, -5.6832, -5.6897, -5.7809, -5.7947, -5.8116, -4.4593, -3.6272, -5.0439, -4.5356, -4.0058, -4.6723, -3.9802, -4.837, -4.9454, -4.3266, -3.6, -4.7272, -4.9325, -4.812, -4.3138, -4.3028, -4.1373, -4.349, -4.8835, -4.9359]}, \"token.table\": {\"Topic\": [1, 5, 10, 2, 10, 8, 4, 1, 3, 9, 9, 2, 9, 2, 5, 6, 10, 9, 6, 9, 2, 5, 5, 1, 8, 4, 7, 5, 7, 8, 3, 8, 3, 1, 4, 5, 2, 3, 6, 9, 7, 3, 8, 9, 6, 4, 7, 8, 7, 10, 10, 7, 9, 3, 5, 6, 2, 6, 7, 10, 5, 10, 4, 9, 8, 7, 10, 10, 2, 2, 3, 5, 7, 6, 10, 1, 9, 3, 8, 8, 1, 9, 2, 5, 6, 1, 2, 3, 8, 3, 10, 5, 4, 5, 3, 3, 7, 4, 10, 10, 4, 7, 3, 9, 9, 9, 7, 6, 2, 1, 8, 5, 7, 1, 2, 1, 4, 9, 2, 5, 7, 10, 2, 5, 3, 6, 1, 6, 7, 10, 2, 3, 10, 3, 2, 3, 5, 8, 5, 2, 6, 7, 1, 3, 5, 6, 7, 9, 1, 5, 8, 5, 1, 2, 3, 5, 8, 10, 7, 4, 6, 7, 4, 1, 4, 8, 9, 1, 3, 3, 6, 1, 2, 3, 4, 6, 5, 3, 8, 9, 10, 2, 8, 5, 7, 1, 6, 6, 6, 1, 3, 7, 9, 7, 4, 3, 10, 1, 10, 10, 1, 5, 7, 8, 2, 3, 5, 6, 8, 10, 5, 9, 3, 2, 8, 3, 4, 10, 7, 2, 4, 5, 7, 10, 7, 10, 2, 3, 7, 10, 2, 4, 4, 7, 8, 3, 4, 6, 9, 2, 1, 3, 5, 7, 3, 1, 3, 3, 4, 6, 1, 6, 4, 8, 9, 8, 5, 8, 2, 2, 3, 6, 8, 2, 3, 5, 8, 2, 5, 4, 4, 6, 2, 3, 6, 2, 3, 5, 8, 3, 4, 1, 9, 4, 6, 9, 9, 1, 8, 7, 7, 9, 5, 5, 3, 3, 9, 10, 3, 5, 6, 3, 9, 4, 10, 10, 3, 9, 4, 10, 4, 5, 1, 3, 1, 2, 4, 8, 8, 3, 8, 1, 2, 3, 5, 5, 9, 1, 6, 4, 4, 5, 4, 2, 4, 8, 3, 8, 10, 1, 6, 6, 1, 3, 4, 5, 6, 7, 3, 7, 9, 5, 1, 3, 8, 1, 1, 3, 8, 2, 5, 8, 4, 9, 2, 5, 6, 2, 5, 4, 2, 3, 5, 6, 1, 8, 4, 6, 9, 1, 4, 10, 4, 1, 2, 5, 6, 7, 7, 3, 6, 7, 4, 7, 1, 2, 4, 9, 10, 2, 10, 5, 9, 2, 8, 4, 10, 8, 1, 1, 7, 2, 5, 5, 9, 1, 1, 4, 4, 6, 3, 1, 2, 3, 4, 6, 8, 3, 6, 1, 6, 10, 10, 5, 7, 7, 2, 5, 2, 1, 2, 4, 6, 7, 1, 2, 1, 6, 8, 3, 2, 5, 6, 8, 9, 4, 5, 6, 6, 3, 8, 8, 5, 9, 2, 2, 4, 10, 9, 5, 7, 5, 10, 5, 8, 9, 8, 3, 4, 5, 8, 3, 6, 6, 7, 6, 8, 1, 4, 10, 2, 10, 1, 2, 3, 6, 4, 7, 2, 3, 6, 1, 6, 1, 2, 4, 7, 9, 10, 1, 10, 5, 10, 7, 4, 6, 8, 1, 3, 5, 7, 9, 7, 1, 2, 3, 6, 3, 2, 7, 9, 5, 2, 7, 10, 10, 4, 7, 1, 3, 6, 1, 3, 6, 9, 10, 8, 10, 2, 3, 4, 1, 4, 9, 1, 1, 3, 4, 2, 5, 7, 10, 3, 9, 6, 4, 5, 2, 2, 2, 6, 6, 6, 7, 4, 3, 8, 3, 4, 2, 8, 5, 5, 10, 2, 1, 9, 4, 2, 1, 2, 3, 5, 8, 8, 4, 10, 2, 9, 10, 6, 8, 2, 8, 1, 5, 4, 4, 2, 5, 6, 8, 10, 4, 5, 4, 9, 1, 3, 9, 10, 2, 2, 5, 6, 8, 2, 4, 10, 5, 1, 8, 3, 5, 7, 8, 7, 7, 5, 8, 3, 4, 8, 9, 2, 3, 5, 7, 10, 1, 3, 5, 6, 9, 10, 4, 7, 3, 1, 3, 6, 10, 2, 6, 7, 3, 6, 8, 7, 8, 6, 2, 4, 6, 7, 8, 10, 3, 10, 1, 2, 3, 4, 6, 8, 9, 2, 3, 4, 5, 7, 8, 9, 3, 1, 5, 7, 9, 10, 9, 7, 8, 3, 8, 3, 1, 6, 3, 4, 6, 8, 3, 5, 9, 4, 10, 1, 1, 1, 3, 10, 1, 3, 5, 8, 9, 10, 2, 9, 10, 1, 6, 9, 2, 5, 7, 5, 5, 5, 7, 6, 6, 3, 10, 2, 3, 10, 3, 6, 7, 7, 8, 3, 5, 6, 7, 8, 2, 3, 9, 1, 4, 9, 10, 4, 7, 9, 1, 7, 10, 6], \"Freq\": [0.3037599114850258, 0.6877582901547753, 0.9894676945345368, 0.9851949851758508, 0.9792993460677452, 0.965527363204536, 0.9841728315988537, 0.2534514537417695, 0.7430735802883696, 0.9824780777821681, 0.9783041815427675, 0.5389604803586712, 0.45991294323939935, 0.054597640300424535, 0.6660912116651794, 0.03275858418025472, 0.24568938135191043, 0.9749761768485611, 0.02148856152215326, 0.9669852684968968, 0.9855733494422302, 0.9726658819034474, 0.9831244132592516, 0.9937848910164122, 0.9708169210479226, 0.9744074839410728, 0.9929929638857142, 0.9835137657301706, 0.9717403440021638, 0.9785862786211881, 0.9919528559956426, 0.9889832958668431, 0.9977200657514212, 0.1519079177066365, 0.303815835413273, 0.5418049064870035, 0.3081230510009117, 0.5534802953164525, 0.1369435782226274, 0.9946450737897918, 0.9819915042950974, 0.3008852077498397, 0.6877376177139193, 0.00859672022142399, 0.9916590788341977, 0.05294722943462611, 0.9177519768668526, 0.9656661757585042, 0.9958831128899346, 0.9972697670747541, 0.9671070145512608, 0.9538382581405739, 0.9951704298805518, 0.8249914243041278, 0.170420763706017, 0.9829410867546222, 0.19968268725969612, 0.38726339347335004, 0.09681584836833751, 0.31465150719709695, 0.9708737655881418, 0.9567825547744373, 0.9936331451642183, 0.974216316238437, 0.9938556462924837, 0.9738012179116431, 0.9747494717947882, 0.9792622007411597, 0.9918754722380067, 0.6124436311752719, 0.09580123839613192, 0.21555278639129682, 0.07185092879709894, 0.9852643915848112, 0.9829809888271771, 0.9974284684013324, 0.9863369364285552, 0.9836007557696937, 0.9842747180778455, 0.9871898471574481, 0.9925174459960037, 0.9974898016776809, 0.12788701816577533, 0.17812834673090133, 0.6896764193940026, 0.3032358368692498, 0.045693071309065046, 0.48185420653195865, 0.16615662294205472, 0.46465318754436225, 0.5252601250501486, 0.9947742067978078, 0.9692372791906702, 0.9912775220043816, 0.9850200517857968, 0.9285955940860617, 0.05357282273573433, 0.9795039861944714, 0.954340658004663, 0.9607848670235094, 0.261202427315821, 0.7330519734347234, 0.09225910992617993, 0.8856874552913273, 0.9884600745590107, 0.9936555441911716, 0.9667886601290951, 0.9892081954481928, 0.9934904041909405, 0.9880711394982972, 0.9832622638536598, 0.9804818306761083, 0.974740615103674, 0.9742637173815123, 0.9918080913393797, 0.9916793642564561, 0.9954008108826528, 0.9882547644234239, 0.9870082274755829, 0.9891359400318078, 0.9606957367572772, 0.9756828414493154, 0.9773526673488478, 0.991829732254419, 0.9870489250585774, 0.9693942315278825, 0.9794676887665846, 0.08680341891801299, 0.9114358986391365, 0.986625018544665, 0.41436236540263455, 0.35135990048761406, 0.23262448584007553, 0.9932403167416277, 0.5685126509464479, 0.11908035256310731, 0.14212816273661197, 0.1651759729101166, 0.9930646336000742, 0.9881745184482089, 0.9932376606202427, 0.9842199958396747, 0.5036915516177889, 0.10041439292701901, 0.03725050060195866, 0.20082878585403802, 0.13928448051167153, 0.017815456809632403, 0.21703111835241096, 0.27671467589932397, 0.5045973501693555, 0.9747172463752128, 0.08373068429888547, 0.14121742277274713, 0.21370070171805097, 0.5086326643230804, 0.02249481070716326, 0.02874336923693083, 0.9883284155164755, 0.46885333317018363, 0.4742736029178158, 0.05420269747632181, 0.972178500241982, 0.8494876057993711, 0.021105282131661393, 0.12135537225705302, 0.9860138042268803, 0.9944523374869786, 0.9988223362743764, 0.8584250097522795, 0.12717407551885623, 0.2532987542181325, 0.1304872370214622, 0.17654155597021357, 0.14967653658344193, 0.291677353342092, 0.9823432067568323, 0.1826045794144739, 0.1552138925023028, 0.5934648830970402, 0.06391160279506587, 0.3626846784675019, 0.6313399958508367, 0.98845799015956, 0.993568837589578, 0.9898082591982031, 0.9801286235774139, 0.9767410524375099, 0.9761663911689744, 0.271558676549123, 0.7217743771437217, 0.7765704381159444, 0.2147960786278144, 0.9617894095699419, 0.9954274133146593, 0.17394574239592447, 0.8001504150212526, 0.005449087585614498, 0.9939135756160845, 0.9970462124446342, 0.1458062477602377, 0.17945384339721562, 0.6056567214656028, 0.06729519127395586, 0.3131378915258254, 0.012626527884105863, 0.45455500382781105, 0.02020244461456938, 0.08080977845827753, 0.11742670932218452, 0.9919314396332497, 0.003967725758532999, 0.9644936408589724, 0.9925384324310166, 0.9678693077856827, 0.06847620946466076, 0.2641225222208344, 0.6554151477331815, 0.9966397108269693, 0.12199888641666766, 0.15888227068217184, 0.08511550215116348, 0.2525093230484517, 0.3801825762751969, 0.9816249096203062, 0.9957408596830976, 0.9697451153729915, 0.2959969923830275, 0.5740547731064776, 0.12557448161704196, 0.9796108052805026, 0.9903794958540699, 0.9885903113629887, 0.9657599560111568, 0.9924484206317847, 0.044362135891793934, 0.2546000842485565, 0.6519305187576674, 0.048219712925862974, 0.98796337160519, 0.09980860513076531, 0.21909206004314336, 0.007303068668104778, 0.6718823174656396, 0.9939863758950256, 0.795304829346923, 0.19556676131481715, 0.2669541368546435, 0.02966157076162705, 0.6921033177712979, 0.9771163068726698, 0.9909189762168146, 0.9728730606335013, 0.692713251097809, 0.3025644085254798, 0.9802083070200838, 0.5553247099817387, 0.4429375662949582, 0.9927798750172149, 0.5940629259033161, 0.1276957691194044, 0.19987163862167642, 0.07217586950227205, 0.14352916286768494, 0.23713513865095773, 0.21217354510875167, 0.40562589506084873, 0.9949830175245384, 0.9759885248739187, 0.9857702841989817, 0.9879515680089842, 0.9877980848679879, 0.9932506700495273, 0.2171260112425976, 0.7798811832387179, 0.17978924366544452, 0.21416071671913242, 0.23266843297881054, 0.37279828465923054, 0.9957008562089245, 0.9912165418599885, 0.7722188748811604, 0.22262165762339758, 0.7395290200161199, 0.24650967333870663, 0.9822593282223826, 0.9980628677242198, 0.991108884314359, 0.9824631862603485, 0.9977335928467362, 0.9718074724578883, 0.9887415317779225, 0.991205318438937, 0.9972058769297403, 0.99345994486294, 0.9695402793803364, 0.9890723365764599, 0.987024323008257, 0.6612905333371643, 0.3330944908661272, 0.9939949375701037, 0.8648549258047054, 0.1360445950704031, 0.44180366644828123, 0.5565026952377389, 0.9735799699611166, 0.9876797956608957, 0.9809712371598828, 0.9150160874144951, 0.07419049357414825, 0.11270440757295444, 0.8875472096370163, 0.9890204062760218, 0.979744601605262, 0.5302435452345526, 0.23742248294084445, 0.2306389834282489, 0.9807268597875121, 0.9684800087409315, 0.9976414197974501, 0.9814010782033045, 0.003150777011527287, 0.26308988046252846, 0.06301554023054574, 0.6695401149495485, 0.9839804271397721, 0.9876966551325157, 0.9855089612291914, 0.9814907658812575, 0.9657972289266104, 0.9882674208284703, 0.9920022549108775, 0.99048336855988, 0.04706829690222083, 0.04706829690222083, 0.8942976411421958, 0.26428318181137156, 0.7207723140310134, 0.9773297473166405, 0.23710304708361485, 0.7538660984196985, 0.9920051995376716, 0.1812233385888729, 0.4317379536970207, 0.028427190366882026, 0.17233984159922228, 0.11193206206959798, 0.07462137471306532, 0.3185301259269841, 0.6788346945984908, 0.9893310853821111, 0.9897534257761155, 0.2532705882198111, 0.34046210219712314, 0.40274175503806026, 0.993450969287534, 0.9664034658671572, 0.9878890659122828, 0.9730560854495819, 0.10419812925796444, 0.5730897109188045, 0.3237584730515324, 0.4404889133626801, 0.5476348652617103, 0.6101637279669486, 0.17906978972943058, 0.20891475468433565, 0.8474644220013704, 0.1483062738502398, 0.9899851388804765, 0.13259446750054182, 0.697562198589807, 0.06917972217419573, 0.09800460641344395, 0.9868029257925703, 0.9860452915208286, 0.15581361776889852, 0.7743464640636168, 0.07082437171313569, 0.008266609408436104, 0.9892375925428537, 0.9475607941857292, 0.9923517282243559, 0.002931049784479555, 0.4162090693960968, 0.10844884202574352, 0.3517259741375466, 0.11724199137918219, 0.9963154713185997, 0.3152936554967192, 0.01433152979530542, 0.6735819003793547, 0.10088374486022217, 0.8911397462652958, 0.06177420663705248, 0.4941936530964198, 0.26394433744922424, 0.1740909459771479, 0.9535691677705441, 0.5467096719710699, 0.4466079010467895, 0.7555939051201712, 0.2404162425382363, 0.22727138790487358, 0.7620275947398703, 0.9214522156960537, 0.07088093966892721, 0.9624134856443061, 0.9585840213803526, 0.8481517263539904, 0.1467954910997291, 0.8227653387332999, 0.17637179636934827, 0.852063401050125, 0.1453131381635872, 0.9684964061152237, 0.7099939998758149, 0.2850733484349863, 0.9929726973037328, 0.9840216797394608, 0.9828879225399205, 0.057265691750471956, 0.29220186303445944, 0.25842978841238623, 0.033772074622073205, 0.34065744836178186, 0.017620212846299062, 0.9830675689888768, 0.006733339513622444, 0.22113420786365898, 0.49828908171944486, 0.2801033299606347, 0.990769567234217, 0.9884192673597177, 0.9541148668310788, 0.9775463389935747, 0.9974982193019342, 0.0013854141934749086, 0.9944616260535251, 0.07202499297016447, 0.27309476501187363, 0.024008330990054824, 0.43214995782098686, 0.19506768929419546, 0.9773740409355351, 0.9841518412464656, 0.21343829047822568, 0.48508702381414925, 0.29105221428848954, 0.9796432428238452, 0.448252858896411, 0.06808904185768268, 0.448252858896411, 0.03404452092884134, 0.9906513259474768, 0.1745875387830487, 0.7500797962530981, 0.07112825654124207, 0.9848957331997528, 0.49958811282120963, 0.49371060561154834, 0.9967375615658274, 0.9785972379764922, 0.9909144196607071, 0.9868047783298005, 0.8232154465799392, 0.17454998007712177, 0.9671333864579855, 0.9854488684304268, 0.2258006664622042, 0.7620772493099391, 0.7649105487383634, 0.23356047289721021, 0.9881888291790034, 0.7393110566542984, 0.25292220359226, 0.9895934262582706, 0.18766438866765783, 0.48256557085969154, 0.07506575546706314, 0.2520064647822834, 0.9849956493429151, 0.9962571860932807, 0.9679428183232783, 0.025811808488620757, 0.9828673767976331, 0.990651118391563, 0.24993676210732982, 0.3288641606675392, 0.4209461256544502, 0.7260453011753591, 0.2613763084231293, 0.07126575983266963, 0.17307398816505482, 0.33087674208025186, 0.4275945589960178, 0.4335428017676248, 0.5610553905228085, 0.5882985305332995, 0.40596038949081487, 0.9740657613820807, 0.9572155326966132, 0.03828862130786453, 0.024519530856839458, 0.33714354928154255, 0.19615624685471567, 0.09194824071314797, 0.012259765428419729, 0.33101366656733267, 0.04548189844171958, 0.9437493926656813, 0.8686174366989805, 0.128065391308183, 0.9773626975360542, 0.9011183628314686, 0.08501116630485553, 0.9880309751540914, 0.9876840748046509, 0.17017675590428155, 0.02770319282162723, 0.28494712616530865, 0.5144878666873629, 0.9770862640878123, 0.45488052705358817, 0.15308479275841907, 0.3892727587285514, 0.9705552003167762, 0.9781279580872736, 0.9899826839693473, 0.9701908291810193, 0.9851534297825364, 0.9758537148155134, 0.006406139431543915, 0.377962226461091, 0.6117863157124439, 0.9686564967911274, 0.9849341217073938, 0.9759581267467574, 0.11240926061987266, 0.09466042999568224, 0.7868648243391086, 0.4219262480649144, 0.30553280032286906, 0.26673498440885396, 0.9984124391290795, 0.9804495204334139, 0.972407208892966, 0.9690810129920028, 0.28548788973335204, 0.3996830456266929, 0.3140366787066873, 0.9720169038741293, 0.012150211298426616, 0.9779500123809721, 0.9882068552235511, 0.805971410097869, 0.19008759672119552, 0.9734549726580213, 0.035443561108988025, 0.1240524638814581, 0.15063513471319911, 0.6822885513480196, 0.9835846970463176, 0.9920409438648945, 0.9916629204550846, 0.900625323022829, 0.08443362403339022, 0.9931901251127463, 0.9893979370669193, 0.9843767128999491, 0.9874471952018095, 0.9727271207043647, 0.10544806413364621, 0.883127537119287, 0.9948974831500278, 0.9949703893444574, 0.9908665619623064, 0.9682842978350753, 0.9699535659212136, 0.021766429008749463, 0.9577228763849764, 0.9841749852422019, 0.4096021336065468, 0.5836830403893292, 0.9910838873911867, 0.9656696829051478, 0.9883625895792352, 0.9957235294088945, 0.993424151543232, 0.1341175898747208, 0.10803916962130286, 0.03725488607631133, 0.25333322531891705, 0.46568607595389166, 0.9764627081744711, 0.9947619128752252, 0.9634125462515999, 0.0910240915553492, 0.8920360972424222, 0.9960335569220518, 0.20278585162894863, 0.7886116452236891, 0.9706191367849265, 0.988911037125095, 0.92033392395838, 0.07218305285948078, 0.9941869711638905, 0.996559056559542, 0.012910829447040835, 0.09683122085280627, 0.3292261508995413, 0.44542361592290886, 0.11619746502336752, 0.8487885590507201, 0.1333810592793989, 0.9556998924119487, 0.03239660652243894, 0.984337776598589, 0.22604917921577414, 0.6438976620085687, 0.13014952742726388, 0.9768249173358247, 0.3843653920923403, 0.3572792403005982, 0.13930020921467365, 0.11737332443088244, 0.9865623688543613, 0.4420123979226476, 0.5498202998550007, 0.9733959712470425, 0.9901531167713506, 0.9817050426526953, 0.20987374881366289, 0.6368582722621494, 0.14474051642321578, 0.9894889638649571, 0.9891676005630774, 0.9922745471817059, 0.9880778520572843, 0.9884677039169522, 0.5844836510120089, 0.09405484039273707, 0.12092765193351908, 0.18810968078547413, 0.0933471622094438, 0.4800711199342825, 0.22670025108007782, 0.0933471622094438, 0.10401540931909453, 0.571071914534269, 0.1023619469448218, 0.0026937354459163633, 0.2262737774569745, 0.03232482535099636, 0.06464965070199272, 0.7741073551197195, 0.22268841722622068, 0.9854392868038692, 0.9842314307994707, 0.0461995650422976, 0.9393911558600512, 0.9791545050354488, 0.9967279599053199, 0.9846398305770494, 0.9924009874684163, 0.23636512714985966, 0.15151610714734592, 0.6060644285893837, 0.9827733203093221, 0.9827753857105063, 0.9839082666365331, 0.0017121211754651526, 0.33557575039116994, 0.2516818127933774, 0.14039393638814252, 0.10443939170337431, 0.16607575402011981, 0.9831697828253575, 0.9848424302429912, 0.46101770727684, 0.06764933748084065, 0.12026548885482784, 0.13404590945277686, 0.05637444790070054, 0.09395741316783425, 0.06514380646303174, 0.04514986288608616, 0.26412669788360404, 0.23703678015195234, 0.10384468463799816, 0.14673705437978002, 0.09029972577217232, 0.11061716407091109, 0.9873554354101627, 0.6225961816390405, 0.13633493028592128, 0.05907846979056589, 0.09997894887634227, 0.0772564604953554, 0.9751432722830377, 0.7628081413376495, 0.2281295375963064, 0.7633591839074884, 0.23288924254804727, 0.9865872590822128, 0.9648251347606612, 0.9899023571715052, 0.11456750633211472, 0.011456750633211473, 0.6816766626760826, 0.18903638544798929, 0.5240343276831138, 0.2620171638415569, 0.21349546683386117, 0.9932899665739989, 0.005877455423514787, 0.992902355093607, 0.9990084270799303, 0.8834621140621739, 0.009289822440191102, 0.10683295806219768, 0.1841874880792697, 0.293991567511142, 0.14876681729479477, 0.27982329919735205, 0.060215140333607406, 0.035420670784474945, 0.9926716657344071, 0.7887534813863984, 0.20784720117614552, 0.9789988224800682, 0.9911906398119306, 0.9931510021112625, 0.9099587185038649, 0.07784307621419494, 0.01073697602954413, 0.9964399318482129, 0.9952066489361708, 0.9852717900097511, 0.9498639934961084, 0.9896398079469522, 0.9898116867865624, 0.9658927961863267, 0.983521715695373, 0.3897679301815182, 0.5998772050449928, 0.009135185863629332, 0.2575464889187706, 0.07599732459898148, 0.6628655534466718, 0.7917144395221188, 0.19992788876821183, 0.19154918817295458, 0.18494404375319753, 0.061648014584399176, 0.524008123967393, 0.03302572209878527, 0.9815216351774408, 0.9929969877719048, 0.9973644615886497, 0.09996507272868141, 0.6906677752163443, 0.09542120578646862, 0.109052806613107, 0.5538260058853932, 0.3467882466759004, 0.09834293562450908, 0.7187489430824471, 0.1578502453123777, 0.1222871465661108, 0.9834239111229852], \"Term\": [\"able\", \"able\", \"according\", \"adapter\", \"additional\", \"adjustable\", \"ago\", \"air\", \"air\", \"aluminum\", \"amana\", \"amazon\", \"amazon\", \"answer\", \"answer\", \"answer\", \"answer\", \"apart\", \"appliance\", \"appliance\", \"appliances\", \"asking\", \"away\", \"bag\", \"bake\", \"base\", \"based\", \"basket\", \"batteries\", \"battery\", \"bearing\", \"beer\", \"believe\", \"best\", \"best\", \"best\", \"better\", \"better\", \"better\", \"big\", \"bin\", \"bit\", \"bit\", \"bit\", \"black\", \"board\", \"board\", \"bottles\", \"bought\", \"box\", \"broken\", \"btu\", \"burner\", \"buy\", \"buy\", \"cabinet\", \"came\", \"came\", \"came\", \"came\", \"capacity\", \"cartridge\", \"case\", \"cast\", \"ceiling\", \"certified\", \"charcoal\", \"charge\", \"cheaper\", \"check\", \"check\", \"check\", \"check\", \"chimney\", \"chlorine\", \"clean\", \"cleaning\", \"clear\", \"clearance\", \"clock\", \"clothes\", \"com\", \"come\", \"come\", \"come\", \"comes\", \"comes\", \"comes\", \"comes\", \"company\", \"company\", \"compatible\", \"complete\", \"completely\", \"connected\", \"connection\", \"connection\", \"connector\", \"container\", \"contaminants\", \"control\", \"control\", \"cook\", \"cook\", \"cooking\", \"cooktop\", \"copper\", \"cord\", \"correct\", \"correctly\", \"counter\", \"cross\", \"cubes\", \"cup\", \"current\", \"cut\", \"cycle\", \"days\", \"dear\", \"deep\", \"defrost\", \"delivery\", \"depot\", \"depth\", \"description\", \"design\", \"detergent\", \"device\", \"device\", \"diameter\", \"did\", \"did\", \"did\", \"didn\", \"different\", \"different\", \"different\", \"different\", \"dimensions\", \"direct\", \"dishwasher\", \"dispenser\", \"does\", \"does\", \"does\", \"does\", \"does\", \"does\", \"doesn\", \"doesn\", \"doesn\", \"doing\", \"don\", \"don\", \"don\", \"don\", \"don\", \"don\", \"dont\", \"door\", \"door\", \"door\", \"doors\", \"drain\", \"drain\", \"drain\", \"drip\", \"dry\", \"dryer\", \"duct\", \"duct\", \"easy\", \"easy\", \"easy\", \"easy\", \"easy\", \"edge\", \"electric\", \"electric\", \"electric\", \"electric\", \"element\", \"element\", \"exact\", \"exactly\", \"exhaust\", \"experience\", \"extension\", \"factory\", \"fan\", \"fan\", \"far\", \"far\", \"faster\", \"faucet\", \"feel\", \"feel\", \"filter\", \"filter\", \"filters\", \"fine\", \"fine\", \"fine\", \"fine\", \"fit\", \"fit\", \"fit\", \"fit\", \"fit\", \"fit\", \"fits\", \"fits\", \"fittings\", \"food\", \"foot\", \"free\", \"free\", \"free\", \"freezer\", \"fridge\", \"fridge\", \"fridge\", \"fridge\", \"fridge\", \"frig\", \"frigidaire\", \"gallon\", \"gas\", \"gas\", \"gas\", \"gasket\", \"getting\", \"glass\", \"goedeker\", \"goes\", \"good\", \"good\", \"good\", \"good\", \"google\", \"great\", \"great\", \"great\", \"great\", \"guess\", \"half\", \"half\", \"handle\", \"handle\", \"handle\", \"hang\", \"hardware\", \"hear\", \"heat\", \"heat\", \"heating\", \"height\", \"height\", \"hello\", \"help\", \"help\", \"help\", \"help\", \"helps\", \"helps\", \"helps\", \"helps\", \"high\", \"higher\", \"highly\", \"hole\", \"holes\", \"home\", \"hood\", \"hood\", \"hope\", \"hope\", \"hope\", \"hope\", \"hose\", \"hoses\", \"hot\", \"hot\", \"house\", \"house\", \"html\", \"http\", \"humidifier\", \"humidity\", \"ice\", \"icemaker\", \"idea\", \"inch\", \"inches\", \"included\", \"including\", \"induction\", \"information\", \"inside\", \"inside\", \"install\", \"installation\", \"installation\", \"installed\", \"installed\", \"installing\", \"instructions\", \"iron\", \"issue\", \"issue\", \"item\", \"item\", \"items\", \"jeans\", \"just\", \"just\", \"just\", \"keg\", \"kegs\", \"kenmore\", \"knob\", \"know\", \"know\", \"know\", \"know\", \"larger\", \"later\", \"laundry\", \"lbs\", \"leak\", \"leaking\", \"leave\", \"left\", \"length\", \"length\", \"length\", \"level\", \"level\", \"lfx\", \"light\", \"light\", \"lights\", \"like\", \"like\", \"like\", \"like\", \"like\", \"like\", \"line\", \"line\", \"link\", \"listed\", \"little\", \"little\", \"little\", \"load\", \"loads\", \"local\", \"lock\", \"long\", \"long\", \"long\", \"longer\", \"longer\", \"look\", \"look\", \"look\", \"looked\", \"looked\", \"looking\", \"looks\", \"looks\", \"looks\", \"looks\", \"low\", \"lower\", \"luck\", \"luck\", \"luck\", \"machine\", \"machine\", \"magnetic\", \"main\", \"make\", \"make\", \"make\", \"make\", \"make\", \"maker\", \"makes\", \"makes\", \"makes\", \"making\", \"making\", \"manual\", \"manual\", \"manual\", \"manual\", \"manufactured\", \"manufacturer\", \"manufacturer\", \"maytag\", \"maytag\", \"measure\", \"measure\", \"metal\", \"metal\", \"microwave\", \"middle\", \"minutes\", \"minutes\", \"model\", \"model\", \"models\", \"models\", \"mold\", \"months\", \"months\", \"motor\", \"mount\", \"mounting\", \"need\", \"need\", \"need\", \"need\", \"need\", \"need\", \"needed\", \"needed\", \"new\", \"new\", \"new\", \"nice\", \"noise\", \"noisy\", \"nsf\", \"number\", \"number\", \"numbers\", \"old\", \"old\", \"old\", \"old\", \"old\", \"older\", \"online\", \"open\", \"open\", \"open\", \"option\", \"order\", \"order\", \"order\", \"order\", \"ordered\", \"original\", \"original\", \"original\", \"outlet\", \"outside\", \"outside\", \"oven\", \"overall\", \"pan\", \"pans\", \"parts\", \"parts\", \"past\", \"pdf\", \"perfect\", \"perfect\", \"perfectly\", \"perfectly\", \"picture\", \"piece\", \"piece\", \"pipe\", \"plastic\", \"plastic\", \"plastic\", \"plastic\", \"pleased\", \"plug\", \"power\", \"power\", \"press\", \"pressure\", \"pretty\", \"pretty\", \"pretty\", \"price\", \"price\", \"probably\", \"probably\", \"probably\", \"probably\", \"problems\", \"problems\", \"product\", \"product\", \"properly\", \"pump\", \"pump\", \"purchased\", \"purchased\", \"purchased\", \"purchased\", \"purchased\", \"purchased\", \"quality\", \"quality\", \"question\", \"question\", \"quickly\", \"quiet\", \"quiet\", \"quite\", \"rack\", \"range\", \"range\", \"range\", \"range\", \"reading\", \"really\", \"really\", \"really\", \"rear\", \"reason\", \"recommended\", \"red\", \"ref\", \"reference\", \"refrigerator\", \"refrigerator\", \"refrigerator\", \"refrigerators\", \"regular\", \"remote\", \"remove\", \"remove\", \"remove\", \"replace\", \"replace\", \"replace\", \"replacement\", \"replaces\", \"require\", \"review\", \"right\", \"right\", \"right\", \"rinse\", \"rinse\", \"round\", \"rubber\", \"run\", \"run\", \"runs\", \"samsung\", \"samsung\", \"samsung\", \"samsung\", \"screen\", \"screw\", \"screws\", \"seal\", \"seal\", \"search\", \"sears\", \"sell\", \"seller\", \"send\", \"sensor\", \"sensor\", \"service\", \"set\", \"setting\", \"settings\", \"shaft\", \"shelves\", \"shelves\", \"ship\", \"shipping\", \"shipping\", \"short\", \"shows\", \"similar\", \"sink\", \"site\", \"size\", \"size\", \"size\", \"size\", \"size\", \"sizes\", \"small\", \"smell\", \"sold\", \"sold\", \"sorry\", \"space\", \"space\", \"specific\", \"specs\", \"speed\", \"speed\", \"spin\", \"stainless\", \"standard\", \"standard\", \"standard\", \"standard\", \"standard\", \"start\", \"start\", \"steel\", \"steel\", \"stopped\", \"stove\", \"stove\", \"stove\", \"suggest\", \"sure\", \"sure\", \"sure\", \"sure\", \"surface\", \"switch\", \"switch\", \"tall\", \"tank\", \"tap\", \"tell\", \"tell\", \"tell\", \"temp\", \"temperature\", \"thank\", \"thanks\", \"thermostat\", \"thing\", \"thing\", \"thing\", \"thing\", \"think\", \"think\", \"think\", \"think\", \"think\", \"time\", \"time\", \"time\", \"time\", \"time\", \"time\", \"times\", \"times\", \"total\", \"towels\", \"tray\", \"tray\", \"trim\", \"try\", \"tub\", \"tube\", \"turn\", \"turn\", \"turn\", \"turns\", \"understand\", \"unfortunately\", \"unit\", \"unit\", \"unit\", \"unit\", \"unit\", \"unit\", \"units\", \"usa\", \"use\", \"use\", \"use\", \"use\", \"use\", \"use\", \"use\", \"used\", \"used\", \"used\", \"used\", \"used\", \"used\", \"used\", \"uses\", \"using\", \"using\", \"using\", \"using\", \"using\", \"utf\", \"valve\", \"valve\", \"vent\", \"vent\", \"vented\", \"venting\", \"video\", \"wall\", \"wall\", \"wall\", \"wall\", \"want\", \"want\", \"want\", \"warranty\", \"warranty\", \"wash\", \"washer\", \"water\", \"water\", \"water\", \"way\", \"way\", \"way\", \"way\", \"way\", \"way\", \"web\", \"website\", \"website\", \"week\", \"weight\", \"went\", \"whirlpool\", \"whirlpool\", \"whirlpool\", \"white\", \"wide\", \"width\", \"window\", \"wire\", \"wires\", \"wish\", \"woder\", \"work\", \"work\", \"work\", \"worked\", \"worked\", \"worked\", \"working\", \"working\", \"works\", \"works\", \"works\", \"works\", \"works\", \"worth\", \"wouldn\", \"www\", \"year\", \"year\", \"year\", \"year\", \"years\", \"years\", \"years\", \"yes\", \"yes\", \"yes\", \"youtube\"]}, \"R\": 30, \"lambda.step\": 0.01, \"plot.opts\": {\"xlab\": \"PC1\", \"ylab\": \"PC2\"}, \"topic.order\": [6, 2, 5, 4, 10, 8, 3, 9, 7, 1]};\n",
       "\n",
       "function LDAvis_load_lib(url, callback){\n",
       "  var s = document.createElement('script');\n",
       "  s.src = url;\n",
       "  s.async = true;\n",
       "  s.onreadystatechange = s.onload = callback;\n",
       "  s.onerror = function(){console.warn(\"failed to load library \" + url);};\n",
       "  document.getElementsByTagName(\"head\")[0].appendChild(s);\n",
       "}\n",
       "\n",
       "if(typeof(LDAvis) !== \"undefined\"){\n",
       "   // already loaded: just create the visualization\n",
       "   !function(LDAvis){\n",
       "       new LDAvis(\"#\" + \"ldavis_el2509620990501882568495378933\", ldavis_el2509620990501882568495378933_data);\n",
       "   }(LDAvis);\n",
       "}else if(typeof define === \"function\" && define.amd){\n",
       "   // require.js is available: use it to load d3/LDAvis\n",
       "   require.config({paths: {d3: \"https://cdnjs.cloudflare.com/ajax/libs/d3/3.5.5/d3.min\"}});\n",
       "   require([\"d3\"], function(d3){\n",
       "      window.d3 = d3;\n",
       "      LDAvis_load_lib(\"https://cdn.rawgit.com/bmabey/pyLDAvis/files/ldavis.v1.0.0.js\", function(){\n",
       "        new LDAvis(\"#\" + \"ldavis_el2509620990501882568495378933\", ldavis_el2509620990501882568495378933_data);\n",
       "      });\n",
       "    });\n",
       "}else{\n",
       "    // require.js not available: dynamically load d3 & LDAvis\n",
       "    LDAvis_load_lib(\"https://cdnjs.cloudflare.com/ajax/libs/d3/3.5.5/d3.min.js\", function(){\n",
       "         LDAvis_load_lib(\"https://cdn.rawgit.com/bmabey/pyLDAvis/files/ldavis.v1.0.0.js\", function(){\n",
       "                 new LDAvis(\"#\" + \"ldavis_el2509620990501882568495378933\", ldavis_el2509620990501882568495378933_data);\n",
       "            })\n",
       "         });\n",
       "}\n",
       "</script>"
      ],
      "text/plain": [
       "PreparedData(topic_coordinates=                x           y  topics  cluster       Freq\n",
       "topic                                                    \n",
       "5       32.696026  167.590805       1        1  13.160854\n",
       "1       93.067963  120.921867       2        1  12.738256\n",
       "4        1.407326   52.538681       3        1  11.764405\n",
       "3       60.789505   59.461735       4        1  11.177940\n",
       "9      120.708359   49.930298       5        1  10.589492\n",
       "7      -36.059814  124.468208       6        1   9.943992\n",
       "2      -11.203334   -7.950607       7        1   8.335786\n",
       "8      -60.179214   57.306091       8        1   8.256193\n",
       "6       25.153149  107.405769       9        1   7.158305\n",
       "0       59.992702   -4.010499      10        1   6.874777, topic_info=     Category         Freq           Term        Total  loglift  logprob\n",
       "893   Default   917.000000         filter   917.000000  30.0000  30.0000\n",
       "2678  Default  1602.000000            yes  1602.000000  29.0000  29.0000\n",
       "1528  Default  1099.000000          model  1099.000000  28.0000  28.0000\n",
       "2585  Default  1076.000000          water  1076.000000  27.0000  27.0000\n",
       "1597  Default   721.000000         number   721.000000  26.0000  26.0000\n",
       "1174  Default   515.000000            ice   515.000000  25.0000  25.0000\n",
       "443   Default   389.000000            com   389.000000  24.0000  24.0000\n",
       "2577  Default   456.000000         washer   456.000000  23.0000  23.0000\n",
       "1275  Default   884.000000           just   884.000000  22.0000  22.0000\n",
       "2647  Default   656.000000           work   656.000000  21.0000  21.0000\n",
       "1300  Default   634.000000           know   634.000000  20.0000  20.0000\n",
       "739   Default   397.000000          dryer   397.000000  19.0000  19.0000\n",
       "1957  Default   306.000000    replacement   306.000000  18.0000  18.0000\n",
       "1419  Default   362.000000        machine   362.000000  17.0000  17.0000\n",
       "1195  Default   336.000000         inches   336.000000  16.0000  16.0000\n",
       "907   Default   791.000000            fit   791.000000  15.0000  15.0000\n",
       "80    Default   417.000000         amazon   417.000000  14.0000  14.0000\n",
       "1025  Default   518.000000           good   518.000000  13.0000  13.0000\n",
       "2341  Default   775.000000           sure   775.000000  12.0000  12.0000\n",
       "245   Default   280.000000         bought   280.000000  11.0000  11.0000\n",
       "705   Default   800.000000            don   800.000000  10.0000  10.0000\n",
       "2669  Default   260.000000            www   260.000000   9.0000   9.0000\n",
       "1649  Default   275.000000           oven   275.000000   8.0000   8.0000\n",
       "1039  Default   410.000000          great   410.000000   7.0000   7.0000\n",
       "896   Default   253.000000        filters   253.000000   6.0000   6.0000\n",
       "1688  Default   423.000000          parts   423.000000   5.0000   5.0000\n",
       "1161  Default   253.000000           http   253.000000   4.0000   4.0000\n",
       "2612  Default   372.000000      whirlpool   372.000000   3.0000   3.0000\n",
       "1922  Default   312.000000   refrigerator   312.000000   2.0000   2.0000\n",
       "2213  Default   223.000000          sorry   223.000000   1.0000   1.0000\n",
       "...       ...          ...            ...          ...      ...      ...\n",
       "512   Topic10    29.308086   contaminants    30.183656   2.6479  -5.5021\n",
       "1923  Topic10    29.063535  refrigerators    29.938374   2.6477  -5.5105\n",
       "366   Topic10    27.850560       charcoal    28.725330   2.6464  -5.5531\n",
       "2513  Topic10    27.556087            usa    28.430944   2.6461  -5.5637\n",
       "367   Topic10    24.654556         charge    25.529424   2.6424  -5.6750\n",
       "1423  Topic10    24.453252       magnetic    25.328190   2.6422  -5.6832\n",
       "1443  Topic10    24.293764   manufactured    25.168599   2.6419  -5.6897\n",
       "510   Topic10    22.177592      container    23.052565   2.6386  -5.7809\n",
       "1693  Topic10    21.872735           past    22.747638   2.6381  -5.7947\n",
       "385   Topic10    21.506088       chlorine    22.380901   2.6374  -5.8116\n",
       "1853  Topic10    83.153590        quality    87.947076   2.6213  -4.4593\n",
       "1922  Topic10   191.082409   refrigerator   312.200510   2.1864  -3.6272\n",
       "881   Topic10    46.341126           feel    57.489191   2.4617  -5.0439\n",
       "2030  Topic10    77.038262        samsung   112.855477   2.2955  -4.5356\n",
       "1233  Topic10   130.856103      installed   235.398680   2.0901  -4.0058\n",
       "958   Topic10    67.197192           free   102.225285   2.2578  -4.6723\n",
       "965   Topic10   134.259028         fridge   352.462234   1.7121  -3.9802\n",
       "2122  Topic10    56.995202       shipping    97.655741   2.1388  -4.8370\n",
       "2349  Topic10    51.139674         switch    92.757579   2.0819  -4.9454\n",
       "1579  Topic10    94.954247            new   339.160552   1.4042  -4.3266\n",
       "2678  Topic10   196.350742            yes  1602.784966   0.5777  -3.6000\n",
       "1786  Topic10    63.610203         pretty   152.038458   1.8060  -4.7272\n",
       "459   Topic10    51.803080        company    98.998568   2.0297  -4.9325\n",
       "1444  Topic10    58.434492   manufacturer   129.867832   1.8787  -4.8120\n",
       "654   Topic10    96.171726            did   412.682266   1.2208  -4.3138\n",
       "2495  Topic10    97.234022           unit   584.070809   0.8844  -4.3028\n",
       "2585  Topic10   114.738355          water  1076.446839   0.4385  -4.1373\n",
       "907   Topic10    92.848024            fit   791.983362   0.5337  -4.3490\n",
       "1840  Topic10    54.406530      purchased   163.135258   1.5792  -4.8835\n",
       "312   Topic10    51.626709           came   165.262199   1.5138  -4.9359\n",
       "\n",
       "[541 rows x 6 columns], token_table=      Topic      Freq        Term\n",
       "term                             \n",
       "7         1  0.303760        able\n",
       "7         5  0.687758        able\n",
       "18       10  0.989468   according\n",
       "31        2  0.985195     adapter\n",
       "39       10  0.979299  additional\n",
       "46        8  0.965527  adjustable\n",
       "63        4  0.984173         ago\n",
       "67        1  0.253451         air\n",
       "67        3  0.743074         air\n",
       "77        9  0.982478    aluminum\n",
       "78        9  0.978304       amana\n",
       "80        2  0.538960      amazon\n",
       "80        9  0.459913      amazon\n",
       "91        2  0.054598      answer\n",
       "91        5  0.666091      answer\n",
       "91        6  0.032759      answer\n",
       "91       10  0.245689      answer\n",
       "97        9  0.974976       apart\n",
       "105       6  0.021489   appliance\n",
       "105       9  0.966985   appliance\n",
       "107       2  0.985573  appliances\n",
       "128       5  0.972666      asking\n",
       "155       5  0.983124        away\n",
       "164       1  0.993785         bag\n",
       "166       8  0.970817        bake\n",
       "174       4  0.974407        base\n",
       "175       7  0.992993       based\n",
       "181       5  0.983514      basket\n",
       "187       7  0.971740   batteries\n",
       "188       8  0.978586     battery\n",
       "...     ...       ...         ...\n",
       "2630      6  0.989812       wires\n",
       "2633      3  0.965893        wish\n",
       "2636     10  0.983522       woder\n",
       "2647      2  0.389768        work\n",
       "2647      3  0.599877        work\n",
       "2647     10  0.009135        work\n",
       "2648      3  0.257546      worked\n",
       "2648      6  0.075997      worked\n",
       "2648      7  0.662866      worked\n",
       "2649      7  0.791714     working\n",
       "2649      8  0.199928     working\n",
       "2650      3  0.191549       works\n",
       "2650      5  0.184944       works\n",
       "2650      6  0.061648       works\n",
       "2650      7  0.524008       works\n",
       "2650      8  0.033026       works\n",
       "2657      2  0.981522       worth\n",
       "2659      3  0.992997      wouldn\n",
       "2669      9  0.997364         www\n",
       "2673      1  0.099965        year\n",
       "2673      4  0.690668        year\n",
       "2673      9  0.095421        year\n",
       "2673     10  0.109053        year\n",
       "2675      4  0.553826       years\n",
       "2675      7  0.346788       years\n",
       "2675      9  0.098343       years\n",
       "2678      1  0.718749         yes\n",
       "2678      7  0.157850         yes\n",
       "2678     10  0.122287         yes\n",
       "2679      6  0.983424     youtube\n",
       "\n",
       "[771 rows x 3 columns], R=30, lambda_step=0.01, plot_opts={'xlab': 'PC1', 'ylab': 'PC2'}, topic_order=[6, 2, 5, 4, 10, 8, 3, 9, 7, 1])"
      ]
     },
     "execution_count": 13,
     "metadata": {},
     "output_type": "execute_result"
    }
   ],
   "source": [
    "import pyLDAvis.sklearn\n",
    " \n",
    "pyLDAvis.enable_notebook()\n",
    "panel = pyLDAvis.sklearn.prepare(lda_model, data_vectorized, vectorizer, mds='tsne')\n",
    "panel"
   ]
  }
 ],
 "metadata": {
  "kernelspec": {
   "display_name": "Python 3",
   "language": "python",
   "name": "python3"
  },
  "language_info": {
   "codemirror_mode": {
    "name": "ipython",
    "version": 3
   },
   "file_extension": ".py",
   "mimetype": "text/x-python",
   "name": "python",
   "nbconvert_exporter": "python",
   "pygments_lexer": "ipython3",
   "version": "3.6.3"
  }
 },
 "nbformat": 4,
 "nbformat_minor": 1
}
