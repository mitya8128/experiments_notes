{
 "cells": [
  {
   "cell_type": "code",
   "execution_count": 1,
   "metadata": {
    "collapsed": true
   },
   "outputs": [],
   "source": [
    "#identity morphism\n",
    "\n",
    "#defining through map function\n",
    "#id_m(x) = map(lambda x:x, x)\n",
    "\n",
    "#defining identity morphism through standard function definition\n",
    "def id_m(x):\n",
    "    return x\n"
   ]
  },
  {
   "cell_type": "code",
   "execution_count": 4,
   "metadata": {},
   "outputs": [
    {
     "data": {
      "text/plain": [
       "{'A': ['B', 'C'],\n",
       " 'B': ['C', 'D'],\n",
       " 'C': ['D'],\n",
       " 'D': ['C'],\n",
       " 'E': ['F'],\n",
       " 'F': ['C']}"
      ]
     },
     "execution_count": 4,
     "metadata": {},
     "output_type": "execute_result"
    }
   ],
   "source": [
    "#identity morphism of graph\n",
    "\n",
    "graph = {'A': ['B', 'C'],\n",
    "          'B': ['C', 'D'],\n",
    "          'C': ['D'],\n",
    "          'D': ['C'],\n",
    "          'E': ['F'],\n",
    "          'F': ['C']}\n",
    "    \n",
    "id_m(graph)\n"
   ]
  },
  {
   "cell_type": "code",
   "execution_count": null,
   "metadata": {
    "collapsed": true
   },
   "outputs": [],
   "source": [
    "#main morphism between objects(graphs)\n",
    "\n",
    "#https://www.python.org/doc/essays/graphs/\n",
    "\n",
    "# graph(cog map) declaring problem we do not touch yet"
   ]
  },
  {
   "cell_type": "code",
   "execution_count": null,
   "metadata": {
    "collapsed": true
   },
   "outputs": [],
   "source": [
    "#basic structures\n",
    "\n",
    "triangle = {'A': ['B','C'],\n",
    "            'B':['A','C'],\n",
    "            'C':['A','B']}\n",
    "\n",
    "angle = {'A':['B'],\n",
    "         'B':['A','C'],\n",
    "         'C':['B']}"
   ]
  },
  {
   "cell_type": "code",
   "execution_count": null,
   "metadata": {
    "collapsed": true
   },
   "outputs": [],
   "source": [
    "#morphism beetwen two cogmaps\n",
    "# A-->B = C\n",
    "\n",
    "import random\n",
    "import networkx as nx\n",
    "\n",
    "def Morphism:\n",
    "    alpha = random.uniform(0, 1)    #parameters\n",
    "    beta = random.uniform(0, 1)\n",
    "    #gamma = random.unifom(0, 1)\n",
    "    \n",
    "    if alpha <= 0.5:\n",
    "        #delete triangles:\n",
    "        C.remove_nodes_from(tr)      #tr and ang are iterable containers of nodes\n",
    "    if beta <= 0.5:\n",
    "        #delete angles\n",
    "        C.remove_nodes_from(ang)\n",
    "    if alpha > 0.5:\n",
    "        #add triangles\n",
    "        C.add_nodes_from(tr)\n",
    "        C.add_edges_from(tr)\n",
    "    if beta > 0.5:\n",
    "        #add angles\n",
    "        C.add_nodes_from(ang)\n",
    "        C.add_edges_from(ang)\n"
   ]
  },
  {
   "cell_type": "code",
   "execution_count": null,
   "metadata": {
    "collapsed": true
   },
   "outputs": [],
   "source": []
  }
 ],
 "metadata": {
  "kernelspec": {
   "display_name": "Python 3",
   "language": "python",
   "name": "python3"
  },
  "language_info": {
   "codemirror_mode": {
    "name": "ipython",
    "version": 3
   },
   "file_extension": ".py",
   "mimetype": "text/x-python",
   "name": "python",
   "nbconvert_exporter": "python",
   "pygments_lexer": "ipython3",
   "version": "3.6.1"
  }
 },
 "nbformat": 4,
 "nbformat_minor": 2
}
