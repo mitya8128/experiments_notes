{
 "cells": [
  {
   "cell_type": "code",
   "execution_count": 1,
   "metadata": {},
   "outputs": [
    {
     "data": {
      "text/html": [
       "\n",
       "        <script>\n",
       "            function code_toggle_1428000165397754806() {\n",
       "                $('div.cell.code_cell.rendered.selected').find('div.input').toggle();\n",
       "            }\n",
       "\n",
       "            \n",
       "        </script>\n",
       "\n",
       "        <a href=\"javascript:code_toggle_1428000165397754806()\">Toggle show/hide</a>\n",
       "    "
      ],
      "text/plain": [
       "<IPython.core.display.HTML object>"
      ]
     },
     "execution_count": 1,
     "metadata": {},
     "output_type": "execute_result"
    }
   ],
   "source": [
    "from IPython.display import HTML\n",
    "import random\n",
    "\n",
    "def hide_toggle(for_next=False):\n",
    "    this_cell = \"\"\"$('div.cell.code_cell.rendered.selected')\"\"\"\n",
    "    next_cell = this_cell + '.next()'\n",
    "\n",
    "    toggle_text = 'Toggle show/hide'  # text shown on toggle link\n",
    "    target_cell = this_cell  # target cell to control with toggle\n",
    "    js_hide_current = ''  # bit of JS to permanently hide code in current cell (only when toggling next cell)\n",
    "\n",
    "    if for_next:\n",
    "        target_cell = next_cell\n",
    "        toggle_text += ' next cell'\n",
    "        js_hide_current = this_cell + '.find(\"div.input\").hide();'\n",
    "\n",
    "    js_f_name = 'code_toggle_{}'.format(str(random.randint(1,2**64)))\n",
    "\n",
    "    html = \"\"\"\n",
    "        <script>\n",
    "            function {f_name}() {{\n",
    "                {cell_selector}.find('div.input').toggle();\n",
    "            }}\n",
    "\n",
    "            {js_hide_current}\n",
    "        </script>\n",
    "\n",
    "        <a href=\"javascript:{f_name}()\">{toggle_text}</a>\n",
    "    \"\"\".format(\n",
    "        f_name=js_f_name,\n",
    "        cell_selector=target_cell,\n",
    "        js_hide_current=js_hide_current, \n",
    "        toggle_text=toggle_text\n",
    "    )\n",
    "\n",
    "    return HTML(html)\n",
    "\n",
    "hide_toggle()"
   ]
  },
  {
   "cell_type": "markdown",
   "metadata": {},
   "source": [
    "***Подгружаем необходимые инструменты:***"
   ]
  },
  {
   "cell_type": "code",
   "execution_count": 2,
   "metadata": {},
   "outputs": [
    {
     "data": {
      "text/html": [
       "\n",
       "        <script>\n",
       "            function code_toggle_7940336926993136162() {\n",
       "                $('div.cell.code_cell.rendered.selected').find('div.input').toggle();\n",
       "            }\n",
       "\n",
       "            \n",
       "        </script>\n",
       "\n",
       "        <a href=\"javascript:code_toggle_7940336926993136162()\">Toggle show/hide</a>\n",
       "    "
      ],
      "text/plain": [
       "<IPython.core.display.HTML object>"
      ]
     },
     "execution_count": 2,
     "metadata": {},
     "output_type": "execute_result"
    }
   ],
   "source": [
    "import warnings\n",
    "\n",
    "warnings.filterwarnings('ignore')\n",
    "\n",
    "hide_toggle()"
   ]
  },
  {
   "cell_type": "code",
   "execution_count": 3,
   "metadata": {},
   "outputs": [
    {
     "name": "stdout",
     "output_type": "stream",
     "text": [
      "showing info https://raw.githubusercontent.com/nltk/nltk_data/gh-pages/index.xml\n"
     ]
    },
    {
     "data": {
      "text/html": [
       "\n",
       "        <script>\n",
       "            function code_toggle_10781019120476133601() {\n",
       "                $('div.cell.code_cell.rendered.selected').find('div.input').toggle();\n",
       "            }\n",
       "\n",
       "            \n",
       "        </script>\n",
       "\n",
       "        <a href=\"javascript:code_toggle_10781019120476133601()\">Toggle show/hide</a>\n",
       "    "
      ],
      "text/plain": [
       "<IPython.core.display.HTML object>"
      ]
     },
     "execution_count": 3,
     "metadata": {},
     "output_type": "execute_result"
    }
   ],
   "source": [
    "import numpy as np\n",
    "import pandas as pd\n",
    "import gzip\n",
    "from sklearn.feature_extraction.text import TfidfVectorizer\n",
    "from sklearn.decomposition import TruncatedSVD\n",
    "from sklearn.pipeline import Pipeline\n",
    "from collections import Counter\n",
    "import string\n",
    "\n",
    "import nltk\n",
    "from nltk import *\n",
    "from nltk import word_tokenize\n",
    "from nltk.corpus import stopwords\n",
    "from nltk.probability import FreqDist\n",
    "import re\n",
    "\n",
    "from gensim import models, corpora\n",
    "\n",
    "#import polyglot\n",
    "#from polyglot.text import Text as T\n",
    "nltk.download()\n",
    "hide_toggle()"
   ]
  },
  {
   "cell_type": "markdown",
   "metadata": {},
   "source": [
    "***Загружаем текстовые данные:***"
   ]
  },
  {
   "cell_type": "code",
   "execution_count": 4,
   "metadata": {},
   "outputs": [
    {
     "data": {
      "text/html": [
       "\n",
       "        <script>\n",
       "            function code_toggle_8089167174172837514() {\n",
       "                $('div.cell.code_cell.rendered.selected').find('div.input').toggle();\n",
       "            }\n",
       "\n",
       "            \n",
       "        </script>\n",
       "\n",
       "        <a href=\"javascript:code_toggle_8089167174172837514()\">Toggle show/hide</a>\n",
       "    "
      ],
      "text/plain": [
       "<IPython.core.display.HTML object>"
      ]
     },
     "execution_count": 4,
     "metadata": {},
     "output_type": "execute_result"
    }
   ],
   "source": [
    "path = 'qa_Appliances.json.gz'\n",
    "\n",
    "\n",
    "def parse(path):\n",
    "  g = gzip.open(path, 'rb')\n",
    "  for l in g:\n",
    "    yield eval(l)\n",
    "\n",
    "def getDF(path):\n",
    "  i = 0\n",
    "  df = {}\n",
    "  for d in parse(path):\n",
    "    df[i] = d\n",
    "    i += 1\n",
    "  return pd.DataFrame.from_dict(df, orient='index')\n",
    "\n",
    "df = getDF('qa_Appliances.json.gz')\n",
    "\n",
    "#data_answers = df['answer']\n",
    "data_answers = df['answer'].apply(lambda x: x.lower())\n",
    "#data_answers = str(data_answers)\n",
    "data_answers\n",
    "\n",
    "hide_toggle()"
   ]
  },
  {
   "cell_type": "code",
   "execution_count": 5,
   "metadata": {},
   "outputs": [
    {
     "data": {
      "text/plain": [
       "0     i replaced my old one with this without a hitch.\n",
       "1    this may help insinkerator model badger-1: bad...\n",
       "2    plumbing connections will vary with different ...\n",
       "3    it does not come with a power cord. it does co...\n",
       "4    check if you dropped something inside.usually ...\n",
       "Name: answer, dtype: object"
      ]
     },
     "execution_count": 5,
     "metadata": {},
     "output_type": "execute_result"
    }
   ],
   "source": [
    "data_answers.head(5)"
   ]
  },
  {
   "cell_type": "markdown",
   "metadata": {},
   "source": [
    "***Функции по очистке данных (освобождение от цифр и знаков пунктуации):***"
   ]
  },
  {
   "cell_type": "code",
   "execution_count": 6,
   "metadata": {},
   "outputs": [
    {
     "data": {
      "text/html": [
       "\n",
       "        <script>\n",
       "            function code_toggle_10131168283123518() {\n",
       "                $('div.cell.code_cell.rendered.selected').find('div.input').toggle();\n",
       "            }\n",
       "\n",
       "            \n",
       "        </script>\n",
       "\n",
       "        <a href=\"javascript:code_toggle_10131168283123518()\">Toggle show/hide</a>\n",
       "    "
      ],
      "text/plain": [
       "<IPython.core.display.HTML object>"
      ]
     },
     "execution_count": 6,
     "metadata": {},
     "output_type": "execute_result"
    }
   ],
   "source": [
    "#cleaning and processing\n",
    "\n",
    "#cleaning from punctuation\n",
    "def replace_punctuation(x):  # From S.Lott's solution\n",
    "    for c in string.punctuation:\n",
    "        x=x.replace(c,\"\")\n",
    "    return x\n",
    "\n",
    "#removing numbers\n",
    "def clean_numbers(x):\n",
    "    x = str(x)\n",
    "    re.sub(r'\\d+', '', x)\n",
    "    return x\n",
    "\n",
    "hide_toggle()"
   ]
  },
  {
   "cell_type": "markdown",
   "metadata": {},
   "source": [
    "***Вычисляем частотность слов (N самых употребляемых слов):***"
   ]
  },
  {
   "cell_type": "code",
   "execution_count": 7,
   "metadata": {},
   "outputs": [
    {
     "data": {
      "text/html": [
       "\n",
       "        <script>\n",
       "            function code_toggle_1198120598299159257() {\n",
       "                $('div.cell.code_cell.rendered.selected').find('div.input').toggle();\n",
       "            }\n",
       "\n",
       "            \n",
       "        </script>\n",
       "\n",
       "        <a href=\"javascript:code_toggle_1198120598299159257()\">Toggle show/hide</a>\n",
       "    "
      ],
      "text/plain": [
       "<IPython.core.display.HTML object>"
      ]
     },
     "execution_count": 7,
     "metadata": {},
     "output_type": "execute_result"
    }
   ],
   "source": [
    "\n",
    "#top N words     всего текста\n",
    "def top_N_words(N):\n",
    "    tfidf = TfidfVectorizer(stop_words='english')\n",
    "    tfidf.fit(data_answers)\n",
    "    X = tfidf.transform(data_answers)\n",
    "    idx = np.ravel(X.sum(axis=0).argsort(axis=1))[::-1][:N]\n",
    "    top_n_words = np.array(tfidf.get_feature_names())[idx].tolist()\n",
    "    return top_n_words\n",
    "\n",
    "\n",
    "hide_toggle()"
   ]
  },
  {
   "cell_type": "code",
   "execution_count": 8,
   "metadata": {},
   "outputs": [
    {
     "data": {
      "text/plain": [
       "['yes',\n",
       " 'model',\n",
       " 'fit',\n",
       " 'don',\n",
       " 'sure',\n",
       " 'does',\n",
       " 'know',\n",
       " 'just',\n",
       " 'work',\n",
       " 'filter']"
      ]
     },
     "execution_count": 8,
     "metadata": {},
     "output_type": "execute_result"
    }
   ],
   "source": [
    "top_N_words(10)"
   ]
  },
  {
   "cell_type": "markdown",
   "metadata": {},
   "source": [
    "***Вычисление эмоциональной окрашенности текста:***"
   ]
  },
  {
   "cell_type": "code",
   "execution_count": 9,
   "metadata": {},
   "outputs": [
    {
     "data": {
      "text/html": [
       "\n",
       "        <script>\n",
       "            function code_toggle_12424097259943066003() {\n",
       "                $('div.cell.code_cell.rendered.selected').find('div.input').toggle();\n",
       "            }\n",
       "\n",
       "            \n",
       "        </script>\n",
       "\n",
       "        <a href=\"javascript:code_toggle_12424097259943066003()\">Toggle show/hide</a>\n",
       "    "
      ],
      "text/plain": [
       "<IPython.core.display.HTML object>"
      ]
     },
     "execution_count": 9,
     "metadata": {},
     "output_type": "execute_result"
    }
   ],
   "source": [
    "#sentiment analysis\n",
    "#for english version we'll use vader sentiment analyzer\n",
    "\n",
    "def emotions(data_answers):\n",
    "    data_answers = str(data_answers)\n",
    "    from nltk.sentiment.vader import SentimentIntensityAnalyzer\n",
    "    sid = SentimentIntensityAnalyzer()\n",
    "    sentences = tokenize.sent_tokenize(data_answers)\n",
    "    scores = dict([('pos', 0), ('neu', 0), ('neg', 0), ('compound', 0)])\n",
    "    for sentence in sentences:\n",
    "        ss = sid.polarity_scores(sentence)\n",
    "        for k in sorted(ss):\n",
    "            scores[k] += ss[k]\n",
    "\n",
    "    return scores \n",
    "\n",
    "\n",
    "hide_toggle()"
   ]
  },
  {
   "cell_type": "code",
   "execution_count": 10,
   "metadata": {},
   "outputs": [
    {
     "data": {
      "text/plain": [
       "{'compound': 6.4398,\n",
       " 'neg': 0.21400000000000002,\n",
       " 'neu': 20.912999999999997,\n",
       " 'pos': 2.8729999999999998}"
      ]
     },
     "execution_count": 10,
     "metadata": {},
     "output_type": "execute_result"
    }
   ],
   "source": [
    "emotions(data_answers)"
   ]
  },
  {
   "cell_type": "markdown",
   "metadata": {},
   "source": [
    "***Вычленение главных тем:***      (тест)"
   ]
  },
  {
   "cell_type": "markdown",
   "metadata": {},
   "source": [
    "***вариант-1***"
   ]
  },
  {
   "cell_type": "code",
   "execution_count": 11,
   "metadata": {},
   "outputs": [
    {
     "name": "stdout",
     "output_type": "stream",
     "text": [
      "[(0, 1), (1, 1), (2, 1), (3, 1), (4, 1), (5, 1), (6, 1), (7, 1), (8, 1), (9, 1), (10, 1), (11, 1), (12, 1), (13, 1), (14, 1), (15, 4), (16, 2), (17, 2), (18, 1), (19, 1), (20, 1), (21, 1), (22, 1), (23, 1), (24, 1), (25, 1), (26, 1), (27, 1), (28, 1), (29, 1), (30, 1), (31, 1), (32, 1), (33, 1), (34, 1), (35, 1), (36, 1), (37, 1), (38, 1), (39, 1), (40, 1), (41, 2), (42, 1), (43, 1), (44, 1), (45, 3), (46, 1), (47, 1), (48, 1), (49, 1), (50, 7), (51, 1), (52, 1), (53, 2), (54, 1), (55, 1), (56, 3), (57, 1), (58, 1), (59, 1), (60, 2), (61, 1), (62, 4), (63, 1), (64, 1), (65, 1), (66, 1), (67, 1), (68, 1), (69, 1), (70, 1), (71, 2), (72, 1), (73, 1), (74, 2), (75, 1), (76, 1), (77, 1), (78, 1), (79, 1), (80, 2), (81, 1), (82, 1), (83, 1), (84, 1), (85, 1), (86, 1), (87, 1), (88, 2), (89, 1), (90, 2), (91, 1), (92, 1), (93, 1), (94, 3), (95, 1), (96, 1), (97, 1), (98, 3), (99, 2), (100, 3), (101, 1), (102, 1), (103, 1), (104, 1), (105, 1), (106, 1), (107, 1), (108, 2), (109, 1), (110, 1), (111, 2), (112, 1), (113, 2), (114, 1), (115, 1), (116, 1), (117, 1), (118, 1), (119, 1), (120, 2), (121, 1), (122, 1), (123, 1), (124, 1), (125, 1), (126, 3), (127, 1), (128, 1), (129, 2), (130, 1), (131, 1), (132, 1), (133, 1), (134, 1), (135, 1), (136, 1), (137, 1), (138, 1), (139, 1), (140, 2), (141, 1), (142, 1), (143, 2), (144, 1), (145, 1), (146, 2), (147, 1), (148, 1), (149, 1), (150, 1), (151, 1), (152, 1), (153, 1), (154, 1), (155, 1), (156, 5), (157, 1), (158, 1), (159, 1), (160, 1), (161, 1), (162, 6), (163, 1), (164, 1), (165, 4), (166, 3), (167, 12)]\n",
      "LDA Model:\n",
      "Topic #0: 0.038*\"yes\" + 0.024*\"water\" + 0.024*\"filter\" + 0.021*\"use\" + 0.019*\"heat\" + 0.018*\"woder\" + 0.017*\"burner\" + 0.015*\"model\" + 0.014*\"fridge\" + 0.013*\"mine\"\n",
      "Topic #1: 0.055*\"yes\" + 0.027*\"filter\" + 0.026*\"water\" + 0.024*\"use\" + 0.019*\"heat\" + 0.017*\"woder\" + 0.015*\"burner\" + 0.015*\"fridge\" + 0.014*\"mine\" + 0.012*\"replaced\"\n",
      "Topic #2: 0.046*\"yes\" + 0.022*\"water\" + 0.021*\"filter\" + 0.018*\"heat\" + 0.017*\"woder\" + 0.017*\"replaced\" + 0.015*\"burner\" + 0.014*\"use\" + 0.014*\"model\" + 0.012*\"mine\"\n",
      "Topic #3: 0.052*\"yes\" + 0.031*\"water\" + 0.028*\"filter\" + 0.019*\"use\" + 0.018*\"woder\" + 0.018*\"heat\" + 0.017*\"burner\" + 0.015*\"maybe\" + 0.015*\"would\" + 0.014*\"replaced\"\n",
      "Topic #4: 0.060*\"yes\" + 0.036*\"filter\" + 0.025*\"water\" + 0.021*\"use\" + 0.017*\"burner\" + 0.016*\"woder\" + 0.016*\"heat\" + 0.015*\"model\" + 0.013*\"mine\" + 0.013*\"electric\"\n",
      "Topic #5: 0.040*\"yes\" + 0.027*\"filter\" + 0.019*\"heat\" + 0.017*\"use\" + 0.016*\"burner\" + 0.016*\"model\" + 0.016*\"would\" + 0.014*\"water\" + 0.014*\"replaced\" + 0.013*\"fridge\"\n",
      "Topic #6: 0.042*\"yes\" + 0.026*\"water\" + 0.024*\"use\" + 0.020*\"woder\" + 0.020*\"filter\" + 0.019*\"burner\" + 0.015*\"model\" + 0.015*\"electric\" + 0.014*\"fridge\" + 0.014*\"maybe\"\n",
      "Topic #7: 0.045*\"yes\" + 0.037*\"filter\" + 0.020*\"use\" + 0.020*\"water\" + 0.018*\"burner\" + 0.014*\"electric\" + 0.014*\"woder\" + 0.014*\"would\" + 0.013*\"maybe\" + 0.013*\"heat\"\n",
      "Topic #8: 0.041*\"yes\" + 0.026*\"filter\" + 0.025*\"use\" + 0.025*\"water\" + 0.020*\"burner\" + 0.019*\"woder\" + 0.016*\"heat\" + 0.015*\"electric\" + 0.013*\"mine\" + 0.013*\"model\"\n",
      "Topic #9: 0.044*\"yes\" + 0.024*\"filter\" + 0.023*\"water\" + 0.020*\"use\" + 0.016*\"burner\" + 0.016*\"model\" + 0.015*\"woder\" + 0.015*\"fridge\" + 0.015*\"electric\" + 0.013*\"heat\"\n",
      "====================\n",
      "LSI Model:\n",
      "Topic #0: 0.500*\"yes\" + 0.292*\"filter\" + 0.250*\"water\" + 0.208*\"use\" + 0.167*\"burner\" + 0.167*\"heat\" + 0.167*\"woder\" + 0.125*\"replaced\" + 0.125*\"mine\" + 0.125*\"would\"\n",
      "Topic #1: \n",
      "Topic #2: \n",
      "Topic #3: \n",
      "Topic #4: \n",
      "Topic #5: \n",
      "Topic #6: \n",
      "Topic #7: \n",
      "Topic #8: \n",
      "Topic #9: \n",
      "====================\n"
     ]
    },
    {
     "data": {
      "text/html": [
       "\n",
       "        <script>\n",
       "            function code_toggle_12191863409434763089() {\n",
       "                $('div.cell.code_cell.rendered.selected').find('div.input').toggle();\n",
       "            }\n",
       "\n",
       "            \n",
       "        </script>\n",
       "\n",
       "        <a href=\"javascript:code_toggle_12191863409434763089()\">Toggle show/hide</a>\n",
       "    "
      ],
      "text/plain": [
       "<IPython.core.display.HTML object>"
      ]
     },
     "execution_count": 11,
     "metadata": {},
     "output_type": "execute_result"
    }
   ],
   "source": [
    "#LDA gensim version-2\n",
    "import re\n",
    "from gensim import models, corpora\n",
    "from nltk import word_tokenize\n",
    "from nltk.corpus import stopwords\n",
    " \n",
    "NUM_TOPICS = 10\n",
    "STOPWORDS = stopwords.words('english')\n",
    "texts = str(data_answers)\n",
    "#texts = text.split()\n",
    "    \n",
    "def clean_text(texts):\n",
    "    tokenized_text = word_tokenize(texts.lower())\n",
    "    cleaned_text = [t for t in tokenized_text if t not in STOPWORDS and re.match('[a-zA-Z\\-][a-zA-Z\\-]{2,}', t)]\n",
    "    return cleaned_text\n",
    " \n",
    "# For gensim we need to tokenize the data and filter out stopwords\n",
    "tokenized_data = []\n",
    "for text in texts:\n",
    "    tokenized_data.append(clean_text(texts))\n",
    " \n",
    " \n",
    "# Build a Dictionary - association word to numeric id\n",
    "dictionary = corpora.Dictionary(tokenized_data)\n",
    " \n",
    "# Transform the collection of texts to a numerical form\n",
    "corpus = [dictionary.doc2bow(text) for text in tokenized_data]\n",
    " \n",
    "# Have a look at how the 20th document looks like: [(word_id, count), ...]\n",
    "print(corpus[20])\n",
    "# [(12, 3), (14, 1), (21, 1), (25, 5), (30, 2), (31, 5), (33, 1), (42, 1), (43, 2),  ...\n",
    " \n",
    "# Build the LDA model\n",
    "lda_model = models.LdaModel(corpus=corpus, num_topics=NUM_TOPICS, id2word=dictionary)\n",
    " \n",
    "# Build the LSI model\n",
    "lsi_model = models.LsiModel(corpus=corpus, num_topics=NUM_TOPICS, id2word=dictionary)\n",
    "\n",
    "print(\"LDA Model:\")\n",
    " \n",
    "for idx in range(NUM_TOPICS):\n",
    "    # Print the first 10 most representative topics\n",
    "    print(\"Topic #%s:\" % idx, lda_model.print_topic(idx, 10))\n",
    " \n",
    "print(\"=\" * 20)\n",
    " \n",
    "print(\"LSI Model:\")\n",
    " \n",
    "for idx in range(NUM_TOPICS):\n",
    "    # Print the first 10 most representative topics\n",
    "    print(\"Topic #%s:\" % idx, lsi_model.print_topic(idx, 10))\n",
    " \n",
    "print(\"=\" * 20)\n",
    "\n",
    "hide_toggle()"
   ]
  },
  {
   "cell_type": "markdown",
   "metadata": {},
   "source": [
    "***вариант-2***"
   ]
  },
  {
   "cell_type": "code",
   "execution_count": 12,
   "metadata": {},
   "outputs": [
    {
     "name": "stdout",
     "output_type": "stream",
     "text": [
      "(9011, 10)\n",
      "(9011, 10)\n",
      "(9011, 10)\n",
      "[0.03333333 0.03333333 0.03333333 0.03334444 0.69994964 0.03335798\n",
      " 0.03333333 0.03333333 0.03333333 0.03334794]\n",
      "[0.         0.         0.00237005 0.00025971 0.00204277 0.01964319\n",
      " 0.         0.         0.         0.        ]\n",
      "[ 0.0866091   0.05006994 -0.01129209 -0.03681695 -0.01664433 -0.04965268\n",
      " -0.07266082  0.0170258  -0.0695201  -0.03787401]\n",
      "LDA Model:\n",
      "Topic 0:\n",
      "[('model', 997.7951671007862), ('number', 747.0913698758258), ('filter', 498.2533905506248), ('com', 388.2502455942136), ('parts', 354.13901659897226), ('amazon', 324.29280430561744), ('whirlpool', 318.2895595274265), ('replacement', 294.4099181848643), ('filters', 265.9762482550687), ('refrigerator', 262.8548536610863)]\n",
      "Topic 1:\n",
      "[('yes', 1702.4767148803103), ('ice', 531.2340897867189), ('fit', 397.15796485247813), ('does', 317.7898182324066), ('maker', 189.8642871299094), ('thank', 180.23110456910396), ('work', 147.89588021576677), ('freezer', 147.41432611040668), ('valve', 142.92485732368903), ('fridge', 140.47656376837114)]\n",
      "Topic 2:\n",
      "[('sure', 484.13745420753173), ('product', 291.3290834642235), ('bought', 288.483147831006), ('great', 247.7522125135835), ('make', 224.4255675977614), ('works', 219.93249393183692), ('dryer', 217.854777972808), ('believe', 203.12631334419842), ('right', 198.47781318876903), ('able', 181.84863916807276)]\n",
      "Topic 3:\n",
      "[('good', 489.0676877995744), ('washer', 488.0150164954216), ('machine', 363.49938014082204), ('easy', 227.0048561670435), ('year', 225.901751691809), ('luck', 215.015486261657), ('drain', 200.23338863050418), ('years', 197.26346557527413), ('hose', 195.09080664021144), ('does', 173.9729159287211)]\n",
      "Topic 4:\n",
      "[('water', 1062.3172995767557), ('filter', 466.13970822838814), ('use', 424.9775895261531), ('just', 349.97816317469176), ('time', 251.92132183239568), ('sorry', 234.56886383991363), ('replace', 204.69838678280306), ('problem', 204.14446646291287), ('months', 195.81236265490162), ('don', 194.85865674629292)]\n",
      "Topic 5:\n",
      "[('element', 149.9934388927122), ('size', 127.97561788696446), ('burner', 113.26649989416448), ('small', 110.0546889205485), ('looking', 105.83963708976847), ('old', 94.20941410292735), ('cover', 93.16879874816978), ('place', 88.4315390222985), ('pan', 87.74300722188893), ('use', 87.2267821919778)]\n",
      "Topic 6:\n",
      "[('don', 630.8054732430519), ('know', 596.8492877730341), ('oven', 274.75117921136837), ('think', 272.82163427713476), ('stove', 260.03656242354833), ('just', 246.28934212129911), ('say', 225.91842333122656), ('work', 219.97257608668443), ('set', 198.70046504220008), ('answer', 188.75347135068517)]\n",
      "Topic 7:\n",
      "[('door', 376.7588385624311), ('like', 322.1742474386792), ('open', 150.90103254666622), ('looks', 127.40739854273478), ('look', 121.94090421485967), ('control', 121.47160201460969), ('handle', 102.82990457632968), ('company', 102.65216547525957), ('did', 100.63568481797358), ('probably', 97.0004751072068)]\n",
      "Topic 8:\n",
      "[('hope', 352.07453140181786), ('inches', 349.4382760377964), ('helps', 326.9991295049441), ('fits', 261.1207062106291), ('plastic', 173.4323700999769), ('wide', 158.94492260090567), ('inch', 156.44312975336885), ('height', 153.71364246279572), ('dimensions', 134.16054450556186), ('long', 128.00089286616006)]\n",
      "Topic 9:\n",
      "[('need', 264.4674567422003), ('range', 251.85151611759665), ('installed', 243.98731046960646), ('hood', 202.65134103175816), ('dishwasher', 191.15907185847456), ('unit', 180.78658898549497), ('work', 161.27802745403122), ('power', 157.22029571211903), ('plug', 150.64556678839097), ('standard', 140.24935830212732)]\n",
      "====================\n",
      "NMF Model:\n",
      "Topic 0:\n",
      "[('water', 10.685185326438802), ('valve', 1.5637289784303434), ('line', 0.9036562356262453), ('dispenser', 0.8048690908853923), ('hot', 0.7683501152086847), ('hose', 0.7220349175247246), ('problem', 0.6740169550536695), ('used', 0.4882841112752147), ('faucet', 0.48806905459909483), ('turn', 0.4880441307983796)]\n",
      "Topic 1:\n",
      "[('model', 6.06022379128554), ('number', 4.325682861122303), ('parts', 0.9536123261367065), ('fit', 0.7766613500254457), ('sure', 0.7389040274943572), ('whirlpool', 0.6902920830141098), ('correct', 0.6360931510782524), ('look', 0.6008759233565646), ('search', 0.5641794092505467), ('replacement', 0.48972041794863036)]\n",
      "Topic 2:\n",
      "[('filter', 6.705682123061077), ('filters', 1.5184768054793787), ('whirlpool', 1.0674227612808256), ('refrigerator', 0.8477579870169386), ('fridge', 0.6720366760597766), ('woder', 0.6024064774968589), ('kenmore', 0.5599000179552976), ('replacement', 0.42389299298629696), ('pur', 0.41530056794034725), ('samsung', 0.37677241888068796)]\n",
      "Topic 3:\n",
      "[('warranty', 3.905040890769929), ('products', 3.0558674049487937), ('service', 1.7501307286070582), ('parts', 1.731537411002433), ('use', 1.651224251160864), ('year', 1.1534753887835092), ('purchase', 1.0809390896446458), ('original', 1.0538290322785462), ('limited', 0.9659365158944258), ('repair', 0.8120242747628457)]\n",
      "Topic 4:\n",
      "[('ice', 6.217058745880742), ('maker', 2.267831594984905), ('freezer', 1.1450436446544505), ('valve', 0.6811130994206024), ('refrigerator', 0.6657082501647437), ('cubes', 0.6054261924915668), ('unit', 0.5690475735916382), ('fridge', 0.5295899579697668), ('makes', 0.5036620567792152), ('bin', 0.48597211988001565)]\n",
      "Topic 5:\n",
      "[('don', 2.6264573171915337), ('just', 2.2789989253245193), ('fit', 2.027448282208464), ('know', 1.8927738748718148), ('sure', 1.8236552370406933), ('unit', 1.697530614866476), ('work', 1.5647471870522789), ('need', 1.4565261260389601), ('good', 1.2297673720978703), ('like', 1.215080733091359)]\n",
      "Topic 6:\n",
      "[('yes', 6.331840168394656), ('does', 0.49682996995338524), ('work', 0.3299024565634761), ('fit', 0.24821210025238596), ('great', 0.1940254938015489), ('fits', 0.1793182049342165), ('works', 0.1636286250997288), ('comes', 0.13908991481559724), ('just', 0.11844578615714814), ('perfectly', 0.11364896842497597)]\n",
      "Topic 7:\n",
      "[('oven', 3.5822787087000583), ('feature', 2.426943627968187), ('bake', 2.3929160339249242), ('set', 1.247916252388918), ('time', 1.234505649400091), ('light', 1.2229118809430235), ('start', 1.1703895741698525), ('used', 0.939430320530751), ('temperature', 0.902790889580536), ('pad', 0.733893169776763)]\n",
      "Topic 8:\n",
      "[('machine', 3.363096466205956), ('use', 3.104039725204474), ('washer', 2.5576312651345443), ('clothes', 2.188220467283715), ('wash', 2.0325533048609143), ('time', 1.793318902601529), ('just', 1.646766461469566), ('laundry', 1.3660383582622697), ('dry', 1.2260378641527063), ('towels', 1.1748465212796524)]\n",
      "Topic 9:\n",
      "[('com', 2.862086655962865), ('www', 2.376934538711243), ('http', 2.3337611917236054), ('amazon', 1.8817118190797566), ('parts', 0.7731963234873587), ('need', 0.6488099328393678), ('link', 0.6408761059646718), ('product', 0.629226489205906), ('washer', 0.538844846789546), ('ref', 0.4743543497255983)]\n",
      "====================\n",
      "LSI Model:\n",
      "Topic 0:\n",
      "[('water', 0.5136398269396575), ('filter', 0.30294724431469844), ('use', 0.2069680330860147), ('model', 0.17891333627184522), ('just', 0.17338260920571424), ('don', 0.14000039717039775), ('ice', 0.12967604612272843), ('number', 0.12797160248244843), ('washer', 0.12477577905964657), ('need', 0.12183182163718573)]\n",
      "Topic 1:\n",
      "[('model', 0.32827182463940197), ('number', 0.2722441940731561), ('parts', 0.18626212463652014), ('warranty', 0.16819073187642836), ('fit', 0.14719045467422728), ('sure', 0.13275832778021357), ('products', 0.12620005695262687), ('yes', 0.11577431787791062), ('amazon', 0.09867136331298455), ('com', 0.09865652158540089)]\n",
      "Topic 2:\n",
      "[('use', 0.20741715328350244), ('machine', 0.17383837833489635), ('washer', 0.1434125594612815), ('just', 0.1394411893570073), ('clothes', 0.1262232905361262), ('wash', 0.1236917068001251), ('time', 0.1235412244933818), ('water', 0.09767836806925137), ('don', 0.09708279351112077), ('laundry', 0.09117143700875292)]\n",
      "Topic 3:\n",
      "[('warranty', 0.5303261565311678), ('products', 0.41726048147132316), ('service', 0.23232677475539767), ('use', 0.2208463202310829), ('parts', 0.20124520987353553), ('year', 0.14776300474610374), ('purchase', 0.13836175692921734), ('original', 0.13409385887675557), ('limited', 0.13165052856808887), ('water', 0.11530389191632816)]\n",
      "Topic 4:\n",
      "[('ice', 0.41311477896126586), ('model', 0.3374647559953461), ('water', 0.2936818710001736), ('number', 0.2856537607412522), ('maker', 0.1736188104218996), ('valve', 0.1718943826256106), ('parts', 0.09866510093591987), ('com', 0.09297892017976347), ('dispenser', 0.07956317608149226), ('freezer', 0.07754802485638214)]\n",
      "Topic 5:\n",
      "[('model', 0.22401049622978444), ('number', 0.19390492490703484), ('washer', 0.1855732802185943), ('machine', 0.1544686709189171), ('water', 0.144632916794721), ('clothes', 0.1097510925669123), ('wash', 0.10682573831919087), ('laundry', 0.06509125903854225), ('don', 0.06361108992543793), ('load', 0.06156338656549003)]\n",
      "Topic 6:\n",
      "[('yes', 0.7241147295984988), ('water', 0.2117323760265447), ('model', 0.18697092278447283), ('washer', 0.1254607043074381), ('number', 0.09169804554258502), ('wash', 0.06396290385878524), ('clothes', 0.06251033182353394), ('machine', 0.055698241387533765), ('drain', 0.043396257051447854), ('does', 0.03702051333270651)]\n",
      "Topic 7:\n",
      "[('oven', 0.42001037970661576), ('feature', 0.2699882098713026), ('bake', 0.26915215688938465), ('water', 0.1590835774815706), ('sure', 0.1432303821193245), ('light', 0.1354632313498377), ('used', 0.13348846903775002), ('start', 0.13275414873287167), ('set', 0.1279540385934688), ('temperature', 0.11324188949931831)]\n",
      "Topic 8:\n",
      "[('oven', 0.29687702124816434), ('ice', 0.2957822173413153), ('feature', 0.23555029438954808), ('bake', 0.23125177650293002), ('model', 0.21783327431001479), ('machine', 0.1901631321260831), ('time', 0.1857131908052893), ('use', 0.17942770946557943), ('filter', 0.1630555156927301), ('number', 0.1456649283800745)]\n",
      "Topic 9:\n",
      "[('com', 0.317222265703259), ('http', 0.2736903614154062), ('www', 0.267976785261141), ('amazon', 0.24901834691864957), ('washer', 0.23467101482163424), ('need', 0.15894191706507355), ('ice', 0.1430099309952543), ('filters', 0.1402133146944622), ('door', 0.1060869786713025), ('dryer', 0.10064925184443424)]\n",
      "====================\n"
     ]
    },
    {
     "data": {
      "text/html": [
       "\n",
       "        <script>\n",
       "            function code_toggle_7033882070870198380() {\n",
       "                $('div.cell.code_cell.rendered.selected').find('div.input').toggle();\n",
       "            }\n",
       "\n",
       "            \n",
       "        </script>\n",
       "\n",
       "        <a href=\"javascript:code_toggle_7033882070870198380()\">Toggle show/hide</a>\n",
       "    "
      ],
      "text/plain": [
       "<IPython.core.display.HTML object>"
      ]
     },
     "execution_count": 12,
     "metadata": {},
     "output_type": "execute_result"
    }
   ],
   "source": [
    "#LDA scikit-learn version-2\n",
    "\n",
    "from sklearn.decomposition import NMF, LatentDirichletAllocation, TruncatedSVD\n",
    "from sklearn.feature_extraction.text import CountVectorizer\n",
    " \n",
    "NUM_TOPICS = 10\n",
    " \n",
    "vectorizer = CountVectorizer(min_df=5, max_df=0.9, \n",
    "                             stop_words='english', lowercase=True, \n",
    "                             token_pattern='[a-zA-Z\\-][a-zA-Z\\-]{2,}')\n",
    "data_vectorized = vectorizer.fit_transform(data_answers)\n",
    " \n",
    "# Build a Latent Dirichlet Allocation Model\n",
    "lda_model = LatentDirichletAllocation(n_components=NUM_TOPICS, max_iter=10, learning_method='online')\n",
    "lda_Z = lda_model.fit_transform(data_vectorized)\n",
    "print(lda_Z.shape)  # (NO_DOCUMENTS, NO_TOPICS)\n",
    " \n",
    "# Build a Non-Negative Matrix Factorization Model\n",
    "nmf_model = NMF(n_components=NUM_TOPICS)\n",
    "nmf_Z = nmf_model.fit_transform(data_vectorized)\n",
    "print(nmf_Z.shape)  # (NO_DOCUMENTS, NO_TOPICS)\n",
    " \n",
    "# Build a Latent Semantic Indexing Model\n",
    "lsi_model = TruncatedSVD(n_components=NUM_TOPICS)\n",
    "lsi_Z = lsi_model.fit_transform(data_vectorized)\n",
    "print(lsi_Z.shape)  # (NO_DOCUMENTS, NO_TOPICS)\n",
    " \n",
    "\n",
    "#Let's see how the first document in the corpus looks like in different topic spaces\n",
    "print(lda_Z[0])\n",
    "print(nmf_Z[0])\n",
    "print(lsi_Z[0])\n",
    "\n",
    "\n",
    "def print_topics(model, vectorizer, top_n=10):\n",
    "    for idx, topic in enumerate(model.components_):\n",
    "        print(\"Topic %d:\" % (idx))\n",
    "        print([(vectorizer.get_feature_names()[i], topic[i])\n",
    "                        for i in topic.argsort()[:-top_n - 1:-1]])\n",
    "\n",
    "print(\"LDA Model:\")\n",
    "print_topics(lda_model, vectorizer)\n",
    "print(\"=\" * 20)\n",
    " \n",
    "print(\"NMF Model:\")\n",
    "print_topics(nmf_model, vectorizer)\n",
    "print(\"=\" * 20)\n",
    " \n",
    "print(\"LSI Model:\")\n",
    "print_topics(lsi_model, vectorizer)\n",
    "print(\"=\" * 20)\n",
    "\n",
    "hide_toggle()"
   ]
  },
  {
   "cell_type": "markdown",
   "metadata": {},
   "source": [
    "***Визуализация выделенных тем:***"
   ]
  },
  {
   "cell_type": "code",
   "execution_count": 13,
   "metadata": {},
   "outputs": [
    {
     "data": {
      "text/html": [
       "\n",
       "<link rel=\"stylesheet\" type=\"text/css\" href=\"https://cdn.rawgit.com/bmabey/pyLDAvis/files/ldavis.v1.0.0.css\">\n",
       "\n",
       "\n",
       "<div id=\"ldavis_el1520820981514317688250670710\"></div>\n",
       "<script type=\"text/javascript\">\n",
       "\n",
       "var ldavis_el1520820981514317688250670710_data = {\"mdsDat\": {\"x\": [-86.19491577148438, -40.026214599609375, 18.221691131591797, -76.5929183959961, 53.746299743652344, -21.459627151489258, 11.142182350158691, 108.7776107788086, 62.91917419433594, 116.38130950927734], \"y\": [21.345306396484375, -56.76728057861328, 145.900634765625, 122.91380310058594, 63.92960739135742, 69.85994720458984, 1.751808524131775, 117.43780517578125, -56.840999603271484, 14.919238090515137], \"topics\": [1, 2, 3, 4, 5, 6, 7, 8, 9, 10], \"cluster\": [1, 1, 1, 1, 1, 1, 1, 1, 1, 1], \"Freq\": [15.163771507774385, 14.59036946428776, 12.211007699974271, 11.008507564034552, 10.724397602427468, 8.374993297268539, 7.81565562922822, 7.330769920159399, 6.6965156882947365, 6.084011626550676]}, \"tinfo\": {\"Category\": [\"Default\", \"Default\", \"Default\", \"Default\", \"Default\", \"Default\", \"Default\", \"Default\", \"Default\", \"Default\", \"Default\", \"Default\", \"Default\", \"Default\", \"Default\", \"Default\", \"Default\", \"Default\", \"Default\", \"Default\", \"Default\", \"Default\", \"Default\", \"Default\", \"Default\", \"Default\", \"Default\", \"Default\", \"Default\", \"Default\", \"Topic1\", \"Topic1\", \"Topic1\", \"Topic1\", \"Topic1\", \"Topic1\", \"Topic1\", \"Topic1\", \"Topic1\", \"Topic1\", \"Topic1\", \"Topic1\", \"Topic1\", \"Topic1\", \"Topic1\", \"Topic1\", \"Topic1\", \"Topic1\", \"Topic1\", \"Topic1\", \"Topic1\", \"Topic1\", \"Topic1\", \"Topic1\", \"Topic1\", \"Topic1\", \"Topic1\", \"Topic1\", \"Topic1\", \"Topic1\", \"Topic1\", \"Topic1\", \"Topic1\", \"Topic1\", \"Topic1\", \"Topic1\", \"Topic1\", \"Topic1\", \"Topic1\", \"Topic1\", \"Topic1\", \"Topic1\", \"Topic1\", \"Topic1\", \"Topic1\", \"Topic1\", \"Topic1\", \"Topic1\", \"Topic1\", \"Topic1\", \"Topic1\", \"Topic1\", \"Topic1\", \"Topic1\", \"Topic2\", \"Topic2\", \"Topic2\", \"Topic2\", \"Topic2\", \"Topic2\", \"Topic2\", \"Topic2\", \"Topic2\", \"Topic2\", \"Topic2\", \"Topic2\", \"Topic2\", \"Topic2\", \"Topic2\", \"Topic2\", \"Topic2\", \"Topic2\", \"Topic2\", \"Topic2\", \"Topic2\", \"Topic2\", \"Topic2\", \"Topic2\", \"Topic2\", \"Topic2\", \"Topic2\", \"Topic2\", \"Topic2\", \"Topic2\", \"Topic2\", \"Topic2\", \"Topic2\", \"Topic2\", \"Topic2\", \"Topic2\", \"Topic2\", \"Topic2\", \"Topic2\", \"Topic2\", \"Topic2\", \"Topic2\", \"Topic2\", \"Topic2\", \"Topic2\", \"Topic2\", \"Topic2\", \"Topic2\", \"Topic2\", \"Topic2\", \"Topic2\", \"Topic3\", \"Topic3\", \"Topic3\", \"Topic3\", \"Topic3\", \"Topic3\", \"Topic3\", \"Topic3\", \"Topic3\", \"Topic3\", \"Topic3\", \"Topic3\", \"Topic3\", \"Topic3\", \"Topic3\", \"Topic3\", \"Topic3\", \"Topic3\", \"Topic3\", \"Topic3\", \"Topic3\", \"Topic3\", \"Topic3\", \"Topic3\", \"Topic3\", \"Topic3\", \"Topic3\", \"Topic3\", \"Topic3\", \"Topic3\", \"Topic3\", \"Topic3\", \"Topic3\", \"Topic3\", \"Topic3\", \"Topic3\", \"Topic3\", \"Topic3\", \"Topic3\", \"Topic3\", \"Topic3\", \"Topic3\", \"Topic3\", \"Topic3\", \"Topic3\", \"Topic3\", \"Topic3\", \"Topic3\", \"Topic3\", \"Topic3\", \"Topic4\", \"Topic4\", \"Topic4\", \"Topic4\", \"Topic4\", \"Topic4\", \"Topic4\", \"Topic4\", \"Topic4\", \"Topic4\", \"Topic4\", \"Topic4\", \"Topic4\", \"Topic4\", \"Topic4\", \"Topic4\", \"Topic4\", \"Topic4\", \"Topic4\", \"Topic4\", \"Topic4\", \"Topic4\", \"Topic4\", \"Topic4\", \"Topic4\", \"Topic4\", \"Topic4\", \"Topic4\", \"Topic4\", \"Topic4\", \"Topic4\", \"Topic4\", \"Topic4\", \"Topic4\", \"Topic4\", \"Topic4\", \"Topic4\", \"Topic4\", \"Topic4\", \"Topic4\", \"Topic4\", \"Topic4\", \"Topic4\", \"Topic4\", \"Topic4\", \"Topic4\", \"Topic4\", \"Topic4\", \"Topic4\", \"Topic5\", \"Topic5\", \"Topic5\", \"Topic5\", \"Topic5\", \"Topic5\", \"Topic5\", \"Topic5\", \"Topic5\", \"Topic5\", \"Topic5\", \"Topic5\", \"Topic5\", \"Topic5\", \"Topic5\", \"Topic5\", \"Topic5\", \"Topic5\", \"Topic5\", \"Topic5\", \"Topic5\", \"Topic5\", \"Topic5\", \"Topic5\", \"Topic5\", \"Topic5\", \"Topic5\", \"Topic5\", \"Topic5\", \"Topic5\", \"Topic5\", \"Topic5\", \"Topic5\", \"Topic5\", \"Topic5\", \"Topic5\", \"Topic5\", \"Topic5\", \"Topic5\", \"Topic5\", \"Topic5\", \"Topic5\", \"Topic5\", \"Topic5\", \"Topic5\", \"Topic5\", \"Topic5\", \"Topic5\", \"Topic5\", \"Topic5\", \"Topic6\", \"Topic6\", \"Topic6\", \"Topic6\", \"Topic6\", \"Topic6\", \"Topic6\", \"Topic6\", \"Topic6\", \"Topic6\", \"Topic6\", \"Topic6\", \"Topic6\", \"Topic6\", \"Topic6\", \"Topic6\", \"Topic6\", \"Topic6\", \"Topic6\", \"Topic6\", \"Topic6\", \"Topic6\", \"Topic6\", \"Topic6\", \"Topic6\", \"Topic6\", \"Topic6\", \"Topic6\", \"Topic6\", \"Topic6\", \"Topic6\", \"Topic6\", \"Topic6\", \"Topic6\", \"Topic6\", \"Topic6\", \"Topic6\", \"Topic6\", \"Topic6\", \"Topic6\", \"Topic6\", \"Topic6\", \"Topic6\", \"Topic6\", \"Topic6\", \"Topic6\", \"Topic6\", \"Topic6\", \"Topic7\", \"Topic7\", \"Topic7\", \"Topic7\", \"Topic7\", \"Topic7\", \"Topic7\", \"Topic7\", \"Topic7\", \"Topic7\", \"Topic7\", \"Topic7\", \"Topic7\", \"Topic7\", \"Topic7\", \"Topic7\", \"Topic7\", \"Topic7\", \"Topic7\", \"Topic7\", \"Topic7\", \"Topic7\", \"Topic7\", \"Topic7\", \"Topic7\", \"Topic7\", \"Topic7\", \"Topic7\", \"Topic7\", \"Topic7\", \"Topic7\", \"Topic7\", \"Topic7\", \"Topic7\", \"Topic7\", \"Topic7\", \"Topic7\", \"Topic7\", \"Topic7\", \"Topic7\", \"Topic7\", \"Topic7\", \"Topic7\", \"Topic7\", \"Topic7\", \"Topic7\", \"Topic7\", \"Topic7\", \"Topic7\", \"Topic8\", \"Topic8\", \"Topic8\", \"Topic8\", \"Topic8\", \"Topic8\", \"Topic8\", \"Topic8\", \"Topic8\", \"Topic8\", \"Topic8\", \"Topic8\", \"Topic8\", \"Topic8\", \"Topic8\", \"Topic8\", \"Topic8\", \"Topic8\", \"Topic8\", \"Topic8\", \"Topic8\", \"Topic8\", \"Topic8\", \"Topic8\", \"Topic8\", \"Topic8\", \"Topic8\", \"Topic8\", \"Topic8\", \"Topic8\", \"Topic8\", \"Topic8\", \"Topic8\", \"Topic8\", \"Topic8\", \"Topic8\", \"Topic8\", \"Topic8\", \"Topic8\", \"Topic8\", \"Topic8\", \"Topic8\", \"Topic8\", \"Topic8\", \"Topic8\", \"Topic8\", \"Topic8\", \"Topic8\", \"Topic9\", \"Topic9\", \"Topic9\", \"Topic9\", \"Topic9\", \"Topic9\", \"Topic9\", \"Topic9\", \"Topic9\", \"Topic9\", \"Topic9\", \"Topic9\", \"Topic9\", \"Topic9\", \"Topic9\", \"Topic9\", \"Topic9\", \"Topic9\", \"Topic9\", \"Topic9\", \"Topic9\", \"Topic9\", \"Topic9\", \"Topic9\", \"Topic9\", \"Topic9\", \"Topic9\", \"Topic9\", \"Topic9\", \"Topic9\", \"Topic9\", \"Topic9\", \"Topic9\", \"Topic9\", \"Topic9\", \"Topic9\", \"Topic9\", \"Topic9\", \"Topic9\", \"Topic9\", \"Topic9\", \"Topic9\", \"Topic9\", \"Topic9\", \"Topic9\", \"Topic9\", \"Topic9\", \"Topic9\", \"Topic9\", \"Topic10\", \"Topic10\", \"Topic10\", \"Topic10\", \"Topic10\", \"Topic10\", \"Topic10\", \"Topic10\", \"Topic10\", \"Topic10\", \"Topic10\", \"Topic10\", \"Topic10\", \"Topic10\", \"Topic10\", \"Topic10\", \"Topic10\", \"Topic10\", \"Topic10\", \"Topic10\", \"Topic10\", \"Topic10\", \"Topic10\", \"Topic10\", \"Topic10\", \"Topic10\", \"Topic10\", \"Topic10\", \"Topic10\", \"Topic10\", \"Topic10\", \"Topic10\", \"Topic10\", \"Topic10\", \"Topic10\", \"Topic10\", \"Topic10\", \"Topic10\", \"Topic10\", \"Topic10\", \"Topic10\", \"Topic10\", \"Topic10\", \"Topic10\", \"Topic10\", \"Topic10\", \"Topic10\", \"Topic10\"], \"Freq\": [1581.0, 1073.0, 1107.0, 705.0, 806.0, 494.0, 919.0, 638.0, 377.0, 576.0, 469.0, 785.0, 343.0, 379.0, 774.0, 615.0, 321.0, 509.0, 685.0, 366.0, 254.0, 415.0, 660.0, 242.0, 257.0, 582.0, 357.0, 403.0, 279.0, 291.0, 226.0243444737707, 188.6796064252561, 147.75268477537261, 145.23384151232634, 140.4707483530273, 134.0935400751866, 132.9898400996622, 106.24092822246405, 103.25073005902924, 86.79088238783837, 78.25326461312272, 70.2175632276315, 70.16864086220481, 69.13425719674142, 68.00589372452075, 66.47559563899244, 63.490835372856715, 58.61019677913571, 58.466306981945195, 57.703806405733445, 55.078748096486166, 54.29172368243784, 51.14531191000553, 44.71071981627265, 44.53912103546299, 43.18504418151517, 40.493140441970176, 39.99534674588676, 38.1052694023502, 37.12783157418254, 43.73808252688052, 1023.6208136466494, 197.24194392226403, 120.31984005547646, 113.36020070301076, 148.89391799082904, 131.74429453616258, 196.70820097298954, 242.7447134031956, 409.49714943517336, 449.1598768088016, 187.6593128772489, 113.25381609591545, 337.2296886157915, 107.17459424036018, 117.85176686958948, 108.68527799744318, 186.49987889940363, 97.0440943439991, 118.35938268875378, 187.76064067129673, 114.84679590305436, 112.23237893615412, 115.12494116266795, 468.81639649122565, 217.01472620607998, 206.556728895133, 192.35616229415925, 189.50307667681898, 136.81245322405175, 118.43303517317726, 118.3714877338177, 112.21577709997821, 164.04607550306662, 106.42815758628724, 106.12244563719929, 99.89680051270477, 94.57617409264671, 88.05377899311966, 82.65765768684689, 77.57061911204556, 68.53018268419972, 68.18672486728268, 66.0599132333837, 64.88219408308112, 60.39198889999854, 59.41927030012185, 58.4056068603682, 54.05468518584568, 51.49434706265106, 50.12382113009073, 49.65629758414476, 47.42142601411242, 46.3569915565149, 349.19923314698485, 469.8276554706043, 133.37710550157718, 187.41589063066968, 61.85580186400985, 218.0744343042992, 141.77765495691273, 117.02749467931656, 105.39972984058797, 112.02923641837693, 124.8001467171862, 131.50487785269254, 89.73165084083472, 119.93179856816843, 150.3467885181047, 167.09016170832777, 167.12878246757631, 157.01527591766268, 138.48922266723994, 148.2118207665222, 121.45292401748699, 704.4392927037331, 366.0847112233364, 250.79143964403573, 244.44337827905844, 237.6731834018279, 177.71428889922146, 138.86342046715157, 119.64341155371756, 109.31978442481413, 105.26991868677848, 104.37639449456435, 87.28179476203377, 86.73019830824111, 79.06357782811415, 76.0180734115334, 65.82213251722196, 58.99006557615652, 55.40068296823859, 55.25876669010198, 51.03567524570828, 50.80948938526847, 48.96722529972424, 50.65534234380592, 45.54813176153593, 71.2251595382393, 42.57899815410585, 42.18227304976658, 42.15709046115493, 41.617181590800044, 40.75877779404181, 277.60180734731375, 191.2613683073721, 204.78482316647853, 122.80575776167112, 940.8301984434754, 300.118139800959, 333.92092109595643, 247.84824810322095, 305.77865426544696, 92.32904200870583, 83.02250367200095, 469.80768374430164, 185.93597959978158, 91.94461887156301, 166.24907116082878, 118.4815908012628, 106.17240474130847, 138.38129712965608, 119.4040464993562, 101.01004547116423, 218.82684904995153, 266.1267458096325, 192.46326186596895, 181.41780284289973, 175.0040779519518, 157.7997628730055, 135.57045507465415, 134.74113343772723, 108.51572083603672, 84.19809778322112, 83.04926506517974, 80.64213650318837, 182.82850408509216, 73.40282239090307, 67.75696276238511, 61.39841807496279, 57.66901105265577, 51.53447179480666, 51.08955742256883, 48.21342454190477, 48.03239986837481, 46.72885942254537, 45.61709375338593, 45.14901385612771, 44.95767113448622, 41.02411237736609, 39.69877936587641, 39.450604153962786, 39.336064040944784, 37.75834493490104, 578.1142019108112, 251.87402051535543, 611.0045034745114, 264.25776924794866, 135.73854385613583, 174.95186645864143, 104.83167011308709, 116.69990169612248, 213.06764181810973, 115.53004980920244, 238.55832515249335, 147.89230527661508, 61.300902291888086, 93.3087563216808, 81.2071266274444, 114.72463048184888, 107.8340386347356, 81.56605948900103, 83.43296111259453, 278.69280213035603, 174.16407621805504, 141.51610547869404, 175.67718320596876, 105.35426160044527, 104.53950686967671, 100.75711127601342, 97.87763485423234, 92.35977871549773, 92.34274301109785, 85.5347750979176, 80.92136780021546, 78.51331712382992, 161.84105701142923, 71.02440422144107, 69.07844372570995, 62.61022259800707, 62.46916438210373, 73.5978429807464, 56.328256983004536, 56.14072470495768, 52.44315177792666, 51.79454058114229, 51.21549931259197, 46.80204312090461, 46.472487281392006, 43.37816219201672, 42.15102906904681, 37.30853056447555, 37.06256246874308, 281.4421543274162, 196.23275008585784, 70.81011631623034, 87.89341755646383, 467.70712516071694, 191.7420075805836, 216.8091646731309, 158.23444801044673, 239.34416571138416, 132.86960691787445, 210.46137005651065, 212.4685738984208, 135.59068408762835, 97.7889602165803, 165.49141858350808, 171.25881692326757, 94.78137690851277, 120.81211060507138, 96.76848558694813, 90.15956933775281, 343.07639669701285, 321.04577765682916, 256.3667380846173, 156.0511685712018, 153.59492340782865, 150.91512921041556, 131.71801529520744, 121.92388485492332, 115.41494395173795, 100.01156346993311, 92.35843902195685, 74.45656509010934, 73.03106573838511, 68.50265881102706, 63.785292404698424, 58.268590999948294, 61.46939919665327, 55.22504049072847, 52.67700312844785, 48.39954476403378, 44.32064372181423, 40.77920701807894, 40.07067231756096, 38.70469240423967, 38.5075350664489, 38.067372172967595, 36.87022734673557, 36.815619922823196, 35.42865695609083, 34.32091776398795, 345.6646563499532, 170.2748573487326, 67.91333972120432, 66.04405287723782, 98.56997482353059, 64.62974297923195, 73.15005480021063, 78.35769392121937, 111.93474291095123, 124.36346089891394, 78.67804862928085, 105.27749783778206, 125.67050638085416, 77.98529174647577, 116.61525065876512, 88.94617372551929, 99.83706519670599, 70.41063772915484, 1580.9855785500754, 493.32447689073047, 176.3153041744718, 167.36955908964453, 132.72553819390436, 97.83020085056734, 69.49413145711286, 67.69884938375291, 60.020844973629636, 55.69035117826042, 50.71697123712726, 47.3815595922181, 46.81901358048639, 45.26830112154799, 41.33052442054258, 41.15383121426812, 39.56356057663127, 38.81572413298388, 35.59793629373308, 35.18546764868638, 31.977778308090166, 31.089654736936367, 28.2588249166892, 28.04019060563575, 27.1393760371791, 26.377904700672683, 24.662109843636657, 23.36210190795129, 23.206270692717897, 22.126847883536442, 85.92303142103837, 31.02918304463815, 136.8946321645378, 368.8162130794306, 295.1118891930375, 108.86311542613515, 96.52633515505018, 112.52662378188367, 66.9272762137802, 130.4519583151412, 65.3623399745103, 101.08403667904703, 137.34182189066536, 129.38893097030652, 90.09125946697766, 69.05753912052595, 60.91059986496943, 53.65159254413053, 56.51992033456596, 376.27044973797905, 121.31413955629394, 102.51909846981064, 102.69660716940973, 95.87096469903601, 95.69364608869165, 94.71991176935536, 94.65050045639617, 79.77671711055683, 79.45356917359275, 61.799385110181504, 59.337010289215726, 59.228067888935016, 57.519766488641636, 52.09751903953735, 46.923438128344245, 46.372275848415626, 44.99147353201607, 44.516577517953074, 43.79045262113009, 42.14679622886671, 40.93848267583643, 40.02138015365887, 37.58573342968372, 36.04848776207602, 34.23125250133191, 33.66561187588984, 32.2323811190211, 31.70163452769722, 31.63988240729738, 150.70542100328404, 44.23369393211987, 58.59718471186633, 95.83661077895526, 127.24224156901069, 321.7566160897355, 85.03851438271687, 50.161174598201505, 121.78283340465825, 96.87473433310934, 87.03739269797794, 100.50523175682257, 95.06149559162107, 61.31464698904623, 56.069446768479814, 69.71096710459925, 59.08902540546234, 56.90682842543045, 241.6762225700141, 189.34838171635568, 155.73107923487166, 149.21862722394485, 114.48842004044836, 98.19619282496377, 84.26757547699812, 72.0242014315894, 62.561645898181474, 60.395947816928754, 59.09206890986246, 57.572654185492084, 57.3041159967662, 47.73823244261484, 249.46593716976912, 43.10094516437124, 39.62080976344739, 38.96891104874424, 38.83426352390229, 36.66904496897994, 36.462148731079395, 35.05802193808821, 31.92457288471417, 30.762815138061065, 29.22409214875385, 26.331748015179535, 25.310362921787657, 25.294443910199575, 25.17264756177685, 24.495839763165897, 69.89746909370155, 200.731794227487, 138.92089333288865, 97.66293127260053, 41.6966681231749, 79.36743267736078, 55.68572122964063, 53.94807153782831, 261.9623775315788, 179.0741487056756, 84.90522888700168, 159.75037547491092, 86.88367217707184, 105.79519475808522, 44.98390693944303, 83.73863098010307, 90.78876567324852, 69.73049045492913, 61.86325497467077, 151.97479047638157, 107.23773512732868, 94.39952022712929, 88.90205622828817, 86.36733654805495, 80.92853114907265, 78.47631042925491, 74.02580716443055, 70.45657681436245, 63.075176373536706, 54.11595394521158, 51.321822425544035, 50.06009744016358, 48.58881338959836, 45.407016426712836, 44.094970021510456, 41.38566177765869, 40.78797382608875, 39.83997947777545, 38.3938900220458, 37.51678736834949, 35.20971450518631, 34.42171391234337, 32.90899730274408, 32.844794764151274, 32.83038720410124, 31.372981083817113, 30.842262154141338, 30.27602569297232, 29.806566129504855, 60.14425048741152, 114.76270373213714, 37.11038145640837, 51.76303782013229, 53.521041316115515, 53.57205039304412, 60.5280957824641, 89.59968325035022, 129.66612311868178, 111.50846605768677, 56.54435794232527, 95.45388168235873, 63.551647549780085, 53.256567904898304, 88.37901207823356, 84.63187203807688, 67.23414499188587, 60.665788894023684], \"Term\": [\"yes\", \"model\", \"water\", \"number\", \"don\", \"ice\", \"filter\", \"know\", \"door\", \"like\", \"washer\", \"fit\", \"inches\", \"hope\", \"sure\", \"does\", \"helps\", \"good\", \"need\", \"com\", \"range\", \"parts\", \"work\", \"installed\", \"fits\", \"unit\", \"machine\", \"amazon\", \"bought\", \"product\", \"sorry\", \"months\", \"wash\", \"hot\", \"fan\", \"run\", \"dry\", \"change\", \"house\", \"needs\", \"bad\", \"depends\", \"cooking\", \"simple\", \"flow\", \"push\", \"bag\", \"timer\", \"replacing\", \"leave\", \"mount\", \"humidifier\", \"tried\", \"lock\", \"holds\", \"quick\", \"cause\", \"towels\", \"week\", \"weeks\", \"heater\", \"water\", \"replace\", \"minutes\", \"working\", \"air\", \"replaced\", \"problem\", \"time\", \"use\", \"filter\", \"new\", \"light\", \"just\", \"love\", \"clean\", \"turn\", \"used\", \"thing\", \"little\", \"don\", \"really\", \"using\", \"unit\", \"washer\", \"year\", \"luck\", \"drain\", \"years\", \"load\", \"cut\", \"far\", \"bit\", \"cycle\", \"pump\", \"service\", \"washing\", \"room\", \"quality\", \"hoses\", \"half\", \"spin\", \"screen\", \"job\", \"laundry\", \"kind\", \"cleaning\", \"items\", \"round\", \"washers\", \"rubber\", \"noise\", \"allow\", \"apart\", \"machine\", \"good\", \"sink\", \"hose\", \"tub\", \"easy\", \"clothes\", \"pretty\", \"stainless\", \"warranty\", \"install\", \"small\", \"steel\", \"little\", \"dryer\", \"unit\", \"does\", \"use\", \"like\", \"just\", \"make\", \"number\", \"com\", \"filters\", \"www\", \"http\", \"website\", \"search\", \"sears\", \"site\", \"numbers\", \"according\", \"went\", \"said\", \"link\", \"compatible\", \"days\", \"list\", \"information\", \"web\", \"sold\", \"package\", \"nsf\", \"carbon\", \"feature\", \"woder\", \"recommended\", \"separate\", \"ref\", \"replaces\", \"led\", \"replacement\", \"correct\", \"kenmore\", \"ordered\", \"model\", \"whirlpool\", \"parts\", \"refrigerator\", \"amazon\", \"listed\", \"looked\", \"filter\", \"check\", \"maytag\", \"look\", \"manual\", \"models\", \"different\", \"fridge\", \"did\", \"say\", \"oven\", \"set\", \"try\", \"better\", \"home\", \"white\", \"kitchen\", \"ones\", \"setting\", \"hello\", \"level\", \"answer\", \"surface\", \"away\", \"unfortunately\", \"depot\", \"suggest\", \"thermostat\", \"clock\", \"adapter\", \"short\", \"doing\", \"pack\", \"appliances\", \"total\", \"noticed\", \"aid\", \"cool\", \"battery\", \"know\", \"stove\", \"don\", \"think\", \"question\", \"buy\", \"let\", \"didn\", \"work\", \"really\", \"just\", \"sure\", \"regular\", \"fine\", \"help\", \"like\", \"need\", \"want\", \"long\", \"bought\", \"order\", \"item\", \"able\", \"perfect\", \"says\", \"questions\", \"shipping\", \"google\", \"switch\", \"thanks\", \"goes\", \"lower\", \"purchase\", \"people\", \"panel\", \"pipe\", \"units\", \"products\", \"speed\", \"vented\", \"option\", \"appears\", \"required\", \"dear\", \"reference\", \"higher\", \"cross\", \"states\", \"kegs\", \"product\", \"believe\", \"included\", \"free\", \"sure\", \"right\", \"make\", \"vent\", \"great\", \"best\", \"dryer\", \"works\", \"worked\", \"came\", \"need\", \"fit\", \"purchased\", \"unit\", \"amazon\", \"used\", \"inches\", \"helps\", \"fits\", \"wide\", \"inch\", \"height\", \"dimensions\", \"deep\", \"depth\", \"piece\", \"width\", \"diameter\", \"counter\", \"idea\", \"overall\", \"clear\", \"sides\", \"edge\", \"weight\", \"tall\", \"mounted\", \"measurements\", \"coming\", \"foot\", \"helpful\", \"including\", \"specs\", \"ended\", \"measures\", \"hear\", \"hope\", \"plastic\", \"center\", \"shelf\", \"ceiling\", \"measure\", \"space\", \"maybe\", \"outside\", \"inside\", \"instructions\", \"high\", \"long\", \"box\", \"fit\", \"right\", \"just\", \"metal\", \"yes\", \"ice\", \"maker\", \"thank\", \"valve\", \"rack\", \"bin\", \"temp\", \"based\", \"dispenser\", \"connector\", \"cubes\", \"degrees\", \"ship\", \"support\", \"lines\", \"beer\", \"clearance\", \"night\", \"amana\", \"fitting\", \"venting\", \"grease\", \"bottles\", \"handles\", \"minute\", \"trap\", \"cans\", \"plates\", \"defrost\", \"frigidaire\", \"doors\", \"freezer\", \"fit\", \"does\", \"line\", \"perfectly\", \"comes\", \"cold\", \"fridge\", \"temperature\", \"fine\", \"work\", \"model\", \"works\", \"vent\", \"size\", \"outside\", \"did\", \"door\", \"control\", \"company\", \"handle\", \"times\", \"return\", \"picture\", \"black\", \"pressure\", \"money\", \"couldn\", \"unless\", \"press\", \"board\", \"fix\", \"experience\", \"require\", \"gallon\", \"bracket\", \"adjust\", \"rear\", \"loud\", \"loads\", \"cooler\", \"recall\", \"trying\", \"broke\", \"goedekers\", \"waste\", \"turns\", \"open\", \"capacity\", \"received\", \"actually\", \"looks\", \"like\", \"motor\", \"feel\", \"look\", \"probably\", \"doesn\", \"did\", \"work\", \"makes\", \"left\", \"time\", \"install\", \"freezer\", \"installed\", \"dishwasher\", \"power\", \"plug\", \"wire\", \"cord\", \"outlet\", \"burners\", \"pans\", \"direct\", \"food\", \"chimney\", \"wires\", \"extension\", \"range\", \"flat\", \"wish\", \"display\", \"pleased\", \"sizes\", \"delivery\", \"regards\", \"elite\", \"wired\", \"important\", \"buttons\", \"manufactured\", \"research\", \"generic\", \"sealed\", \"electrical\", \"hood\", \"standard\", \"electric\", \"double\", \"gas\", \"directly\", \"seller\", \"need\", \"unit\", \"wall\", \"work\", \"come\", \"did\", \"local\", \"new\", \"does\", \"old\", \"sure\", \"element\", \"looking\", \"cover\", \"pan\", \"glass\", \"feet\", \"cooktop\", \"larger\", \"screw\", \"smaller\", \"cook\", \"actual\", \"bearing\", \"iron\", \"lbs\", \"induction\", \"attach\", \"videos\", \"broken\", \"watch\", \"cast\", \"griddle\", \"absolutely\", \"china\", \"pot\", \"position\", \"coil\", \"phone\", \"housing\", \"function\", \"length\", \"burner\", \"seen\", \"removed\", \"heating\", \"knobs\", \"hole\", \"place\", \"size\", \"small\", \"screws\", \"old\", \"large\", \"easily\", \"use\", \"fit\", \"used\", \"long\"], \"Total\": [1581.0, 1073.0, 1107.0, 705.0, 806.0, 494.0, 919.0, 638.0, 377.0, 576.0, 469.0, 785.0, 343.0, 379.0, 774.0, 615.0, 321.0, 509.0, 685.0, 366.0, 254.0, 415.0, 660.0, 242.0, 257.0, 582.0, 357.0, 403.0, 279.0, 291.0, 226.89964830294264, 189.55482718901587, 148.62795591141034, 146.10914680457182, 141.34603046732647, 134.96884056568757, 133.86505573111896, 107.11619568811754, 104.12600358572885, 87.66619247564864, 79.12856658358497, 71.09296511948877, 71.04403069062644, 70.00955652017174, 68.88414498595459, 67.35083616876118, 64.36611055385661, 59.485660309218076, 59.3417055490749, 58.57905847620592, 55.95416267433095, 55.1669829915732, 52.02064814797911, 45.58606481969117, 45.41442009586112, 44.06045809297916, 41.36845325518647, 40.8705804723562, 38.98052482116246, 38.00310255688724, 44.795310034258925, 1107.3306521067752, 208.14884758748258, 125.90568415498927, 123.97865477905728, 174.58010202198088, 152.97221937429222, 265.5048990011922, 378.808650975836, 809.5337662113496, 919.7568822258569, 342.1897295437126, 163.76534335436165, 899.7855890034092, 153.1468498328363, 183.97471827009912, 162.68597220786947, 442.47095446537367, 147.22624815454924, 239.07315027938367, 806.4613158535069, 232.71023590698508, 223.8874288046418, 582.6849103395932, 469.69211492384034, 217.8902954534135, 207.4322948238636, 193.2316660791112, 190.37867711545283, 137.7413100810644, 119.30869694151016, 119.24717794563156, 113.09842555517409, 165.37577931418338, 107.30474510387418, 106.99806404844493, 100.77236498371889, 95.45180127015588, 88.92957658575823, 83.53320905557541, 78.44619995354985, 69.40567725319924, 69.06229888542181, 66.93545371021763, 65.75774421435342, 61.26762330950208, 60.29479018117311, 59.28125619120635, 54.930354329098385, 52.36989536192549, 50.99932945663435, 50.531901644211906, 48.29706469895618, 47.23264470215607, 357.9646061937413, 509.82497908390087, 139.58737894000078, 200.68499735952216, 63.736201323559925, 260.54167385529973, 163.85534707930867, 153.1775871513103, 137.09710417845037, 168.01394347799734, 223.94263252736525, 258.47830880563197, 123.21019840429301, 239.07315027938367, 398.32555231092215, 582.6849103395932, 615.8652232171527, 809.5337662113496, 576.8232595323606, 899.7855890034092, 339.0411956068418, 705.3925046259975, 366.96196161977525, 251.670131928816, 245.3206051954071, 238.55040513963849, 178.59157708552837, 139.7406723914245, 120.5228618492742, 110.19705454924423, 106.15163717046822, 105.2536794635608, 88.15942687572102, 87.6079668579836, 79.94081505291143, 76.89537014912477, 66.69970436813846, 59.867342866795056, 56.27873681486294, 56.13661183280154, 51.913139951634875, 51.68686428266335, 49.8445048332721, 51.574423209672766, 46.432466990625386, 72.62361881749085, 43.456593645009534, 43.05988809494327, 43.03432524434304, 42.494480616640175, 41.63632562361503, 289.1505467712753, 200.84399189521056, 217.796274180607, 128.61130460053977, 1073.615162162527, 365.7749433614912, 415.0617307087813, 308.89196189550154, 403.32783706296595, 103.28170744064232, 92.4742405012541, 919.7568822258569, 288.2494265798771, 113.70965053890698, 301.20240145640685, 173.80211278689953, 148.73470445292475, 257.7877965210676, 345.9802320882898, 415.95282501221993, 219.70164524042977, 267.25460572324175, 193.3380972154093, 182.29264087669878, 175.87894337225745, 158.6745406148278, 136.44525471008268, 135.61598954435271, 109.39072847938405, 85.07293893456644, 83.92406325311326, 81.51698265133149, 184.84351086771804, 74.27767591518683, 68.63182365800358, 62.27318228568701, 58.54371496445524, 52.40929969680019, 51.96433824853309, 49.088200528530635, 48.90719116071024, 47.603689246326496, 46.491889660834765, 46.02382687731304, 45.83254797778847, 41.899148062517334, 40.573525153431625, 40.3253322957298, 40.21117618837784, 38.633046485016216, 638.6520566782309, 285.44781755625695, 806.4613158535069, 376.0327574321238, 181.02366473476246, 259.8089729962767, 139.5558778337108, 170.07770200251156, 660.9249195015875, 232.71023590698508, 899.7855890034092, 774.499714890658, 83.68253631311335, 264.12490612115886, 179.8508780884989, 576.8232595323606, 685.5675450816412, 204.86218769392616, 271.52604282135854, 279.56785152606375, 175.03912684637712, 142.39119910424162, 176.87647889993897, 106.2293101494381, 105.41454821257653, 101.63215299481752, 98.75360976351126, 93.23480472196485, 93.21779515346923, 86.40981695164321, 81.79650626691024, 79.38841962339605, 163.79920764119768, 71.89949838958633, 69.95352563162773, 63.485276822054175, 63.34420833090854, 74.63442620536885, 57.20327596081334, 57.015665835829424, 53.31821856497269, 52.669716537511476, 52.09055536054721, 47.67711438889028, 47.347518578807794, 44.25334911830948, 43.02603897824292, 38.18358208039162, 37.93753052392374, 291.3925089227847, 221.04052671901349, 77.70732199856995, 103.05766742456099, 774.499714890658, 281.4650872101459, 339.0411956068418, 228.07416929751383, 411.3434352854065, 198.11150413105088, 398.32555231092215, 450.56984960861945, 234.85645820815176, 165.3592389432933, 685.5675450816412, 785.322071751909, 163.28007050458487, 582.6849103395932, 403.32783706296595, 442.47095446537367, 343.9497353657444, 321.92067447227714, 257.2429272264501, 156.9245010709559, 154.4683206726707, 151.7884924194331, 132.59140080368033, 122.7974322199106, 116.28828414186171, 100.88499937652651, 93.23177631503239, 75.32994214873712, 73.90448133421668, 69.37610894364089, 64.65870295098289, 59.14213343429115, 62.402534358124925, 56.09843743834948, 53.55047709982677, 49.27297140808776, 45.19404643189823, 41.652558118371395, 40.94423681997697, 39.578115071995235, 39.38104456687165, 38.94090229800221, 37.743652097825326, 37.68909511481169, 36.302029599025694, 35.19444619666107, 379.8261430847391, 187.08310207621784, 75.63549919946871, 73.68619130252291, 121.3473137007914, 74.2428775541198, 86.79112441788092, 95.77525449437037, 167.29356896704763, 206.59948620590887, 106.90755672232649, 183.61981065325972, 271.52604282135854, 150.9881906587167, 785.322071751909, 281.4650872101459, 899.7855890034092, 127.43458057713801, 1581.86677007473, 494.2105748043824, 177.19399228812378, 168.24835319809833, 133.6054071983429, 98.70903995307752, 70.37302469340769, 68.57759246929076, 60.89973218059154, 56.5691009270795, 51.59577264268512, 48.262015740005886, 47.70200646524605, 46.14725197956629, 42.209498256729, 42.03257301721427, 40.44494798887192, 39.69452891998732, 36.47689110664394, 36.064289526703845, 32.856560021608004, 31.9686224275917, 29.137707930175864, 28.9188896016547, 28.018250947327665, 27.25687521074237, 25.54101718649316, 24.240849318251787, 24.08559237869782, 23.006359602745025, 90.38988464892641, 32.40193178913559, 194.59775841547065, 785.322071751909, 615.8652232171527, 186.80178618155156, 168.5761744128648, 238.80328239380938, 113.92861308749195, 345.9802320882898, 118.29785351383823, 264.12490612115886, 660.9249195015875, 1073.615162162527, 450.56984960861945, 228.07416929751383, 270.51177516675926, 167.29356896704763, 415.95282501221993, 377.14228060638527, 122.18592474998032, 103.39097763782806, 103.57280914481989, 96.74273193924513, 96.56540730218146, 95.5916406398414, 95.52227814411529, 80.64846622737326, 80.3254869338093, 62.67121742354768, 60.20883767255873, 60.099789678670874, 58.39873341209791, 52.969412672062475, 47.79516265971622, 47.24412719180124, 45.863232555460186, 45.38836224083503, 44.66223734009735, 43.018586080903546, 41.81017396607243, 40.893230278576134, 38.457513019037584, 36.92026366454503, 35.103001138325446, 34.537304000320205, 33.10412067211848, 32.57333068488783, 32.51158215866357, 158.04779793808552, 45.92894407967059, 63.52419280500529, 123.60788801335656, 178.13586087987014, 576.8232595323606, 112.42602805594493, 60.06376537912517, 301.20240145640685, 200.08586581707402, 185.67879392361368, 415.95282501221993, 660.9249195015875, 139.9266842826315, 106.19192589825224, 378.808650975836, 223.94263252736525, 194.59775841547065, 242.54883341058766, 190.22096085467265, 156.6239803165553, 150.09113942313607, 115.36093344880919, 99.0686613995436, 85.14008225281114, 72.91265548488379, 63.434192518204746, 61.26851234095637, 59.964735075111896, 58.44517977823719, 58.17664738874333, 48.61075670340607, 254.13885738396309, 43.97357925361988, 40.49344016254454, 39.841512250926264, 39.7075667726553, 37.541624001187586, 37.3347579623551, 35.930669914916884, 32.79709323370866, 31.635273015138207, 30.09675877331622, 27.204299637285217, 26.183054581848545, 26.167066249574074, 26.04524089714074, 25.368340946878586, 72.59422575908282, 228.7206471298133, 155.65037716584416, 108.81271877331918, 49.259434988222964, 113.76862115344555, 72.4813884190246, 69.69329663433841, 685.5675450816412, 582.6849103395932, 173.72814462182623, 660.9249195015875, 218.92105442502265, 415.95282501221993, 56.96979805447652, 342.1897295437126, 615.8652232171527, 337.27024369784664, 774.499714890658, 152.84503347430856, 108.10804780257862, 95.2702011247147, 89.77233608572202, 87.23771049156288, 81.79972999346279, 79.35019889339428, 74.89677352596227, 71.32688045243799, 63.945426831718194, 54.986406767527306, 52.192148259001726, 50.930506874831195, 49.45902866839116, 46.30114692261972, 44.965281950835475, 42.2559354471024, 41.65830047686083, 40.710336457284406, 39.264242643368505, 38.38700225606721, 36.07992554439816, 35.29210752276541, 33.77927086264191, 33.71498825737493, 33.70573237491603, 32.24322843504516, 31.712710579607357, 31.146308254275464, 30.676865272760445, 64.5592827208473, 129.70167225470786, 39.487097632912764, 59.8440458885629, 62.61526645139684, 65.11767621939566, 77.75483794747618, 137.9115902618824, 270.51177516675926, 258.47830880563197, 83.39503740002536, 337.27024369784664, 138.08054760224508, 98.57762573369624, 809.5337662113496, 785.322071751909, 442.47095446537367, 271.52604282135854], \"loglift\": [30.0, 29.0, 28.0, 27.0, 26.0, 25.0, 24.0, 23.0, 22.0, 21.0, 20.0, 19.0, 18.0, 17.0, 16.0, 15.0, 14.0, 13.0, 12.0, 11.0, 10.0, 9.0, 8.0, 7.0, 6.0, 5.0, 4.0, 3.0, 2.0, 1.0, 1.8824, 1.8816, 1.8804, 1.8803, 1.88, 1.8798, 1.8797, 1.8781, 1.8778, 1.8762, 1.8751, 1.8739, 1.8739, 1.8737, 1.8734, 1.8732, 1.8726, 1.8714, 1.8714, 1.8712, 1.8705, 1.8703, 1.8693, 1.8669, 1.8668, 1.8662, 1.8649, 1.8646, 1.8636, 1.863, 1.8624, 1.8077, 1.8324, 1.8409, 1.7967, 1.7271, 1.7369, 1.5863, 1.4412, 1.2047, 1.1695, 1.2855, 1.5175, 0.9049, 1.5293, 1.4409, 1.4829, 1.0223, 1.4695, 1.1832, 0.4288, 1.1801, 1.1957, 0.2646, 1.9229, 1.9208, 1.9206, 1.9203, 1.9202, 1.918, 1.9174, 1.9174, 1.917, 1.9167, 1.9166, 1.9166, 1.9161, 1.9156, 1.9149, 1.9143, 1.9136, 1.9121, 1.912, 1.9116, 1.9114, 1.9104, 1.9102, 1.9099, 1.9087, 1.9079, 1.9075, 1.9073, 1.9065, 1.9061, 1.9, 1.8431, 1.8793, 1.8564, 1.8949, 1.7469, 1.7801, 1.6556, 1.6619, 1.5195, 1.3401, 1.249, 1.6077, 1.235, 0.9505, 0.6757, 0.6205, 0.2847, 0.4981, 0.1213, 0.8982, 2.1015, 2.1004, 2.0993, 2.0993, 2.0991, 2.0979, 2.0965, 2.0955, 2.0948, 2.0945, 2.0945, 2.0928, 2.0928, 2.0918, 2.0914, 2.0896, 2.0881, 2.0871, 2.0871, 2.0858, 2.0857, 2.0851, 2.0849, 2.0836, 2.0834, 2.0824, 2.0822, 2.0822, 2.082, 2.0815, 2.0621, 2.0539, 2.0412, 2.0566, 1.9708, 1.905, 1.8853, 1.8827, 1.8259, 1.9907, 1.995, 1.431, 1.6644, 1.8904, 1.5085, 1.7197, 1.7657, 1.4807, 1.039, 0.6875, 2.2025, 2.2023, 2.202, 2.2017, 2.2015, 2.201, 2.2001, 2.2, 2.1985, 2.1962, 2.196, 2.1957, 2.1955, 2.1947, 2.1937, 2.1924, 2.1914, 2.1897, 2.1895, 2.1885, 2.1885, 2.188, 2.1875, 2.1873, 2.1872, 2.1854, 2.1847, 2.1846, 2.1845, 2.1836, 2.1069, 2.0814, 1.929, 1.8538, 1.9186, 1.8111, 1.9204, 1.8299, 1.0745, 1.5062, 0.879, 0.5508, 1.8953, 1.166, 1.4114, 0.5915, 0.3568, 1.2856, 1.0265, 2.2295, 2.2276, 2.2265, 2.2258, 2.2244, 2.2243, 2.224, 2.2237, 2.2232, 2.2232, 2.2225, 2.2219, 2.2216, 2.2206, 2.2204, 2.2201, 2.2188, 2.2187, 2.2187, 2.2172, 2.2172, 2.2161, 2.2159, 2.2157, 2.2141, 2.214, 2.2127, 2.2121, 2.2095, 2.2093, 2.1979, 2.1136, 2.1397, 2.0735, 1.7283, 1.8488, 1.7855, 1.8671, 1.6911, 1.8332, 1.5947, 1.4809, 1.6833, 1.7073, 0.8113, 0.7097, 1.6888, 0.6592, 0.8052, 0.6419, 2.4774, 2.4772, 2.4765, 2.4743, 2.4742, 2.4741, 2.4733, 2.4728, 2.4724, 2.4712, 2.4705, 2.4683, 2.468, 2.4672, 2.4663, 2.465, 2.4649, 2.4642, 2.4635, 2.462, 2.4604, 2.4587, 2.4584, 2.4576, 2.4575, 2.4572, 2.4565, 2.4565, 2.4556, 2.4548, 2.3857, 2.3858, 2.3722, 2.3704, 2.272, 2.3413, 2.3089, 2.2792, 2.0781, 1.9723, 2.1733, 1.9237, 1.7095, 1.8192, 0.5727, 1.3279, 0.2813, 1.8867, 2.5485, 2.5472, 2.5441, 2.5438, 2.5424, 2.5401, 2.5365, 2.5361, 2.5345, 2.5334, 2.5319, 2.5306, 2.5304, 2.5298, 2.528, 2.5279, 2.527, 2.5267, 2.5247, 2.5244, 2.5219, 2.5212, 2.5184, 2.5182, 2.5172, 2.5163, 2.514, 2.5121, 2.5119, 2.5101, 2.4984, 2.5058, 2.1973, 1.7932, 1.8134, 2.0091, 1.9915, 1.7966, 2.0171, 1.5737, 1.9558, 1.5886, 0.9779, 0.4331, 0.9394, 1.3543, 1.0581, 1.4118, 0.5531, 2.6108, 2.6059, 2.6046, 2.6046, 2.604, 2.604, 2.6039, 2.6039, 2.6022, 2.6022, 2.5991, 2.5985, 2.5985, 2.5979, 2.5965, 2.5947, 2.5945, 2.5939, 2.5937, 2.5934, 2.5926, 2.592, 2.5915, 2.5902, 2.5892, 2.5879, 2.5875, 2.5864, 2.586, 2.5859, 2.5655, 2.5755, 2.5324, 2.3586, 2.2766, 2.0293, 2.3339, 2.4329, 1.7075, 1.8878, 1.8554, 1.1927, 0.674, 1.788, 1.9744, 0.9204, 1.2807, 1.3836, 2.7, 2.699, 2.6979, 2.6978, 2.696, 2.6947, 2.6933, 2.6913, 2.6897, 2.6892, 2.6889, 2.6885, 2.6885, 2.6855, 2.685, 2.6835, 2.6818, 2.6814, 2.6813, 2.6801, 2.6799, 2.679, 2.6766, 2.6756, 2.6742, 2.671, 2.6697, 2.6697, 2.6695, 2.6686, 2.6657, 2.5731, 2.5899, 2.5955, 2.5369, 2.3435, 2.44, 2.4475, 1.7415, 1.5237, 1.9876, 1.2836, 1.7794, 1.3345, 2.4674, 1.2959, 0.7891, 1.1273, 0.1763, 2.7938, 2.7914, 2.7903, 2.7898, 2.7895, 2.7888, 2.7884, 2.7878, 2.7872, 2.7858, 2.7835, 2.7827, 2.7823, 2.7818, 2.78, 2.78, 2.7787, 2.7784, 2.7779, 2.7771, 2.7766, 2.7751, 2.7745, 2.7734, 2.7734, 2.7732, 2.7721, 2.7717, 2.7712, 2.7707, 2.7287, 2.6771, 2.7374, 2.6544, 2.6426, 2.6043, 2.5491, 2.3682, 2.0642, 1.9588, 2.4109, 1.5373, 2.0235, 2.1838, 0.5847, 0.5717, 0.9153, 1.3008], \"logprob\": [30.0, 29.0, 28.0, 27.0, 26.0, 25.0, 24.0, 23.0, 22.0, 21.0, 20.0, 19.0, 18.0, 17.0, 16.0, 15.0, 14.0, 13.0, 12.0, 11.0, 10.0, 9.0, 8.0, 7.0, 6.0, 5.0, 4.0, 3.0, 2.0, 1.0, -4.2504, -4.4309, -4.6755, -4.6927, -4.726, -4.7725, -4.7807, -5.0053, -5.0338, -5.2075, -5.311, -5.4194, -5.4201, -5.4349, -5.4514, -5.4742, -5.5201, -5.6001, -5.6025, -5.6157, -5.6622, -5.6766, -5.7363, -5.8708, -5.8746, -5.9055, -5.9699, -5.9822, -6.0306, -6.0566, -5.8928, -2.7399, -4.3866, -4.8808, -4.9404, -4.6678, -4.7901, -4.3893, -4.179, -3.6561, -3.5636, -4.4364, -4.9414, -3.8502, -4.9965, -4.9016, -4.9825, -4.4426, -5.0958, -4.8973, -4.4358, -4.9274, -4.9504, -4.925, -3.4822, -4.2525, -4.3019, -4.3731, -4.388, -4.7138, -4.8581, -4.8586, -4.912, -4.5323, -4.965, -4.9679, -5.0283, -5.083, -5.1545, -5.2177, -5.2813, -5.4052, -5.4102, -5.4419, -5.4599, -5.5316, -5.5478, -5.565, -5.6425, -5.691, -5.718, -5.7273, -5.7734, -5.7961, -3.7768, -3.4801, -4.7393, -4.3991, -5.5076, -4.2476, -4.6782, -4.87, -4.9747, -4.9137, -4.8057, -4.7534, -5.1356, -4.8455, -4.6195, -4.5139, -4.5137, -4.5761, -4.7017, -4.6338, -4.8329, -2.897, -3.5516, -3.9298, -3.9554, -3.9835, -4.2742, -4.5209, -4.6699, -4.7601, -4.7979, -4.8064, -4.9853, -4.9916, -5.0842, -5.1235, -5.2675, -5.3771, -5.4398, -5.4424, -5.5219, -5.5263, -5.5633, -5.5294, -5.6357, -5.1886, -5.7031, -5.7124, -5.713, -5.7259, -5.7468, -3.8282, -4.2008, -4.1325, -4.6438, -2.6077, -3.7502, -3.6435, -3.9416, -3.7316, -4.9291, -5.0353, -3.3021, -4.229, -4.9332, -4.3409, -4.6797, -4.7894, -4.5244, -4.6719, -4.8392, -3.9625, -3.7668, -4.0909, -4.15, -4.1859, -4.2894, -4.4413, -4.4474, -4.6639, -4.9176, -4.9313, -4.9607, -4.1422, -5.0548, -5.1348, -5.2334, -5.296, -5.4085, -5.4172, -5.4751, -5.4789, -5.5064, -5.5305, -5.5408, -5.545, -5.6366, -5.6694, -5.6757, -5.6786, -5.7195, -2.991, -3.8218, -2.9357, -3.7738, -4.44, -4.1862, -4.6984, -4.5912, -3.9891, -4.6012, -3.8761, -4.3543, -5.235, -4.8148, -4.9538, -4.6082, -4.6702, -4.9493, -4.9267, -3.6945, -4.1646, -4.3722, -4.156, -4.6673, -4.675, -4.7119, -4.7409, -4.7989, -4.7991, -4.8757, -4.9311, -4.9613, -4.238, -5.0616, -5.0894, -5.1877, -5.1899, -5.026, -5.2934, -5.2967, -5.3649, -5.3773, -5.3886, -5.4787, -5.4857, -5.5547, -5.5834, -5.7054, -5.712, -3.6847, -4.0453, -5.0646, -4.8485, -3.1768, -4.0685, -3.9456, -4.2605, -3.8467, -4.4352, -3.9753, -3.9658, -4.415, -4.7418, -4.2157, -4.1814, -4.773, -4.5304, -4.7523, -4.823, -3.2394, -3.3058, -3.5307, -4.0272, -4.043, -4.0606, -4.1967, -4.2739, -4.3288, -4.4721, -4.5517, -4.7671, -4.7865, -4.8505, -4.9218, -5.0123, -4.9588, -5.0659, -5.1132, -5.1978, -5.2859, -5.3692, -5.3867, -5.4214, -5.4265, -5.438, -5.4699, -5.4714, -5.5098, -5.5416, -3.2319, -3.9399, -4.8591, -4.887, -4.4866, -4.9087, -4.7848, -4.7161, -4.3594, -4.2541, -4.712, -4.4207, -4.2437, -4.7208, -4.3185, -4.5893, -4.4738, -4.823, -1.6424, -2.807, -3.8359, -3.888, -4.1199, -4.425, -4.767, -4.7931, -4.9135, -4.9884, -5.082, -5.15, -5.1619, -5.1956, -5.2866, -5.2909, -5.3303, -5.3494, -5.4359, -5.4476, -5.5432, -5.5713, -5.6668, -5.6746, -5.7072, -5.7357, -5.8029, -5.8571, -5.8638, -5.9114, -4.5548, -5.5733, -4.089, -3.0979, -3.3209, -4.3181, -4.4384, -4.285, -4.8046, -4.1372, -4.8283, -4.3923, -4.0857, -4.1454, -4.5074, -4.7733, -4.8988, -5.0257, -4.9736, -3.0139, -4.1458, -4.3141, -4.3124, -4.3812, -4.383, -4.3932, -4.394, -4.5649, -4.569, -4.8203, -4.8609, -4.8628, -4.892, -4.9911, -5.0957, -5.1075, -5.1377, -5.1483, -5.1648, -5.203, -5.2321, -5.2548, -5.3175, -5.3593, -5.411, -5.4277, -5.4712, -5.4878, -5.4898, -3.9288, -5.1547, -4.8735, -4.3815, -4.0981, -3.1704, -4.5011, -5.0289, -4.1419, -4.3707, -4.4778, -4.334, -4.3896, -4.8281, -4.9176, -4.6998, -4.8651, -4.9028, -3.3661, -3.6101, -3.8055, -3.8483, -4.1132, -4.2667, -4.4197, -4.5767, -4.7175, -4.7528, -4.7746, -4.8006, -4.8053, -4.9879, -3.3344, -5.0901, -5.1743, -5.1909, -5.1944, -5.2517, -5.2574, -5.2967, -5.3903, -5.4274, -5.4787, -5.5829, -5.6225, -5.6231, -5.6279, -5.6552, -4.6066, -3.5517, -3.9198, -4.2722, -5.1233, -4.4796, -4.834, -4.8657, -3.2855, -3.6659, -4.4121, -3.7801, -4.3891, -4.1922, -5.0474, -4.426, -4.3451, -4.609, -4.7287, -3.734, -4.0827, -4.2102, -4.2702, -4.2991, -4.3642, -4.395, -4.4533, -4.5028, -4.6134, -4.7666, -4.8196, -4.8445, -4.8744, -4.9421, -4.9714, -5.0348, -5.0494, -5.0729, -5.1099, -5.133, -5.1964, -5.2191, -5.264, -5.266, -5.2664, -5.3118, -5.3289, -5.3474, -5.363, -4.661, -4.0149, -5.1439, -4.8111, -4.7777, -4.7767, -4.6546, -4.2624, -3.8928, -4.0437, -4.7227, -4.1991, -4.6059, -4.7826, -4.2761, -4.3194, -4.5496, -4.6524]}, \"token.table\": {\"Topic\": [5, 10, 3, 10, 6, 8, 4, 8, 4, 1, 2, 7, 2, 7, 3, 5, 1, 4, 2, 5, 4, 10, 4, 1, 1, 7, 4, 10, 7, 5, 6, 8, 2, 5, 4, 7, 2, 8, 8, 7, 5, 1, 4, 6, 8, 8, 10, 9, 10, 9, 9, 4, 5, 1, 2, 4, 5, 8, 7, 5, 8, 3, 10, 1, 5, 6, 10, 2, 6, 8, 1, 1, 2, 3, 4, 5, 9, 10, 1, 2, 2, 6, 7, 4, 1, 2, 10, 1, 7, 3, 1, 5, 9, 1, 4, 5, 7, 10, 6, 8, 3, 7, 8, 10, 1, 10, 4, 8, 9, 2, 3, 8, 6, 10, 5, 7, 2, 2, 8, 3, 5, 6, 7, 7, 9, 1, 4, 6, 6, 1, 2, 3, 7, 8, 9, 1, 4, 3, 4, 5, 7, 9, 10, 6, 9, 2, 9, 9, 7, 9, 2, 4, 7, 9, 2, 4, 8, 4, 1, 4, 6, 10, 8, 2, 7, 2, 9, 2, 1, 1, 2, 5, 1, 2, 8, 10, 2, 4, 6, 7, 9, 2, 9, 10, 9, 6, 8, 9, 1, 2, 3, 6, 8, 10, 1, 3, 3, 1, 4, 7, 5, 6, 7, 8, 9, 10, 6, 7, 8, 9, 1, 9, 6, 1, 5, 7, 8, 1, 2, 3, 5, 7, 8, 2, 7, 10, 8, 4, 9, 9, 10, 8, 5, 1, 2, 8, 5, 7, 1, 2, 5, 10, 2, 8, 7, 6, 1, 1, 10, 6, 4, 1, 4, 5, 6, 6, 6, 1, 6, 5, 1, 2, 7, 10, 4, 6, 9, 5, 6, 1, 2, 2, 1, 1, 10, 3, 1, 7, 6, 9, 6, 6, 3, 5, 6, 10, 3, 2, 6, 2, 6, 8, 9, 6, 8, 10, 5, 2, 2, 1, 2, 4, 5, 6, 5, 3, 9, 2, 4, 8, 10, 1, 4, 10, 2, 6, 7, 10, 10, 2, 10, 1, 3, 1, 8, 9, 2, 10, 1, 4, 4, 1, 2, 6, 2, 4, 6, 8, 1, 2, 7, 7, 3, 3, 3, 5, 1, 2, 2, 8, 2, 9, 1, 4, 6, 7, 10, 3, 6, 8, 2, 3, 10, 4, 8, 8, 1, 2, 6, 5, 2, 2, 4, 10, 2, 5, 7, 1, 7, 8, 2, 3, 9, 6, 8, 2, 3, 6, 10, 4, 6, 10, 6, 6, 2, 6, 9, 7, 1, 4, 3, 5, 7, 3, 5, 6, 8, 1, 2, 8, 1, 6, 1, 2, 4, 5, 9, 1, 1, 2, 6, 9, 7, 2, 4, 3, 3, 3, 1, 2, 9, 10, 4, 1, 8, 5, 5, 3, 10, 9, 4, 6, 7, 4, 6, 4, 3, 10, 5, 9, 2, 3, 5, 5, 3, 6, 7, 10, 8, 6, 5, 1, 10, 4, 6, 7, 9, 9, 10, 10, 9, 8, 8, 1, 2, 4, 6, 8, 1, 2, 1, 5, 5, 2, 4, 5, 1, 2, 3, 5, 1, 2, 4, 5, 5, 1, 7, 3, 7, 9, 1, 4, 5, 8, 8, 5, 8, 3, 3, 5, 1, 2, 3, 6, 9, 4, 10, 2, 10, 1, 2, 1, 2, 3, 10, 3, 1, 8, 5, 9, 8, 5, 6, 2, 2, 2, 1, 3, 4, 5, 2, 10, 1, 8, 10, 9, 3, 3, 4, 10, 8, 9, 3, 2, 4, 4, 6, 7, 7, 5, 4, 6, 1, 1, 2, 3, 3, 6, 7, 9, 10, 9, 1, 2, 10, 10, 3, 1, 6, 7, 6, 5, 2, 2, 10, 4, 9, 5, 2, 9, 10, 4, 7, 4, 7, 1, 4, 5, 6, 7, 9, 4, 5, 6, 7, 1, 7, 7, 5, 4, 1, 5, 1, 2, 4, 7, 9, 1, 2, 8, 1, 8, 4, 1, 7, 1, 4, 8, 2, 6, 1, 8, 9, 8, 4, 1, 2, 5, 9, 5, 8, 1, 2, 3, 5, 6, 8, 9, 10, 1, 2, 5, 6, 7, 9, 10, 1, 2, 4, 7, 5, 7, 5, 7, 10, 6, 7, 9, 1, 3, 4, 5, 2, 5, 1, 2, 2, 2, 8, 10, 1, 2, 7, 3, 3, 1, 1, 6, 3, 3, 4, 5, 4, 6, 6, 9, 9, 9, 9, 1, 3, 1, 4, 7, 8, 9, 1, 2, 3, 5, 7, 1, 2, 10, 2, 3, 5, 7, 8, 3, 2, 2, 7], \"Freq\": [0.9950446836945753, 0.9633882016841321, 0.9880889725665616, 0.977158475004981, 0.21843266181428883, 0.7766494642285825, 0.9814507613465433, 0.9851723205209247, 0.9671340018723132, 0.8534764172679876, 0.04582423716875101, 0.0973765039835959, 0.9731440263079961, 0.9704891031912388, 0.7586880246805987, 0.24049914507849043, 0.005409981639634853, 0.9900266400531781, 0.9739026956900466, 0.9872845995471705, 0.981835005590526, 0.9702778927075315, 0.9907940132677809, 0.9857375580992884, 0.9787759343837693, 0.9852260075968235, 0.983613860603467, 0.981729872095755, 0.9889986757061886, 0.8867152232638091, 0.06333680166170065, 0.04524057261550046, 0.323050396698134, 0.6713391056383097, 0.9950025662230804, 0.98048933239136, 0.9902878793424208, 0.9945323943873352, 0.9931722249987136, 0.9682252806275755, 0.9979688239439405, 0.2715444156336278, 0.2053140703571332, 0.5165966931566577, 0.991443572280173, 0.9844427926303911, 0.9825514471483249, 0.10794001154053612, 0.886650094797261, 0.9874828933493858, 0.9557312758151418, 0.6735718092481275, 0.3233144684391012, 0.03628463724399205, 0.1028064721913108, 0.23585014208594832, 0.5926490749852035, 0.03628463724399205, 0.9488116401384704, 0.02177276268893426, 0.9580015583131075, 0.9888622465570293, 0.9899184038001809, 0.9669203669099011, 0.14833455682738042, 0.8158400625505923, 0.03296323485052898, 0.0793278297030417, 0.8990487366344725, 0.013221304950506949, 0.9895795805578506, 0.04509982952697239, 0.06938435311841906, 0.6452744840012973, 0.15264557686052194, 0.08673044139802383, 0.9923829513413019, 0.9769305007852096, 0.6413924756050473, 0.353309414528204, 0.9785256706710058, 0.9806883288111325, 0.9825031575160574, 0.9778317290751336, 0.12816182306113974, 0.8666180416515165, 0.9614421850606655, 0.4037616078471359, 0.588087559255611, 0.9973785794703921, 0.32888568068111046, 0.27407140056759205, 0.39740353082300844, 0.17587697949116962, 0.08793848974558481, 0.18006452662191175, 0.4731928257738611, 0.08375094261484267, 0.9769384681871449, 0.996218454968115, 0.9883559940294407, 0.9884530725644713, 0.9902940968658462, 0.9820608978561255, 0.9853044558356654, 0.9829843036032179, 0.9698796130035136, 0.9881034163906777, 0.9892129217812514, 0.04481089981867971, 0.9509868739297582, 0.9892898614205716, 0.9877614818764999, 0.9866673827732144, 0.9761530691039962, 0.973850745339678, 0.989031001301173, 0.9916808899109122, 0.006046834694578733, 0.9895096331420519, 0.985797915885445, 0.9935061164920572, 0.956257329707002, 0.9852835023667713, 0.9642489188305187, 0.9846262549655683, 0.9907126671960371, 0.9889216342697935, 0.9823451059326292, 0.0024041187843131533, 0.12261005799997082, 0.2428159972156285, 0.13703477070584974, 0.2428159972156285, 0.25483659113719426, 0.3116222725023492, 0.6879208657127331, 0.5353240217820862, 0.031033276625048477, 0.027154117046917416, 0.08922067029701437, 0.17844134059402875, 0.13577058523458707, 0.9955396745181387, 0.9792958521026729, 0.22074632328373542, 0.772612131493074, 0.9935813548139657, 0.9899397211949134, 0.9788785062769122, 0.27116322484914235, 0.10067137689010075, 0.4790009061706406, 0.1477596015645027, 0.11848418193113948, 0.40930899212575456, 0.4685510830913243, 0.9894198823832894, 0.233117195213552, 0.757630884444044, 0.001239985080923149, 0.007439910485538894, 0.9969712210348077, 0.030862357420778887, 0.9567330800441455, 0.14210475620911148, 0.8526285372546688, 0.9936259614994628, 0.9935378525307119, 0.09288884377449831, 0.3765763936803985, 0.527206951152558, 0.04057715906858875, 0.3956273009187403, 0.020288579534294374, 0.5376473576588009, 0.8367183520939279, 0.16120261829332555, 0.9804194646320296, 0.09190102143143945, 0.9006300100281067, 0.02755040058747048, 0.9642640205614669, 0.9944713056414057, 0.9756962231979324, 0.9817163263614446, 0.9833631142679128, 0.9874357704996748, 0.990477055047983, 0.9895412372257548, 0.9906861078324204, 0.1498407557899775, 0.8324486432776528, 0.9902233174421639, 0.4881724819643621, 0.5110046025016708, 0.9973372607878414, 0.26124003606213664, 0.35210613556201026, 0.3823948353953015, 0.21774505792067003, 0.14898346068256368, 0.4698709144603932, 0.040747613178137077, 0.015280354941801405, 0.10823584750442662, 0.9951682744406187, 0.9739303195147425, 0.9816986327927746, 0.9778599042846907, 0.9871647534256995, 0.9839116261598844, 0.985393062025728, 0.1358462727700305, 0.8538908574116204, 0.7040163315113932, 0.2929119043514556, 0.23989809908798326, 0.008671015629686142, 0.34395028664421695, 0.002890338543228714, 0.37574401061973284, 0.02312270834582971, 0.04425273929196799, 0.9514338947773118, 0.9779356441167583, 0.9811781135484439, 0.29885217606832437, 0.694391820864636, 0.9598682576495007, 0.9858122079936682, 0.9666470321609112, 0.9902623436713646, 0.021576031876205406, 0.9218849983469583, 0.05688226585545062, 0.9867559681639582, 0.9609541034283751, 0.18962257157666923, 0.2260884507260287, 0.5810230077797942, 0.9700685207049761, 0.9943120259003743, 0.9944695026662939, 0.9636575834358145, 0.966061514649593, 0.9822456852368991, 0.12776436887336018, 0.8624094898951812, 0.9948053214913402, 0.9889892932099068, 0.13344388559610126, 0.45037311388684176, 0.3002487425912278, 0.11120323799675105, 0.9903241630316684, 0.9971400579543814, 0.42479076589013626, 0.571833723313645, 0.9716778697368486, 0.9908747024626461, 0.12860936070312506, 0.07716561642187504, 0.7845171002890629, 0.9957489045677138, 0.1180479346260148, 0.8788012911047769, 0.08688185529303524, 0.9109430888300059, 0.05979520222182977, 0.9318085679568472, 0.9936168014900437, 0.9924087791296505, 0.9891861442199518, 0.9631960152414497, 0.9976927092648772, 0.978846351054734, 0.9975504878565952, 0.9945786964796999, 0.963558907403391, 0.9969681765773637, 0.9972387379082165, 0.07721280113231052, 0.9136848133990078, 0.975837686276456, 0.9785327277188898, 0.9772785089496673, 0.392062930491854, 0.6001951034690111, 0.5581786665150741, 0.17415174395270314, 0.263460330595115, 0.9977372251069186, 0.738956182538046, 0.2525546446649018, 0.9907190116597554, 0.9972526454815847, 0.9783868245457927, 0.9860245406826184, 0.37453367126412507, 0.16448363011006087, 0.2656188351101658, 0.08335319093415246, 0.11113758791220328, 0.9752875184289466, 0.9412465882221854, 0.055097361261786465, 0.9793100622967126, 0.9954578398430574, 0.16892494693665971, 0.8292679213254204, 0.08925047591088875, 0.9050311416928718, 0.004697393468994144, 0.42728683384103777, 0.04345289835671571, 0.06517934753507355, 0.4634975824716342, 0.9880265399463247, 0.9884767304078532, 0.9718981707992191, 0.9901149234680662, 0.9847170562223165, 0.32017500118207753, 0.5273470607704807, 0.14125367699209304, 0.06195855702573243, 0.9293783553859865, 0.24363001062924083, 0.7523867975314791, 0.9936579761110301, 0.6900116818702375, 0.21982673050733229, 0.08548817297507368, 0.2392413927827368, 0.19936782731894734, 0.0017336332810343246, 0.5582299164930525, 0.19271764331531505, 0.2248372505345342, 0.583506197815815, 0.9754339802897295, 0.9882311050708111, 0.9855122538388769, 0.8907676129664481, 0.09682256662678783, 0.4935727824814448, 0.5019384228624862, 0.9946180990972997, 0.9781570134594113, 0.19308476378100226, 0.7898922154677365, 0.9871437725101024, 0.30567970253448973, 0.46404388577524947, 0.00368288798234325, 0.22465616692293824, 0.5511244239665375, 0.03984031980480994, 0.40504325134890107, 0.09732440030018895, 0.8975472472128536, 0.9897505521087376, 0.2806846401001683, 0.7129389858544275, 0.980622564098158, 0.6986758142057329, 0.019589041519786903, 0.2742465812770166, 0.9951073516107433, 0.9979159714535739, 0.9749567246631937, 0.016761433661831412, 0.008380716830915706, 0.356888783923219, 0.6400402157961862, 0.9932616660829996, 0.2930105877245399, 0.2644241889221458, 0.4359425817365106, 0.3164518492789328, 0.678933058452983, 0.9548160212495337, 0.8144066065059091, 0.1774988757769289, 0.13191492480110636, 0.8090782054467858, 0.026382984960221276, 0.026382984960221276, 0.026938611027597734, 0.8755048583969264, 0.09428513859659207, 0.9843333003337537, 0.9641334213704503, 0.2981922161779161, 0.5493014508540559, 0.14124894450532866, 0.9538877732306228, 0.9530943801733415, 0.03971226584055589, 0.8764779347048274, 0.0027942973476243168, 0.12015478594784562, 0.7126783247385919, 0.21514817350599003, 0.06723380422062188, 0.9834985509032576, 0.9970729988930188, 0.2401579106447164, 0.7560526816592924, 0.9829474228774641, 0.9735795635450013, 0.11231570186250635, 0.10648111994757095, 0.15753371170325567, 0.24067650399108503, 0.38216511542826836, 0.992400805181157, 0.5494028130262284, 0.18410838947155528, 0.020456487719061698, 0.24547785262874036, 0.9869262129480909, 0.9894739436493613, 0.985864547108914, 0.983057212904473, 0.9980259151935051, 0.9891510182869925, 0.19568877252962766, 0.31132304720622583, 0.2075486981374839, 0.28167323318658527, 0.9964281389765342, 0.04429039879911656, 0.9554071740952287, 0.9752763951900169, 0.9940634596098671, 0.9563700514665627, 0.03887683136042938, 0.986609335783517, 0.005977516088481401, 0.6694818019099169, 0.32278586877799564, 0.9953055786640364, 0.9898126173133686, 0.9777544166407047, 0.9867110475321728, 0.9913967251004304, 0.9863691554783249, 0.9931552290496937, 0.19274241415460727, 0.8046995790954854, 0.9874895039640971, 0.9884277686854148, 0.17202905512006259, 0.24914552810491822, 0.5754075291946921, 0.9775260276847586, 0.9938107491839112, 0.9912276415523037, 0.9923560729928865, 0.348049064685949, 0.6525919962861544, 0.08552349101781295, 0.9086870920642626, 0.9549277276793092, 0.9821805557437842, 0.9927301543093764, 0.9790619480666962, 0.9787931630906462, 0.9960160614275402, 0.9817006068648326, 0.9919593482962834, 0.22849295808156753, 0.7638193170155257, 0.2848776937203127, 0.2249034424107732, 0.4847918647521111, 0.7419825424732197, 0.25234939261779554, 0.030886174916682173, 0.9643350168430768, 0.991499550038435, 0.9878407510999523, 0.006105035637232757, 0.9890157732317066, 0.17760893849678785, 0.15923560003160292, 0.07961780001580146, 0.5818223847308568, 0.9799432903048689, 0.9895470481087718, 0.7512829894327266, 0.2430621436399998, 0.9937799901292089, 0.9759317506245324, 0.9928168691194386, 0.011804570268715267, 0.003934856756238422, 0.9797793323033671, 0.49417680125581503, 0.4984739908319526, 0.008594379152275044, 0.9763221859735713, 0.9750742932686915, 0.06296813581368052, 0.9287800032517877, 0.9894931100964935, 0.9759651106768776, 0.9715398268113057, 0.1780557825541817, 0.0032373778646214856, 0.8028697104261284, 0.016186889323107426, 0.9740981752602806, 0.7289454011259585, 0.26289834138969, 0.11697070102905267, 0.8689252076443913, 0.9464381008268765, 0.04804254318918155, 0.8629017774594914, 0.13074269355446838, 0.961436881597545, 0.03804246653803236, 0.9883636507738244, 0.9773901754818064, 0.9736659926693038, 0.9790642400911475, 0.9553994231358256, 0.9941448255852934, 0.6821449931964387, 0.3162026270545992, 0.9952667077609446, 0.9830630197008297, 0.9804050471392158, 0.9928217463999326, 0.9930603701947662, 0.9968063723889645, 0.9960674478086216, 0.984618251889005, 0.9813971893342122, 0.20384906020792587, 0.1079200906983137, 0.6834939077559867, 0.9460610786592668, 0.9946996648953439, 0.9956617205959805, 0.05064945564226494, 0.9370149293819015, 0.21522873395845918, 0.7748234422504531, 0.9753857211006608, 0.9906721298434611, 0.9930789780458092, 0.9873880114169832, 0.8956902078034293, 0.0949974462821819, 0.9751393218370991, 0.9923687876796001, 0.9873184356951267, 0.9775244006905897, 0.9855797326771973, 0.035819857339316925, 0.9528082052258303, 0.9891371456874167, 0.040663664246108906, 0.12938438623761925, 0.22549850172842212, 0.125687689487973, 0.4805705774540144, 0.9855727072123878, 0.05416315227645498, 0.510681150035147, 0.43330521821163986, 0.9852150985838874, 0.9824102346248829, 0.9960350387950294, 0.8410998300761773, 0.14978490124644253, 0.980297293544941, 0.9789649117012522, 0.9941549845883747, 0.7658805095060822, 0.2261171028065576, 0.10279448268186421, 0.8930270682986953, 0.9690028536898473, 0.7304590136660646, 0.02434863378886882, 0.2434863378886882, 0.8828233550965408, 0.11560782031026129, 0.9921903231073859, 0.9713453533758558, 0.0761782075133875, 0.19109109681324324, 0.6042610358689042, 0.046481618143761866, 0.0025823121190978815, 0.08005167569203432, 0.9827986551888654, 0.9869360227683533, 0.9741649149278053, 0.9915775335865077, 0.4395684152791255, 0.5494605190989069, 0.9925802946990602, 0.9952572871219881, 0.9814423067619781, 0.658849907648093, 0.3328210873686243, 0.11169239692523665, 0.11169239692523665, 0.7020664949586304, 0.07180225516622356, 0.0026593427839342056, 0.6414848218857094, 0.17423044545043959, 0.18478986638682987, 0.9918356742331931, 0.9923226073488232, 0.9785401826983279, 0.978699092053634, 0.9788177118184914, 0.9803799417286045, 0.9929089793724963, 0.9685781527915802, 0.9727595732487098, 0.01568967053626951, 0.6700024502464598, 0.1782575326343792, 0.14752347528362417, 0.9842646181853919, 0.9795548864060599, 0.1973622415122731, 0.2866042985439097, 0.2076594019390004, 0.30719861939736426, 0.9787793017494759, 0.9799225874591219, 0.5052290800841284, 0.19393879113253826, 0.018529183866166078, 0.0790578511623086, 0.0012352789244110718, 0.05805810944732037, 0.03335253095909894, 0.10870454534817431, 0.42036657575577824, 0.10170159090865602, 0.20340318181731204, 0.0429406717169881, 0.020340318181731206, 0.058760919191667926, 0.1514223686862212, 0.5002514013313727, 0.27692488287986705, 0.2188599880824756, 0.9954686923902403, 0.6927570995288607, 0.3025331637182999, 0.9821861970575959, 0.9697008393218816, 0.9841976156174089, 0.34536718348433876, 0.16117135229269142, 0.48927017660281324, 0.34657444987396785, 0.08298261475855567, 0.40026908295303326, 0.1708465597970264, 0.6666113399967142, 0.3273537830341007, 0.9957749811765921, 0.9985264497702872, 0.9738419305125929, 0.9923355477085045, 0.9823987700111423, 0.9678016801482346, 0.9247463691642305, 0.04786284918525802, 0.027092178784108314, 0.9797527532265957, 0.9966875420712307, 0.9748457768164749, 0.9736047193676967, 0.9897204071814226, 0.9868485207219475, 0.820176464913053, 0.057412352543913706, 0.12029254818724776, 0.9967367519593939, 0.9941086250735449, 0.9867880205256393, 0.9882028221502464, 0.9799188388595789, 0.9797745755117026, 0.987814318552244, 0.013769625037731631, 0.9776433776789457, 0.08321671399752373, 0.3222756378449555, 0.20728526941201364, 0.14373796054117735, 0.2420849861746145, 0.01277375986544564, 0.24270143744346714, 0.0553529594169311, 0.5790771139002023, 0.1107059188338622, 0.911447218082642, 0.032263618339208565, 0.048395427508812844, 0.22416058262161148, 0.01109705854562433, 0.47051528233447165, 0.19974705382123795, 0.09099588007411952, 0.9946168191034944, 0.995914019706289, 0.9980109268475315, 0.9994520587377348], \"Term\": [\"able\", \"absolutely\", \"according\", \"actual\", \"actually\", \"actually\", \"adapter\", \"adjust\", \"aid\", \"air\", \"air\", \"air\", \"allow\", \"amana\", \"amazon\", \"amazon\", \"answer\", \"answer\", \"apart\", \"appears\", \"appliances\", \"attach\", \"away\", \"bad\", \"bag\", \"based\", \"battery\", \"bearing\", \"beer\", \"believe\", \"believe\", \"believe\", \"best\", \"best\", \"better\", \"bin\", \"bit\", \"black\", \"board\", \"bottles\", \"bought\", \"box\", \"box\", \"box\", \"bracket\", \"broke\", \"broken\", \"burner\", \"burner\", \"burners\", \"buttons\", \"buy\", \"buy\", \"came\", \"came\", \"came\", \"came\", \"came\", \"cans\", \"capacity\", \"capacity\", \"carbon\", \"cast\", \"cause\", \"ceiling\", \"ceiling\", \"ceiling\", \"center\", \"center\", \"center\", \"change\", \"check\", \"check\", \"check\", \"check\", \"check\", \"chimney\", \"china\", \"clean\", \"clean\", \"cleaning\", \"clear\", \"clearance\", \"clock\", \"clothes\", \"clothes\", \"coil\", \"cold\", \"cold\", \"com\", \"come\", \"come\", \"come\", \"comes\", \"comes\", \"comes\", \"comes\", \"comes\", \"coming\", \"company\", \"compatible\", \"connector\", \"control\", \"cook\", \"cooking\", \"cooktop\", \"cool\", \"cooler\", \"cord\", \"correct\", \"correct\", \"couldn\", \"counter\", \"cover\", \"cross\", \"cubes\", \"cut\", \"cycle\", \"cycle\", \"days\", \"dear\", \"deep\", \"defrost\", \"degrees\", \"delivery\", \"depends\", \"depot\", \"depth\", \"diameter\", \"did\", \"did\", \"did\", \"did\", \"did\", \"did\", \"didn\", \"didn\", \"different\", \"different\", \"different\", \"different\", \"different\", \"different\", \"dimensions\", \"direct\", \"directly\", \"directly\", \"dishwasher\", \"dispenser\", \"display\", \"does\", \"does\", \"does\", \"does\", \"doesn\", \"doesn\", \"doesn\", \"doing\", \"don\", \"don\", \"don\", \"don\", \"door\", \"doors\", \"doors\", \"double\", \"double\", \"drain\", \"dry\", \"dryer\", \"dryer\", \"dryer\", \"easily\", \"easily\", \"easily\", \"easily\", \"easy\", \"easy\", \"edge\", \"electric\", \"electric\", \"electrical\", \"electrical\", \"element\", \"elite\", \"ended\", \"experience\", \"extension\", \"fan\", \"far\", \"feature\", \"feel\", \"feel\", \"feet\", \"filter\", \"filter\", \"filters\", \"fine\", \"fine\", \"fine\", \"fit\", \"fit\", \"fit\", \"fit\", \"fit\", \"fit\", \"fits\", \"fitting\", \"fix\", \"flat\", \"flow\", \"food\", \"foot\", \"free\", \"free\", \"freezer\", \"freezer\", \"fridge\", \"fridge\", \"fridge\", \"fridge\", \"fridge\", \"fridge\", \"frigidaire\", \"frigidaire\", \"function\", \"gallon\", \"gas\", \"gas\", \"generic\", \"glass\", \"goedekers\", \"goes\", \"good\", \"good\", \"good\", \"google\", \"grease\", \"great\", \"great\", \"great\", \"griddle\", \"half\", \"handle\", \"handles\", \"hear\", \"heater\", \"heating\", \"heating\", \"height\", \"hello\", \"help\", \"help\", \"help\", \"help\", \"helpful\", \"helps\", \"high\", \"high\", \"higher\", \"holds\", \"hole\", \"hole\", \"hole\", \"home\", \"hood\", \"hood\", \"hope\", \"hope\", \"hose\", \"hose\", \"hoses\", \"hot\", \"house\", \"housing\", \"http\", \"humidifier\", \"ice\", \"idea\", \"important\", \"inch\", \"inches\", \"included\", \"included\", \"including\", \"induction\", \"information\", \"inside\", \"inside\", \"install\", \"install\", \"install\", \"installed\", \"instructions\", \"instructions\", \"iron\", \"item\", \"items\", \"job\", \"just\", \"just\", \"just\", \"just\", \"just\", \"kegs\", \"kenmore\", \"kenmore\", \"kind\", \"kitchen\", \"knobs\", \"knobs\", \"know\", \"know\", \"know\", \"large\", \"large\", \"large\", \"large\", \"larger\", \"laundry\", \"lbs\", \"leave\", \"led\", \"left\", \"left\", \"left\", \"length\", \"length\", \"let\", \"let\", \"level\", \"light\", \"light\", \"light\", \"like\", \"like\", \"like\", \"like\", \"line\", \"line\", \"line\", \"lines\", \"link\", \"list\", \"listed\", \"listed\", \"little\", \"little\", \"load\", \"loads\", \"local\", \"local\", \"lock\", \"long\", \"long\", \"long\", \"long\", \"look\", \"look\", \"look\", \"looked\", \"looked\", \"looking\", \"looks\", \"looks\", \"loud\", \"love\", \"love\", \"love\", \"lower\", \"luck\", \"machine\", \"machine\", \"machine\", \"make\", \"make\", \"maker\", \"makes\", \"makes\", \"makes\", \"manual\", \"manual\", \"manufactured\", \"maybe\", \"maybe\", \"maytag\", \"maytag\", \"maytag\", \"maytag\", \"measure\", \"measure\", \"measure\", \"measurements\", \"measures\", \"metal\", \"metal\", \"metal\", \"minute\", \"minutes\", \"minutes\", \"model\", \"model\", \"model\", \"models\", \"models\", \"models\", \"money\", \"months\", \"motor\", \"motor\", \"mount\", \"mounted\", \"need\", \"need\", \"need\", \"need\", \"need\", \"needs\", \"new\", \"new\", \"new\", \"new\", \"night\", \"noise\", \"noticed\", \"nsf\", \"number\", \"numbers\", \"old\", \"old\", \"old\", \"old\", \"ones\", \"open\", \"open\", \"option\", \"order\", \"ordered\", \"ordered\", \"outlet\", \"outside\", \"outside\", \"outside\", \"oven\", \"overall\", \"pack\", \"package\", \"pan\", \"panel\", \"pans\", \"parts\", \"parts\", \"people\", \"perfect\", \"perfectly\", \"perfectly\", \"perfectly\", \"phone\", \"picture\", \"piece\", \"pipe\", \"place\", \"place\", \"plastic\", \"plastic\", \"plates\", \"pleased\", \"plug\", \"position\", \"pot\", \"power\", \"press\", \"pressure\", \"pretty\", \"pretty\", \"probably\", \"probably\", \"probably\", \"problem\", \"problem\", \"product\", \"product\", \"products\", \"pump\", \"purchase\", \"purchase\", \"purchased\", \"purchased\", \"purchased\", \"purchased\", \"push\", \"quality\", \"question\", \"question\", \"questions\", \"quick\", \"rack\", \"range\", \"range\", \"range\", \"really\", \"really\", \"really\", \"rear\", \"recall\", \"received\", \"received\", \"recommended\", \"ref\", \"reference\", \"refrigerator\", \"refrigerator\", \"refrigerator\", \"refrigerator\", \"regards\", \"regular\", \"regular\", \"removed\", \"removed\", \"replace\", \"replace\", \"replaced\", \"replaced\", \"replacement\", \"replacement\", \"replaces\", \"replacing\", \"require\", \"required\", \"research\", \"return\", \"right\", \"right\", \"room\", \"round\", \"rubber\", \"run\", \"said\", \"say\", \"says\", \"screen\", \"screw\", \"screws\", \"screws\", \"screws\", \"sealed\", \"search\", \"sears\", \"seen\", \"seen\", \"seller\", \"seller\", \"separate\", \"service\", \"set\", \"setting\", \"shelf\", \"shelf\", \"ship\", \"shipping\", \"short\", \"sides\", \"simple\", \"sink\", \"sink\", \"site\", \"size\", \"size\", \"size\", \"size\", \"size\", \"sizes\", \"small\", \"small\", \"small\", \"smaller\", \"sold\", \"sorry\", \"space\", \"space\", \"specs\", \"speed\", \"spin\", \"stainless\", \"stainless\", \"standard\", \"standard\", \"states\", \"steel\", \"steel\", \"steel\", \"stove\", \"stove\", \"suggest\", \"support\", \"sure\", \"sure\", \"sure\", \"sure\", \"sure\", \"sure\", \"surface\", \"switch\", \"tall\", \"temp\", \"temperature\", \"temperature\", \"thank\", \"thanks\", \"thermostat\", \"thing\", \"thing\", \"think\", \"think\", \"think\", \"think\", \"think\", \"time\", \"time\", \"time\", \"timer\", \"times\", \"total\", \"towels\", \"trap\", \"tried\", \"try\", \"trying\", \"tub\", \"tub\", \"turn\", \"turn\", \"turn\", \"turns\", \"unfortunately\", \"unit\", \"unit\", \"unit\", \"unit\", \"units\", \"unless\", \"use\", \"use\", \"use\", \"use\", \"use\", \"use\", \"use\", \"use\", \"used\", \"used\", \"used\", \"used\", \"used\", \"used\", \"used\", \"using\", \"using\", \"using\", \"valve\", \"vent\", \"vent\", \"vented\", \"venting\", \"videos\", \"wall\", \"wall\", \"wall\", \"want\", \"want\", \"want\", \"want\", \"warranty\", \"warranty\", \"wash\", \"washer\", \"washers\", \"washing\", \"waste\", \"watch\", \"water\", \"water\", \"water\", \"web\", \"website\", \"week\", \"weeks\", \"weight\", \"went\", \"whirlpool\", \"whirlpool\", \"whirlpool\", \"white\", \"wide\", \"width\", \"wire\", \"wired\", \"wires\", \"wish\", \"woder\", \"woder\", \"work\", \"work\", \"work\", \"work\", \"work\", \"worked\", \"worked\", \"worked\", \"worked\", \"worked\", \"working\", \"working\", \"working\", \"works\", \"works\", \"works\", \"works\", \"works\", \"www\", \"year\", \"years\", \"yes\"]}, \"R\": 30, \"lambda.step\": 0.01, \"plot.opts\": {\"xlab\": \"PC1\", \"ylab\": \"PC2\"}, \"topic.order\": [5, 4, 1, 7, 3, 9, 2, 8, 10, 6]};\n",
       "\n",
       "function LDAvis_load_lib(url, callback){\n",
       "  var s = document.createElement('script');\n",
       "  s.src = url;\n",
       "  s.async = true;\n",
       "  s.onreadystatechange = s.onload = callback;\n",
       "  s.onerror = function(){console.warn(\"failed to load library \" + url);};\n",
       "  document.getElementsByTagName(\"head\")[0].appendChild(s);\n",
       "}\n",
       "\n",
       "if(typeof(LDAvis) !== \"undefined\"){\n",
       "   // already loaded: just create the visualization\n",
       "   !function(LDAvis){\n",
       "       new LDAvis(\"#\" + \"ldavis_el1520820981514317688250670710\", ldavis_el1520820981514317688250670710_data);\n",
       "   }(LDAvis);\n",
       "}else if(typeof define === \"function\" && define.amd){\n",
       "   // require.js is available: use it to load d3/LDAvis\n",
       "   require.config({paths: {d3: \"https://cdnjs.cloudflare.com/ajax/libs/d3/3.5.5/d3.min\"}});\n",
       "   require([\"d3\"], function(d3){\n",
       "      window.d3 = d3;\n",
       "      LDAvis_load_lib(\"https://cdn.rawgit.com/bmabey/pyLDAvis/files/ldavis.v1.0.0.js\", function(){\n",
       "        new LDAvis(\"#\" + \"ldavis_el1520820981514317688250670710\", ldavis_el1520820981514317688250670710_data);\n",
       "      });\n",
       "    });\n",
       "}else{\n",
       "    // require.js not available: dynamically load d3 & LDAvis\n",
       "    LDAvis_load_lib(\"https://cdnjs.cloudflare.com/ajax/libs/d3/3.5.5/d3.min.js\", function(){\n",
       "         LDAvis_load_lib(\"https://cdn.rawgit.com/bmabey/pyLDAvis/files/ldavis.v1.0.0.js\", function(){\n",
       "                 new LDAvis(\"#\" + \"ldavis_el1520820981514317688250670710\", ldavis_el1520820981514317688250670710_data);\n",
       "            })\n",
       "         });\n",
       "}\n",
       "</script>"
      ],
      "text/plain": [
       "PreparedData(topic_coordinates=                x           y  topics  cluster       Freq\n",
       "topic                                                    \n",
       "4      -86.194916   21.345306       1        1  15.163772\n",
       "3      -40.026215  -56.767281       2        1  14.590369\n",
       "0       18.221691  145.900635       3        1  12.211008\n",
       "6      -76.592918  122.913803       4        1  11.008508\n",
       "2       53.746300   63.929607       5        1  10.724398\n",
       "8      -21.459627   69.859947       6        1   8.374993\n",
       "1       11.142182    1.751809       7        1   7.815656\n",
       "7      108.777611  117.437805       8        1   7.330770\n",
       "9       62.919174  -56.841000       9        1   6.696516\n",
       "5      116.381310   14.919238      10        1   6.084012, topic_info=     Category         Freq        Term        Total  loglift  logprob\n",
       "2678  Default  1581.000000         yes  1581.000000  30.0000  30.0000\n",
       "1528  Default  1073.000000       model  1073.000000  29.0000  29.0000\n",
       "2585  Default  1107.000000       water  1107.000000  28.0000  28.0000\n",
       "1597  Default   705.000000      number   705.000000  27.0000  27.0000\n",
       "705   Default   806.000000         don   806.000000  26.0000  26.0000\n",
       "1174  Default   494.000000         ice   494.000000  25.0000  25.0000\n",
       "893   Default   919.000000      filter   919.000000  24.0000  24.0000\n",
       "1300  Default   638.000000        know   638.000000  23.0000  23.0000\n",
       "707   Default   377.000000        door   377.000000  22.0000  22.0000\n",
       "1357  Default   576.000000        like   576.000000  21.0000  21.0000\n",
       "2577  Default   469.000000      washer   469.000000  20.0000  20.0000\n",
       "907   Default   785.000000         fit   785.000000  19.0000  19.0000\n",
       "1195  Default   343.000000      inches   343.000000  18.0000  18.0000\n",
       "1144  Default   379.000000        hope   379.000000  17.0000  17.0000\n",
       "2341  Default   774.000000        sure   774.000000  16.0000  16.0000\n",
       "698   Default   615.000000        does   615.000000  15.0000  15.0000\n",
       "1109  Default   321.000000       helps   321.000000  14.0000  14.0000\n",
       "1025  Default   509.000000        good   509.000000  13.0000  13.0000\n",
       "1572  Default   685.000000        need   685.000000  12.0000  12.0000\n",
       "443   Default   366.000000         com   366.000000  11.0000  11.0000\n",
       "1873  Default   254.000000       range   254.000000  10.0000  10.0000\n",
       "1688  Default   415.000000       parts   415.000000   9.0000   9.0000\n",
       "2647  Default   660.000000        work   660.000000   8.0000   8.0000\n",
       "1233  Default   242.000000   installed   242.000000   7.0000   7.0000\n",
       "908   Default   257.000000        fits   257.000000   6.0000   6.0000\n",
       "2495  Default   582.000000        unit   582.000000   5.0000   5.0000\n",
       "1419  Default   357.000000     machine   357.000000   4.0000   4.0000\n",
       "80    Default   403.000000      amazon   403.000000   3.0000   3.0000\n",
       "245   Default   279.000000      bought   279.000000   2.0000   2.0000\n",
       "1806  Default   291.000000     product   291.000000   1.0000   1.0000\n",
       "...       ...          ...         ...          ...      ...      ...\n",
       "269   Topic10    39.839979      broken    40.710336   2.7779  -5.0729\n",
       "2583  Topic10    38.393890       watch    39.264243   2.7771  -5.1099\n",
       "335   Topic10    37.516787        cast    38.387002   2.7766  -5.1330\n",
       "1042  Topic10    35.209715     griddle    36.079926   2.7751  -5.1964\n",
       "9     Topic10    34.421714  absolutely    35.292108   2.7745  -5.2191\n",
       "383   Topic10    32.908997       china    33.779271   2.7734  -5.2640\n",
       "1768  Topic10    32.844795         pot    33.714988   2.7734  -5.2660\n",
       "1761  Topic10    32.830387    position    33.705732   2.7732  -5.2664\n",
       "432   Topic10    31.372981        coil    32.243228   2.7721  -5.3118\n",
       "1713  Topic10    30.842262       phone    31.712711   2.7717  -5.3289\n",
       "1158  Topic10    30.276026     housing    31.146308   2.7712  -5.3474\n",
       "978   Topic10    29.806566    function    30.676865   2.7707  -5.3630\n",
       "1336  Topic10    60.144250      length    64.559283   2.7287  -4.6610\n",
       "293   Topic10   114.762704      burner   129.701672   2.6771  -4.0149\n",
       "2073  Topic10    37.110381        seen    39.487098   2.7374  -5.1439\n",
       "1945  Topic10    51.763038     removed    59.844046   2.6544  -4.8111\n",
       "1099  Topic10    53.521041     heating    62.615266   2.6426  -4.7777\n",
       "1298  Topic10    53.572050       knobs    65.117676   2.6043  -4.7767\n",
       "1127  Topic10    60.528096        hole    77.754838   2.5491  -4.6546\n",
       "1728  Topic10    89.599683       place   137.911590   2.3682  -4.2624\n",
       "2162  Topic10   129.666123        size   270.511775   2.0642  -3.8928\n",
       "2181  Topic10   111.508466       small   258.478309   1.9588  -4.0437\n",
       "2054  Topic10    56.544358      screws    83.395037   2.4109  -4.7227\n",
       "1617  Topic10    95.453882         old   337.270244   1.5373  -4.1991\n",
       "1308  Topic10    63.551648       large   138.080548   2.0235  -4.6059\n",
       "761   Topic10    53.256568      easily    98.577626   2.1838  -4.7826\n",
       "2515  Topic10    88.379012         use   809.533766   0.5847  -4.2761\n",
       "907   Topic10    84.631872         fit   785.322072   0.5717  -4.3194\n",
       "2516  Topic10    67.234145        used   442.470954   0.9153  -4.5496\n",
       "1394  Topic10    60.665789        long   271.526043   1.3008  -4.6524\n",
       "\n",
       "[526 rows x 6 columns], token_table=      Topic      Freq        Term\n",
       "term                             \n",
       "7         5  0.995045        able\n",
       "9        10  0.963388  absolutely\n",
       "18        3  0.988089   according\n",
       "28       10  0.977158      actual\n",
       "29        6  0.218433    actually\n",
       "29        8  0.776649    actually\n",
       "31        4  0.981451     adapter\n",
       "45        8  0.985172      adjust\n",
       "66        4  0.967134         aid\n",
       "67        1  0.853476         air\n",
       "67        2  0.045824         air\n",
       "67        7  0.097377         air\n",
       "71        2  0.973144       allow\n",
       "78        7  0.970489       amana\n",
       "80        3  0.758688      amazon\n",
       "80        5  0.240499      amazon\n",
       "91        1  0.005410      answer\n",
       "91        4  0.990027      answer\n",
       "97        2  0.973903       apart\n",
       "104       5  0.987285     appears\n",
       "107       4  0.981835  appliances\n",
       "140      10  0.970278      attach\n",
       "155       4  0.990794        away\n",
       "161       1  0.985738         bad\n",
       "164       1  0.978776         bag\n",
       "175       7  0.985226       based\n",
       "188       4  0.983614     battery\n",
       "189      10  0.981730     bearing\n",
       "196       7  0.988999        beer\n",
       "200       5  0.886715     believe\n",
       "...     ...       ...         ...\n",
       "2616      6  0.994109        wide\n",
       "2618      6  0.986788       width\n",
       "2627      9  0.988203        wire\n",
       "2628      9  0.979919       wired\n",
       "2630      9  0.979775       wires\n",
       "2633      9  0.987814        wish\n",
       "2636      1  0.013770       woder\n",
       "2636      3  0.977643       woder\n",
       "2647      1  0.083217        work\n",
       "2647      4  0.322276        work\n",
       "2647      7  0.207285        work\n",
       "2647      8  0.143738        work\n",
       "2647      9  0.242085        work\n",
       "2648      1  0.012774      worked\n",
       "2648      2  0.242701      worked\n",
       "2648      3  0.055353      worked\n",
       "2648      5  0.579077      worked\n",
       "2648      7  0.110706      worked\n",
       "2649      1  0.911447     working\n",
       "2649      2  0.032264     working\n",
       "2649     10  0.048395     working\n",
       "2650      2  0.224161       works\n",
       "2650      3  0.011097       works\n",
       "2650      5  0.470515       works\n",
       "2650      7  0.199747       works\n",
       "2650      8  0.090996       works\n",
       "2669      3  0.994617         www\n",
       "2673      2  0.995914        year\n",
       "2675      2  0.998011       years\n",
       "2678      7  0.999452         yes\n",
       "\n",
       "[723 rows x 3 columns], R=30, lambda_step=0.01, plot_opts={'xlab': 'PC1', 'ylab': 'PC2'}, topic_order=[5, 4, 1, 7, 3, 9, 2, 8, 10, 6])"
      ]
     },
     "execution_count": 13,
     "metadata": {},
     "output_type": "execute_result"
    }
   ],
   "source": [
    "import pyLDAvis.sklearn\n",
    " \n",
    "pyLDAvis.enable_notebook()\n",
    "panel = pyLDAvis.sklearn.prepare(lda_model, data_vectorized, vectorizer, mds='tsne')\n",
    "panel"
   ]
  }
 ],
 "metadata": {
  "kernelspec": {
   "display_name": "Python 3",
   "language": "python",
   "name": "python3"
  },
  "language_info": {
   "codemirror_mode": {
    "name": "ipython",
    "version": 3
   },
   "file_extension": ".py",
   "mimetype": "text/x-python",
   "name": "python",
   "nbconvert_exporter": "python",
   "pygments_lexer": "ipython3",
   "version": "3.6.3"
  }
 },
 "nbformat": 4,
 "nbformat_minor": 1
}
