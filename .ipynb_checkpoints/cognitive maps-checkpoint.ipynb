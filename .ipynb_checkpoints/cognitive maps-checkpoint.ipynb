{
 "cells": [
  {
   "cell_type": "code",
   "execution_count": 1,
   "metadata": {
    "collapsed": true
   },
   "outputs": [],
   "source": [
    "import tensorflow as tf"
   ]
  },
  {
   "cell_type": "code",
   "execution_count": 2,
   "metadata": {
    "collapsed": true
   },
   "outputs": [],
   "source": [
    "#identity morphism\n",
    "\n",
    "#defining through map function\n",
    "#id_m(x) = map(lambda x:x, x)\n",
    "\n",
    "#defining identity morphism through standard function definition\n",
    "def id_m(x):\n",
    "    return x\n"
   ]
  },
  {
   "cell_type": "code",
   "execution_count": 3,
   "metadata": {},
   "outputs": [
    {
     "data": {
      "text/plain": [
       "{'A': ['B', 'C'],\n",
       " 'B': ['C', 'D'],\n",
       " 'C': ['D'],\n",
       " 'D': ['C'],\n",
       " 'E': ['F'],\n",
       " 'F': ['C']}"
      ]
     },
     "execution_count": 3,
     "metadata": {},
     "output_type": "execute_result"
    }
   ],
   "source": [
    "#identity morphism of graph\n",
    "\n",
    "graph = {'A': ['B', 'C'],\n",
    "          'B': ['C', 'D'],\n",
    "          'C': ['D'],\n",
    "          'D': ['C'],\n",
    "          'E': ['F'],\n",
    "          'F': ['C']}\n",
    "    \n",
    "id_m(graph)\n"
   ]
  },
  {
   "cell_type": "code",
   "execution_count": 4,
   "metadata": {
    "collapsed": true
   },
   "outputs": [],
   "source": [
    "#main morphism between objects(graphs)\n",
    "\n",
    "#https://www.python.org/doc/essays/graphs/\n",
    "\n",
    "# graph(cog map) declaring problem we do not touch yet"
   ]
  },
  {
   "cell_type": "code",
   "execution_count": 5,
   "metadata": {
    "collapsed": true
   },
   "outputs": [],
   "source": [
    "#basic structures\n",
    "\n",
    "triangle = {'A': ['B','C'],\n",
    "            'B':['A','C'],\n",
    "            'C':['A','B']}\n",
    "\n",
    "angle = {'A':['B'],\n",
    "         'B':['A','C'],\n",
    "         'C':['B']}"
   ]
  },
  {
   "cell_type": "code",
   "execution_count": 6,
   "metadata": {
    "collapsed": true
   },
   "outputs": [],
   "source": [
    "#create random graph\n",
    "#TODO: implement own realization\n",
    "\n",
    "def random_graph(n,m):                         #this is temporary realization\n",
    "    import networkx as nx\n",
    "    return nx.gnm_random_graph(n,m)"
   ]
  },
  {
   "cell_type": "code",
   "execution_count": 7,
   "metadata": {},
   "outputs": [
    {
     "data": {
      "image/png": "[encoded data removed]",
      "text/plain": [
       "<matplotlib.figure.Figure at 0x19b578ff9e8>"
      ]
     },
     "metadata": {},
     "output_type": "display_data"
    }
   ],
   "source": [
    "#just example\n",
    "#works well, exception warnings.warn(\"axes.hold is deprecated, will be removed in 3.0\") is raised\n",
    "%matplotlib inline\n",
    "import networkx as nx\n",
    "import matplotlib.pyplot as plt\n",
    "\n",
    "G = random_graph(8,10)\n",
    "nx.draw(G)"
   ]
  },
  {
   "cell_type": "code",
   "execution_count": null,
   "metadata": {
    "collapsed": true
   },
   "outputs": [],
   "source": [
    "#tr_n  triangles in our structure  (dict?)\n",
    "#ang_n angles in our structure  (dict?)"
   ]
  },
  {
   "cell_type": "code",
   "execution_count": null,
   "metadata": {
    "collapsed": true
   },
   "outputs": [],
   "source": [
    "#morphism\n",
    "# f: A-->A'\n",
    "   \n",
    "import random\n",
    "import networkx as nx\n",
    "\n",
    "def Morphism() :\n",
    "    \n",
    "    alpha = random.uniform(0, 1)    #parameters\n",
    "    beta = random.uniform(0, 1)\n",
    "    #gamma = random.unifom(0, 1)\n",
    "    \n",
    "    if alpha <= 0.5:\n",
    "        #delete triangles:\n",
    "        A.remove_nodes_from(tr_n)      #tr_n and ang_n are iterable containers of nodes\n",
    "    if beta <= 0.5:\n",
    "        #delete angles\n",
    "        A.remove_nodes_from(ang_n)\n",
    "    if alpha > 0.5:\n",
    "        #add triangles\n",
    "        A.add_nodes_from(tr_n)\n",
    "        A.add_edges_from(tr_e)         #tr_n and ang_n are iterable containers of edges\n",
    "    if beta > 0.5:\n",
    "        #add angles\n",
    "        A.add_nodes_from(ang_n)\n",
    "        A.add_edges_from(ang_e)\n",
    "    A = B\n",
    "    return A\n"
   ]
  }
 ],
 "metadata": {
  "kernelspec": {
   "display_name": "Python 3",
   "language": "python",
   "name": "python3"
  },
  "language_info": {
   "codemirror_mode": {
    "name": "ipython",
    "version": 3
   },
   "file_extension": ".py",
   "mimetype": "text/x-python",
   "name": "python",
   "nbconvert_exporter": "python",
   "pygments_lexer": "ipython3",
   "version": "3.6.3"
  }
 },
 "nbformat": 4,
 "nbformat_minor": 2
}
