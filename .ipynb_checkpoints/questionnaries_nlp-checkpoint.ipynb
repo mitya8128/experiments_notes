{
 "cells": [
  {
   "cell_type": "markdown",
   "metadata": {},
   "source": [
    "***Experiments with  NLP***"
   ]
  },
  {
   "cell_type": "code",
   "execution_count": 1,
   "metadata": {},
   "outputs": [
    {
     "data": {
      "text/html": [
       "\n",
       "        <script>\n",
       "            function code_toggle_1678510150580758430() {\n",
       "                $('div.cell.code_cell.rendered.selected').find('div.input').toggle();\n",
       "            }\n",
       "\n",
       "            \n",
       "        </script>\n",
       "\n",
       "        <a href=\"javascript:code_toggle_1678510150580758430()\">Toggle show/hide</a>\n",
       "    "
      ],
      "text/plain": [
       "<IPython.core.display.HTML object>"
      ]
     },
     "execution_count": 1,
     "metadata": {},
     "output_type": "execute_result"
    }
   ],
   "source": [
    "#function to hide cells\n",
    "from IPython.display import HTML\n",
    "import random\n",
    "\n",
    "def hide_toggle(for_next=False):\n",
    "    this_cell = \"\"\"$('div.cell.code_cell.rendered.selected')\"\"\"\n",
    "    next_cell = this_cell + '.next()'\n",
    "\n",
    "    toggle_text = 'Toggle show/hide'  # text shown on toggle link\n",
    "    target_cell = this_cell  # target cell to control with toggle\n",
    "    js_hide_current = ''  # bit of JS to permanently hide code in current cell (only when toggling next cell)\n",
    "\n",
    "    if for_next:\n",
    "        target_cell = next_cell\n",
    "        toggle_text += ' next cell'\n",
    "        js_hide_current = this_cell + '.find(\"div.input\").hide();'\n",
    "\n",
    "    js_f_name = 'code_toggle_{}'.format(str(random.randint(1,2**64)))\n",
    "\n",
    "    html = \"\"\"\n",
    "        <script>\n",
    "            function {f_name}() {{\n",
    "                {cell_selector}.find('div.input').toggle();\n",
    "            }}\n",
    "\n",
    "            {js_hide_current}\n",
    "        </script>\n",
    "\n",
    "        <a href=\"javascript:{f_name}()\">{toggle_text}</a>\n",
    "    \"\"\".format(\n",
    "        f_name=js_f_name,\n",
    "        cell_selector=target_cell,\n",
    "        js_hide_current=js_hide_current, \n",
    "        toggle_text=toggle_text\n",
    "    )\n",
    "\n",
    "    return HTML(html)\n",
    "\n",
    "hide_toggle()"
   ]
  },
  {
   "cell_type": "markdown",
   "metadata": {},
   "source": [
    "***Importing:***"
   ]
  },
  {
   "cell_type": "code",
   "execution_count": 2,
   "metadata": {},
   "outputs": [
    {
     "data": {
      "text/html": [
       "\n",
       "        <script>\n",
       "            function code_toggle_10710986635349170409() {\n",
       "                $('div.cell.code_cell.rendered.selected').find('div.input').toggle();\n",
       "            }\n",
       "\n",
       "            \n",
       "        </script>\n",
       "\n",
       "        <a href=\"javascript:code_toggle_10710986635349170409()\">Toggle show/hide</a>\n",
       "    "
      ],
      "text/plain": [
       "<IPython.core.display.HTML object>"
      ]
     },
     "execution_count": 2,
     "metadata": {},
     "output_type": "execute_result"
    }
   ],
   "source": [
    "import warnings\n",
    "\n",
    "warnings.filterwarnings('ignore')\n",
    "\n",
    "hide_toggle()"
   ]
  },
  {
   "cell_type": "code",
   "execution_count": 3,
   "metadata": {},
   "outputs": [
    {
     "name": "stdout",
     "output_type": "stream",
     "text": [
      "showing info https://raw.githubusercontent.com/nltk/nltk_data/gh-pages/index.xml\n"
     ]
    },
    {
     "data": {
      "text/html": [
       "\n",
       "        <script>\n",
       "            function code_toggle_17931794431471694620() {\n",
       "                $('div.cell.code_cell.rendered.selected').find('div.input').toggle();\n",
       "            }\n",
       "\n",
       "            \n",
       "        </script>\n",
       "\n",
       "        <a href=\"javascript:code_toggle_17931794431471694620()\">Toggle show/hide</a>\n",
       "    "
      ],
      "text/plain": [
       "<IPython.core.display.HTML object>"
      ]
     },
     "execution_count": 3,
     "metadata": {},
     "output_type": "execute_result"
    }
   ],
   "source": [
    "import numpy as np\n",
    "import pandas as pd\n",
    "import gzip\n",
    "from sklearn.feature_extraction.text import TfidfVectorizer\n",
    "from sklearn.decomposition import TruncatedSVD\n",
    "from sklearn.pipeline import Pipeline\n",
    "from collections import Counter\n",
    "import string\n",
    "\n",
    "import nltk\n",
    "from nltk import *\n",
    "from nltk import word_tokenize\n",
    "from nltk.corpus import stopwords\n",
    "from nltk.probability import FreqDist\n",
    "import re\n",
    "\n",
    "from gensim import models, corpora\n",
    "\n",
    "#import polyglot\n",
    "#from polyglot.text import Text as T\n",
    "nltk.download()\n",
    "hide_toggle()"
   ]
  },
  {
   "cell_type": "markdown",
   "metadata": {},
   "source": [
    "***Uploading necesary data:   \n",
    "in this case it's Amazon users reviews***"
   ]
  },
  {
   "cell_type": "code",
   "execution_count": 4,
   "metadata": {},
   "outputs": [
    {
     "data": {
      "text/html": [
       "\n",
       "        <script>\n",
       "            function code_toggle_11891652053837258084() {\n",
       "                $('div.cell.code_cell.rendered.selected').find('div.input').toggle();\n",
       "            }\n",
       "\n",
       "            \n",
       "        </script>\n",
       "\n",
       "        <a href=\"javascript:code_toggle_11891652053837258084()\">Toggle show/hide</a>\n",
       "    "
      ],
      "text/plain": [
       "<IPython.core.display.HTML object>"
      ]
     },
     "execution_count": 4,
     "metadata": {},
     "output_type": "execute_result"
    }
   ],
   "source": [
    "path = 'qa_Appliances.json.gz'\n",
    "\n",
    "\n",
    "def parse(path):\n",
    "  g = gzip.open(path, 'rb')\n",
    "  for l in g:\n",
    "    yield eval(l)\n",
    "\n",
    "def getDF(path):\n",
    "  i = 0\n",
    "  df = {}\n",
    "  for d in parse(path):\n",
    "    df[i] = d\n",
    "    i += 1\n",
    "  return pd.DataFrame.from_dict(df, orient='index')\n",
    "\n",
    "df = getDF('qa_Appliances.json.gz')\n",
    "\n",
    "#data_answers = df['answer']\n",
    "data_answers = df['answer'].apply(lambda x: x.lower())\n",
    "#data_answers = str(data_answers)\n",
    "data_answers\n",
    "\n",
    "hide_toggle()"
   ]
  },
  {
   "cell_type": "code",
   "execution_count": 5,
   "metadata": {},
   "outputs": [
    {
     "data": {
      "text/plain": [
       "0     i replaced my old one with this without a hitch.\n",
       "1    this may help insinkerator model badger-1: bad...\n",
       "2    plumbing connections will vary with different ...\n",
       "3    it does not come with a power cord. it does co...\n",
       "4    check if you dropped something inside.usually ...\n",
       "Name: answer, dtype: object"
      ]
     },
     "execution_count": 5,
     "metadata": {},
     "output_type": "execute_result"
    }
   ],
   "source": [
    "data_answers.head(5)"
   ]
  },
  {
   "cell_type": "markdown",
   "metadata": {},
   "source": [
    "***Preprocessing:***"
   ]
  },
  {
   "cell_type": "code",
   "execution_count": 6,
   "metadata": {},
   "outputs": [
    {
     "data": {
      "text/html": [
       "\n",
       "        <script>\n",
       "            function code_toggle_13269033715545244628() {\n",
       "                $('div.cell.code_cell.rendered.selected').find('div.input').toggle();\n",
       "            }\n",
       "\n",
       "            \n",
       "        </script>\n",
       "\n",
       "        <a href=\"javascript:code_toggle_13269033715545244628()\">Toggle show/hide</a>\n",
       "    "
      ],
      "text/plain": [
       "<IPython.core.display.HTML object>"
      ]
     },
     "execution_count": 6,
     "metadata": {},
     "output_type": "execute_result"
    }
   ],
   "source": [
    "#cleaning and processing\n",
    "\n",
    "#cleaning from punctuation\n",
    "def replace_punctuation(x):  # From S.Lott's solution\n",
    "    for c in string.punctuation:\n",
    "        x=x.replace(c,\"\")\n",
    "    return x\n",
    "\n",
    "#removing numbers\n",
    "def clean_numbers(x):\n",
    "    x = str(x)\n",
    "    re.sub(r'\\d+', '', x)\n",
    "    return x\n",
    "\n",
    "hide_toggle()"
   ]
  },
  {
   "cell_type": "markdown",
   "metadata": {},
   "source": [
    "***Word frequency (top N words):***"
   ]
  },
  {
   "cell_type": "code",
   "execution_count": 7,
   "metadata": {},
   "outputs": [
    {
     "data": {
      "text/html": [
       "\n",
       "        <script>\n",
       "            function code_toggle_14164091518460784040() {\n",
       "                $('div.cell.code_cell.rendered.selected').find('div.input').toggle();\n",
       "            }\n",
       "\n",
       "            \n",
       "        </script>\n",
       "\n",
       "        <a href=\"javascript:code_toggle_14164091518460784040()\">Toggle show/hide</a>\n",
       "    "
      ],
      "text/plain": [
       "<IPython.core.display.HTML object>"
      ]
     },
     "execution_count": 7,
     "metadata": {},
     "output_type": "execute_result"
    }
   ],
   "source": [
    "\n",
    "#top N words     всего текста\n",
    "def top_N_words(N):\n",
    "    tfidf = TfidfVectorizer(stop_words='english')\n",
    "    tfidf.fit(data_answers)\n",
    "    X = tfidf.transform(data_answers)\n",
    "    idx = np.ravel(X.sum(axis=0).argsort(axis=1))[::-1][:N]\n",
    "    top_n_words = np.array(tfidf.get_feature_names())[idx].tolist()\n",
    "    return top_n_words\n",
    "\n",
    "\n",
    "hide_toggle()"
   ]
  },
  {
   "cell_type": "code",
   "execution_count": 8,
   "metadata": {},
   "outputs": [
    {
     "data": {
      "text/plain": [
       "['yes',\n",
       " 'model',\n",
       " 'fit',\n",
       " 'don',\n",
       " 'sure',\n",
       " 'does',\n",
       " 'know',\n",
       " 'just',\n",
       " 'work',\n",
       " 'filter']"
      ]
     },
     "execution_count": 8,
     "metadata": {},
     "output_type": "execute_result"
    }
   ],
   "source": [
    "top_N_words(10)"
   ]
  },
  {
   "cell_type": "markdown",
   "metadata": {},
   "source": [
    "***Sentiment analysis:***"
   ]
  },
  {
   "cell_type": "code",
   "execution_count": 9,
   "metadata": {},
   "outputs": [
    {
     "data": {
      "text/html": [
       "\n",
       "        <script>\n",
       "            function code_toggle_12066299097698776339() {\n",
       "                $('div.cell.code_cell.rendered.selected').find('div.input').toggle();\n",
       "            }\n",
       "\n",
       "            \n",
       "        </script>\n",
       "\n",
       "        <a href=\"javascript:code_toggle_12066299097698776339()\">Toggle show/hide</a>\n",
       "    "
      ],
      "text/plain": [
       "<IPython.core.display.HTML object>"
      ]
     },
     "execution_count": 9,
     "metadata": {},
     "output_type": "execute_result"
    }
   ],
   "source": [
    "#sentiment analysis\n",
    "#for english version we'll use vader sentiment analyzer\n",
    "#TODO: make russian language classifier\n",
    "\n",
    "def emotions(data_answers):\n",
    "    data_answers = str(data_answers)\n",
    "    from nltk.sentiment.vader import SentimentIntensityAnalyzer\n",
    "    sid = SentimentIntensityAnalyzer()\n",
    "    sentences = tokenize.sent_tokenize(data_answers)\n",
    "    scores = dict([('pos', 0), ('neu', 0), ('neg', 0), ('compound', 0)])\n",
    "    for sentence in sentences:\n",
    "        ss = sid.polarity_scores(sentence)\n",
    "        for k in sorted(ss):\n",
    "            scores[k] += ss[k]\n",
    "\n",
    "    return scores \n",
    "\n",
    "\n",
    "hide_toggle()"
   ]
  },
  {
   "cell_type": "code",
   "execution_count": 10,
   "metadata": {},
   "outputs": [
    {
     "data": {
      "text/plain": [
       "{'compound': 6.4398,\n",
       " 'neg': 0.21400000000000002,\n",
       " 'neu': 20.912999999999997,\n",
       " 'pos': 2.8729999999999998}"
      ]
     },
     "execution_count": 10,
     "metadata": {},
     "output_type": "execute_result"
    }
   ],
   "source": [
    "emotions(data_answers)"
   ]
  },
  {
   "cell_type": "markdown",
   "metadata": {},
   "source": [
    "***Topic modelling:***      (тест)"
   ]
  },
  {
   "cell_type": "markdown",
   "metadata": {},
   "source": [
    "***first option***"
   ]
  },
  {
   "cell_type": "code",
   "execution_count": 11,
   "metadata": {},
   "outputs": [
    {
     "name": "stdout",
     "output_type": "stream",
     "text": [
      "[(0, 1), (1, 1), (2, 1), (3, 1), (4, 1), (5, 1), (6, 1), (7, 1), (8, 1), (9, 1), (10, 1), (11, 1), (12, 1), (13, 1), (14, 1), (15, 4), (16, 2), (17, 2), (18, 1), (19, 1), (20, 1), (21, 1), (22, 1), (23, 1), (24, 1), (25, 1), (26, 1), (27, 1), (28, 1), (29, 1), (30, 1), (31, 1), (32, 1), (33, 1), (34, 1), (35, 1), (36, 1), (37, 1), (38, 1), (39, 1), (40, 1), (41, 2), (42, 1), (43, 1), (44, 1), (45, 3), (46, 1), (47, 1), (48, 1), (49, 1), (50, 7), (51, 1), (52, 1), (53, 2), (54, 1), (55, 1), (56, 3), (57, 1), (58, 1), (59, 1), (60, 2), (61, 1), (62, 4), (63, 1), (64, 1), (65, 1), (66, 1), (67, 1), (68, 1), (69, 1), (70, 1), (71, 2), (72, 1), (73, 1), (74, 2), (75, 1), (76, 1), (77, 1), (78, 1), (79, 1), (80, 2), (81, 1), (82, 1), (83, 1), (84, 1), (85, 1), (86, 1), (87, 1), (88, 2), (89, 1), (90, 2), (91, 1), (92, 1), (93, 1), (94, 3), (95, 1), (96, 1), (97, 1), (98, 3), (99, 2), (100, 3), (101, 1), (102, 1), (103, 1), (104, 1), (105, 1), (106, 1), (107, 1), (108, 2), (109, 1), (110, 1), (111, 2), (112, 1), (113, 2), (114, 1), (115, 1), (116, 1), (117, 1), (118, 1), (119, 1), (120, 2), (121, 1), (122, 1), (123, 1), (124, 1), (125, 1), (126, 3), (127, 1), (128, 1), (129, 2), (130, 1), (131, 1), (132, 1), (133, 1), (134, 1), (135, 1), (136, 1), (137, 1), (138, 1), (139, 1), (140, 2), (141, 1), (142, 1), (143, 2), (144, 1), (145, 1), (146, 2), (147, 1), (148, 1), (149, 1), (150, 1), (151, 1), (152, 1), (153, 1), (154, 1), (155, 1), (156, 5), (157, 1), (158, 1), (159, 1), (160, 1), (161, 1), (162, 6), (163, 1), (164, 1), (165, 4), (166, 3), (167, 12)]\n",
      "LDA Model:\n",
      "Topic #0: 0.051*\"yes\" + 0.031*\"filter\" + 0.025*\"water\" + 0.018*\"heat\" + 0.017*\"use\" + 0.017*\"burner\" + 0.016*\"woder\" + 0.015*\"electric\" + 0.014*\"fridge\" + 0.013*\"replaced\"\n",
      "Topic #1: 0.045*\"yes\" + 0.034*\"water\" + 0.023*\"filter\" + 0.021*\"use\" + 0.019*\"heat\" + 0.019*\"woder\" + 0.017*\"burner\" + 0.016*\"model\" + 0.014*\"mine\" + 0.013*\"electric\"\n",
      "Topic #2: 0.045*\"yes\" + 0.029*\"filter\" + 0.025*\"use\" + 0.023*\"burner\" + 0.022*\"water\" + 0.019*\"heat\" + 0.016*\"woder\" + 0.015*\"would\" + 0.015*\"maybe\" + 0.014*\"mine\"\n",
      "Topic #3: 0.065*\"yes\" + 0.027*\"filter\" + 0.022*\"water\" + 0.022*\"use\" + 0.018*\"woder\" + 0.016*\"heat\" + 0.014*\"fridge\" + 0.013*\"model\" + 0.013*\"maybe\" + 0.013*\"burner\"\n",
      "Topic #4: 0.039*\"yes\" + 0.031*\"filter\" + 0.026*\"water\" + 0.020*\"woder\" + 0.020*\"heat\" + 0.015*\"use\" + 0.015*\"fridge\" + 0.015*\"replaced\" + 0.014*\"mine\" + 0.014*\"burner\"\n",
      "Topic #5: 0.042*\"yes\" + 0.034*\"filter\" + 0.023*\"water\" + 0.023*\"use\" + 0.018*\"woder\" + 0.018*\"fridge\" + 0.017*\"burner\" + 0.015*\"heat\" + 0.014*\"would\" + 0.014*\"model\"\n",
      "Topic #6: 0.058*\"yes\" + 0.039*\"filter\" + 0.020*\"use\" + 0.019*\"water\" + 0.016*\"heat\" + 0.016*\"burner\" + 0.013*\"model\" + 0.012*\"replaced\" + 0.012*\"electric\" + 0.011*\"woder\"\n",
      "Topic #7: 0.046*\"yes\" + 0.029*\"filter\" + 0.026*\"water\" + 0.021*\"use\" + 0.020*\"woder\" + 0.017*\"heat\" + 0.017*\"fridge\" + 0.016*\"burner\" + 0.015*\"replaced\" + 0.014*\"maybe\"\n",
      "Topic #8: 0.050*\"yes\" + 0.028*\"filter\" + 0.022*\"water\" + 0.020*\"woder\" + 0.019*\"use\" + 0.018*\"heat\" + 0.017*\"burner\" + 0.014*\"replaced\" + 0.013*\"maybe\" + 0.013*\"model\"\n",
      "Topic #9: 0.055*\"yes\" + 0.032*\"filter\" + 0.027*\"water\" + 0.025*\"use\" + 0.019*\"burner\" + 0.017*\"would\" + 0.016*\"electric\" + 0.015*\"mine\" + 0.013*\"maybe\" + 0.013*\"heat\"\n",
      "====================\n",
      "LSI Model:\n",
      "Topic #0: 0.500*\"yes\" + 0.292*\"filter\" + 0.250*\"water\" + 0.208*\"use\" + 0.167*\"heat\" + 0.167*\"woder\" + 0.167*\"burner\" + 0.125*\"electric\" + 0.125*\"replaced\" + 0.125*\"would\"\n",
      "Topic #1: \n",
      "Topic #2: \n",
      "Topic #3: \n",
      "Topic #4: \n",
      "Topic #5: \n",
      "Topic #6: \n",
      "Topic #7: \n",
      "Topic #8: \n",
      "Topic #9: \n",
      "====================\n"
     ]
    },
    {
     "data": {
      "text/html": [
       "\n",
       "        <script>\n",
       "            function code_toggle_4894429980518368758() {\n",
       "                $('div.cell.code_cell.rendered.selected').find('div.input').toggle();\n",
       "            }\n",
       "\n",
       "            \n",
       "        </script>\n",
       "\n",
       "        <a href=\"javascript:code_toggle_4894429980518368758()\">Toggle show/hide</a>\n",
       "    "
      ],
      "text/plain": [
       "<IPython.core.display.HTML object>"
      ]
     },
     "execution_count": 11,
     "metadata": {},
     "output_type": "execute_result"
    }
   ],
   "source": [
    "#LDA gensim version-2\n",
    "import re\n",
    "from gensim import models, corpora\n",
    "from nltk import word_tokenize\n",
    "from nltk.corpus import stopwords\n",
    " \n",
    "NUM_TOPICS = 10\n",
    "STOPWORDS = stopwords.words('english')\n",
    "texts = str(data_answers)\n",
    "#texts = text.split()\n",
    "    \n",
    "def clean_text(texts):\n",
    "    tokenized_text = word_tokenize(texts.lower())\n",
    "    cleaned_text = [t for t in tokenized_text if t not in STOPWORDS and re.match('[a-zA-Z\\-][a-zA-Z\\-]{2,}', t)]\n",
    "    return cleaned_text\n",
    " \n",
    "# For gensim we need to tokenize the data and filter out stopwords\n",
    "tokenized_data = []\n",
    "for text in texts:\n",
    "    tokenized_data.append(clean_text(texts))\n",
    " \n",
    " \n",
    "# Build a Dictionary - association word to numeric id\n",
    "dictionary = corpora.Dictionary(tokenized_data)\n",
    " \n",
    "# Transform the collection of texts to a numerical form\n",
    "corpus = [dictionary.doc2bow(text) for text in tokenized_data]\n",
    " \n",
    "# Have a look at how the 20th document looks like: [(word_id, count), ...]\n",
    "print(corpus[20])\n",
    "# [(12, 3), (14, 1), (21, 1), (25, 5), (30, 2), (31, 5), (33, 1), (42, 1), (43, 2),  ...\n",
    " \n",
    "# Build the LDA model\n",
    "lda_model = models.LdaModel(corpus=corpus, num_topics=NUM_TOPICS, id2word=dictionary)\n",
    " \n",
    "# Build the LSI model\n",
    "lsi_model = models.LsiModel(corpus=corpus, num_topics=NUM_TOPICS, id2word=dictionary)\n",
    "\n",
    "print(\"LDA Model:\")\n",
    " \n",
    "for idx in range(NUM_TOPICS):\n",
    "    # Print the first 10 most representative topics\n",
    "    print(\"Topic #%s:\" % idx, lda_model.print_topic(idx, 10))\n",
    " \n",
    "print(\"=\" * 20)\n",
    " \n",
    "print(\"LSI Model:\")\n",
    " \n",
    "for idx in range(NUM_TOPICS):\n",
    "    # Print the first 10 most representative topics\n",
    "    print(\"Topic #%s:\" % idx, lsi_model.print_topic(idx, 10))\n",
    " \n",
    "print(\"=\" * 20)\n",
    "\n",
    "hide_toggle()"
   ]
  },
  {
   "cell_type": "markdown",
   "metadata": {},
   "source": [
    "***second option***"
   ]
  },
  {
   "cell_type": "code",
   "execution_count": 12,
   "metadata": {},
   "outputs": [
    {
     "name": "stdout",
     "output_type": "stream",
     "text": [
      "(9011, 10)\n",
      "(9011, 10)\n",
      "(9011, 10)\n",
      "[0.03333333 0.03333333 0.69996635 0.03334243 0.03333913 0.03333965\n",
      " 0.03333333 0.03333333 0.03334576 0.03333333]\n",
      "[0.         0.         0.00236966 0.00025967 0.00204367 0.01964022\n",
      " 0.         0.         0.         0.        ]\n",
      "[ 0.08661742  0.05041148 -0.01188362 -0.0360447  -0.01982981 -0.04693822\n",
      " -0.07996014 -0.00176064 -0.05488262 -0.04362621]\n",
      "LDA Model:\n",
      "Topic 0:\n",
      "[('filter', 746.9667512373255), ('filters', 265.7308945843168), ('believe', 135.03317548291577), ('control', 121.47156533835798), ('samsung', 117.23239881946252), ('according', 110.69609439553089), ('box', 105.1831179646594), ('said', 91.98184090177467), ('compatible', 80.62077922967401), ('motor', 79.27429147440812)]\n",
      "Topic 1:\n",
      "[('ice', 531.2417007609596), ('water', 283.26783216732696), ('refrigerator', 261.095153926034), ('fridge', 233.91848745826795), ('kenmore', 229.43442997523476), ('inside', 211.36366129671143), ('freezer', 204.3085074332961), ('make', 202.01610440396672), ('work', 191.57027395804124), ('need', 191.17358368758963)]\n",
      "Topic 2:\n",
      "[('water', 865.8207261003447), ('use', 361.2049835907401), ('just', 327.1758266768605), ('little', 247.41044735585018), ('unit', 239.5834278712478), ('filter', 217.43160279538534), ('replace', 215.14078435668264), ('high', 187.62709637810002), ('clean', 185.69200260762537), ('don', 184.72461296496311)]\n",
      "Topic 3:\n",
      "[('model', 1139.5660709954525), ('number', 747.1699823521043), ('inches', 349.43819237417176), ('parts', 326.8006176035196), ('oven', 275.0025777192794), ('fits', 261.1172215528757), ('hope', 254.43851063098734), ('replacement', 249.16702963029147), ('installed', 243.98710122083028), ('look', 225.31053118551796)]\n",
      "Topic 4:\n",
      "[('washer', 450.1489922707306), ('small', 218.03567526451548), ('home', 162.91361000262273), ('size', 147.37035988856206), ('use', 143.00199972891778), ('kitchen', 139.10778523166556), ('sink', 132.62405799160842), ('working', 127.447938598557), ('problems', 120.24440340434074), ('used', 119.25581559702958)]\n",
      "Topic 5:\n",
      "[('good', 429.6488740361439), ('machine', 335.52455080244675), ('like', 239.32177535777734), ('time', 236.09543162014745), ('install', 228.98265917448114), ('year', 225.88627605911145), ('years', 197.2634597824952), ('works', 193.36466676644966), ('use', 174.21039397058706), ('warranty', 173.32551985522625)]\n",
      "Topic 6:\n",
      "[('com', 388.25024385019935), ('www', 259.24383632776926), ('http', 252.06371921660346), ('dishwasher', 191.15903083296047), ('power', 157.2413571165128), ('amazon', 137.81975806537514), ('website', 136.73063410228815), ('plug', 131.02657895127228), ('come', 120.84927874493837), ('cord', 99.13517720008021)]\n",
      "Topic 7:\n",
      "[('yes', 1702.4571110640175), ('does', 307.16984012187373), ('thank', 180.23113057885493), ('cycle', 171.21872284375985), ('clothes', 160.7046333781654), ('drain', 153.77268188311405), ('wash', 153.33832594019597), ('fit', 150.41415139265345), ('dry', 133.67961200949034), ('set', 116.37356132906294)]\n",
      "Topic 8:\n",
      "[('fit', 669.469628068746), ('know', 637.9996874835616), ('don', 613.4095142004178), ('sure', 410.3521324472738), ('think', 251.89559622144924), ('sorry', 234.5251107205162), ('did', 210.9594093201895), ('great', 194.34688563237594), ('stove', 191.50455397239307), ('check', 190.61359232672285)]\n",
      "Topic 9:\n",
      "[('dryer', 412.38527380747655), ('range', 255.8942722862326), ('vent', 238.05748357072966), ('hood', 230.2653890627688), ('hose', 207.95290911491458), ('didn', 174.96960631405773), ('just', 170.94642717389442), ('needed', 153.49495413047154), ('wall', 151.3733572507463), ('need', 150.43207898776362)]\n",
      "====================\n",
      "NMF Model:\n",
      "Topic 0:\n",
      "[('water', 10.683138335271247), ('valve', 1.563432253287133), ('line', 0.9034842193052747), ('dispenser', 0.8047155653661946), ('hot', 0.76820224389719), ('hose', 0.7218958314108204), ('problem', 0.6738870128588103), ('used', 0.48819321199591376), ('faucet', 0.4879751822174477), ('turn', 0.48795145811018537)]\n",
      "Topic 1:\n",
      "[('model', 6.038723577258564), ('number', 4.310333966601249), ('parts', 0.9502345566504145), ('fit', 0.7739524363858846), ('sure', 0.7363043109329943), ('whirlpool', 0.6878502939750754), ('correct', 0.6338370014353633), ('look', 0.5987475157040466), ('search', 0.5621787743745038), ('replacement', 0.487986053095337)]\n",
      "Topic 2:\n",
      "[('filter', 6.706929295694411), ('filters', 1.5187597930737398), ('whirlpool', 1.0676226908580975), ('refrigerator', 0.8479157352905538), ('fridge', 0.6721611937281993), ('woder', 0.6025185233022647), ('kenmore', 0.5600048212673742), ('replacement', 0.423971911660404), ('pur', 0.4153779204865801), ('samsung', 0.3768430632350329)]\n",
      "Topic 3:\n",
      "[('warranty', 3.9052223740722924), ('products', 3.056009701194956), ('service', 1.7502121470458385), ('parts', 1.7316176130145067), ('use', 1.6513065047998063), ('year', 1.1535287280592428), ('purchase', 1.0809892625787132), ('original', 1.0538779984207889), ('limited', 0.9659813497407521), ('repair', 0.8120620285479264)]\n",
      "Topic 4:\n",
      "[('ice', 6.214406999886687), ('maker', 2.2668657548743067), ('freezer', 1.1445623897963257), ('valve', 0.680827112452075), ('refrigerator', 0.6654266944265517), ('cubes', 0.6051680259295554), ('unit', 0.5688089173717317), ('fridge', 0.5293663737401291), ('makes', 0.5034474143289183), ('bin', 0.4857658277833396)]\n",
      "Topic 5:\n",
      "[('don', 2.6268530487032535), ('just', 2.2794597510618), ('fit', 2.0276662644942394), ('know', 1.8930338811666576), ('sure', 1.823879193471231), ('unit', 1.6977517574405339), ('work', 1.5649704809343399), ('need', 1.456715815082288), ('good', 1.2299378882628804), ('like', 1.2152691477925712)]\n",
      "Topic 6:\n",
      "[('yes', 6.329455723587394), ('does', 0.49664549120761176), ('work', 0.32977677034615493), ('fit', 0.248126417244744), ('great', 0.19395189881927902), ('fits', 0.1792509869805031), ('works', 0.16356593259404667), ('comes', 0.13903752819212895), ('just', 0.11839345870178555), ('perfectly', 0.11360676023006062)]\n",
      "Topic 7:\n",
      "[('oven', 3.596211060500353), ('feature', 2.436383427290822), ('bake', 2.402223434570173), ('set', 1.2527693698423148), ('time', 1.2393076288901217), ('light', 1.227668499896273), ('start', 1.174941868299733), ('used', 0.9430819886906402), ('temperature', 0.9063011068599801), ('pad', 0.7367477122192246)]\n",
      "Topic 8:\n",
      "[('machine', 3.3881497615477665), ('use', 3.127083996013872), ('washer', 2.5766905611887863), ('clothes', 2.2045147535871576), ('wash', 2.0476888474190105), ('time', 1.8066510252587893), ('just', 1.6588717963226098), ('laundry', 1.3762074370648563), ('dry', 1.2351664105788442), ('towels', 1.1835915149563712)]\n",
      "Topic 9:\n",
      "[('com', 2.818315284891389), ('www', 2.3405825014904105), ('http', 2.298069242354815), ('amazon', 1.8529404224021668), ('parts', 0.7613752922875445), ('need', 0.6389008532873902), ('link', 0.6310748650283248), ('product', 0.6196068094139981), ('washer', 0.5306022861816568), ('ref', 0.4670999156969265)]\n",
      "====================\n",
      "LSI Model:\n",
      "Topic 0:\n",
      "[('water', 0.5136405607208956), ('filter', 0.3029466789750341), ('use', 0.20696574298750192), ('model', 0.17891391119796068), ('just', 0.1733806556882058), ('don', 0.14000245365267222), ('ice', 0.12967573405377777), ('number', 0.1279697391801962), ('washer', 0.12477793622650463), ('need', 0.12183038849927591)]\n",
      "Topic 1:\n",
      "[('model', 0.32827807300156747), ('number', 0.27225016309978534), ('parts', 0.18624419723236807), ('warranty', 0.16820174498374807), ('fit', 0.14709770139190634), ('sure', 0.13282928183393303), ('products', 0.12619774775129503), ('yes', 0.11579510910187465), ('amazon', 0.09867288729498587), ('com', 0.09864314732003124)]\n",
      "Topic 2:\n",
      "[('use', 0.20729104731442818), ('machine', 0.17410048741680778), ('washer', 0.1429778203402142), ('just', 0.139453458613078), ('clothes', 0.126246773773023), ('time', 0.1237132827152391), ('wash', 0.12367028330292154), ('water', 0.09767945264427721), ('don', 0.09617759735867368), ('laundry', 0.0911524858613214)]\n",
      "Topic 3:\n",
      "[('warranty', 0.5303305218733175), ('products', 0.41726709815230334), ('service', 0.23227261012167552), ('use', 0.22089745219880996), ('parts', 0.2009895506640991), ('year', 0.14793292087389864), ('purchase', 0.13836519137598396), ('original', 0.13405248255648444), ('limited', 0.1316289823084445), ('water', 0.11500020140670582)]\n",
      "Topic 4:\n",
      "[('ice', 0.41539021571512996), ('model', 0.3392726938553442), ('water', 0.29422502727229827), ('number', 0.283971688944154), ('maker', 0.17372222651471872), ('valve', 0.16948017831811507), ('parts', 0.09643885686113614), ('com', 0.09402636601270953), ('dispenser', 0.07868039545542344), ('freezer', 0.07729509061047254)]\n",
      "Topic 5:\n",
      "[('model', 0.22593384932241972), ('number', 0.18849640871547266), ('washer', 0.18457902528122858), ('machine', 0.15639475635213212), ('water', 0.14567196947380484), ('clothes', 0.11002988571585302), ('wash', 0.10725026726499373), ('laundry', 0.06495953365395388), ('don', 0.062458039758117194), ('load', 0.0613664885527109)]\n",
      "Topic 6:\n",
      "[('yes', 0.7247868337584386), ('water', 0.21356061541748053), ('model', 0.18397740439960816), ('washer', 0.13476795884776324), ('number', 0.09578839375828518), ('wash', 0.06733008829254565), ('clothes', 0.06499916512749962), ('machine', 0.04744123678707224), ('drain', 0.04302381587579948), ('hose', 0.0354674144883635)]\n",
      "Topic 7:\n",
      "[('oven', 0.4211088189521345), ('feature', 0.27223959417955473), ('bake', 0.2714709444660255), ('water', 0.1585615040764796), ('sure', 0.15033589039786344), ('light', 0.13485886588280444), ('start', 0.13366064709666192), ('used', 0.13255568515024013), ('set', 0.12885872876533064), ('temperature', 0.11423856549030544)]\n",
      "Topic 8:\n",
      "[('ice', 0.29867071766071834), ('oven', 0.2966116115575194), ('model', 0.23468781704575042), ('feature', 0.23157021813119852), ('bake', 0.2272852724744059), ('machine', 0.21326838652237207), ('use', 0.1841396111878767), ('time', 0.1768135618291938), ('filter', 0.15508955025533946), ('number', 0.12358979066039456)]\n",
      "Topic 9:\n",
      "[('com', 0.3131480924631313), ('http', 0.2720792259078073), ('www', 0.2655541365073759), ('washer', 0.23806531960746968), ('amazon', 0.22067450894307747), ('dryer', 0.14713674704294033), ('ice', 0.13680149287420698), ('need', 0.13260260459207782), ('door', 0.13008326465714654), ('filters', 0.12697791743327697)]\n",
      "====================\n"
     ]
    },
    {
     "data": {
      "text/html": [
       "\n",
       "        <script>\n",
       "            function code_toggle_13887498702535434979() {\n",
       "                $('div.cell.code_cell.rendered.selected').find('div.input').toggle();\n",
       "            }\n",
       "\n",
       "            \n",
       "        </script>\n",
       "\n",
       "        <a href=\"javascript:code_toggle_13887498702535434979()\">Toggle show/hide</a>\n",
       "    "
      ],
      "text/plain": [
       "<IPython.core.display.HTML object>"
      ]
     },
     "execution_count": 12,
     "metadata": {},
     "output_type": "execute_result"
    }
   ],
   "source": [
    "#LDA scikit-learn version-2\n",
    "\n",
    "from sklearn.decomposition import NMF, LatentDirichletAllocation, TruncatedSVD\n",
    "from sklearn.feature_extraction.text import CountVectorizer\n",
    " \n",
    "NUM_TOPICS = 10\n",
    " \n",
    "vectorizer = CountVectorizer(min_df=5, max_df=0.9, \n",
    "                             stop_words='english', lowercase=True, \n",
    "                             token_pattern='[a-zA-Z\\-][a-zA-Z\\-]{2,}')\n",
    "data_vectorized = vectorizer.fit_transform(data_answers)\n",
    " \n",
    "# Build a Latent Dirichlet Allocation Model\n",
    "lda_model = LatentDirichletAllocation(n_components=NUM_TOPICS, max_iter=10, learning_method='online')\n",
    "lda_Z = lda_model.fit_transform(data_vectorized)\n",
    "print(lda_Z.shape)  # (NO_DOCUMENTS, NO_TOPICS)\n",
    " \n",
    "# Build a Non-Negative Matrix Factorization Model\n",
    "nmf_model = NMF(n_components=NUM_TOPICS)\n",
    "nmf_Z = nmf_model.fit_transform(data_vectorized)\n",
    "print(nmf_Z.shape)  # (NO_DOCUMENTS, NO_TOPICS)\n",
    " \n",
    "# Build a Latent Semantic Indexing Model\n",
    "lsi_model = TruncatedSVD(n_components=NUM_TOPICS)\n",
    "lsi_Z = lsi_model.fit_transform(data_vectorized)\n",
    "print(lsi_Z.shape)  # (NO_DOCUMENTS, NO_TOPICS)\n",
    " \n",
    "\n",
    "#Let's see how the first document in the corpus looks like in different topic spaces\n",
    "print(lda_Z[0])\n",
    "print(nmf_Z[0])\n",
    "print(lsi_Z[0])\n",
    "\n",
    "\n",
    "def print_topics(model, vectorizer, top_n=10):\n",
    "    for idx, topic in enumerate(model.components_):\n",
    "        print(\"Topic %d:\" % (idx))\n",
    "        print([(vectorizer.get_feature_names()[i], topic[i])\n",
    "                        for i in topic.argsort()[:-top_n - 1:-1]])\n",
    "\n",
    "print(\"LDA Model:\")\n",
    "print_topics(lda_model, vectorizer)\n",
    "print(\"=\" * 20)\n",
    " \n",
    "print(\"NMF Model:\")\n",
    "print_topics(nmf_model, vectorizer)\n",
    "print(\"=\" * 20)\n",
    " \n",
    "print(\"LSI Model:\")\n",
    "print_topics(lsi_model, vectorizer)\n",
    "print(\"=\" * 20)\n",
    "\n",
    "hide_toggle()"
   ]
  },
  {
   "cell_type": "markdown",
   "metadata": {},
   "source": [
    "***LDA visualizing:***"
   ]
  },
  {
   "cell_type": "code",
   "execution_count": 13,
   "metadata": {},
   "outputs": [
    {
     "data": {
      "text/html": [
       "\n",
       "<link rel=\"stylesheet\" type=\"text/css\" href=\"https://cdn.rawgit.com/bmabey/pyLDAvis/files/ldavis.v1.0.0.css\">\n",
       "\n",
       "\n",
       "<div id=\"ldavis_el397626370548772728413868359\"></div>\n",
       "<script type=\"text/javascript\">\n",
       "\n",
       "var ldavis_el397626370548772728413868359_data = {\"mdsDat\": {\"x\": [-187.55120849609375, -346.8043212890625, 512.2731323242188, 63.21345901489258, 102.21050262451172, -49.8331413269043, 390.7845458984375, 215.2701873779297, -225.41981506347656, 353.11419677734375], \"y\": [-283.29547119140625, -4.040669918060303, 52.16545104980469, 322.3489074707031, -273.5101013183594, 15.64752197265625, -245.47479248046875, 32.97242736816406, 293.6968994140625, 331.532470703125], \"topics\": [1, 2, 3, 4, 5, 6, 7, 8, 9, 10], \"cluster\": [1, 1, 1, 1, 1, 1, 1, 1, 1, 1], \"Freq\": [15.656790846393209, 14.232634613431506, 12.400698815423722, 10.450236487639554, 9.712669406279613, 9.099609027056745, 8.510327445443005, 7.505546733247346, 6.876265682577292, 5.555220942508026]}, \"tinfo\": {\"Category\": [\"Default\", \"Default\", \"Default\", \"Default\", \"Default\", \"Default\", \"Default\", \"Default\", \"Default\", \"Default\", \"Default\", \"Default\", \"Default\", \"Default\", \"Default\", \"Default\", \"Default\", \"Default\", \"Default\", \"Default\", \"Default\", \"Default\", \"Default\", \"Default\", \"Default\", \"Default\", \"Default\", \"Default\", \"Default\", \"Default\", \"Topic1\", \"Topic1\", \"Topic1\", \"Topic1\", \"Topic1\", \"Topic1\", \"Topic1\", \"Topic1\", \"Topic1\", \"Topic1\", \"Topic1\", \"Topic1\", \"Topic1\", \"Topic1\", \"Topic1\", \"Topic1\", \"Topic1\", \"Topic1\", \"Topic1\", \"Topic1\", \"Topic1\", \"Topic1\", \"Topic1\", \"Topic1\", \"Topic1\", \"Topic1\", \"Topic1\", \"Topic1\", \"Topic1\", \"Topic1\", \"Topic1\", \"Topic1\", \"Topic1\", \"Topic1\", \"Topic1\", \"Topic1\", \"Topic1\", \"Topic1\", \"Topic1\", \"Topic1\", \"Topic1\", \"Topic1\", \"Topic1\", \"Topic1\", \"Topic1\", \"Topic1\", \"Topic1\", \"Topic1\", \"Topic1\", \"Topic1\", \"Topic1\", \"Topic1\", \"Topic2\", \"Topic2\", \"Topic2\", \"Topic2\", \"Topic2\", \"Topic2\", \"Topic2\", \"Topic2\", \"Topic2\", \"Topic2\", \"Topic2\", \"Topic2\", \"Topic2\", \"Topic2\", \"Topic2\", \"Topic2\", \"Topic2\", \"Topic2\", \"Topic2\", \"Topic2\", \"Topic2\", \"Topic2\", \"Topic2\", \"Topic2\", \"Topic2\", \"Topic2\", \"Topic2\", \"Topic2\", \"Topic2\", \"Topic2\", \"Topic2\", \"Topic2\", \"Topic2\", \"Topic2\", \"Topic2\", \"Topic2\", \"Topic2\", \"Topic2\", \"Topic2\", \"Topic2\", \"Topic2\", \"Topic2\", \"Topic2\", \"Topic2\", \"Topic2\", \"Topic2\", \"Topic2\", \"Topic2\", \"Topic2\", \"Topic2\", \"Topic2\", \"Topic2\", \"Topic2\", \"Topic2\", \"Topic2\", \"Topic3\", \"Topic3\", \"Topic3\", \"Topic3\", \"Topic3\", \"Topic3\", \"Topic3\", \"Topic3\", \"Topic3\", \"Topic3\", \"Topic3\", \"Topic3\", \"Topic3\", \"Topic3\", \"Topic3\", \"Topic3\", \"Topic3\", \"Topic3\", \"Topic3\", \"Topic3\", \"Topic3\", \"Topic3\", \"Topic3\", \"Topic3\", \"Topic3\", \"Topic3\", \"Topic3\", \"Topic3\", \"Topic3\", \"Topic3\", \"Topic3\", \"Topic3\", \"Topic3\", \"Topic3\", \"Topic3\", \"Topic3\", \"Topic3\", \"Topic3\", \"Topic3\", \"Topic3\", \"Topic3\", \"Topic3\", \"Topic3\", \"Topic3\", \"Topic3\", \"Topic3\", \"Topic3\", \"Topic3\", \"Topic3\", \"Topic3\", \"Topic3\", \"Topic3\", \"Topic3\", \"Topic3\", \"Topic4\", \"Topic4\", \"Topic4\", \"Topic4\", \"Topic4\", \"Topic4\", \"Topic4\", \"Topic4\", \"Topic4\", \"Topic4\", \"Topic4\", \"Topic4\", \"Topic4\", \"Topic4\", \"Topic4\", \"Topic4\", \"Topic4\", \"Topic4\", \"Topic4\", \"Topic4\", \"Topic4\", \"Topic4\", \"Topic4\", \"Topic4\", \"Topic4\", \"Topic4\", \"Topic4\", \"Topic4\", \"Topic4\", \"Topic4\", \"Topic4\", \"Topic4\", \"Topic4\", \"Topic4\", \"Topic4\", \"Topic4\", \"Topic4\", \"Topic4\", \"Topic4\", \"Topic4\", \"Topic4\", \"Topic4\", \"Topic4\", \"Topic4\", \"Topic4\", \"Topic4\", \"Topic4\", \"Topic4\", \"Topic4\", \"Topic4\", \"Topic4\", \"Topic4\", \"Topic4\", \"Topic5\", \"Topic5\", \"Topic5\", \"Topic5\", \"Topic5\", \"Topic5\", \"Topic5\", \"Topic5\", \"Topic5\", \"Topic5\", \"Topic5\", \"Topic5\", \"Topic5\", \"Topic5\", \"Topic5\", \"Topic5\", \"Topic5\", \"Topic5\", \"Topic5\", \"Topic5\", \"Topic5\", \"Topic5\", \"Topic5\", \"Topic5\", \"Topic5\", \"Topic5\", \"Topic5\", \"Topic5\", \"Topic5\", \"Topic5\", \"Topic5\", \"Topic5\", \"Topic5\", \"Topic5\", \"Topic5\", \"Topic5\", \"Topic5\", \"Topic5\", \"Topic5\", \"Topic5\", \"Topic5\", \"Topic5\", \"Topic5\", \"Topic5\", \"Topic5\", \"Topic5\", \"Topic5\", \"Topic5\", \"Topic6\", \"Topic6\", \"Topic6\", \"Topic6\", \"Topic6\", \"Topic6\", \"Topic6\", \"Topic6\", \"Topic6\", \"Topic6\", \"Topic6\", \"Topic6\", \"Topic6\", \"Topic6\", \"Topic6\", \"Topic6\", \"Topic6\", \"Topic6\", \"Topic6\", \"Topic6\", \"Topic6\", \"Topic6\", \"Topic6\", \"Topic6\", \"Topic6\", \"Topic6\", \"Topic6\", \"Topic6\", \"Topic6\", \"Topic6\", \"Topic6\", \"Topic6\", \"Topic6\", \"Topic6\", \"Topic6\", \"Topic6\", \"Topic6\", \"Topic6\", \"Topic6\", \"Topic6\", \"Topic6\", \"Topic6\", \"Topic6\", \"Topic6\", \"Topic6\", \"Topic6\", \"Topic6\", \"Topic6\", \"Topic7\", \"Topic7\", \"Topic7\", \"Topic7\", \"Topic7\", \"Topic7\", \"Topic7\", \"Topic7\", \"Topic7\", \"Topic7\", \"Topic7\", \"Topic7\", \"Topic7\", \"Topic7\", \"Topic7\", \"Topic7\", \"Topic7\", \"Topic7\", \"Topic7\", \"Topic7\", \"Topic7\", \"Topic7\", \"Topic7\", \"Topic7\", \"Topic7\", \"Topic7\", \"Topic7\", \"Topic7\", \"Topic7\", \"Topic7\", \"Topic7\", \"Topic7\", \"Topic7\", \"Topic7\", \"Topic7\", \"Topic7\", \"Topic7\", \"Topic7\", \"Topic7\", \"Topic7\", \"Topic7\", \"Topic7\", \"Topic7\", \"Topic7\", \"Topic7\", \"Topic7\", \"Topic7\", \"Topic7\", \"Topic7\", \"Topic8\", \"Topic8\", \"Topic8\", \"Topic8\", \"Topic8\", \"Topic8\", \"Topic8\", \"Topic8\", \"Topic8\", \"Topic8\", \"Topic8\", \"Topic8\", \"Topic8\", \"Topic8\", \"Topic8\", \"Topic8\", \"Topic8\", \"Topic8\", \"Topic8\", \"Topic8\", \"Topic8\", \"Topic8\", \"Topic8\", \"Topic8\", \"Topic8\", \"Topic8\", \"Topic8\", \"Topic8\", \"Topic8\", \"Topic8\", \"Topic8\", \"Topic8\", \"Topic8\", \"Topic8\", \"Topic8\", \"Topic8\", \"Topic8\", \"Topic8\", \"Topic8\", \"Topic8\", \"Topic8\", \"Topic8\", \"Topic8\", \"Topic8\", \"Topic8\", \"Topic8\", \"Topic8\", \"Topic9\", \"Topic9\", \"Topic9\", \"Topic9\", \"Topic9\", \"Topic9\", \"Topic9\", \"Topic9\", \"Topic9\", \"Topic9\", \"Topic9\", \"Topic9\", \"Topic9\", \"Topic9\", \"Topic9\", \"Topic9\", \"Topic9\", \"Topic9\", \"Topic9\", \"Topic9\", \"Topic9\", \"Topic9\", \"Topic9\", \"Topic9\", \"Topic9\", \"Topic9\", \"Topic9\", \"Topic9\", \"Topic9\", \"Topic9\", \"Topic9\", \"Topic9\", \"Topic9\", \"Topic9\", \"Topic9\", \"Topic9\", \"Topic9\", \"Topic9\", \"Topic9\", \"Topic9\", \"Topic9\", \"Topic9\", \"Topic9\", \"Topic9\", \"Topic9\", \"Topic10\", \"Topic10\", \"Topic10\", \"Topic10\", \"Topic10\", \"Topic10\", \"Topic10\", \"Topic10\", \"Topic10\", \"Topic10\", \"Topic10\", \"Topic10\", \"Topic10\", \"Topic10\", \"Topic10\", \"Topic10\", \"Topic10\", \"Topic10\", \"Topic10\", \"Topic10\", \"Topic10\", \"Topic10\", \"Topic10\", \"Topic10\", \"Topic10\", \"Topic10\", \"Topic10\", \"Topic10\", \"Topic10\", \"Topic10\", \"Topic10\", \"Topic10\", \"Topic10\", \"Topic10\", \"Topic10\", \"Topic10\", \"Topic10\", \"Topic10\", \"Topic10\", \"Topic10\", \"Topic10\", \"Topic10\", \"Topic10\", \"Topic10\", \"Topic10\", \"Topic10\", \"Topic10\", \"Topic10\"], \"Freq\": [1577.0, 930.0, 1088.0, 1110.0, 788.0, 638.0, 714.0, 807.0, 512.0, 388.0, 480.0, 404.0, 257.0, 518.0, 259.0, 252.0, 617.0, 773.0, 363.0, 251.0, 334.0, 314.0, 658.0, 233.0, 226.0, 421.0, 352.0, 221.0, 376.0, 339.0, 1087.6617991904534, 713.1383322041992, 333.5221912069968, 262.47692527637344, 249.22401098316513, 232.8741230960802, 169.5525981884251, 151.7053266755576, 152.03563832808473, 146.71225216596937, 140.56320057388405, 118.52643146924619, 113.60271992007968, 112.20075868894976, 109.28549202739195, 100.53671545947941, 92.5578663961993, 89.78638612587558, 72.32989547373542, 69.68230263028175, 67.73355238924894, 53.687072064373545, 51.17211383496084, 49.997591317787865, 49.987143111243995, 47.040669067878426, 46.23935840046687, 46.192825611215135, 45.58506953862158, 45.12863296238998, 101.08431703256217, 132.66458098359462, 95.77573159194019, 237.81811923365458, 93.4814561256376, 311.91569911229294, 215.04822226913697, 137.0513283662738, 242.84949797995813, 148.123748890924, 190.33806553782838, 194.57505147858913, 115.40017855561199, 189.8861758813303, 185.43734776790416, 170.15023204689717, 205.4047408398689, 142.99113369490206, 209.636352808239, 144.29629175843195, 171.2582639262806, 121.7853641061067, 207.80566315054386, 238.97510756452803, 181.2300410842626, 174.80223109995814, 140.8107290511641, 125.27358379400948, 106.49803618883904, 103.8623764664402, 83.96302712136026, 78.72054628840378, 70.3875940005261, 69.30159297967835, 69.1117906795848, 68.83968774482607, 68.5590262519288, 66.63648944033, 63.177167893710646, 62.470774141343554, 62.42956176870489, 60.111312384893004, 57.32566486630939, 56.671242996444725, 53.43149575815114, 50.946941887464206, 54.32935499368477, 44.025270535910366, 39.587854879565256, 39.2266188623743, 38.764983616351046, 37.21767635472582, 179.36092340193005, 160.53886548923847, 66.74826140339047, 67.7110851588551, 836.3009863275086, 172.0759156099397, 137.74058789234252, 89.56311884764604, 348.88987400878904, 138.51024009562147, 152.3486964766482, 316.0209247759049, 231.41494653158577, 100.70935730513597, 85.53206675452728, 143.09944387353934, 210.01837724022977, 142.37277293104526, 156.59841991335003, 178.42651644222914, 89.80610032111537, 103.46058393358204, 109.06053810471766, 100.46392020917219, 89.32958183515939, 223.56957195707545, 220.5463864887347, 192.60020573321717, 136.8232117577168, 169.22815213593702, 118.03561346677553, 112.64293835412273, 107.85694033649415, 97.85665420063502, 93.48163778313408, 77.6761940715475, 70.75151396491087, 68.24769140903044, 67.13954408666248, 63.86603904492802, 60.41681232164371, 60.39036905668778, 57.902976287086005, 64.27050333866364, 47.11467380003798, 45.87329872856468, 45.317345022434566, 43.4546687665974, 43.31761623300884, 42.351651566543644, 41.58713595126916, 38.676543608239, 38.368951733360866, 35.61261676252558, 38.692372472278976, 327.5928425079309, 419.4920925732924, 109.39429289082751, 78.79991050960425, 83.2210602112778, 82.93150544372128, 69.88147962920344, 149.0832979619949, 230.5142004142635, 104.38362243650707, 94.75667690375631, 165.0104499158089, 233.66427427142258, 110.74059917830246, 188.79357911402695, 104.24049419790526, 82.5154970783074, 170.092108070069, 108.82701301047322, 91.92646429089216, 134.90619316168682, 93.95345278159218, 108.36502790333267, 83.54545366126938, 227.20663161253404, 176.4998581676991, 138.87852172227065, 135.59626975452966, 130.8880074950767, 101.04205277226377, 89.6781594349011, 87.42606909402429, 85.77662427983076, 83.06498065665522, 82.40442033291033, 67.76981254245776, 65.1727706998679, 62.64571397853473, 56.48750738740439, 56.2993502683848, 56.34206405286435, 53.724465171518396, 52.58984539813514, 46.603804874660455, 45.625768834463834, 40.81384174366125, 37.41393881359566, 35.8645319687001, 34.97299216077161, 34.28872039156164, 31.678288504795194, 31.244470867459025, 31.00232233537415, 30.812567139935624, 618.0905725516776, 173.28215321279689, 648.578477132297, 594.2677485254277, 154.70521317725036, 87.53475019448884, 244.03506200114444, 74.713981884488, 185.52855390560023, 397.5468788903949, 184.66539518546674, 80.27004975886068, 204.37631028657714, 98.84755858923947, 146.885196765911, 188.28218911509373, 123.0304675907679, 88.2760722732457, 131.27878663246338, 121.5181911841518, 89.51530462968596, 86.38997599907098, 84.14135241434938, 160.30775396026561, 136.88271107930336, 125.4093674756308, 118.32105516372548, 103.57276831931176, 100.23676263662779, 92.45969201821946, 86.33951711527085, 83.87776011686387, 77.76021259178505, 77.05183136229883, 76.21800014569618, 73.19082706859494, 69.89292849931401, 61.66841562137112, 61.257067082421145, 58.58556279873336, 56.24677487465109, 52.79349078959045, 52.556275281894834, 50.61657013410106, 47.188172662882145, 45.65862526764067, 45.42297248971062, 43.8534682935831, 42.79518288253543, 40.077619509933655, 37.75088938138699, 37.56439412120392, 36.898512637535084, 442.9487131077389, 81.7489663350439, 69.45015042173057, 130.50269315981942, 214.54812390629377, 48.85272757253902, 55.56660067963159, 64.39184688231747, 76.37368996095378, 97.92498119357563, 102.1552294203096, 145.01312317412322, 91.57418105561696, 117.34828013909735, 140.7146363523604, 73.71480873757046, 102.37921587557288, 67.7184827641206, 511.98676934822424, 221.11854625118767, 203.70275516757442, 196.90331636484012, 182.9825659281192, 137.74567475420423, 93.31453599126232, 73.51254553456754, 72.12225633392396, 69.48032412158385, 68.42718518280415, 62.613306948797586, 55.75519110274843, 54.14473799048684, 50.2586802165755, 49.81633737111209, 57.65115671321876, 49.17506859583664, 44.92272577172268, 44.48583752202756, 44.201989003188906, 43.11507031104958, 42.710042497741235, 40.334711664770325, 39.42607787632718, 39.36555043444582, 38.79711677918347, 33.186974293624324, 32.80550970323548, 31.061716886434592, 119.09940944081923, 121.96098284684498, 251.63172273484162, 154.43466655475785, 225.44007842951885, 194.6940018111271, 85.57654436832442, 95.59717373951402, 273.0007490825404, 184.6267819834894, 184.24446980861782, 81.86437594408314, 128.24536986157315, 107.66182115547987, 95.21089652180441, 74.61219259285363, 79.22720930365986, 58.58138424317078, 403.5498061640609, 250.41166728910088, 232.95703666596435, 225.33188992086582, 203.49746097809106, 171.22083448984668, 150.20628262160358, 120.25039844799531, 105.89343802317838, 97.38562400327604, 94.88638714507785, 92.74281944048846, 78.15290657508457, 72.94897542121059, 71.86564714957919, 66.10947760447826, 63.41644648903877, 61.57816388472624, 58.1410474968838, 58.35273746355044, 44.1753134658597, 44.08463298912364, 43.878632558637825, 40.330782120581794, 39.21463985132219, 35.32180137430339, 34.928596606618, 32.76171887657014, 26.77191819992026, 25.988509838628413, 30.161351849255993, 53.021518026176096, 148.13014153715957, 131.37118578375234, 72.4470325478022, 94.92524236469835, 122.86511065204476, 89.26552440656268, 122.06224483715312, 98.6372632115325, 88.4879329283161, 167.283853066659, 146.06572358129654, 147.2090304192334, 125.46722637118573, 80.83472696590384, 83.28729614948331, 74.88174063170133, 73.66030439576771, 1576.3504611545338, 166.88081241871453, 158.53598364329193, 141.98004709641282, 97.54460018327126, 95.21694321482755, 80.71573488580079, 76.1930569508515, 66.05246248007916, 62.53630829486825, 61.01024191018309, 55.83892756227008, 55.44924011682692, 53.81770042587959, 46.08887647549524, 45.136223327003435, 44.624660962076334, 40.32626830711589, 38.43275882328195, 34.6896882304951, 31.115692879252588, 29.583128048318493, 29.097129731082966, 27.305017234054855, 27.194565510621537, 26.434524961564637, 25.43509857177883, 25.37070629065067, 24.088359181509936, 23.193821935192652, 123.77751936811953, 148.80070768832158, 142.38222885269576, 102.90430557026806, 56.47336037300329, 284.41675034401055, 107.75338531295644, 89.9295508949859, 45.6071479293518, 82.3114522240358, 103.977556260609, 139.2724758650682, 77.66446248549677, 67.40394933152943, 68.84219799365029, 53.56516501816721, 50.92349220493403, 387.62404141339994, 258.8257062052385, 251.65716978694473, 190.85071357413085, 156.98774511612987, 98.97528370221755, 83.71544163995354, 83.62902112640089, 81.14039302050476, 75.71485498039404, 72.70392944645134, 63.28587980292518, 63.05806150899743, 60.87515316394027, 59.56096605558842, 54.52623447873941, 49.282510795121645, 48.23503826501055, 47.634106508677846, 44.637493606156106, 45.02075149119563, 43.44295382262214, 37.387714978612706, 35.910452190950934, 35.44283550357404, 33.615663233057376, 33.50931364900337, 32.95676607813225, 32.493131681957436, 31.00690007948757, 130.81524833571075, 136.5101035099287, 48.50724430097541, 86.8689940317103, 120.65436292959963, 76.31066850850826, 60.274624597540814, 137.59747084287713, 65.81128421962067, 94.19736996572101, 89.02800845893717, 59.92643277115327, 56.658153375429094, 54.25150797018497, 54.72916033087146, 256.0808571380217, 117.06031629631899, 112.97509542876531, 106.67615739217077, 88.6415134232186, 77.69302956122519, 73.31193397969473, 57.26651055493057, 56.62214440923109, 55.506136083555745, 51.92909807286694, 51.81341104687942, 50.28155965143362, 50.0462276338921, 42.96258526980198, 42.53418522073216, 39.50294759445043, 37.88888477090199, 37.33786797938625, 35.124533803373225, 33.28473444137544, 33.034656401454235, 31.827220256360192, 31.0210233932839, 30.842655059365452, 29.708048961547345, 28.229835155018563, 26.8311996028185, 26.185534836263958, 25.79474835667219, 36.628968094743485, 719.8405974197447, 66.3890744698322, 101.36338511551202, 130.1294355472915, 76.39543961018194, 63.663880840518715, 49.60738461385214, 67.67532000399925, 52.18082856199868, 61.855061095418094, 70.2151332000555, 55.843964997552355, 45.276637808778766, 49.96067847432254, 45.65690191955034, 44.052104976724436, 44.145005256162946], \"Term\": [\"yes\", \"filter\", \"model\", \"water\", \"fit\", \"know\", \"number\", \"don\", \"ice\", \"com\", \"washer\", \"dryer\", \"filters\", \"good\", \"www\", \"http\", \"does\", \"sure\", \"machine\", \"range\", \"inches\", \"refrigerator\", \"work\", \"vent\", \"hood\", \"parts\", \"fridge\", \"kenmore\", \"think\", \"make\", \"model\", \"number\", \"inches\", \"oven\", \"fits\", \"installed\", \"perfectly\", \"wide\", \"original\", \"height\", \"search\", \"deep\", \"maytag\", \"depth\", \"brand\", \"exact\", \"looked\", \"width\", \"surface\", \"worth\", \"won\", \"edge\", \"appears\", \"cheaper\", \"universal\", \"tall\", \"dear\", \"send\", \"gasket\", \"properly\", \"numbers\", \"models\", \"listed\", \"replacement\", \"perfect\", \"parts\", \"look\", \"better\", \"hope\", \"correct\", \"helps\", \"new\", \"inch\", \"whirlpool\", \"amazon\", \"door\", \"work\", \"right\", \"just\", \"old\", \"sure\", \"buy\", \"replace\", \"little\", \"high\", \"air\", \"fan\", \"minutes\", \"change\", \"instructions\", \"setting\", \"takes\", \"depends\", \"simple\", \"gets\", \"nice\", \"screen\", \"push\", \"tray\", \"heavy\", \"based\", \"humidity\", \"clear\", \"dont\", \"tank\", \"thermostat\", \"humidifier\", \"heater\", \"noticed\", \"cool\", \"installing\", \"weeks\", \"clean\", \"remove\", \"flow\", \"temp\", \"water\", \"really\", \"months\", \"going\", \"use\", \"using\", \"easy\", \"just\", \"unit\", \"pretty\", \"bit\", \"new\", \"filter\", \"great\", \"like\", \"don\", \"recommend\", \"say\", \"hope\", \"helps\", \"think\", \"install\", \"year\", \"years\", \"stainless\", \"warranty\", \"happy\", \"hard\", \"service\", \"button\", \"return\", \"money\", \"electrical\", \"issues\", \"job\", \"tub\", \"couldn\", \"cleaning\", \"press\", \"hours\", \"apart\", \"experience\", \"appliances\", \"support\", \"located\", \"series\", \"extended\", \"older\", \"display\", \"leaking\", \"real\", \"machine\", \"good\", \"steel\", \"cost\", \"times\", \"switch\", \"customer\", \"luck\", \"time\", \"appliance\", \"actually\", \"bought\", \"like\", \"purchase\", \"works\", \"doesn\", \"end\", \"use\", \"problem\", \"purchased\", \"unit\", \"help\", \"parts\", \"look\", \"sorry\", \"able\", \"let\", \"white\", \"ordered\", \"questions\", \"went\", \"contact\", \"thanks\", \"hello\", \"ask\", \"away\", \"completely\", \"units\", \"speed\", \"vented\", \"color\", \"stock\", \"option\", \"reference\", \"doing\", \"lfx\", \"states\", \"sizes\", \"stand\", \"regards\", \"pair\", \"portable\", \"touch\", \"various\", \"know\", \"question\", \"fit\", \"don\", \"answer\", \"free\", \"think\", \"remember\", \"stove\", \"sure\", \"check\", \"shipping\", \"did\", \"tell\", \"different\", \"great\", \"worked\", \"manufacturer\", \"make\", \"work\", \"believe\", \"order\", \"whirlpool\", \"home\", \"kitchen\", \"working\", \"problems\", \"faucet\", \"piece\", \"couple\", \"pan\", \"glass\", \"took\", \"low\", \"cooktop\", \"counter\", \"ago\", \"sides\", \"smaller\", \"depot\", \"mount\", \"weight\", \"cook\", \"shape\", \"iron\", \"lock\", \"hook\", \"bracket\", \"induction\", \"aid\", \"kegs\", \"seen\", \"ended\", \"washer\", \"hoses\", \"larger\", \"sink\", \"small\", \"cheap\", \"holes\", \"haven\", \"maybe\", \"large\", \"love\", \"size\", \"plastic\", \"used\", \"use\", \"burner\", \"just\", \"place\", \"ice\", \"kenmore\", \"inside\", \"freezer\", \"maker\", \"valve\", \"exactly\", \"center\", \"bin\", \"seal\", \"supply\", \"overall\", \"wires\", \"basket\", \"keg\", \"noise\", \"dispenser\", \"cubes\", \"pack\", \"pieces\", \"icemaker\", \"separate\", \"lines\", \"asking\", \"factory\", \"attach\", \"videos\", \"fitting\", \"compare\", \"elite\", \"dimensions\", \"makes\", \"refrigerator\", \"line\", \"fridge\", \"make\", \"cold\", \"turn\", \"water\", \"work\", \"need\", \"thing\", \"door\", \"check\", \"whirlpool\", \"kit\", \"buy\", \"want\", \"dryer\", \"range\", \"vent\", \"hood\", \"hose\", \"didn\", \"needed\", \"ceiling\", \"says\", \"guess\", \"duct\", \"black\", \"feet\", \"measure\", \"wouldn\", \"description\", \"pipe\", \"connect\", \"unless\", \"exhaust\", \"mounted\", \"gallon\", \"lbs\", \"shows\", \"loads\", \"recall\", \"aluminum\", \"venting\", \"cap\", \"trap\", \"coil\", \"round\", \"wall\", \"outside\", \"lint\", \"hot\", \"comes\", \"standard\", \"fine\", \"probably\", \"came\", \"just\", \"work\", \"need\", \"works\", \"used\", \"sure\", \"use\", \"long\", \"yes\", \"thank\", \"cycle\", \"wash\", \"rack\", \"handle\", \"rinse\", \"uses\", \"spin\", \"laundry\", \"bag\", \"detergent\", \"leave\", \"chimney\", \"clock\", \"ship\", \"extension\", \"sheet\", \"towels\", \"blue\", \"dishes\", \"hang\", \"watts\", \"spinner\", \"paper\", \"washed\", \"options\", \"bright\", \"racks\", \"ovens\", \"dry\", \"clothes\", \"drain\", \"load\", \"hand\", \"does\", \"set\", \"open\", \"items\", \"light\", \"time\", \"fit\", \"great\", \"works\", \"just\", \"door\", \"fine\", \"com\", \"www\", \"http\", \"dishwasher\", \"power\", \"cord\", \"link\", \"goes\", \"lower\", \"diameter\", \"cooking\", \"unfortunately\", \"pans\", \"direct\", \"food\", \"connector\", \"allow\", \"feature\", \"broan\", \"ref\", \"shelves\", \"flat\", \"adjustable\", \"utf\", \"later\", \"html\", \"sets\", \"guide\", \"pdf\", \"wired\", \"plug\", \"website\", \"sold\", \"heat\", \"come\", \"wire\", \"outlet\", \"amazon\", \"electric\", \"need\", \"does\", \"good\", \"product\", \"stove\", \"unit\", \"filters\", \"control\", \"samsung\", \"according\", \"said\", \"compatible\", \"woder\", \"feel\", \"information\", \"board\", \"package\", \"carbon\", \"rubber\", \"nsf\", \"oem\", \"replaces\", \"loud\", \"mean\", \"requires\", \"ends\", \"compressor\", \"offer\", \"following\", \"energy\", \"standards\", \"contaminants\", \"charcoal\", \"kept\", \"approximately\", \"super\", \"including\", \"filter\", \"regular\", \"box\", \"believe\", \"motor\", \"looking\", \"products\", \"item\", \"pump\", \"refrigerator\", \"does\", \"buy\", \"company\", \"website\", \"used\", \"drain\", \"product\"], \"Total\": [1577.0, 930.0, 1088.0, 1110.0, 788.0, 638.0, 714.0, 807.0, 512.0, 388.0, 480.0, 404.0, 257.0, 518.0, 259.0, 252.0, 617.0, 773.0, 363.0, 251.0, 334.0, 314.0, 658.0, 233.0, 226.0, 421.0, 352.0, 221.0, 376.0, 339.0, 1088.6963727864613, 714.0109612404686, 334.394860879999, 263.36051573893747, 250.10289783530143, 233.7470600787367, 170.42529951871188, 152.57797774367052, 152.92585187764968, 147.58500082500257, 141.43605821611828, 119.40140458239793, 114.47728973983267, 113.07341411868835, 110.15820905292891, 101.41051973715865, 93.43057884848048, 90.65899195165942, 73.20273368124816, 70.5552103592358, 68.60641288919271, 54.559758808180746, 52.04492899411483, 50.87033515096096, 50.860313528152524, 47.92462560855394, 47.1123292517929, 47.06556516237612, 46.4582549084051, 46.00147507199102, 107.48870294276435, 149.61505784061174, 104.63788930814478, 292.66822604407884, 105.20430084322976, 421.0557797254352, 299.3687350835831, 173.6639395548341, 370.5447616298027, 203.8563918003234, 313.62879690801446, 338.4506994568926, 150.52076544610978, 370.79097584357106, 413.53480113683065, 360.2312477713714, 658.2572376851689, 278.91141344221865, 898.0554694053503, 330.86192665103306, 773.5874526319041, 257.53659789083815, 208.67725658913696, 240.00347866717104, 182.1016786035661, 175.67377481910287, 141.68226841868295, 126.17979399762679, 107.36959347283876, 104.73401281313599, 84.83462674930786, 79.59257839246207, 71.25918083178661, 70.17315228458963, 69.98336656691144, 69.71126521137542, 69.43062435622302, 67.50799690309594, 64.04873209110978, 63.342343226443084, 63.30119547961983, 60.982773945896184, 58.19726829573204, 57.542852963482204, 54.30309508401002, 51.81847268915069, 55.295625173603895, 44.898464853777334, 40.45946592635708, 40.09812747447789, 39.6366588385721, 38.089240167181515, 184.6945752586451, 167.8703405847643, 69.06370803182864, 71.37813037546564, 1110.7104777034347, 232.31658400841465, 190.97079094668584, 108.25944471315549, 809.3580935563584, 224.89258114344852, 261.7462884635508, 898.0554694053503, 582.4201116293594, 153.2779938734946, 113.63631610695302, 338.4506994568926, 930.6374232838004, 409.2127951718155, 570.0290371487827, 807.08262637532, 145.17406188631384, 220.11621739474668, 370.5447616298027, 313.62879690801446, 376.8848131687286, 224.44013157340459, 221.4318149038686, 193.4707562838677, 137.69368839117763, 170.4229946137511, 118.90615139196018, 113.51344797879763, 108.72741682236683, 98.72717206462258, 94.42270647803446, 78.5466666104626, 71.6220979169604, 69.11821701041326, 68.01004493088365, 64.7365204688143, 61.28736654770446, 61.260850727646606, 58.77346254267227, 65.34028212802174, 47.98522239044687, 46.74411710617165, 46.1880156923755, 44.32516754479485, 44.18829414645767, 43.222230817910294, 42.46158852665067, 39.5471309710763, 39.28303224045052, 36.48335071513586, 39.64501811179878, 363.1805992448611, 518.144777975242, 123.65439562736226, 87.4537158669992, 94.46023542890997, 94.11703730257544, 77.57113516109246, 210.54925348915367, 375.72147928958856, 136.17430459491115, 121.375064932307, 280.38712148607345, 570.0290371487827, 165.71067552253214, 454.2134394249046, 184.92155174031322, 118.63105328788309, 809.3580935563584, 267.0492362157466, 164.9223891917867, 582.4201116293594, 179.33993317596025, 421.0557797254352, 299.3687350835831, 228.12019005264125, 177.37125015680041, 139.74989553291942, 136.4675676093025, 131.76058273545263, 101.91331212450505, 90.54946623850661, 88.29732991137462, 86.64793360781745, 83.93637848588594, 83.27607915315602, 68.641222885192, 66.044181101641, 63.51709892902687, 57.35879968907999, 57.17066133054272, 57.21535790512177, 54.59588560483956, 53.46273313990042, 47.47517544024448, 46.497073406586296, 41.68498221738851, 38.28532295337459, 36.73575170856272, 35.844388251034914, 35.1601420774655, 32.54957956003012, 32.11888079235356, 31.873723298232996, 31.6844310018844, 638.8761402549293, 181.22595634242828, 788.8489340626602, 807.08262637532, 184.86729012497085, 103.49678609441129, 376.8848131687286, 90.07589923704961, 287.8008280407131, 773.5874526319041, 293.10215909727265, 98.76185771892946, 414.8812312508941, 138.88778152495402, 258.4906567445949, 409.2127951718155, 236.34464368739052, 131.5886545534553, 339.5924708727994, 658.2572376851689, 220.41965344170197, 174.32359676742013, 370.79097584357106, 161.1775146992648, 137.7524805132804, 126.27917530864423, 119.19664755510995, 104.44248861050765, 101.10648788970644, 93.32944801357972, 87.20924619336809, 84.74767934482149, 78.63001930807569, 77.92192493487005, 77.08769854860226, 74.06507693191197, 70.76270847230359, 62.53859463237443, 62.12677302035826, 59.45525625816621, 57.116498053571725, 53.66536325037768, 53.42599845844714, 51.486316823259216, 48.057933929497594, 46.52855496295373, 46.29272182455956, 44.730853796332624, 43.693271752029325, 40.947318173224176, 38.620588826755885, 38.44064322584689, 37.768285900571094, 480.39360977543515, 85.51337806430207, 72.68911270185436, 143.0607513190845, 256.8276031992628, 50.82345022539887, 59.88611928974971, 73.6010645507493, 95.60262224661602, 136.85468338144585, 154.92334619882067, 269.04095862765996, 186.0226929156684, 442.5784189570336, 809.3580935563584, 126.49325262850971, 898.0554694053503, 135.08823873094528, 512.858531205706, 221.99027746266893, 204.57493351391852, 197.77874689620833, 183.85431976984853, 138.61737768128268, 94.18645944219242, 74.38438390362538, 72.99392687227108, 70.35207700288512, 69.29897678203423, 63.485053647357, 56.62696834702626, 55.016510195628854, 51.130464792672655, 50.688089725909265, 58.668346896090135, 50.0467428922066, 45.794518415666715, 45.35768426773647, 45.07584633580495, 43.98687570370653, 43.581800700605484, 41.20657705307857, 40.29790297729839, 40.23736476458275, 39.668902864239776, 34.05879592918513, 33.677319008981904, 31.933397203861755, 130.0711460305448, 139.3153424000994, 314.2771892396311, 191.131670513201, 352.3138908881478, 339.5924708727994, 116.92263231803561, 162.01583193952237, 1110.7104777034347, 658.2572376851689, 683.1961942883369, 147.80452838922687, 360.2312477713714, 293.10215909727265, 370.79097584357106, 184.19454661729475, 257.53659789083815, 205.07523489177754, 404.4205383072872, 251.28193578873015, 233.82729066090468, 226.20726000447576, 204.36770912799193, 172.09116787759322, 151.07670477687583, 121.12063714018403, 106.76376500893686, 98.25591971973999, 95.75656001596984, 93.61311381347362, 79.03327653514235, 73.81923298954631, 72.73595316062827, 66.98894410019382, 64.29146072926154, 62.44850012859686, 59.01141995935188, 59.25783008476557, 45.045557536527184, 44.954952282579235, 44.74888353761527, 41.20112771137244, 40.085118870278485, 36.19222994351679, 35.79886730329044, 33.631943292632556, 27.64217058374021, 26.858706758715037, 31.171547974342893, 55.9285009456678, 174.05514230002234, 169.32652508390157, 86.6598108852765, 148.7336727202289, 242.1806285548147, 153.9984738190041, 266.35413325628804, 197.5283922314764, 165.4477462040884, 898.0554694053503, 658.2572376851689, 683.1961942883369, 454.2134394249046, 442.5784189570336, 773.5874526319041, 809.3580935563584, 266.117550750616, 1577.2476762555564, 167.75636820568593, 159.41151483758597, 142.85553379528744, 98.42012700095557, 96.09277264845647, 81.59129055152641, 77.06896591643148, 66.92792524956899, 63.41189032871577, 61.88580234962509, 56.71442588797834, 56.32485255882976, 54.693336368915475, 46.964379929314525, 46.01183850789087, 45.500306635116495, 41.20192938311994, 39.30824046008185, 35.565344895244074, 31.991393269006963, 30.45865431918532, 29.972744071643444, 28.180467964445683, 28.07010610609225, 27.309981283397715, 26.310847779817724, 26.246333645837847, 24.96386168831177, 24.069694003853666, 128.84283700798858, 158.27955125434184, 188.02337251975052, 134.04538179134133, 69.52152572525168, 617.5641894095738, 188.163582228097, 150.14697767446955, 57.60616631877854, 161.29677219567782, 375.72147928958856, 788.8489340626602, 409.2127951718155, 454.2134394249046, 898.0554694053503, 360.2312477713714, 266.35413325628804, 388.4922605363376, 259.6938917656556, 252.52535353235368, 191.719061289934, 157.85602810871433, 99.84352108705292, 84.58364721628685, 84.49741655911218, 82.00875541191317, 76.58317254500794, 73.57223414962218, 64.1542328733974, 63.926312941347135, 61.74345050547733, 60.42932605188992, 55.394579801717256, 50.15211720330843, 49.103352036757954, 48.50233998466312, 45.50569005596227, 45.91472185278882, 44.31129115052196, 38.256727880978225, 36.77861654755475, 36.31119922621004, 34.48383404951427, 34.37766144714773, 33.825030305419546, 33.36133601936196, 31.875088335360548, 150.8813057888939, 187.24310067050914, 54.71463600384104, 124.55707044571412, 220.3831465831984, 115.4642057456254, 85.31503321890649, 413.53480113683065, 109.26592928159415, 683.1961942883369, 617.5641894095738, 518.144777975242, 291.7525711657064, 287.8008280407131, 582.4201116293594, 257.188642867249, 117.93215408132858, 113.84741775126855, 107.5479157302965, 89.51338535295103, 78.56476572169392, 74.18721712099622, 58.13834969491758, 57.49388365415146, 56.38184640351343, 52.80082123290495, 52.685115013099775, 51.15338459873962, 50.91787026535242, 43.83433825182892, 43.40589794173084, 40.37471474047795, 38.76076247299318, 38.209668851260396, 35.99701411387734, 34.15652642431446, 33.90641941385018, 32.69899537998713, 31.892979676347004, 31.715260024156912, 30.579705018075465, 29.10152677547182, 27.702961919765322, 27.057309843224584, 26.666662554184754, 38.2387775293162, 930.6374232838004, 82.518710491425, 150.12319630071914, 220.41965344170197, 109.95205623848068, 103.67609568565723, 74.73644714483842, 142.4293019929143, 108.3539999558417, 314.2771892396311, 617.5641894095738, 257.53659789083815, 100.30434754189488, 187.24310067050914, 442.5784189570336, 188.02337251975052, 291.7525711657064], \"loglift\": [30.0, 29.0, 28.0, 27.0, 26.0, 25.0, 24.0, 23.0, 22.0, 21.0, 20.0, 19.0, 18.0, 17.0, 16.0, 15.0, 14.0, 13.0, 12.0, 11.0, 10.0, 9.0, 8.0, 7.0, 6.0, 5.0, 4.0, 3.0, 2.0, 1.0, 1.8533, 1.853, 1.8517, 1.8509, 1.8507, 1.8505, 1.8491, 1.8485, 1.8484, 1.8483, 1.8481, 1.8469, 1.8466, 1.8465, 1.8463, 1.8456, 1.8449, 1.8446, 1.8423, 1.8418, 1.8415, 1.8381, 1.8374, 1.837, 1.8369, 1.8356, 1.8356, 1.8355, 1.8353, 1.8351, 1.7928, 1.734, 1.7658, 1.6467, 1.7361, 1.5542, 1.5235, 1.6175, 1.4317, 1.5349, 1.3549, 1.3007, 1.5886, 1.1851, 1.0522, 1.1042, 0.6897, 1.1862, 0.3994, 1.0244, 0.3464, 1.1054, 1.9454, 1.9453, 1.9448, 1.9447, 1.9435, 1.9424, 1.9415, 1.9413, 1.9393, 1.9386, 1.9373, 1.9371, 1.9371, 1.9371, 1.937, 1.9366, 1.9359, 1.9358, 1.9358, 1.9352, 1.9345, 1.9344, 1.9335, 1.9327, 1.932, 1.93, 1.9279, 1.9277, 1.9274, 1.9265, 1.9203, 1.905, 1.9155, 1.8969, 1.6659, 1.6495, 1.6229, 1.76, 1.1081, 1.465, 1.4084, 0.9052, 1.0267, 1.5296, 1.6655, 1.0888, 0.461, 0.8938, 0.6576, 0.4404, 1.4694, 1.1947, 0.7266, 0.8112, 0.51, 2.0835, 2.0834, 2.0829, 2.0811, 2.0804, 2.0801, 2.0797, 2.0794, 2.0786, 2.0774, 2.0763, 2.0752, 2.0747, 2.0745, 2.0739, 2.0731, 2.0731, 2.0725, 2.0709, 2.0691, 2.0686, 2.0684, 2.0676, 2.0675, 2.0671, 2.0666, 2.0652, 2.0639, 2.0633, 2.0631, 1.9843, 1.8762, 1.9649, 1.9832, 1.9607, 1.9609, 1.983, 1.7422, 1.5989, 1.8216, 1.8398, 1.5573, 1.1956, 1.6844, 1.2095, 1.5142, 1.7244, 0.5275, 1.1897, 1.5029, 0.6248, 1.4409, 0.7302, 0.8111, 2.2545, 2.2536, 2.2523, 2.2521, 2.2519, 2.25, 2.2489, 2.2486, 2.2484, 2.2481, 2.248, 2.2458, 2.2453, 2.2447, 2.2432, 2.2432, 2.2432, 2.2425, 2.2421, 2.24, 2.2396, 2.2374, 2.2355, 2.2345, 2.2339, 2.2334, 2.2314, 2.2309, 2.2308, 2.2306, 2.2255, 2.2137, 2.0628, 1.9524, 2.0804, 2.091, 1.8239, 2.0716, 1.8195, 1.5928, 1.7966, 2.0512, 1.5505, 1.9185, 1.6933, 1.4823, 1.6057, 1.8593, 1.3081, 0.569, 1.3574, 1.5565, 0.7754, 2.3263, 2.3254, 2.3248, 2.3244, 2.3234, 2.3231, 2.3224, 2.3217, 2.3214, 2.3206, 2.3205, 2.3204, 2.3199, 2.3194, 2.3177, 2.3176, 2.317, 2.3164, 2.3154, 2.3153, 2.3147, 2.3135, 2.3129, 2.3128, 2.3119, 2.311, 2.3103, 2.309, 2.3087, 2.3084, 2.2506, 2.2867, 2.2862, 2.2399, 2.1519, 2.2922, 2.2569, 2.1981, 2.1072, 1.997, 1.9153, 1.7137, 1.623, 1.0043, 0.5822, 1.7918, 0.1602, 1.6412, 2.3952, 2.393, 2.3927, 2.3925, 2.3922, 2.3906, 2.3876, 2.3851, 2.3849, 2.3845, 2.3843, 2.3831, 2.3814, 2.381, 2.3797, 2.3796, 2.3794, 2.3794, 2.3777, 2.3775, 2.3774, 2.3769, 2.3767, 2.3756, 2.3751, 2.375, 2.3747, 2.371, 2.3707, 2.3693, 2.3088, 2.2639, 2.1746, 2.1837, 1.9505, 1.8406, 2.0848, 1.8694, 0.9937, 1.1257, 1.0864, 1.8061, 1.3641, 1.3954, 1.0374, 1.4933, 1.2181, 1.144, 2.4617, 2.4604, 2.4602, 2.46, 2.4596, 2.4588, 2.4581, 2.4567, 2.4557, 2.455, 2.4548, 2.4545, 2.4527, 2.452, 2.4519, 2.4507, 2.4502, 2.4499, 2.449, 2.4485, 2.4444, 2.4443, 2.4443, 2.4425, 2.4419, 2.4395, 2.4393, 2.4377, 2.4319, 2.431, 2.4309, 2.4105, 2.3026, 2.2101, 2.2848, 2.0148, 1.7853, 1.9186, 1.6836, 1.7695, 1.8381, 0.7834, 0.9584, 0.929, 1.1774, 0.7637, 0.2351, 0.0836, 1.1794, 2.589, 2.5843, 2.584, 2.5834, 2.5806, 2.5804, 2.5787, 2.5781, 2.5764, 2.5756, 2.5753, 2.574, 2.5739, 2.5734, 2.5707, 2.5703, 2.5701, 2.568, 2.567, 2.5646, 2.5618, 2.5604, 2.5599, 2.558, 2.5578, 2.5569, 2.5557, 2.5556, 2.5538, 2.5525, 2.5494, 2.5278, 2.3115, 2.3251, 2.3817, 1.8142, 2.0321, 2.0769, 2.356, 1.9168, 1.3049, 0.8554, 0.9277, 0.6817, 0.0211, 0.6837, 0.935, 2.6749, 2.6737, 2.6737, 2.6726, 2.6716, 2.6684, 2.6668, 2.6668, 2.6664, 2.6657, 2.6652, 2.6635, 2.6634, 2.6629, 2.6626, 2.6613, 2.6596, 2.6593, 2.659, 2.6578, 2.6574, 2.6573, 2.6541, 2.6532, 2.6529, 2.6516, 2.6515, 2.6511, 2.6507, 2.6495, 2.5344, 2.3611, 2.5567, 2.3167, 2.0747, 2.2629, 2.3297, 1.5767, 2.1701, 0.6957, 0.7403, 0.52, 1.0382, 1.0085, 0.3123, 2.8861, 2.883, 2.8827, 2.8823, 2.8806, 2.8793, 2.8786, 2.8753, 2.8752, 2.8748, 2.8738, 2.8737, 2.8732, 2.8732, 2.8703, 2.8701, 2.8686, 2.8677, 2.8674, 2.8659, 2.8646, 2.8644, 2.8634, 2.8627, 2.8625, 2.8615, 2.86, 2.8585, 2.8577, 2.8572, 2.8474, 2.6336, 2.6729, 2.4977, 2.3634, 2.5263, 2.4028, 2.4806, 2.1463, 2.1597, 1.265, 0.7162, 1.3618, 2.095, 1.5693, 0.619, 1.4392, 1.002], \"logprob\": [30.0, 29.0, 28.0, 27.0, 26.0, 25.0, 24.0, 23.0, 22.0, 21.0, 20.0, 19.0, 18.0, 17.0, 16.0, 15.0, 14.0, 13.0, 12.0, 11.0, 10.0, 9.0, 8.0, 7.0, 6.0, 5.0, 4.0, 3.0, 2.0, 1.0, -2.7112, -3.1333, -3.8933, -4.1328, -4.1846, -4.2525, -4.5698, -4.6811, -4.6789, -4.7145, -4.7573, -4.9279, -4.9703, -4.9827, -5.009, -5.0925, -5.1752, -5.2056, -5.4218, -5.459, -5.4874, -5.7198, -5.7678, -5.791, -5.7912, -5.852, -5.8692, -5.8702, -5.8834, -5.8935, -5.087, -4.8152, -5.141, -4.2315, -5.1652, -3.9603, -4.3321, -4.7826, -4.2106, -4.7049, -4.4542, -4.4322, -4.9546, -4.4566, -4.4803, -4.5663, -4.378, -4.7402, -4.3576, -4.7311, -4.5598, -4.9007, -4.271, -4.1313, -4.4079, -4.444, -4.6602, -4.7771, -4.9395, -4.9646, -5.1772, -5.2417, -5.3536, -5.3692, -5.3719, -5.3758, -5.3799, -5.4084, -5.4617, -5.4729, -5.4736, -5.5114, -5.5589, -5.5704, -5.6292, -5.6768, -5.6126, -5.8229, -5.9291, -5.9383, -5.9501, -5.9908, -4.4182, -4.5291, -5.4067, -5.3924, -2.8786, -4.4597, -4.6823, -5.1127, -3.7529, -4.6767, -4.5815, -3.8518, -4.1634, -4.9954, -5.1587, -4.6441, -4.2604, -4.6492, -4.5539, -4.4234, -5.11, -4.9684, -4.9157, -4.9978, -5.1153, -4.0601, -4.0737, -4.2092, -4.5512, -4.3386, -4.6989, -4.7456, -4.789, -4.8863, -4.9321, -5.1173, -5.2107, -5.2467, -5.2631, -5.3131, -5.3686, -5.369, -5.4111, -5.3067, -5.6173, -5.644, -5.6562, -5.6981, -5.7013, -5.7238, -5.742, -5.8146, -5.8226, -5.8971, -5.8142, -3.6781, -3.4308, -4.7749, -5.1029, -5.0483, -5.0518, -5.223, -4.4653, -4.0295, -4.8218, -4.9185, -4.3638, -4.016, -4.7627, -4.2292, -4.8231, -5.0569, -4.3335, -4.7801, -4.9489, -4.5653, -4.927, -4.7843, -5.0444, -3.8729, -4.1254, -4.3651, -4.389, -4.4244, -4.6832, -4.8025, -4.8279, -4.847, -4.8791, -4.8871, -5.0826, -5.1217, -5.1612, -5.2647, -5.268, -5.2673, -5.3148, -5.3362, -5.457, -5.4782, -5.5897, -5.6767, -5.719, -5.7441, -5.7639, -5.8431, -5.8569, -5.8647, -5.8708, -2.8721, -4.1438, -2.8239, -2.9114, -4.2572, -4.8267, -3.8014, -4.985, -4.0755, -3.3134, -4.0802, -4.9133, -3.9787, -4.7051, -4.3091, -4.0608, -4.4863, -4.8182, -4.4214, -4.4986, -4.8043, -4.8398, -4.8662, -4.1484, -4.3064, -4.3939, -4.4521, -4.5852, -4.618, -4.6987, -4.7672, -4.7962, -4.8719, -4.881, -4.8919, -4.9324, -4.9786, -5.1037, -5.1104, -5.155, -5.1958, -5.2591, -5.2636, -5.3012, -5.3714, -5.4043, -5.4095, -5.4447, -5.4691, -5.5347, -5.5945, -5.5995, -5.6173, -3.1321, -4.8219, -4.9849, -4.3541, -3.857, -5.3367, -5.2079, -5.0605, -4.8899, -4.6413, -4.599, -4.2487, -4.7084, -4.4604, -4.2788, -4.9253, -4.5968, -5.0102, -2.922, -3.7616, -3.8437, -3.8776, -3.9509, -4.2349, -4.6243, -4.8629, -4.882, -4.9193, -4.9345, -5.0233, -5.1393, -5.1687, -5.2431, -5.252, -5.1059, -5.2649, -5.3554, -5.3651, -5.3715, -5.3964, -5.4059, -5.4631, -5.4859, -5.4874, -5.502, -5.6582, -5.6697, -5.7243, -4.3804, -4.3566, -3.6324, -4.1205, -3.7423, -3.8889, -4.7109, -4.6002, -3.5508, -3.942, -3.9441, -4.7553, -4.3064, -4.4813, -4.6042, -4.848, -4.788, -5.0899, -3.0931, -3.5703, -3.6425, -3.6758, -3.7777, -3.9504, -4.0814, -4.3038, -4.4309, -4.5147, -4.5407, -4.5635, -4.7347, -4.8036, -4.8186, -4.9021, -4.9436, -4.9731, -5.0305, -5.0269, -5.3052, -5.3073, -5.3119, -5.3963, -5.4243, -5.5289, -5.5401, -5.6041, -5.806, -5.8357, -5.6868, -5.1227, -4.0953, -4.2153, -4.8105, -4.5403, -4.2823, -4.6018, -4.2888, -4.5019, -4.6105, -3.9737, -4.1093, -4.1015, -4.2613, -4.701, -4.6711, -4.7775, -4.7939, -1.6049, -3.8505, -3.9017, -4.012, -4.3874, -4.4116, -4.5768, -4.6345, -4.7773, -4.832, -4.8567, -4.9453, -4.9523, -4.9821, -5.1372, -5.158, -5.1694, -5.2707, -5.3188, -5.4213, -5.53, -5.5805, -5.5971, -5.6607, -5.6647, -5.6931, -5.7316, -5.7341, -5.786, -5.8238, -4.1492, -3.9651, -4.0092, -4.3339, -4.934, -3.3173, -4.2879, -4.4687, -5.1477, -4.5572, -4.3236, -4.0313, -4.6153, -4.757, -4.7359, -4.9868, -5.0374, -2.9201, -3.324, -3.3521, -3.6287, -3.824, -4.2853, -4.4527, -4.4538, -4.484, -4.5532, -4.5938, -4.7325, -4.7361, -4.7713, -4.7932, -4.8815, -4.9826, -5.0041, -5.0166, -5.0816, -5.073, -5.1087, -5.2588, -5.2991, -5.3122, -5.3652, -5.3683, -5.385, -5.3991, -5.446, -4.0064, -3.9638, -4.9985, -4.4158, -4.0872, -4.5454, -4.7813, -3.9558, -4.6934, -4.3348, -4.3912, -4.787, -4.8431, -4.8865, -4.8778, -3.1213, -3.9041, -3.9397, -3.997, -4.1822, -4.3141, -4.3721, -4.6191, -4.6304, -4.6503, -4.7169, -4.7192, -4.7492, -4.7539, -4.9065, -4.9165, -4.9905, -5.0322, -5.0468, -5.1079, -5.1617, -5.1693, -5.2065, -5.2322, -5.2379, -5.2754, -5.3264, -5.3773, -5.4016, -5.4167, -5.066, -2.0878, -4.4713, -4.0481, -3.7983, -4.3309, -4.5132, -4.7627, -4.4521, -4.7121, -4.542, -4.4153, -4.6443, -4.854, -4.7556, -4.8457, -4.8815, -4.8793]}, \"token.table\": {\"Topic\": [4, 10, 3, 7, 9, 5, 5, 2, 9, 7, 1, 3, 4, 9, 2, 3, 4, 10, 3, 1, 3, 7, 3, 10, 4, 6, 6, 4, 8, 2, 6, 4, 10, 1, 6, 6, 1, 2, 9, 7, 8, 10, 1, 3, 9, 7, 10, 5, 1, 8, 9, 5, 7, 9, 3, 1, 6, 10, 1, 6, 7, 7, 10, 7, 6, 2, 10, 5, 7, 1, 4, 6, 8, 2, 5, 3, 2, 8, 2, 5, 8, 7, 6, 7, 4, 9, 1, 2, 9, 2, 4, 6, 7, 8, 3, 4, 10, 6, 10, 4, 10, 7, 9, 4, 10, 10, 5, 9, 5, 2, 9, 1, 4, 6, 8, 9, 3, 4, 6, 3, 5, 5, 6, 3, 4, 8, 1, 1, 2, 5, 1, 7, 8, 9, 1, 3, 4, 6, 7, 10, 7, 1, 2, 4, 8, 1, 6, 9, 8, 9, 6, 3, 3, 4, 5, 6, 8, 9, 10, 3, 4, 5, 9, 4, 1, 2, 4, 5, 2, 1, 3, 6, 8, 1, 8, 10, 2, 8, 7, 7, 1, 2, 3, 1, 4, 7, 9, 3, 6, 2, 3, 5, 10, 10, 1, 6, 7, 3, 3, 8, 6, 2, 5, 9, 10, 7, 2, 10, 10, 1, 7, 8, 4, 8, 1, 6, 9, 2, 7, 10, 9, 3, 4, 6, 1, 6, 10, 7, 1, 2, 5, 9, 2, 7, 2, 3, 5, 7, 9, 2, 4, 8, 7, 9, 1, 8, 8, 8, 3, 3, 2, 5, 7, 9, 2, 2, 1, 4, 1, 3, 1, 2, 4, 8, 2, 5, 6, 7, 5, 7, 5, 1, 2, 8, 7, 3, 5, 5, 7, 9, 3, 9, 9, 2, 2, 6, 6, 1, 6, 1, 2, 10, 5, 10, 6, 3, 1, 2, 2, 5, 3, 4, 10, 6, 8, 3, 1, 2, 3, 5, 7, 8, 9, 6, 5, 6, 10, 4, 6, 7, 9, 5, 2, 4, 7, 4, 5, 6, 7, 8, 1, 5, 9, 8, 7, 3, 8, 4, 4, 3, 8, 2, 3, 4, 6, 7, 10, 2, 6, 6, 9, 2, 7, 1, 9, 2, 2, 8, 7, 3, 5, 1, 2, 7, 1, 3, 1, 5, 10, 10, 2, 3, 5, 6, 5, 9, 1, 3, 9, 1, 3, 5, 4, 6, 10, 6, 2, 3, 6, 3, 4, 5, 7, 1, 10, 7, 2, 1, 1, 4, 3, 2, 5, 3, 10, 5, 7, 1, 2, 3, 4, 6, 7, 9, 7, 1, 2, 2, 6, 2, 10, 1, 1, 10, 10, 10, 1, 2, 4, 5, 3, 2, 5, 7, 8, 9, 4, 8, 1, 4, 6, 4, 1, 7, 9, 2, 7, 1, 8, 6, 6, 10, 4, 5, 9, 8, 1, 3, 9, 1, 3, 1, 5, 6, 7, 2, 5, 2, 4, 5, 7, 9, 4, 9, 3, 1, 2, 1, 3, 7, 1, 2, 3, 5, 6, 8, 5, 1, 2, 9, 10, 1, 3, 10, 1, 3, 10, 1, 3, 4, 7, 9, 1, 2, 3, 5, 2, 3, 4, 4, 8, 8, 7, 3, 1, 2, 4, 7, 1, 2, 5, 7, 9, 4, 6, 10, 4, 1, 7, 10, 2, 4, 2, 7, 2, 1, 2, 4, 10, 10, 3, 1, 2, 3, 8, 3, 7, 10, 10, 10, 2, 3, 5, 6, 7, 2, 6, 1, 5, 1, 6, 3, 3, 4, 6, 8, 9, 2, 5, 8, 9, 8, 1, 4, 7, 5, 2, 3, 5, 9, 4, 5, 6, 7, 4, 3, 5, 8, 5, 9, 10, 4, 4, 8, 8, 3, 4, 1, 4, 7, 9, 10, 4, 3, 5, 4, 1, 4, 9, 10, 6, 3, 1, 2, 3, 4, 5, 7, 9, 1, 3, 4, 2, 1, 2, 2, 4, 6, 2, 9, 8, 4, 2, 1, 6, 9, 1, 2, 4, 3, 4, 8, 9, 3, 10, 5, 4, 8, 7, 2, 3, 3, 6, 7, 9, 9, 1, 2, 3, 5, 9, 4, 1, 7, 2, 3, 5, 7, 8, 9, 2, 3, 4, 5, 7, 8, 9, 10, 8, 1, 2, 3, 4, 6, 9, 9, 6, 4, 7, 4, 7, 6, 5, 6, 7, 1, 2, 6, 9, 3, 8, 8, 2, 5, 2, 5, 6, 8, 9, 10, 2, 5, 4, 1, 4, 6, 7, 4, 1, 1, 3, 7, 9, 9, 6, 10, 1, 1, 4, 6, 7, 1, 4, 7, 5, 2, 3, 7, 8, 1, 7, 9, 3, 3, 8], \"Freq\": [0.9922690393421245, 0.9949053802988564, 0.7826978305056576, 0.214212037822601, 0.967150147161355, 0.9892216043058596, 0.9768649519556659, 0.99616462491458, 0.9770275460428134, 0.9776845648069704, 0.44736259074550555, 0.07979981348433343, 0.13783604147293954, 0.3337083109344852, 0.005409285760201261, 0.05950214336221387, 0.8384392928311954, 0.0973671436836227, 0.9794682124752846, 0.9799225589445422, 0.7637270504841374, 0.22764940927892555, 0.9742787025039569, 0.9609233198218579, 0.9846765221641963, 0.970718823562453, 0.9692483647519609, 0.9906583411798404, 0.9856865013299702, 0.9794443774756394, 0.9815235428053447, 0.4083120474726805, 0.5897840685716497, 0.788879950271671, 0.2072969212392712, 0.9863834305830633, 0.19360008097494016, 0.7568003165384024, 0.05280002208407459, 0.9934505563537256, 0.9841040513761565, 0.9932274938145759, 0.3709157519389334, 0.588472106441577, 0.0392314737627718, 0.3197373969033329, 0.6727807726507631, 0.983661081014453, 0.9894859487741634, 0.9525139906146285, 0.9896429742395529, 0.5850114410238629, 0.22135568038740758, 0.18973344033206366, 0.9926345295888086, 0.47371907914894507, 0.3067525184653005, 0.21744482321590922, 0.4110059010179472, 0.04835363541387614, 0.5318899895526376, 0.9767684458138048, 0.9869960421851708, 0.9907477605250127, 0.9948324650490701, 0.9872441216499043, 0.9621488321224355, 0.9641218725349817, 0.019675956582346565, 0.9828911064104809, 0.6311792467506304, 0.36847220891388155, 0.9873232021495487, 0.9691676095485184, 0.027071720937109453, 0.9794183281382739, 0.9794274141932562, 0.9794657157027091, 0.04422554868601815, 0.006317935526574022, 0.9413723934595292, 0.9624161117918434, 0.735529112670638, 0.26513258712546256, 0.9787581874933448, 0.9987328948698798, 0.17696453020411357, 0.27225312339094393, 0.5490437988384036, 0.10735788471254715, 0.041291494120210444, 0.17342427530488386, 0.5078853776785884, 0.1692951258928628, 0.28912007017330277, 0.24924143980457136, 0.44863459164822844, 0.9798879771634654, 0.9928114630457305, 0.9841896578286886, 0.9661403970079586, 0.9928180800551929, 0.9928769240035823, 0.9853072577316124, 0.9810428185055151, 0.9920958445252704, 0.9920263828334727, 0.9922221452666717, 0.9858901151664751, 0.9726139961229651, 0.9915515691166634, 0.7260012732147515, 0.03924331206566224, 0.0490541400820778, 0.0735812101231167, 0.11282452218877895, 0.9033349722971665, 0.08004233931747046, 0.01143461990249578, 0.9789945853408074, 0.9856197147693359, 0.9857553211566591, 0.9790846949928164, 0.9023975200908246, 0.09023975200908246, 0.9974185375629532, 0.9763898480618941, 0.9966381921234359, 0.9823295634739472, 0.9923428761926549, 0.9905069274943654, 0.9852372042360501, 0.9874031011194672, 0.9923851085606932, 0.272367105302155, 0.1470300302958536, 0.4917069865631825, 0.08195116442719709, 0.004820656731011594, 0.002410328365505797, 0.9936593615404519, 0.39072978989640766, 0.03481750603037296, 0.5686859318294251, 0.003868611781152551, 0.0768810017069557, 0.9148839203127729, 0.9879590385799483, 0.9690106254307024, 0.996249401154502, 0.9886080496306829, 0.9673387677255384, 0.13116045487909617, 0.061532065251921654, 0.006477059500202279, 0.08420177350262963, 0.45987122451436185, 0.14411457387950072, 0.1133485412535399, 0.5624006451451803, 0.18926944788539724, 0.18386174937438587, 0.05948468362112484, 0.9893095764922726, 0.008673213585872395, 0.22054743118361234, 0.7359841242868861, 0.03221479331895461, 0.9905661096813064, 0.47191908267739785, 0.022207956831877547, 0.35532730931004075, 0.14990370861517344, 0.00531848773159814, 0.7552252578869358, 0.23401346019031816, 0.031045575313992737, 0.9624128347337748, 0.998960146017689, 0.9920991312152018, 0.171922208578963, 0.5807150156444972, 0.24451158553452518, 0.9897404456982897, 0.19219165697918472, 0.19219165697918472, 0.6040309219345805, 0.9913141623178692, 0.9707705009303277, 0.2950323631963814, 0.6996481755799902, 0.9796579092153219, 0.9723028662676503, 0.9720007448219311, 0.9959519018517737, 0.9874030784337889, 0.9787736053958388, 0.9840810533551952, 0.9891292685302868, 0.9890043238800864, 0.9677922948489514, 0.9951845179619316, 0.9957633275844489, 0.9775300057736994, 0.98041998610399, 0.9869260572199243, 0.22565178956483886, 0.773663278508019, 0.995378322876168, 0.34915921470050804, 0.45803681928453743, 0.19147440806156893, 0.8227177244920361, 0.17620610740276274, 0.9955902236845423, 0.9689127022756009, 0.9704072908625567, 0.9701187774210217, 0.02895876947525438, 0.9786233377550511, 0.9928954022833009, 0.14493203669451898, 0.8502679486078447, 0.996062534987053, 0.28099942284543755, 0.6386350519214491, 0.07663620623057389, 0.9787575732129229, 0.9901362005674003, 0.9859485672788941, 0.9911775832612556, 0.9941132335239599, 0.8313362426572964, 0.1662672485314593, 0.04438913789670381, 0.8086542947269086, 0.013509737620735943, 0.015439700137983936, 0.1157977510348795, 0.34700772232788735, 0.4594186746312875, 0.19060987564489587, 0.987217872232815, 0.975608882003356, 0.17260840976683783, 0.8055059122452433, 0.9886279413285924, 0.9849417405516689, 0.9923792723811811, 0.9954767651944328, 0.10869408002222375, 0.86955264017779, 0.29705258695953163, 0.6984750017697096, 0.9799889627250419, 0.9788081217386555, 0.9960361769710173, 0.9888441876719355, 0.47396025243637085, 0.5241442791649278, 0.605811717141924, 0.31884827217996004, 0.009565448165398801, 0.0605811717141924, 0.9939502007229464, 0.9351081797278044, 0.05009508105684666, 0.01669836035228222, 0.9926942991926517, 0.994663035994283, 0.9720750525437082, 0.6557912165083368, 0.2941614921786367, 0.04857712714876569, 0.9933076065009108, 0.03508223003123721, 0.9589142875204839, 0.32272449891215277, 0.6387255707636358, 0.03361713530334925, 0.9794876593064641, 0.9859692501471979, 0.9979196008440144, 0.9765691197172253, 0.9838844007527748, 0.998325988253159, 0.9761325316492089, 0.7640141854126625, 0.22588245481765673, 0.9988191777859269, 0.026151463634875315, 0.9676041544903866, 0.9841332149269154, 0.9914098053086418, 0.9971896189623867, 0.9980389800597642, 0.9968039808565504, 0.9839376259950412, 0.9929916481435157, 0.9779862794133095, 0.9838216745341566, 0.5195560110494778, 0.4774298479914121, 0.19095178004258553, 0.7985256256326305, 0.985148591918883, 0.23383856248774035, 0.35187136069583785, 0.036746059819502054, 0.11357873035118816, 0.18595733302596495, 0.07683267053168612, 0.001113516964227335, 0.9778905825077762, 0.9839311402128093, 0.995539095342428, 0.974625026673997, 0.059719466194919184, 0.40717817860172173, 0.39089105145765285, 0.14115510191526354, 0.9945374449122326, 0.029739723872640594, 0.9673236501732572, 0.0015652486248758208, 0.014614041336280283, 0.7160880254777339, 0.10960531002210212, 0.04384212400884085, 0.11691233069024226, 0.027514436834623495, 0.9492480707945106, 0.9638899498184682, 0.9935045253093606, 0.9832647548181672, 0.9867514714065083, 0.9764783661449271, 0.9946340172201218, 0.9835676500036319, 0.4835806627635052, 0.5083796711103516, 0.2754245657121176, 0.41050540367283767, 0.13332654136382763, 0.05438319450366653, 0.09999490602287071, 0.028068745550279498, 0.1883518304597959, 0.8057272747446824, 0.9866503748984057, 0.9930997629506988, 0.15001186671420141, 0.8308349541094233, 0.9174496985245246, 0.07645414154371039, 0.9958188994895252, 0.22380480102402045, 0.7683964835158036, 0.9729296332189984, 0.9731083951211335, 0.9886402024869553, 0.4058356906388671, 0.3156499816080077, 0.2780726028451497, 0.718177868306697, 0.28059042296633746, 0.9953914569107105, 0.37617157303306265, 0.6173071967722054, 0.9907190739826509, 0.13555090640147727, 0.18718934693537337, 0.6583901168071753, 0.012909610133474025, 0.9881686067735027, 0.9876994181066838, 0.16623188835862107, 0.7076728961552725, 0.11873706311330076, 0.06332937400241773, 0.9031319422953484, 0.03304141252300055, 0.38575649119461325, 0.5742176777324396, 0.03828117851549597, 0.9953532787757287, 0.06460164289840326, 0.05742368257635845, 0.8757111592894663, 0.3267758922372148, 0.6687506631831373, 0.7949572743303086, 0.18827935444665203, 0.9958307037062339, 0.9803728713148189, 0.9889021741845744, 0.9906498975767152, 0.9993603608831, 0.8889479569742764, 0.10694110760592798, 0.9930402315712049, 0.7226235976502086, 0.27229294983920904, 0.30013081272827313, 0.691210356586326, 0.9804522670048063, 0.9767888867691481, 0.15808050586771794, 0.09221362842283547, 0.07172171099553869, 0.05415721034357003, 0.2693223433301861, 0.21516513298661608, 0.13758858844042116, 0.992873125089232, 0.5761548146093772, 0.42251353071354325, 0.9897969831817175, 0.986425021545889, 0.9886437965544729, 0.9819735141990612, 0.9985841096350786, 0.9396336287896278, 0.05581981953205709, 0.9809661036278081, 0.9732670264357102, 0.43522686776795505, 0.2659719747470836, 0.19947898106031273, 0.0936946729222681, 0.9861650906743031, 0.019980422160106585, 0.20646436232110138, 0.15984337728085268, 0.5994126648031975, 0.006660140720035528, 0.9913447533875691, 0.9501784286546922, 0.4417072698582064, 0.4933353923091656, 0.06310103855117234, 0.9942275396809703, 0.993945746475943, 0.28131032825620944, 0.7032758206405236, 0.21851272257353913, 0.7736531528955034, 0.9948340177907075, 0.9555584710099595, 0.9923595615111024, 0.9826503598431793, 0.9848331670946457, 0.9831156172381107, 0.9861339680578497, 0.985509676708603, 0.9618773758087078, 0.7409944596971237, 0.25649808220285053, 0.9591941995796608, 0.8839942783193245, 0.10455846302701688, 0.9975044813187188, 0.9890562127831651, 0.9700671608426401, 0.9799124064904976, 0.495972118886261, 0.5033746878248619, 0.39780092869393735, 0.10751376451187496, 0.4945633167546248, 0.12592679988191455, 0.868232146554253, 0.9651643903912142, 0.9945771592065855, 0.986839935759941, 0.33925287437489116, 0.6589334675358463, 0.1822522807648477, 0.3138789279839044, 0.5011937721033312, 0.048680161696839384, 0.25463469195269833, 0.4081644326888841, 0.16101899638185335, 0.03370165040550419, 0.09361569557084497, 0.9899607280938276, 0.3873144958020593, 0.2673498289607135, 0.19537102885590601, 0.15081272402912044, 0.013380352401044847, 0.30774810522403145, 0.6690176200522423, 0.9782295008926619, 0.5075954743010369, 0.47990844843007124, 0.03620768535931871, 0.6698421791473961, 0.09051921339829677, 0.09051921339829677, 0.10862305607795612, 0.23647486670016202, 0.006063458120516975, 0.5578381470875617, 0.20009411797706017, 0.992475011459381, 0.03862581354943124, 0.954609392007372, 0.991038343220665, 0.9957312897904359, 0.9613897200542872, 0.9948984164551806, 0.9837301597396215, 0.15065648519837171, 0.7403690129748552, 0.10761177514169408, 0.9670584005081356, 0.24108989956765545, 0.6199454560311141, 0.08954767698227202, 0.04821797991353109, 0.9888873225449306, 0.9899910756339897, 0.8018399318439055, 0.1972780784695323, 0.9670040560442147, 0.012118463728343354, 0.16965849219680695, 0.7998186060706614, 0.16652623095690694, 0.8326311547845346, 0.9590735292438678, 0.04169884909755947, 0.996754526103099, 0.8132075121955834, 0.06491992744418523, 0.11958934002876226, 0.9906487836681612, 0.9683412893221006, 0.9849325810379581, 0.5127075949856206, 0.2724879525797704, 0.21153670002903224, 0.9927530187654894, 0.035759942894641794, 0.9476384867080075, 0.9774524284602658, 0.9942647085580916, 0.992556548334544, 0.4679346266217375, 0.15900691195884287, 0.18172218509582042, 0.18172218509582042, 0.9928462151098463, 0.9937977749701106, 0.9807812781017158, 0.996916923296519, 0.9885370485801183, 0.9773599837014616, 0.9775643146297983, 0.971722171790267, 0.9933097203665268, 0.19663741283978955, 0.22852456086786355, 0.5739686645053317, 0.9890143357270433, 0.9901617207349278, 0.9905544452727386, 0.9708283228209124, 0.9800778091235837, 0.978009170233062, 0.18225659597480395, 0.8100293154435732, 0.9708472127319733, 0.9913878040346046, 0.9832820352742332, 0.013980074769348688, 0.915694897392339, 0.06990037384674344, 0.28991868151922673, 0.5389513951318958, 0.04831978025320445, 0.11894099754634942, 0.9799717802319744, 0.046723949647615, 0.8371374311864355, 0.11291621164840292, 0.9818633261381687, 0.8955556242128729, 0.09138322696049725, 0.995089474314471, 0.9763105278275431, 0.9861354547282196, 0.9581104200989481, 0.9949620901343937, 0.976442944286808, 0.019480712539566652, 0.2792235464004554, 0.5779278053404774, 0.11688427523739993, 0.9774474488428564, 0.966427788660947, 0.8814890845326364, 0.10513172567820435, 0.9890855217707699, 0.1633073828173672, 0.6462802809368149, 0.18762975898165593, 0.9750001503626431, 0.9812554695270624, 0.9701034960904402, 0.22104805270331457, 0.047829110818845846, 0.07497536290521781, 0.5144861109702877, 0.018097501390914643, 0.10729232967470825, 0.015512144049355409, 0.9835698255957857, 0.8818807134054226, 0.10625068836209911, 0.9925548536756764, 0.9807066701760753, 0.9760032999593475, 0.1368010907178776, 0.7128056832142043, 0.15120120553028576, 0.9526727534372799, 0.04202968029870353, 0.9954912697873947, 0.9925222266609368, 0.9842050016784448, 0.24356493263317333, 0.5547867909977837, 0.2029707771943111, 0.11409321494933575, 0.23614642163932284, 0.647412661572975, 0.6148171258049263, 0.09315410997044339, 0.2768007839121746, 0.013307729995777626, 0.8786766158598572, 0.1058646525132358, 0.9919875473309088, 0.9725879750521197, 0.9667184171876025, 0.9680287377039698, 0.9836260288553729, 0.9886227980206457, 0.2962673426749896, 0.5925346853499792, 0.08023907197447636, 0.03086118152864475, 0.9820084689396071, 0.17856526229675174, 0.3966209191399005, 0.2317914462505912, 0.0978674995280274, 0.0944335521761668, 0.9918589019689852, 0.9830847773347619, 0.9828606063021603, 0.4312059183426179, 0.2100429974734815, 0.1742121331985935, 0.0926660282971242, 0.06301289924204445, 0.029653129055079743, 0.14234765479180803, 0.006778459751990858, 0.14460714137580497, 0.2643599303276435, 0.18301841330375318, 0.07230357068790248, 0.0813415170238903, 0.10393638286385982, 0.986129748807184, 0.10671761548546377, 0.618072856353311, 0.008893134623788648, 0.12005731742114674, 0.04446567311894324, 0.10227104817356945, 0.9788296401375512, 0.9955461739962922, 0.9783985073980438, 0.9964619584883938, 0.9795233900868432, 0.9812100274095374, 0.9831378531811433, 0.1206514195587619, 0.022981222773097505, 0.8503052426046076, 0.2828230333643543, 0.3267093661277886, 0.2876992925602915, 0.10240144311468001, 0.9916502194027503, 0.9940111959784951, 0.9520328750941298, 0.07702017522109843, 0.9221604762958542, 0.7526713907737316, 0.0009003246301121191, 0.24578862402060853, 0.9675457118868294, 0.7316691483392934, 0.26703253589025305, 0.9714029431303797, 0.9876016258890599, 0.9939318666212861, 0.512418080207424, 0.22654273019696639, 0.256209040103712, 0.0026969372642496, 0.9965737821997303, 0.9962119189661728, 0.992731091119888, 0.0952676193367983, 0.2338387020085049, 0.6582126426906064, 0.9725463243849345, 0.9889280961822992, 0.9839970123281492, 0.9911609882567081, 0.3114284025511123, 0.18533787859139367, 0.28104514376563794, 0.22179778913396292, 0.33425762804462833, 0.5204264335378391, 0.13962660411990804, 0.9898702592449014, 0.1585157852025728, 0.4161039361567537, 0.27520101597668895, 0.14750774456350527, 0.9921308382979951, 0.989881851702651, 0.9973280397126869, 0.9980498967410981, 0.9975667832549484, 0.9992089534989721], \"Term\": [\"able\", \"according\", \"actually\", \"actually\", \"adjustable\", \"ago\", \"aid\", \"air\", \"allow\", \"aluminum\", \"amazon\", \"amazon\", \"amazon\", \"amazon\", \"answer\", \"answer\", \"answer\", \"answer\", \"apart\", \"appears\", \"appliance\", \"appliance\", \"appliances\", \"approximately\", \"ask\", \"asking\", \"attach\", \"away\", \"bag\", \"based\", \"basket\", \"believe\", \"believe\", \"better\", \"better\", \"bin\", \"bit\", \"bit\", \"bit\", \"black\", \"blue\", \"board\", \"bought\", \"bought\", \"bought\", \"box\", \"box\", \"bracket\", \"brand\", \"bright\", \"broan\", \"burner\", \"burner\", \"burner\", \"button\", \"buy\", \"buy\", \"buy\", \"came\", \"came\", \"came\", \"cap\", \"carbon\", \"ceiling\", \"center\", \"change\", \"charcoal\", \"cheap\", \"cheap\", \"cheaper\", \"check\", \"check\", \"chimney\", \"clean\", \"clean\", \"cleaning\", \"clear\", \"clock\", \"clothes\", \"clothes\", \"clothes\", \"coil\", \"cold\", \"cold\", \"color\", \"com\", \"come\", \"come\", \"come\", \"comes\", \"comes\", \"comes\", \"comes\", \"comes\", \"company\", \"company\", \"company\", \"compare\", \"compatible\", \"completely\", \"compressor\", \"connect\", \"connector\", \"contact\", \"contaminants\", \"control\", \"cook\", \"cooking\", \"cooktop\", \"cool\", \"cord\", \"correct\", \"correct\", \"correct\", \"correct\", \"correct\", \"cost\", \"cost\", \"cost\", \"couldn\", \"counter\", \"couple\", \"cubes\", \"customer\", \"customer\", \"cycle\", \"dear\", \"deep\", \"depends\", \"depot\", \"depth\", \"description\", \"detergent\", \"diameter\", \"did\", \"did\", \"did\", \"did\", \"did\", \"did\", \"didn\", \"different\", \"different\", \"different\", \"different\", \"dimensions\", \"dimensions\", \"direct\", \"dishes\", \"dishwasher\", \"dispenser\", \"display\", \"does\", \"does\", \"does\", \"does\", \"does\", \"does\", \"does\", \"doesn\", \"doesn\", \"doesn\", \"doesn\", \"doing\", \"don\", \"don\", \"don\", \"don\", \"dont\", \"door\", \"door\", \"door\", \"door\", \"drain\", \"drain\", \"drain\", \"dry\", \"dry\", \"dryer\", \"duct\", \"easy\", \"easy\", \"easy\", \"edge\", \"electric\", \"electric\", \"electric\", \"electrical\", \"elite\", \"end\", \"end\", \"ended\", \"ends\", \"energy\", \"exact\", \"exactly\", \"exhaust\", \"experience\", \"extended\", \"extension\", \"factory\", \"fan\", \"faucet\", \"feature\", \"feel\", \"feet\", \"filter\", \"filter\", \"filters\", \"fine\", \"fine\", \"fine\", \"fit\", \"fit\", \"fits\", \"fitting\", \"flat\", \"flow\", \"flow\", \"following\", \"food\", \"free\", \"free\", \"freezer\", \"fridge\", \"fridge\", \"fridge\", \"gallon\", \"gasket\", \"gets\", \"glass\", \"goes\", \"going\", \"going\", \"good\", \"good\", \"good\", \"good\", \"good\", \"great\", \"great\", \"great\", \"guess\", \"guide\", \"hand\", \"hand\", \"handle\", \"hang\", \"happy\", \"hard\", \"haven\", \"haven\", \"heat\", \"heat\", \"heater\", \"heavy\", \"height\", \"hello\", \"help\", \"help\", \"helps\", \"helps\", \"helps\", \"helps\", \"high\", \"holes\", \"holes\", \"holes\", \"home\", \"hood\", \"hook\", \"hope\", \"hope\", \"hope\", \"hose\", \"hoses\", \"hoses\", \"hot\", \"hot\", \"hot\", \"hours\", \"html\", \"http\", \"humidifier\", \"humidity\", \"ice\", \"icemaker\", \"inch\", \"inch\", \"inches\", \"including\", \"including\", \"induction\", \"information\", \"inside\", \"install\", \"installed\", \"installing\", \"instructions\", \"iron\", \"issues\", \"item\", \"item\", \"items\", \"items\", \"job\", \"just\", \"just\", \"just\", \"just\", \"just\", \"just\", \"just\", \"keg\", \"kegs\", \"kenmore\", \"kept\", \"kit\", \"kit\", \"kit\", \"kit\", \"kitchen\", \"know\", \"know\", \"know\", \"large\", \"large\", \"large\", \"large\", \"large\", \"larger\", \"larger\", \"later\", \"laundry\", \"lbs\", \"leaking\", \"leave\", \"let\", \"lfx\", \"light\", \"light\", \"like\", \"like\", \"like\", \"like\", \"like\", \"like\", \"line\", \"line\", \"lines\", \"link\", \"lint\", \"lint\", \"listed\", \"listed\", \"little\", \"load\", \"load\", \"loads\", \"located\", \"lock\", \"long\", \"long\", \"long\", \"look\", \"look\", \"looked\", \"looking\", \"looking\", \"loud\", \"love\", \"love\", \"love\", \"love\", \"low\", \"lower\", \"luck\", \"luck\", \"luck\", \"machine\", \"machine\", \"machine\", \"make\", \"make\", \"make\", \"maker\", \"makes\", \"makes\", \"makes\", \"manufacturer\", \"manufacturer\", \"maybe\", \"maybe\", \"maytag\", \"mean\", \"measure\", \"minutes\", \"model\", \"models\", \"models\", \"money\", \"months\", \"months\", \"motor\", \"motor\", \"mount\", \"mounted\", \"need\", \"need\", \"need\", \"need\", \"need\", \"need\", \"need\", \"needed\", \"new\", \"new\", \"nice\", \"noise\", \"noticed\", \"nsf\", \"number\", \"numbers\", \"numbers\", \"oem\", \"offer\", \"old\", \"old\", \"old\", \"old\", \"older\", \"open\", \"open\", \"open\", \"open\", \"open\", \"option\", \"options\", \"order\", \"order\", \"order\", \"ordered\", \"original\", \"outlet\", \"outlet\", \"outside\", \"outside\", \"oven\", \"ovens\", \"overall\", \"pack\", \"package\", \"pair\", \"pan\", \"pans\", \"paper\", \"parts\", \"parts\", \"pdf\", \"perfect\", \"perfect\", \"perfectly\", \"piece\", \"pieces\", \"pipe\", \"place\", \"place\", \"plastic\", \"plastic\", \"plastic\", \"plug\", \"plug\", \"portable\", \"power\", \"press\", \"pretty\", \"pretty\", \"probably\", \"probably\", \"probably\", \"problem\", \"problem\", \"problem\", \"problem\", \"problem\", \"problem\", \"problems\", \"product\", \"product\", \"product\", \"product\", \"products\", \"products\", \"products\", \"properly\", \"pump\", \"pump\", \"purchase\", \"purchase\", \"purchase\", \"purchase\", \"purchase\", \"purchased\", \"purchased\", \"purchased\", \"purchased\", \"push\", \"question\", \"question\", \"questions\", \"rack\", \"racks\", \"range\", \"real\", \"really\", \"really\", \"really\", \"recall\", \"recommend\", \"recommend\", \"recommend\", \"recommend\", \"ref\", \"reference\", \"refrigerator\", \"refrigerator\", \"regards\", \"regular\", \"regular\", \"regular\", \"remember\", \"remember\", \"remove\", \"remove\", \"replace\", \"replacement\", \"replacement\", \"replacement\", \"replaces\", \"requires\", \"return\", \"right\", \"right\", \"right\", \"rinse\", \"round\", \"round\", \"rubber\", \"said\", \"samsung\", \"say\", \"say\", \"say\", \"say\", \"says\", \"screen\", \"seal\", \"search\", \"seen\", \"send\", \"separate\", \"series\", \"service\", \"set\", \"set\", \"set\", \"sets\", \"setting\", \"shape\", \"sheet\", \"shelves\", \"ship\", \"shipping\", \"shipping\", \"shows\", \"sides\", \"simple\", \"sink\", \"sink\", \"sink\", \"size\", \"size\", \"size\", \"size\", \"sizes\", \"small\", \"small\", \"small\", \"smaller\", \"sold\", \"sold\", \"sorry\", \"speed\", \"spin\", \"spinner\", \"stainless\", \"stand\", \"standard\", \"standard\", \"standard\", \"standard\", \"standards\", \"states\", \"steel\", \"steel\", \"stock\", \"stove\", \"stove\", \"stove\", \"super\", \"supply\", \"support\", \"sure\", \"sure\", \"sure\", \"sure\", \"sure\", \"sure\", \"sure\", \"surface\", \"switch\", \"switch\", \"takes\", \"tall\", \"tank\", \"tell\", \"tell\", \"tell\", \"temp\", \"temp\", \"thank\", \"thanks\", \"thermostat\", \"thing\", \"thing\", \"thing\", \"think\", \"think\", \"think\", \"time\", \"time\", \"time\", \"time\", \"times\", \"times\", \"took\", \"touch\", \"towels\", \"trap\", \"tray\", \"tub\", \"turn\", \"turn\", \"turn\", \"turn\", \"unfortunately\", \"unit\", \"unit\", \"unit\", \"unit\", \"unit\", \"units\", \"universal\", \"unless\", \"use\", \"use\", \"use\", \"use\", \"use\", \"use\", \"used\", \"used\", \"used\", \"used\", \"used\", \"used\", \"used\", \"used\", \"uses\", \"using\", \"using\", \"using\", \"using\", \"using\", \"using\", \"utf\", \"valve\", \"various\", \"vent\", \"vented\", \"venting\", \"videos\", \"wall\", \"wall\", \"wall\", \"want\", \"want\", \"want\", \"want\", \"warranty\", \"wash\", \"washed\", \"washer\", \"washer\", \"water\", \"water\", \"water\", \"watts\", \"website\", \"website\", \"weeks\", \"weight\", \"went\", \"whirlpool\", \"whirlpool\", \"whirlpool\", \"whirlpool\", \"white\", \"wide\", \"width\", \"wire\", \"wire\", \"wire\", \"wired\", \"wires\", \"woder\", \"won\", \"work\", \"work\", \"work\", \"work\", \"worked\", \"worked\", \"worked\", \"working\", \"works\", \"works\", \"works\", \"works\", \"worth\", \"wouldn\", \"www\", \"year\", \"years\", \"yes\"]}, \"R\": 30, \"lambda.step\": 0.01, \"plot.opts\": {\"xlab\": \"PC1\", \"ylab\": \"PC2\"}, \"topic.order\": [4, 3, 6, 9, 5, 2, 10, 8, 7, 1]};\n",
       "\n",
       "function LDAvis_load_lib(url, callback){\n",
       "  var s = document.createElement('script');\n",
       "  s.src = url;\n",
       "  s.async = true;\n",
       "  s.onreadystatechange = s.onload = callback;\n",
       "  s.onerror = function(){console.warn(\"failed to load library \" + url);};\n",
       "  document.getElementsByTagName(\"head\")[0].appendChild(s);\n",
       "}\n",
       "\n",
       "if(typeof(LDAvis) !== \"undefined\"){\n",
       "   // already loaded: just create the visualization\n",
       "   !function(LDAvis){\n",
       "       new LDAvis(\"#\" + \"ldavis_el397626370548772728413868359\", ldavis_el397626370548772728413868359_data);\n",
       "   }(LDAvis);\n",
       "}else if(typeof define === \"function\" && define.amd){\n",
       "   // require.js is available: use it to load d3/LDAvis\n",
       "   require.config({paths: {d3: \"https://cdnjs.cloudflare.com/ajax/libs/d3/3.5.5/d3.min\"}});\n",
       "   require([\"d3\"], function(d3){\n",
       "      window.d3 = d3;\n",
       "      LDAvis_load_lib(\"https://cdn.rawgit.com/bmabey/pyLDAvis/files/ldavis.v1.0.0.js\", function(){\n",
       "        new LDAvis(\"#\" + \"ldavis_el397626370548772728413868359\", ldavis_el397626370548772728413868359_data);\n",
       "      });\n",
       "    });\n",
       "}else{\n",
       "    // require.js not available: dynamically load d3 & LDAvis\n",
       "    LDAvis_load_lib(\"https://cdnjs.cloudflare.com/ajax/libs/d3/3.5.5/d3.min.js\", function(){\n",
       "         LDAvis_load_lib(\"https://cdn.rawgit.com/bmabey/pyLDAvis/files/ldavis.v1.0.0.js\", function(){\n",
       "                 new LDAvis(\"#\" + \"ldavis_el397626370548772728413868359\", ldavis_el397626370548772728413868359_data);\n",
       "            })\n",
       "         });\n",
       "}\n",
       "</script>"
      ],
      "text/plain": [
       "PreparedData(topic_coordinates=                x           y  topics  cluster       Freq\n",
       "topic                                                    \n",
       "3     -187.551208 -283.295471       1        1  15.656791\n",
       "2     -346.804321   -4.040670       2        1  14.232635\n",
       "5      512.273132   52.165451       3        1  12.400699\n",
       "8       63.213459  322.348907       4        1  10.450236\n",
       "4      102.210503 -273.510101       5        1   9.712669\n",
       "1      -49.833141   15.647522       6        1   9.099609\n",
       "9      390.784546 -245.474792       7        1   8.510327\n",
       "7      215.270187   32.972427       8        1   7.505547\n",
       "6     -225.419815  293.696899       9        1   6.876266\n",
       "0      353.114197  331.532471      10        1   5.555221, topic_info=     Category         Freq           Term        Total  loglift  logprob\n",
       "2678  Default  1577.000000            yes  1577.000000  30.0000  30.0000\n",
       "893   Default   930.000000         filter   930.000000  29.0000  29.0000\n",
       "1528  Default  1088.000000          model  1088.000000  28.0000  28.0000\n",
       "2585  Default  1110.000000          water  1110.000000  27.0000  27.0000\n",
       "907   Default   788.000000            fit   788.000000  26.0000  26.0000\n",
       "1300  Default   638.000000           know   638.000000  25.0000  25.0000\n",
       "1597  Default   714.000000         number   714.000000  24.0000  24.0000\n",
       "705   Default   807.000000            don   807.000000  23.0000  23.0000\n",
       "1174  Default   512.000000            ice   512.000000  22.0000  22.0000\n",
       "443   Default   388.000000            com   388.000000  21.0000  21.0000\n",
       "2577  Default   480.000000         washer   480.000000  20.0000  20.0000\n",
       "739   Default   404.000000          dryer   404.000000  19.0000  19.0000\n",
       "896   Default   257.000000        filters   257.000000  18.0000  18.0000\n",
       "1025  Default   518.000000           good   518.000000  17.0000  17.0000\n",
       "2669  Default   259.000000            www   259.000000  16.0000  16.0000\n",
       "1161  Default   252.000000           http   252.000000  15.0000  15.0000\n",
       "698   Default   617.000000           does   617.000000  14.0000  14.0000\n",
       "2341  Default   773.000000           sure   773.000000  13.0000  13.0000\n",
       "1419  Default   363.000000        machine   363.000000  12.0000  12.0000\n",
       "1873  Default   251.000000          range   251.000000  11.0000  11.0000\n",
       "1195  Default   334.000000         inches   334.000000  10.0000  10.0000\n",
       "1922  Default   314.000000   refrigerator   314.000000   9.0000   9.0000\n",
       "2647  Default   658.000000           work   658.000000   8.0000   8.0000\n",
       "2538  Default   233.000000           vent   233.000000   7.0000   7.0000\n",
       "1138  Default   226.000000           hood   226.000000   6.0000   6.0000\n",
       "1688  Default   421.000000          parts   421.000000   5.0000   5.0000\n",
       "965   Default   352.000000         fridge   352.000000   4.0000   4.0000\n",
       "1282  Default   221.000000        kenmore   221.000000   3.0000   3.0000\n",
       "2403  Default   376.000000          think   376.000000   2.0000   2.0000\n",
       "1431  Default   339.000000           make   339.000000   1.0000   1.0000\n",
       "...       ...          ...            ...          ...      ...      ...\n",
       "1967  Topic10    37.337868       requires    38.209669   2.8674  -5.0468\n",
       "791   Topic10    35.124534           ends    35.997014   2.8659  -5.1079\n",
       "476   Topic10    33.284734     compressor    34.156526   2.8646  -5.1617\n",
       "1610  Topic10    33.034656          offer    33.906419   2.8644  -5.1693\n",
       "942   Topic10    31.827220      following    32.698995   2.8634  -5.2065\n",
       "792   Topic10    31.021023         energy    31.892980   2.8627  -5.2322\n",
       "2264  Topic10    30.842655      standards    31.715260   2.8625  -5.2379\n",
       "512   Topic10    29.708049   contaminants    30.579705   2.8615  -5.2754\n",
       "366   Topic10    28.229835       charcoal    29.101527   2.8600  -5.3264\n",
       "1283  Topic10    26.831200           kept    27.702962   2.8585  -5.3773\n",
       "116   Topic10    26.185535  approximately    27.057310   2.8577  -5.4016\n",
       "2331  Topic10    25.794748          super    26.666663   2.8572  -5.4167\n",
       "1199  Topic10    36.628968      including    38.238778   2.8474  -5.0660\n",
       "893   Topic10   719.840597         filter   930.637423   2.6336  -2.0878\n",
       "1929  Topic10    66.389074        regular    82.518710   2.6729  -4.4713\n",
       "247   Topic10   101.363385            box   150.123196   2.4977  -4.0481\n",
       "200   Topic10   130.129436        believe   220.419653   2.3634  -3.7983\n",
       "1552  Topic10    76.395440          motor   109.952056   2.5263  -4.3309\n",
       "1399  Topic10    63.663881        looking   103.676096   2.4028  -4.5132\n",
       "1808  Topic10    49.607385       products    74.736447   2.4806  -4.7627\n",
       "1261  Topic10    67.675320           item   142.429302   2.1463  -4.4521\n",
       "1836  Topic10    52.180829           pump   108.354000   2.1597  -4.7121\n",
       "1922  Topic10    61.855061   refrigerator   314.277189   1.2650  -4.5420\n",
       "698   Topic10    70.215133           does   617.564189   0.7162  -4.4153\n",
       "302   Topic10    55.843965            buy   257.536598   1.3618  -4.6443\n",
       "459   Topic10    45.276638        company   100.304348   2.0950  -4.8540\n",
       "2596  Topic10    49.960678        website   187.243101   1.5693  -4.7556\n",
       "2516  Topic10    45.656902           used   442.578419   0.6190  -4.8457\n",
       "716   Topic10    44.052105          drain   188.023373   1.4392  -4.8815\n",
       "1806  Topic10    44.145005        product   291.752571   1.0020  -4.8793\n",
       "\n",
       "[529 rows x 6 columns], token_table=      Topic      Freq           Term\n",
       "term                                \n",
       "7         4  0.992269           able\n",
       "18       10  0.994905      according\n",
       "29        3  0.782698       actually\n",
       "29        7  0.214212       actually\n",
       "46        9  0.967150     adjustable\n",
       "63        5  0.989222            ago\n",
       "66        5  0.976865            aid\n",
       "67        2  0.996165            air\n",
       "71        9  0.977028          allow\n",
       "77        7  0.977685       aluminum\n",
       "80        1  0.447363         amazon\n",
       "80        3  0.079800         amazon\n",
       "80        4  0.137836         amazon\n",
       "80        9  0.333708         amazon\n",
       "91        2  0.005409         answer\n",
       "91        3  0.059502         answer\n",
       "91        4  0.838439         answer\n",
       "91       10  0.097367         answer\n",
       "97        3  0.979468          apart\n",
       "104       1  0.979923        appears\n",
       "105       3  0.763727      appliance\n",
       "105       7  0.227649      appliance\n",
       "107       3  0.974279     appliances\n",
       "116      10  0.960923  approximately\n",
       "126       4  0.984677            ask\n",
       "128       6  0.970719         asking\n",
       "140       6  0.969248         attach\n",
       "155       4  0.990658           away\n",
       "164       8  0.985687            bag\n",
       "175       2  0.979444          based\n",
       "...     ...       ...            ...\n",
       "2612      6  0.256209      whirlpool\n",
       "2612      7  0.002697      whirlpool\n",
       "2614      4  0.996574          white\n",
       "2616      1  0.996212           wide\n",
       "2618      1  0.992731          width\n",
       "2627      3  0.095268           wire\n",
       "2627      7  0.233839           wire\n",
       "2627      9  0.658213           wire\n",
       "2628      9  0.972546          wired\n",
       "2630      6  0.988928          wires\n",
       "2636     10  0.983997          woder\n",
       "2637      1  0.991161            won\n",
       "2647      1  0.311428           work\n",
       "2647      4  0.185338           work\n",
       "2647      6  0.281045           work\n",
       "2647      7  0.221798           work\n",
       "2648      1  0.334258         worked\n",
       "2648      4  0.520426         worked\n",
       "2648      7  0.139627         worked\n",
       "2649      5  0.989870        working\n",
       "2650      2  0.158516          works\n",
       "2650      3  0.416104          works\n",
       "2650      7  0.275201          works\n",
       "2650      8  0.147508          works\n",
       "2657      1  0.992131          worth\n",
       "2659      7  0.989882         wouldn\n",
       "2669      9  0.997328            www\n",
       "2673      3  0.998050           year\n",
       "2675      3  0.997567          years\n",
       "2678      8  0.999209            yes\n",
       "\n",
       "[745 rows x 3 columns], R=30, lambda_step=0.01, plot_opts={'xlab': 'PC1', 'ylab': 'PC2'}, topic_order=[4, 3, 6, 9, 5, 2, 10, 8, 7, 1])"
      ]
     },
     "execution_count": 13,
     "metadata": {},
     "output_type": "execute_result"
    }
   ],
   "source": [
    "import pyLDAvis.sklearn\n",
    " \n",
    "pyLDAvis.enable_notebook()\n",
    "panel = pyLDAvis.sklearn.prepare(lda_model, data_vectorized, vectorizer, mds='tsne')\n",
    "panel"
   ]
  },
  {
   "cell_type": "markdown",
   "metadata": {},
   "source": [
    "***lda2vec***"
   ]
  },
  {
   "cell_type": "code",
   "execution_count": null,
   "metadata": {
    "collapsed": true
   },
   "outputs": [],
   "source": []
  }
 ],
 "metadata": {
  "kernelspec": {
   "display_name": "Python 3",
   "language": "python",
   "name": "python3"
  },
  "language_info": {
   "codemirror_mode": {
    "name": "ipython",
    "version": 3
   },
   "file_extension": ".py",
   "mimetype": "text/x-python",
   "name": "python",
   "nbconvert_exporter": "python",
   "pygments_lexer": "ipython3",
   "version": "3.6.3"
  }
 },
 "nbformat": 4,
 "nbformat_minor": 1
}
