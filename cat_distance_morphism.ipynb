{
 "cells": [
  {
   "cell_type": "code",
   "execution_count": 1,
   "metadata": {
    "collapsed": true
   },
   "outputs": [],
   "source": [
    "import networkx as nx\n",
    "import numpy as np\n",
    "import matplotlib.pyplot as plt"
   ]
  },
  {
   "cell_type": "code",
   "execution_count": 2,
   "metadata": {
    "collapsed": true
   },
   "outputs": [],
   "source": [
    "#let's create our graph(scheme of relationships between neural elements)\n",
    "G=nx.Graph()\n",
    "H={'a','x','y','z1','z2','z3'}\n",
    "G.add_nodes_from(H)\n",
    "L=()\n",
    "G.add_edges_from([('a','y'),('a','z3'),('a','x'),('a','z1'),\n",
    "                  ('x','z1'),('z3','z2'),('z2','z1')])"
   ]
  },
  {
   "cell_type": "code",
   "execution_count": 3,
   "metadata": {},
   "outputs": [
    {
     "data": {
      "image/png": "[encoded data removed]",
      "text/plain": [
       "<matplotlib.figure.Figure at 0x1c83bf24cc0>"
      ]
     },
     "metadata": {},
     "output_type": "display_data"
    }
   ],
   "source": [
    "limits=plt.axis('off')\n",
    "nx.draw_networkx(G)"
   ]
  },
  {
   "cell_type": "code",
   "execution_count": 4,
   "metadata": {
    "collapsed": true
   },
   "outputs": [],
   "source": [
    "#distance(a,x)=weight between them\n",
    "#at each step of computation(see below) we redefine nodes \"potentials\" and ,therefore, redefine distances\n",
    "#so \"potentials\" --it's node attributes\n",
    "#weights--edge attributes\n",
    "#below we define an \"potential\" equations for each node\n",
    "def distance(a,b):\n",
    "    return abs(a-b)"
   ]
  },
  {
   "cell_type": "code",
   "execution_count": 5,
   "metadata": {
    "collapsed": true
   },
   "outputs": [],
   "source": [
    "def id_m(a):\n",
    "    return a"
   ]
  },
  {
   "cell_type": "code",
   "execution_count": 6,
   "metadata": {
    "collapsed": true
   },
   "outputs": [],
   "source": [
    "def have_edge(a,b):\n",
    "    G.has_edge(a,b)"
   ]
  },
  {
   "cell_type": "code",
   "execution_count": 7,
   "metadata": {
    "collapsed": true
   },
   "outputs": [],
   "source": [
    "def equation(a_1,x_1,y_1,N):\n",
    "    \n",
    "    a_data = np.zeros([N])\n",
    "    x_data = np.zeros([N])\n",
    "    y_data = np.zeros([N])\n",
    "    \n",
    "    a_data[0] = a_1\n",
    "    x_data[0] = x_1\n",
    "    y_data[0] = y_1\n",
    "\n",
    "    z1 = 1.1\n",
    "    z2 = 1.2\n",
    "    z3 = 1.3\n",
    "    \n",
    "    for i in range(1,N):\n",
    "        a_data[i+1] = -a_data[i] + ((z1+z3)/2)*((y_data[i]+x_data[i])/2)\n",
    "        a_data.append(a_data)\n",
    "        \n",
    "\n",
    "    for i in range(1,N):\n",
    "        x_data[i+1] = -x_data[i] + z1*a_data[i]\n",
    "        x_data.append(x_data)\n",
    "        \n",
    "\n",
    "    for i in range(1,N):\n",
    "        y_data[i+1] = (-y_data[i]+a_data[i])/2\n",
    "        y_data.append(y_data)"
   ]
  },
  {
   "cell_type": "code",
   "execution_count": 8,
   "metadata": {},
   "outputs": [],
   "source": [
    "#equation(1,1,1,100)"
   ]
  }
 ],
 "metadata": {
  "kernelspec": {
   "display_name": "Python 3",
   "language": "python",
   "name": "python3"
  },
  "language_info": {
   "codemirror_mode": {
    "name": "ipython",
    "version": 3
   },
   "file_extension": ".py",
   "mimetype": "text/x-python",
   "name": "python",
   "nbconvert_exporter": "python",
   "pygments_lexer": "ipython3",
   "version": "3.6.3"
  }
 },
 "nbformat": 4,
 "nbformat_minor": 2
}
